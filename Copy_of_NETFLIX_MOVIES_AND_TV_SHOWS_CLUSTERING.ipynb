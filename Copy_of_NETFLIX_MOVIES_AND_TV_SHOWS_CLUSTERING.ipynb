{
  "nbformat": 4,
  "nbformat_minor": 0,
  "metadata": {
    "colab": {
      "name": "Copy of NETFLIX MOVIES AND TV SHOWS CLUSTERING.ipynb",
      "provenance": [],
      "collapsed_sections": [],
      "include_colab_link": true
    },
    "kernelspec": {
      "name": "python3",
      "display_name": "Python 3"
    },
    "language_info": {
      "name": "python"
    }
  },
  "cells": [
    {
      "cell_type": "markdown",
      "metadata": {
        "id": "view-in-github",
        "colab_type": "text"
      },
      "source": [
        "<a href=\"https://colab.research.google.com/github/sammed97/NETFLIX-MOVIES-AND-TV-SHOWS-CLUSTERING/blob/main/Copy_of_NETFLIX_MOVIES_AND_TV_SHOWS_CLUSTERING.ipynb\" target=\"_parent\"><img src=\"https://colab.research.google.com/assets/colab-badge.svg\" alt=\"Open In Colab\"/></a>"
      ]
    },
    {
      "cell_type": "markdown",
      "metadata": {
        "id": "LGcl5Bv9ed6u"
      },
      "source": [
        "# **Problem Statement**"
      ]
    },
    {
      "cell_type": "markdown",
      "metadata": {
        "id": "8M5kyFaVjzXk"
      },
      "source": [
        "This dataset consists of tv shows and movies available on Netflix as of 2019. The dataset is collected from Flixable which is a third-party Netflix search engine.\n",
        "\n",
        "In 2018, they released an interesting report which shows that the number of TV shows on Netflix has nearly tripled since 2010. The streaming service’s number of movies has decreased by more than 2,000 titles since 2010, while its number of TV shows has nearly tripled. It will be interesting to explore what all other insights can be obtained from the same dataset.\n",
        "\n",
        "Integrating this dataset with other external datasets such as IMDB ratings, rotten tomatoes can also provide many interesting findings."
      ]
    },
    {
      "cell_type": "markdown",
      "metadata": {
        "id": "tLx5cJO8hzb1"
      },
      "source": [
        "## <b>In this  project, you are required to do </b>\n",
        "1. Exploratory Data Analysis \n",
        "\n",
        "2. Understanding what type content is available in different countries\n",
        "\n",
        "3. Is Netflix has increasingly focusing on TV rather than movies in recent years.\n",
        "4. Clustering similar content by matching text-based features\n",
        "\n"
      ]
    },
    {
      "cell_type": "markdown",
      "metadata": {
        "id": "AzGDqdC4fZ-b"
      },
      "source": [
        "# **Attribute Information**"
      ]
    },
    {
      "cell_type": "markdown",
      "metadata": {
        "id": "jhfLYargscGV"
      },
      "source": [
        "1. show_id : Unique ID for every Movie / Tv Show\n",
        "\n",
        "2. type : Identifier - A Movie or TV Show\n",
        "\n",
        "3. title : Title of the Movie / Tv Show\n",
        "\n",
        "4. director : Director of the Movie\n",
        "\n",
        "5. cast : Actors involved in the movie / show\n",
        "\n",
        "6. country : Country where the movie / show was produced\n",
        "\n",
        "7. date_added : Date it was added on Netflix\n",
        "\n",
        "8. release_year : Actual Releaseyear of the movie / show\n",
        "\n",
        "9. rating : TV Rating of the movie / show\n",
        "\n",
        "10. duration : Total Duration - in minutes or number of seasons\n",
        "\n",
        "11. listed_in : Genere\n",
        "\n",
        "12. description: The Summary description"
      ]
    },
    {
      "cell_type": "code",
      "source": [
        "# here we will import the libraries used for machine learning\n",
        "import numpy as np # linear algebra\n",
        "import pandas as pd # data processing, CSV file I/O (e.g. pd.read_csv)\n",
        "from scipy.stats import randint\n",
        "import pandas as pd # data processing, CSV file I/O, data manipulation \n",
        "import matplotlib.pyplot as plt # this is used for the plot the graph \n",
        "import seaborn as sns # used for plot interactive graph. \n",
        "from pandas import set_option\n",
        "plt.style.use('ggplot') # nice plots"
      ],
      "metadata": {
        "id": "2GVrTpCcNLeD"
      },
      "execution_count": 1,
      "outputs": []
    },
    {
      "cell_type": "code",
      "source": [
        "from google.colab import drive\n",
        "drive.mount('/content/drive')"
      ],
      "metadata": {
        "colab": {
          "base_uri": "https://localhost:8080/"
        },
        "id": "7IhVr4OCNMAM",
        "outputId": "177b0ea5-b2dc-408d-aae7-2109c636b78d"
      },
      "execution_count": 2,
      "outputs": [
        {
          "output_type": "stream",
          "name": "stdout",
          "text": [
            "Mounted at /content/drive\n"
          ]
        }
      ]
    },
    {
      "cell_type": "code",
      "source": [
        "df = pd.read_csv(\"/content/drive/MyDrive/Colab Notebooks/Data Science/M4/NETFLIX MOVIES AND TV SHOWS CLUSTERING/NETFLIX MOVIES AND TV SHOWS CLUSTERING.csv\")"
      ],
      "metadata": {
        "id": "xNlSWZ_WNQHx"
      },
      "execution_count": 3,
      "outputs": []
    },
    {
      "cell_type": "code",
      "source": [
        "df.head()"
      ],
      "metadata": {
        "colab": {
          "base_uri": "https://localhost:8080/",
          "height": 424
        },
        "id": "NWQjv6qLNnqL",
        "outputId": "28b15236-ac27-4257-fab2-f743394f5a68"
      },
      "execution_count": 4,
      "outputs": [
        {
          "output_type": "execute_result",
          "data": {
            "text/html": [
              "\n",
              "  <div id=\"df-3ce61fe5-ed68-4c9c-920f-28618fc4d346\">\n",
              "    <div class=\"colab-df-container\">\n",
              "      <div>\n",
              "<style scoped>\n",
              "    .dataframe tbody tr th:only-of-type {\n",
              "        vertical-align: middle;\n",
              "    }\n",
              "\n",
              "    .dataframe tbody tr th {\n",
              "        vertical-align: top;\n",
              "    }\n",
              "\n",
              "    .dataframe thead th {\n",
              "        text-align: right;\n",
              "    }\n",
              "</style>\n",
              "<table border=\"1\" class=\"dataframe\">\n",
              "  <thead>\n",
              "    <tr style=\"text-align: right;\">\n",
              "      <th></th>\n",
              "      <th>show_id</th>\n",
              "      <th>type</th>\n",
              "      <th>title</th>\n",
              "      <th>director</th>\n",
              "      <th>cast</th>\n",
              "      <th>country</th>\n",
              "      <th>date_added</th>\n",
              "      <th>release_year</th>\n",
              "      <th>rating</th>\n",
              "      <th>duration</th>\n",
              "      <th>listed_in</th>\n",
              "      <th>description</th>\n",
              "    </tr>\n",
              "  </thead>\n",
              "  <tbody>\n",
              "    <tr>\n",
              "      <th>0</th>\n",
              "      <td>s1</td>\n",
              "      <td>TV Show</td>\n",
              "      <td>3%</td>\n",
              "      <td>NaN</td>\n",
              "      <td>João Miguel, Bianca Comparato, Michel Gomes, R...</td>\n",
              "      <td>Brazil</td>\n",
              "      <td>August 14, 2020</td>\n",
              "      <td>2020</td>\n",
              "      <td>TV-MA</td>\n",
              "      <td>4 Seasons</td>\n",
              "      <td>International TV Shows, TV Dramas, TV Sci-Fi &amp;...</td>\n",
              "      <td>In a future where the elite inhabit an island ...</td>\n",
              "    </tr>\n",
              "    <tr>\n",
              "      <th>1</th>\n",
              "      <td>s2</td>\n",
              "      <td>Movie</td>\n",
              "      <td>7:19</td>\n",
              "      <td>Jorge Michel Grau</td>\n",
              "      <td>Demián Bichir, Héctor Bonilla, Oscar Serrano, ...</td>\n",
              "      <td>Mexico</td>\n",
              "      <td>December 23, 2016</td>\n",
              "      <td>2016</td>\n",
              "      <td>TV-MA</td>\n",
              "      <td>93 min</td>\n",
              "      <td>Dramas, International Movies</td>\n",
              "      <td>After a devastating earthquake hits Mexico Cit...</td>\n",
              "    </tr>\n",
              "    <tr>\n",
              "      <th>2</th>\n",
              "      <td>s3</td>\n",
              "      <td>Movie</td>\n",
              "      <td>23:59</td>\n",
              "      <td>Gilbert Chan</td>\n",
              "      <td>Tedd Chan, Stella Chung, Henley Hii, Lawrence ...</td>\n",
              "      <td>Singapore</td>\n",
              "      <td>December 20, 2018</td>\n",
              "      <td>2011</td>\n",
              "      <td>R</td>\n",
              "      <td>78 min</td>\n",
              "      <td>Horror Movies, International Movies</td>\n",
              "      <td>When an army recruit is found dead, his fellow...</td>\n",
              "    </tr>\n",
              "    <tr>\n",
              "      <th>3</th>\n",
              "      <td>s4</td>\n",
              "      <td>Movie</td>\n",
              "      <td>9</td>\n",
              "      <td>Shane Acker</td>\n",
              "      <td>Elijah Wood, John C. Reilly, Jennifer Connelly...</td>\n",
              "      <td>United States</td>\n",
              "      <td>November 16, 2017</td>\n",
              "      <td>2009</td>\n",
              "      <td>PG-13</td>\n",
              "      <td>80 min</td>\n",
              "      <td>Action &amp; Adventure, Independent Movies, Sci-Fi...</td>\n",
              "      <td>In a postapocalyptic world, rag-doll robots hi...</td>\n",
              "    </tr>\n",
              "    <tr>\n",
              "      <th>4</th>\n",
              "      <td>s5</td>\n",
              "      <td>Movie</td>\n",
              "      <td>21</td>\n",
              "      <td>Robert Luketic</td>\n",
              "      <td>Jim Sturgess, Kevin Spacey, Kate Bosworth, Aar...</td>\n",
              "      <td>United States</td>\n",
              "      <td>January 1, 2020</td>\n",
              "      <td>2008</td>\n",
              "      <td>PG-13</td>\n",
              "      <td>123 min</td>\n",
              "      <td>Dramas</td>\n",
              "      <td>A brilliant group of students become card-coun...</td>\n",
              "    </tr>\n",
              "  </tbody>\n",
              "</table>\n",
              "</div>\n",
              "      <button class=\"colab-df-convert\" onclick=\"convertToInteractive('df-3ce61fe5-ed68-4c9c-920f-28618fc4d346')\"\n",
              "              title=\"Convert this dataframe to an interactive table.\"\n",
              "              style=\"display:none;\">\n",
              "        \n",
              "  <svg xmlns=\"http://www.w3.org/2000/svg\" height=\"24px\"viewBox=\"0 0 24 24\"\n",
              "       width=\"24px\">\n",
              "    <path d=\"M0 0h24v24H0V0z\" fill=\"none\"/>\n",
              "    <path d=\"M18.56 5.44l.94 2.06.94-2.06 2.06-.94-2.06-.94-.94-2.06-.94 2.06-2.06.94zm-11 1L8.5 8.5l.94-2.06 2.06-.94-2.06-.94L8.5 2.5l-.94 2.06-2.06.94zm10 10l.94 2.06.94-2.06 2.06-.94-2.06-.94-.94-2.06-.94 2.06-2.06.94z\"/><path d=\"M17.41 7.96l-1.37-1.37c-.4-.4-.92-.59-1.43-.59-.52 0-1.04.2-1.43.59L10.3 9.45l-7.72 7.72c-.78.78-.78 2.05 0 2.83L4 21.41c.39.39.9.59 1.41.59.51 0 1.02-.2 1.41-.59l7.78-7.78 2.81-2.81c.8-.78.8-2.07 0-2.86zM5.41 20L4 18.59l7.72-7.72 1.47 1.35L5.41 20z\"/>\n",
              "  </svg>\n",
              "      </button>\n",
              "      \n",
              "  <style>\n",
              "    .colab-df-container {\n",
              "      display:flex;\n",
              "      flex-wrap:wrap;\n",
              "      gap: 12px;\n",
              "    }\n",
              "\n",
              "    .colab-df-convert {\n",
              "      background-color: #E8F0FE;\n",
              "      border: none;\n",
              "      border-radius: 50%;\n",
              "      cursor: pointer;\n",
              "      display: none;\n",
              "      fill: #1967D2;\n",
              "      height: 32px;\n",
              "      padding: 0 0 0 0;\n",
              "      width: 32px;\n",
              "    }\n",
              "\n",
              "    .colab-df-convert:hover {\n",
              "      background-color: #E2EBFA;\n",
              "      box-shadow: 0px 1px 2px rgba(60, 64, 67, 0.3), 0px 1px 3px 1px rgba(60, 64, 67, 0.15);\n",
              "      fill: #174EA6;\n",
              "    }\n",
              "\n",
              "    [theme=dark] .colab-df-convert {\n",
              "      background-color: #3B4455;\n",
              "      fill: #D2E3FC;\n",
              "    }\n",
              "\n",
              "    [theme=dark] .colab-df-convert:hover {\n",
              "      background-color: #434B5C;\n",
              "      box-shadow: 0px 1px 3px 1px rgba(0, 0, 0, 0.15);\n",
              "      filter: drop-shadow(0px 1px 2px rgba(0, 0, 0, 0.3));\n",
              "      fill: #FFFFFF;\n",
              "    }\n",
              "  </style>\n",
              "\n",
              "      <script>\n",
              "        const buttonEl =\n",
              "          document.querySelector('#df-3ce61fe5-ed68-4c9c-920f-28618fc4d346 button.colab-df-convert');\n",
              "        buttonEl.style.display =\n",
              "          google.colab.kernel.accessAllowed ? 'block' : 'none';\n",
              "\n",
              "        async function convertToInteractive(key) {\n",
              "          const element = document.querySelector('#df-3ce61fe5-ed68-4c9c-920f-28618fc4d346');\n",
              "          const dataTable =\n",
              "            await google.colab.kernel.invokeFunction('convertToInteractive',\n",
              "                                                     [key], {});\n",
              "          if (!dataTable) return;\n",
              "\n",
              "          const docLinkHtml = 'Like what you see? Visit the ' +\n",
              "            '<a target=\"_blank\" href=https://colab.research.google.com/notebooks/data_table.ipynb>data table notebook</a>'\n",
              "            + ' to learn more about interactive tables.';\n",
              "          element.innerHTML = '';\n",
              "          dataTable['output_type'] = 'display_data';\n",
              "          await google.colab.output.renderOutput(dataTable, element);\n",
              "          const docLink = document.createElement('div');\n",
              "          docLink.innerHTML = docLinkHtml;\n",
              "          element.appendChild(docLink);\n",
              "        }\n",
              "      </script>\n",
              "    </div>\n",
              "  </div>\n",
              "  "
            ],
            "text/plain": [
              "  show_id  ...                                        description\n",
              "0      s1  ...  In a future where the elite inhabit an island ...\n",
              "1      s2  ...  After a devastating earthquake hits Mexico Cit...\n",
              "2      s3  ...  When an army recruit is found dead, his fellow...\n",
              "3      s4  ...  In a postapocalyptic world, rag-doll robots hi...\n",
              "4      s5  ...  A brilliant group of students become card-coun...\n",
              "\n",
              "[5 rows x 12 columns]"
            ]
          },
          "metadata": {},
          "execution_count": 4
        }
      ]
    },
    {
      "cell_type": "code",
      "source": [
        "df.tail()"
      ],
      "metadata": {
        "colab": {
          "base_uri": "https://localhost:8080/",
          "height": 493
        },
        "id": "mvsAoHZdNrtA",
        "outputId": "483dcf7e-78d9-413c-bb9f-8fb6759243c3"
      },
      "execution_count": 5,
      "outputs": [
        {
          "output_type": "execute_result",
          "data": {
            "text/html": [
              "\n",
              "  <div id=\"df-dc4cec2a-dffa-4c01-90e5-28afd9aba01f\">\n",
              "    <div class=\"colab-df-container\">\n",
              "      <div>\n",
              "<style scoped>\n",
              "    .dataframe tbody tr th:only-of-type {\n",
              "        vertical-align: middle;\n",
              "    }\n",
              "\n",
              "    .dataframe tbody tr th {\n",
              "        vertical-align: top;\n",
              "    }\n",
              "\n",
              "    .dataframe thead th {\n",
              "        text-align: right;\n",
              "    }\n",
              "</style>\n",
              "<table border=\"1\" class=\"dataframe\">\n",
              "  <thead>\n",
              "    <tr style=\"text-align: right;\">\n",
              "      <th></th>\n",
              "      <th>show_id</th>\n",
              "      <th>type</th>\n",
              "      <th>title</th>\n",
              "      <th>director</th>\n",
              "      <th>cast</th>\n",
              "      <th>country</th>\n",
              "      <th>date_added</th>\n",
              "      <th>release_year</th>\n",
              "      <th>rating</th>\n",
              "      <th>duration</th>\n",
              "      <th>listed_in</th>\n",
              "      <th>description</th>\n",
              "    </tr>\n",
              "  </thead>\n",
              "  <tbody>\n",
              "    <tr>\n",
              "      <th>7782</th>\n",
              "      <td>s7783</td>\n",
              "      <td>Movie</td>\n",
              "      <td>Zozo</td>\n",
              "      <td>Josef Fares</td>\n",
              "      <td>Imad Creidi, Antoinette Turk, Elias Gergi, Car...</td>\n",
              "      <td>Sweden, Czech Republic, United Kingdom, Denmar...</td>\n",
              "      <td>October 19, 2020</td>\n",
              "      <td>2005</td>\n",
              "      <td>TV-MA</td>\n",
              "      <td>99 min</td>\n",
              "      <td>Dramas, International Movies</td>\n",
              "      <td>When Lebanon's Civil War deprives Zozo of his ...</td>\n",
              "    </tr>\n",
              "    <tr>\n",
              "      <th>7783</th>\n",
              "      <td>s7784</td>\n",
              "      <td>Movie</td>\n",
              "      <td>Zubaan</td>\n",
              "      <td>Mozez Singh</td>\n",
              "      <td>Vicky Kaushal, Sarah-Jane Dias, Raaghav Chanan...</td>\n",
              "      <td>India</td>\n",
              "      <td>March 2, 2019</td>\n",
              "      <td>2015</td>\n",
              "      <td>TV-14</td>\n",
              "      <td>111 min</td>\n",
              "      <td>Dramas, International Movies, Music &amp; Musicals</td>\n",
              "      <td>A scrappy but poor boy worms his way into a ty...</td>\n",
              "    </tr>\n",
              "    <tr>\n",
              "      <th>7784</th>\n",
              "      <td>s7785</td>\n",
              "      <td>Movie</td>\n",
              "      <td>Zulu Man in Japan</td>\n",
              "      <td>NaN</td>\n",
              "      <td>Nasty C</td>\n",
              "      <td>NaN</td>\n",
              "      <td>September 25, 2020</td>\n",
              "      <td>2019</td>\n",
              "      <td>TV-MA</td>\n",
              "      <td>44 min</td>\n",
              "      <td>Documentaries, International Movies, Music &amp; M...</td>\n",
              "      <td>In this documentary, South African rapper Nast...</td>\n",
              "    </tr>\n",
              "    <tr>\n",
              "      <th>7785</th>\n",
              "      <td>s7786</td>\n",
              "      <td>TV Show</td>\n",
              "      <td>Zumbo's Just Desserts</td>\n",
              "      <td>NaN</td>\n",
              "      <td>Adriano Zumbo, Rachel Khoo</td>\n",
              "      <td>Australia</td>\n",
              "      <td>October 31, 2020</td>\n",
              "      <td>2019</td>\n",
              "      <td>TV-PG</td>\n",
              "      <td>1 Season</td>\n",
              "      <td>International TV Shows, Reality TV</td>\n",
              "      <td>Dessert wizard Adriano Zumbo looks for the nex...</td>\n",
              "    </tr>\n",
              "    <tr>\n",
              "      <th>7786</th>\n",
              "      <td>s7787</td>\n",
              "      <td>Movie</td>\n",
              "      <td>ZZ TOP: THAT LITTLE OL' BAND FROM TEXAS</td>\n",
              "      <td>Sam Dunn</td>\n",
              "      <td>NaN</td>\n",
              "      <td>United Kingdom, Canada, United States</td>\n",
              "      <td>March 1, 2020</td>\n",
              "      <td>2019</td>\n",
              "      <td>TV-MA</td>\n",
              "      <td>90 min</td>\n",
              "      <td>Documentaries, Music &amp; Musicals</td>\n",
              "      <td>This documentary delves into the mystique behi...</td>\n",
              "    </tr>\n",
              "  </tbody>\n",
              "</table>\n",
              "</div>\n",
              "      <button class=\"colab-df-convert\" onclick=\"convertToInteractive('df-dc4cec2a-dffa-4c01-90e5-28afd9aba01f')\"\n",
              "              title=\"Convert this dataframe to an interactive table.\"\n",
              "              style=\"display:none;\">\n",
              "        \n",
              "  <svg xmlns=\"http://www.w3.org/2000/svg\" height=\"24px\"viewBox=\"0 0 24 24\"\n",
              "       width=\"24px\">\n",
              "    <path d=\"M0 0h24v24H0V0z\" fill=\"none\"/>\n",
              "    <path d=\"M18.56 5.44l.94 2.06.94-2.06 2.06-.94-2.06-.94-.94-2.06-.94 2.06-2.06.94zm-11 1L8.5 8.5l.94-2.06 2.06-.94-2.06-.94L8.5 2.5l-.94 2.06-2.06.94zm10 10l.94 2.06.94-2.06 2.06-.94-2.06-.94-.94-2.06-.94 2.06-2.06.94z\"/><path d=\"M17.41 7.96l-1.37-1.37c-.4-.4-.92-.59-1.43-.59-.52 0-1.04.2-1.43.59L10.3 9.45l-7.72 7.72c-.78.78-.78 2.05 0 2.83L4 21.41c.39.39.9.59 1.41.59.51 0 1.02-.2 1.41-.59l7.78-7.78 2.81-2.81c.8-.78.8-2.07 0-2.86zM5.41 20L4 18.59l7.72-7.72 1.47 1.35L5.41 20z\"/>\n",
              "  </svg>\n",
              "      </button>\n",
              "      \n",
              "  <style>\n",
              "    .colab-df-container {\n",
              "      display:flex;\n",
              "      flex-wrap:wrap;\n",
              "      gap: 12px;\n",
              "    }\n",
              "\n",
              "    .colab-df-convert {\n",
              "      background-color: #E8F0FE;\n",
              "      border: none;\n",
              "      border-radius: 50%;\n",
              "      cursor: pointer;\n",
              "      display: none;\n",
              "      fill: #1967D2;\n",
              "      height: 32px;\n",
              "      padding: 0 0 0 0;\n",
              "      width: 32px;\n",
              "    }\n",
              "\n",
              "    .colab-df-convert:hover {\n",
              "      background-color: #E2EBFA;\n",
              "      box-shadow: 0px 1px 2px rgba(60, 64, 67, 0.3), 0px 1px 3px 1px rgba(60, 64, 67, 0.15);\n",
              "      fill: #174EA6;\n",
              "    }\n",
              "\n",
              "    [theme=dark] .colab-df-convert {\n",
              "      background-color: #3B4455;\n",
              "      fill: #D2E3FC;\n",
              "    }\n",
              "\n",
              "    [theme=dark] .colab-df-convert:hover {\n",
              "      background-color: #434B5C;\n",
              "      box-shadow: 0px 1px 3px 1px rgba(0, 0, 0, 0.15);\n",
              "      filter: drop-shadow(0px 1px 2px rgba(0, 0, 0, 0.3));\n",
              "      fill: #FFFFFF;\n",
              "    }\n",
              "  </style>\n",
              "\n",
              "      <script>\n",
              "        const buttonEl =\n",
              "          document.querySelector('#df-dc4cec2a-dffa-4c01-90e5-28afd9aba01f button.colab-df-convert');\n",
              "        buttonEl.style.display =\n",
              "          google.colab.kernel.accessAllowed ? 'block' : 'none';\n",
              "\n",
              "        async function convertToInteractive(key) {\n",
              "          const element = document.querySelector('#df-dc4cec2a-dffa-4c01-90e5-28afd9aba01f');\n",
              "          const dataTable =\n",
              "            await google.colab.kernel.invokeFunction('convertToInteractive',\n",
              "                                                     [key], {});\n",
              "          if (!dataTable) return;\n",
              "\n",
              "          const docLinkHtml = 'Like what you see? Visit the ' +\n",
              "            '<a target=\"_blank\" href=https://colab.research.google.com/notebooks/data_table.ipynb>data table notebook</a>'\n",
              "            + ' to learn more about interactive tables.';\n",
              "          element.innerHTML = '';\n",
              "          dataTable['output_type'] = 'display_data';\n",
              "          await google.colab.output.renderOutput(dataTable, element);\n",
              "          const docLink = document.createElement('div');\n",
              "          docLink.innerHTML = docLinkHtml;\n",
              "          element.appendChild(docLink);\n",
              "        }\n",
              "      </script>\n",
              "    </div>\n",
              "  </div>\n",
              "  "
            ],
            "text/plain": [
              "     show_id  ...                                        description\n",
              "7782   s7783  ...  When Lebanon's Civil War deprives Zozo of his ...\n",
              "7783   s7784  ...  A scrappy but poor boy worms his way into a ty...\n",
              "7784   s7785  ...  In this documentary, South African rapper Nast...\n",
              "7785   s7786  ...  Dessert wizard Adriano Zumbo looks for the nex...\n",
              "7786   s7787  ...  This documentary delves into the mystique behi...\n",
              "\n",
              "[5 rows x 12 columns]"
            ]
          },
          "metadata": {},
          "execution_count": 5
        }
      ]
    },
    {
      "cell_type": "code",
      "source": [
        "df.columns"
      ],
      "metadata": {
        "colab": {
          "base_uri": "https://localhost:8080/"
        },
        "id": "Wyhqz9q6NuxE",
        "outputId": "58c6635e-f008-4956-aa98-2015bc36b477"
      },
      "execution_count": 6,
      "outputs": [
        {
          "output_type": "execute_result",
          "data": {
            "text/plain": [
              "Index(['show_id', 'type', 'title', 'director', 'cast', 'country', 'date_added',\n",
              "       'release_year', 'rating', 'duration', 'listed_in', 'description'],\n",
              "      dtype='object')"
            ]
          },
          "metadata": {},
          "execution_count": 6
        }
      ]
    },
    {
      "cell_type": "code",
      "source": [
        "df.shape"
      ],
      "metadata": {
        "colab": {
          "base_uri": "https://localhost:8080/"
        },
        "id": "-sopV1LtNxYs",
        "outputId": "c44a1b19-3051-463d-f12f-a39a9ef4f41c"
      },
      "execution_count": 7,
      "outputs": [
        {
          "output_type": "execute_result",
          "data": {
            "text/plain": [
              "(7787, 12)"
            ]
          },
          "metadata": {},
          "execution_count": 7
        }
      ]
    },
    {
      "cell_type": "code",
      "source": [
        "df.info()"
      ],
      "metadata": {
        "colab": {
          "base_uri": "https://localhost:8080/"
        },
        "id": "guhdjuHcN90a",
        "outputId": "e27e3d83-1bcd-486e-c472-86cd66b8efb4"
      },
      "execution_count": 8,
      "outputs": [
        {
          "output_type": "stream",
          "name": "stdout",
          "text": [
            "<class 'pandas.core.frame.DataFrame'>\n",
            "RangeIndex: 7787 entries, 0 to 7786\n",
            "Data columns (total 12 columns):\n",
            " #   Column        Non-Null Count  Dtype \n",
            "---  ------        --------------  ----- \n",
            " 0   show_id       7787 non-null   object\n",
            " 1   type          7787 non-null   object\n",
            " 2   title         7787 non-null   object\n",
            " 3   director      5398 non-null   object\n",
            " 4   cast          7069 non-null   object\n",
            " 5   country       7280 non-null   object\n",
            " 6   date_added    7777 non-null   object\n",
            " 7   release_year  7787 non-null   int64 \n",
            " 8   rating        7780 non-null   object\n",
            " 9   duration      7787 non-null   object\n",
            " 10  listed_in     7787 non-null   object\n",
            " 11  description   7787 non-null   object\n",
            "dtypes: int64(1), object(11)\n",
            "memory usage: 730.2+ KB\n"
          ]
        }
      ]
    },
    {
      "cell_type": "code",
      "source": [
        "df.isnull().sum()"
      ],
      "metadata": {
        "colab": {
          "base_uri": "https://localhost:8080/"
        },
        "id": "X7JIx1Y-OBSy",
        "outputId": "f126d4ad-39ba-4abc-a223-aaea0fb08f3b"
      },
      "execution_count": 9,
      "outputs": [
        {
          "output_type": "execute_result",
          "data": {
            "text/plain": [
              "show_id            0\n",
              "type               0\n",
              "title              0\n",
              "director        2389\n",
              "cast             718\n",
              "country          507\n",
              "date_added        10\n",
              "release_year       0\n",
              "rating             7\n",
              "duration           0\n",
              "listed_in          0\n",
              "description        0\n",
              "dtype: int64"
            ]
          },
          "metadata": {},
          "execution_count": 9
        }
      ]
    },
    {
      "cell_type": "code",
      "source": [
        "df.duplicated().sum()"
      ],
      "metadata": {
        "colab": {
          "base_uri": "https://localhost:8080/"
        },
        "id": "to_2_BtCP7q8",
        "outputId": "ea1482ac-2d33-499b-e91c-2037bad5f240"
      },
      "execution_count": 10,
      "outputs": [
        {
          "output_type": "execute_result",
          "data": {
            "text/plain": [
              "0"
            ]
          },
          "metadata": {},
          "execution_count": 10
        }
      ]
    },
    {
      "cell_type": "code",
      "source": [
        "df.describe()"
      ],
      "metadata": {
        "colab": {
          "base_uri": "https://localhost:8080/",
          "height": 300
        },
        "id": "ov7N3LrQQZB5",
        "outputId": "ee90b6f7-f090-460a-cd00-ebdc3c8dc43f"
      },
      "execution_count": 11,
      "outputs": [
        {
          "output_type": "execute_result",
          "data": {
            "text/html": [
              "\n",
              "  <div id=\"df-4fc3fe8e-982e-4b47-a4c2-1835ba3413f5\">\n",
              "    <div class=\"colab-df-container\">\n",
              "      <div>\n",
              "<style scoped>\n",
              "    .dataframe tbody tr th:only-of-type {\n",
              "        vertical-align: middle;\n",
              "    }\n",
              "\n",
              "    .dataframe tbody tr th {\n",
              "        vertical-align: top;\n",
              "    }\n",
              "\n",
              "    .dataframe thead th {\n",
              "        text-align: right;\n",
              "    }\n",
              "</style>\n",
              "<table border=\"1\" class=\"dataframe\">\n",
              "  <thead>\n",
              "    <tr style=\"text-align: right;\">\n",
              "      <th></th>\n",
              "      <th>release_year</th>\n",
              "    </tr>\n",
              "  </thead>\n",
              "  <tbody>\n",
              "    <tr>\n",
              "      <th>count</th>\n",
              "      <td>7787.000000</td>\n",
              "    </tr>\n",
              "    <tr>\n",
              "      <th>mean</th>\n",
              "      <td>2013.932580</td>\n",
              "    </tr>\n",
              "    <tr>\n",
              "      <th>std</th>\n",
              "      <td>8.757395</td>\n",
              "    </tr>\n",
              "    <tr>\n",
              "      <th>min</th>\n",
              "      <td>1925.000000</td>\n",
              "    </tr>\n",
              "    <tr>\n",
              "      <th>25%</th>\n",
              "      <td>2013.000000</td>\n",
              "    </tr>\n",
              "    <tr>\n",
              "      <th>50%</th>\n",
              "      <td>2017.000000</td>\n",
              "    </tr>\n",
              "    <tr>\n",
              "      <th>75%</th>\n",
              "      <td>2018.000000</td>\n",
              "    </tr>\n",
              "    <tr>\n",
              "      <th>max</th>\n",
              "      <td>2021.000000</td>\n",
              "    </tr>\n",
              "  </tbody>\n",
              "</table>\n",
              "</div>\n",
              "      <button class=\"colab-df-convert\" onclick=\"convertToInteractive('df-4fc3fe8e-982e-4b47-a4c2-1835ba3413f5')\"\n",
              "              title=\"Convert this dataframe to an interactive table.\"\n",
              "              style=\"display:none;\">\n",
              "        \n",
              "  <svg xmlns=\"http://www.w3.org/2000/svg\" height=\"24px\"viewBox=\"0 0 24 24\"\n",
              "       width=\"24px\">\n",
              "    <path d=\"M0 0h24v24H0V0z\" fill=\"none\"/>\n",
              "    <path d=\"M18.56 5.44l.94 2.06.94-2.06 2.06-.94-2.06-.94-.94-2.06-.94 2.06-2.06.94zm-11 1L8.5 8.5l.94-2.06 2.06-.94-2.06-.94L8.5 2.5l-.94 2.06-2.06.94zm10 10l.94 2.06.94-2.06 2.06-.94-2.06-.94-.94-2.06-.94 2.06-2.06.94z\"/><path d=\"M17.41 7.96l-1.37-1.37c-.4-.4-.92-.59-1.43-.59-.52 0-1.04.2-1.43.59L10.3 9.45l-7.72 7.72c-.78.78-.78 2.05 0 2.83L4 21.41c.39.39.9.59 1.41.59.51 0 1.02-.2 1.41-.59l7.78-7.78 2.81-2.81c.8-.78.8-2.07 0-2.86zM5.41 20L4 18.59l7.72-7.72 1.47 1.35L5.41 20z\"/>\n",
              "  </svg>\n",
              "      </button>\n",
              "      \n",
              "  <style>\n",
              "    .colab-df-container {\n",
              "      display:flex;\n",
              "      flex-wrap:wrap;\n",
              "      gap: 12px;\n",
              "    }\n",
              "\n",
              "    .colab-df-convert {\n",
              "      background-color: #E8F0FE;\n",
              "      border: none;\n",
              "      border-radius: 50%;\n",
              "      cursor: pointer;\n",
              "      display: none;\n",
              "      fill: #1967D2;\n",
              "      height: 32px;\n",
              "      padding: 0 0 0 0;\n",
              "      width: 32px;\n",
              "    }\n",
              "\n",
              "    .colab-df-convert:hover {\n",
              "      background-color: #E2EBFA;\n",
              "      box-shadow: 0px 1px 2px rgba(60, 64, 67, 0.3), 0px 1px 3px 1px rgba(60, 64, 67, 0.15);\n",
              "      fill: #174EA6;\n",
              "    }\n",
              "\n",
              "    [theme=dark] .colab-df-convert {\n",
              "      background-color: #3B4455;\n",
              "      fill: #D2E3FC;\n",
              "    }\n",
              "\n",
              "    [theme=dark] .colab-df-convert:hover {\n",
              "      background-color: #434B5C;\n",
              "      box-shadow: 0px 1px 3px 1px rgba(0, 0, 0, 0.15);\n",
              "      filter: drop-shadow(0px 1px 2px rgba(0, 0, 0, 0.3));\n",
              "      fill: #FFFFFF;\n",
              "    }\n",
              "  </style>\n",
              "\n",
              "      <script>\n",
              "        const buttonEl =\n",
              "          document.querySelector('#df-4fc3fe8e-982e-4b47-a4c2-1835ba3413f5 button.colab-df-convert');\n",
              "        buttonEl.style.display =\n",
              "          google.colab.kernel.accessAllowed ? 'block' : 'none';\n",
              "\n",
              "        async function convertToInteractive(key) {\n",
              "          const element = document.querySelector('#df-4fc3fe8e-982e-4b47-a4c2-1835ba3413f5');\n",
              "          const dataTable =\n",
              "            await google.colab.kernel.invokeFunction('convertToInteractive',\n",
              "                                                     [key], {});\n",
              "          if (!dataTable) return;\n",
              "\n",
              "          const docLinkHtml = 'Like what you see? Visit the ' +\n",
              "            '<a target=\"_blank\" href=https://colab.research.google.com/notebooks/data_table.ipynb>data table notebook</a>'\n",
              "            + ' to learn more about interactive tables.';\n",
              "          element.innerHTML = '';\n",
              "          dataTable['output_type'] = 'display_data';\n",
              "          await google.colab.output.renderOutput(dataTable, element);\n",
              "          const docLink = document.createElement('div');\n",
              "          docLink.innerHTML = docLinkHtml;\n",
              "          element.appendChild(docLink);\n",
              "        }\n",
              "      </script>\n",
              "    </div>\n",
              "  </div>\n",
              "  "
            ],
            "text/plain": [
              "       release_year\n",
              "count   7787.000000\n",
              "mean    2013.932580\n",
              "std        8.757395\n",
              "min     1925.000000\n",
              "25%     2013.000000\n",
              "50%     2017.000000\n",
              "75%     2018.000000\n",
              "max     2021.000000"
            ]
          },
          "metadata": {},
          "execution_count": 11
        }
      ]
    },
    {
      "cell_type": "markdown",
      "source": [
        "Filling missing values with unknown"
      ],
      "metadata": {
        "id": "Z1nxSafag7xB"
      }
    },
    {
      "cell_type": "code",
      "source": [
        "df_1 = df.copy()"
      ],
      "metadata": {
        "id": "5mC4hXePmlpH"
      },
      "execution_count": 12,
      "outputs": []
    },
    {
      "cell_type": "code",
      "source": [
        "df_1.fillna(\"Unknown\",inplace=True)"
      ],
      "metadata": {
        "id": "f4ZrQTj0mRRW"
      },
      "execution_count": 13,
      "outputs": []
    },
    {
      "cell_type": "code",
      "source": [
        "df_1.isnull().sum()"
      ],
      "metadata": {
        "colab": {
          "base_uri": "https://localhost:8080/"
        },
        "id": "jH3eXGvymTiT",
        "outputId": "b3762941-b79b-4f0e-cb0c-d611c4a34440"
      },
      "execution_count": 14,
      "outputs": [
        {
          "output_type": "execute_result",
          "data": {
            "text/plain": [
              "show_id         0\n",
              "type            0\n",
              "title           0\n",
              "director        0\n",
              "cast            0\n",
              "country         0\n",
              "date_added      0\n",
              "release_year    0\n",
              "rating          0\n",
              "duration        0\n",
              "listed_in       0\n",
              "description     0\n",
              "dtype: int64"
            ]
          },
          "metadata": {},
          "execution_count": 14
        }
      ]
    },
    {
      "cell_type": "markdown",
      "source": [
        "we have filled missing values with **unknown.**"
      ],
      "metadata": {
        "id": "imB8SdMVpCxj"
      }
    },
    {
      "cell_type": "code",
      "source": [
        "df_1.dtypes"
      ],
      "metadata": {
        "colab": {
          "base_uri": "https://localhost:8080/"
        },
        "id": "l1Vm-11Nmggh",
        "outputId": "6f511f64-270c-4f96-875d-c12ed85655d5"
      },
      "execution_count": 15,
      "outputs": [
        {
          "output_type": "execute_result",
          "data": {
            "text/plain": [
              "show_id         object\n",
              "type            object\n",
              "title           object\n",
              "director        object\n",
              "cast            object\n",
              "country         object\n",
              "date_added      object\n",
              "release_year     int64\n",
              "rating          object\n",
              "duration        object\n",
              "listed_in       object\n",
              "description     object\n",
              "dtype: object"
            ]
          },
          "metadata": {},
          "execution_count": 15
        }
      ]
    },
    {
      "cell_type": "code",
      "source": [
        "df_1['type'].value_counts()"
      ],
      "metadata": {
        "colab": {
          "base_uri": "https://localhost:8080/"
        },
        "id": "hyw5uyk9mvWX",
        "outputId": "cc1e5903-fbb4-4809-ca34-7f679ac4d021"
      },
      "execution_count": 16,
      "outputs": [
        {
          "output_type": "execute_result",
          "data": {
            "text/plain": [
              "Movie      5377\n",
              "TV Show    2410\n",
              "Name: type, dtype: int64"
            ]
          },
          "metadata": {},
          "execution_count": 16
        }
      ]
    },
    {
      "cell_type": "code",
      "source": [
        "df_1['country'].value_counts().head(50)"
      ],
      "metadata": {
        "colab": {
          "base_uri": "https://localhost:8080/"
        },
        "id": "ps0PFf0EpY-4",
        "outputId": "e9240bf3-744f-4242-e584-ba599ead57e7"
      },
      "execution_count": 17,
      "outputs": [
        {
          "output_type": "execute_result",
          "data": {
            "text/plain": [
              "United States                    2555\n",
              "India                             923\n",
              "Unknown                           507\n",
              "United Kingdom                    397\n",
              "Japan                             226\n",
              "South Korea                       183\n",
              "Canada                            177\n",
              "Spain                             134\n",
              "France                            115\n",
              "Egypt                             101\n",
              "Mexico                            100\n",
              "Turkey                            100\n",
              "Australia                          83\n",
              "Taiwan                             78\n",
              "Brazil                             72\n",
              "Philippines                        71\n",
              "Nigeria                            70\n",
              "Indonesia                          70\n",
              "United Kingdom, United States      64\n",
              "Germany                            61\n",
              "United States, Canada              60\n",
              "Thailand                           57\n",
              "China                              57\n",
              "Hong Kong                          52\n",
              "Argentina                          50\n",
              "Canada, United States              42\n",
              "Italy                              40\n",
              "United States, United Kingdom      37\n",
              "Colombia                           31\n",
              "France, Belgium                    27\n",
              "South Africa                       25\n",
              "Singapore                          23\n",
              "Malaysia                           22\n",
              "Poland                             20\n",
              "Pakistan                           18\n",
              "Netherlands                        16\n",
              "Hong Kong, China                   16\n",
              "Russia                             16\n",
              "Chile                              14\n",
              "United States, France              14\n",
              "Lebanon                            14\n",
              "China, Hong Kong                   14\n",
              "Mexico, United States              14\n",
              "Denmark                            13\n",
              "United States, Japan               13\n",
              "Israel                             12\n",
              "United Arab Emirates               12\n",
              "United States, Germany             12\n",
              "United States, Mexico              11\n",
              "Ireland                            11\n",
              "Name: country, dtype: int64"
            ]
          },
          "metadata": {},
          "execution_count": 17
        }
      ]
    },
    {
      "cell_type": "code",
      "source": [
        "df_1['release_year'].value_counts()"
      ],
      "metadata": {
        "colab": {
          "base_uri": "https://localhost:8080/"
        },
        "id": "cbbDEvrspkY4",
        "outputId": "7c56b561-bb16-44f5-88d2-3a5dc2fe6da9"
      },
      "execution_count": 18,
      "outputs": [
        {
          "output_type": "execute_result",
          "data": {
            "text/plain": [
              "2018    1121\n",
              "2017    1012\n",
              "2019     996\n",
              "2016     882\n",
              "2020     868\n",
              "        ... \n",
              "1925       1\n",
              "1964       1\n",
              "1966       1\n",
              "1947       1\n",
              "1959       1\n",
              "Name: release_year, Length: 73, dtype: int64"
            ]
          },
          "metadata": {},
          "execution_count": 18
        }
      ]
    },
    {
      "cell_type": "markdown",
      "source": [
        "converting date_added column datatype to datetime"
      ],
      "metadata": {
        "id": "hVjJ3w-rsdkZ"
      }
    },
    {
      "cell_type": "code",
      "source": [
        "df_1 = df_1.loc[df_1['date_added']!= 'Unknown']"
      ],
      "metadata": {
        "id": "AzswapUKtaTF"
      },
      "execution_count": 19,
      "outputs": []
    },
    {
      "cell_type": "code",
      "source": [
        "df_1.shape"
      ],
      "metadata": {
        "colab": {
          "base_uri": "https://localhost:8080/"
        },
        "id": "vahMz0hptvVU",
        "outputId": "90d925aa-8210-478e-a6ab-50e517164e4c"
      },
      "execution_count": 20,
      "outputs": [
        {
          "output_type": "execute_result",
          "data": {
            "text/plain": [
              "(7777, 12)"
            ]
          },
          "metadata": {},
          "execution_count": 20
        }
      ]
    },
    {
      "cell_type": "code",
      "source": [
        "df_1['date_added'] = pd.to_datetime(df_1['date_added'])"
      ],
      "metadata": {
        "id": "GNrx-5AhrvS2"
      },
      "execution_count": 21,
      "outputs": []
    },
    {
      "cell_type": "code",
      "source": [
        "df_1.info()"
      ],
      "metadata": {
        "colab": {
          "base_uri": "https://localhost:8080/"
        },
        "id": "IPxSBvmBsvmn",
        "outputId": "9bd3dd46-cef9-4d97-b426-c266dda2dbcd"
      },
      "execution_count": 22,
      "outputs": [
        {
          "output_type": "stream",
          "name": "stdout",
          "text": [
            "<class 'pandas.core.frame.DataFrame'>\n",
            "Int64Index: 7777 entries, 0 to 7786\n",
            "Data columns (total 12 columns):\n",
            " #   Column        Non-Null Count  Dtype         \n",
            "---  ------        --------------  -----         \n",
            " 0   show_id       7777 non-null   object        \n",
            " 1   type          7777 non-null   object        \n",
            " 2   title         7777 non-null   object        \n",
            " 3   director      7777 non-null   object        \n",
            " 4   cast          7777 non-null   object        \n",
            " 5   country       7777 non-null   object        \n",
            " 6   date_added    7777 non-null   datetime64[ns]\n",
            " 7   release_year  7777 non-null   int64         \n",
            " 8   rating        7777 non-null   object        \n",
            " 9   duration      7777 non-null   object        \n",
            " 10  listed_in     7777 non-null   object        \n",
            " 11  description   7777 non-null   object        \n",
            "dtypes: datetime64[ns](1), int64(1), object(10)\n",
            "memory usage: 789.9+ KB\n"
          ]
        }
      ]
    },
    {
      "cell_type": "code",
      "source": [
        "df_1['added_year'] = df_1['date_added'].dt.year\n"
      ],
      "metadata": {
        "id": "xHwDxWMVt_RM"
      },
      "execution_count": 23,
      "outputs": []
    },
    {
      "cell_type": "code",
      "source": [
        "df_1['added_month'] = df_1['date_added'].dt.month\n"
      ],
      "metadata": {
        "id": "bj_MggqfuYzQ"
      },
      "execution_count": 24,
      "outputs": []
    },
    {
      "cell_type": "code",
      "source": [
        "df_1['added_day'] = df_1['date_added'].dt.day\n"
      ],
      "metadata": {
        "id": "qyiKjJlW9cR9"
      },
      "execution_count": 25,
      "outputs": []
    },
    {
      "cell_type": "markdown",
      "source": [
        "we will drop column 'date_added' as we create seperate columns for it according to year and month"
      ],
      "metadata": {
        "id": "OYo0ee7bvUYP"
      }
    },
    {
      "cell_type": "code",
      "source": [
        "df_1.drop(columns=\"date_added\",axis=1,inplace=True)"
      ],
      "metadata": {
        "id": "u9ok320nu7ne"
      },
      "execution_count": 26,
      "outputs": []
    },
    {
      "cell_type": "code",
      "source": [
        "df_1.head()"
      ],
      "metadata": {
        "colab": {
          "base_uri": "https://localhost:8080/",
          "height": 563
        },
        "id": "w1vNm6kvvSUn",
        "outputId": "e814327b-c58c-4f5a-aecb-5855df150e6c"
      },
      "execution_count": 27,
      "outputs": [
        {
          "output_type": "execute_result",
          "data": {
            "text/html": [
              "\n",
              "  <div id=\"df-bdfa3a6a-b1dd-431b-9fdf-2b82ffd0cfd0\">\n",
              "    <div class=\"colab-df-container\">\n",
              "      <div>\n",
              "<style scoped>\n",
              "    .dataframe tbody tr th:only-of-type {\n",
              "        vertical-align: middle;\n",
              "    }\n",
              "\n",
              "    .dataframe tbody tr th {\n",
              "        vertical-align: top;\n",
              "    }\n",
              "\n",
              "    .dataframe thead th {\n",
              "        text-align: right;\n",
              "    }\n",
              "</style>\n",
              "<table border=\"1\" class=\"dataframe\">\n",
              "  <thead>\n",
              "    <tr style=\"text-align: right;\">\n",
              "      <th></th>\n",
              "      <th>show_id</th>\n",
              "      <th>type</th>\n",
              "      <th>title</th>\n",
              "      <th>director</th>\n",
              "      <th>cast</th>\n",
              "      <th>country</th>\n",
              "      <th>release_year</th>\n",
              "      <th>rating</th>\n",
              "      <th>duration</th>\n",
              "      <th>listed_in</th>\n",
              "      <th>description</th>\n",
              "      <th>added_year</th>\n",
              "      <th>added_month</th>\n",
              "      <th>added_day</th>\n",
              "    </tr>\n",
              "  </thead>\n",
              "  <tbody>\n",
              "    <tr>\n",
              "      <th>0</th>\n",
              "      <td>s1</td>\n",
              "      <td>TV Show</td>\n",
              "      <td>3%</td>\n",
              "      <td>Unknown</td>\n",
              "      <td>João Miguel, Bianca Comparato, Michel Gomes, R...</td>\n",
              "      <td>Brazil</td>\n",
              "      <td>2020</td>\n",
              "      <td>TV-MA</td>\n",
              "      <td>4 Seasons</td>\n",
              "      <td>International TV Shows, TV Dramas, TV Sci-Fi &amp;...</td>\n",
              "      <td>In a future where the elite inhabit an island ...</td>\n",
              "      <td>2020</td>\n",
              "      <td>8</td>\n",
              "      <td>14</td>\n",
              "    </tr>\n",
              "    <tr>\n",
              "      <th>1</th>\n",
              "      <td>s2</td>\n",
              "      <td>Movie</td>\n",
              "      <td>7:19</td>\n",
              "      <td>Jorge Michel Grau</td>\n",
              "      <td>Demián Bichir, Héctor Bonilla, Oscar Serrano, ...</td>\n",
              "      <td>Mexico</td>\n",
              "      <td>2016</td>\n",
              "      <td>TV-MA</td>\n",
              "      <td>93 min</td>\n",
              "      <td>Dramas, International Movies</td>\n",
              "      <td>After a devastating earthquake hits Mexico Cit...</td>\n",
              "      <td>2016</td>\n",
              "      <td>12</td>\n",
              "      <td>23</td>\n",
              "    </tr>\n",
              "    <tr>\n",
              "      <th>2</th>\n",
              "      <td>s3</td>\n",
              "      <td>Movie</td>\n",
              "      <td>23:59</td>\n",
              "      <td>Gilbert Chan</td>\n",
              "      <td>Tedd Chan, Stella Chung, Henley Hii, Lawrence ...</td>\n",
              "      <td>Singapore</td>\n",
              "      <td>2011</td>\n",
              "      <td>R</td>\n",
              "      <td>78 min</td>\n",
              "      <td>Horror Movies, International Movies</td>\n",
              "      <td>When an army recruit is found dead, his fellow...</td>\n",
              "      <td>2018</td>\n",
              "      <td>12</td>\n",
              "      <td>20</td>\n",
              "    </tr>\n",
              "    <tr>\n",
              "      <th>3</th>\n",
              "      <td>s4</td>\n",
              "      <td>Movie</td>\n",
              "      <td>9</td>\n",
              "      <td>Shane Acker</td>\n",
              "      <td>Elijah Wood, John C. Reilly, Jennifer Connelly...</td>\n",
              "      <td>United States</td>\n",
              "      <td>2009</td>\n",
              "      <td>PG-13</td>\n",
              "      <td>80 min</td>\n",
              "      <td>Action &amp; Adventure, Independent Movies, Sci-Fi...</td>\n",
              "      <td>In a postapocalyptic world, rag-doll robots hi...</td>\n",
              "      <td>2017</td>\n",
              "      <td>11</td>\n",
              "      <td>16</td>\n",
              "    </tr>\n",
              "    <tr>\n",
              "      <th>4</th>\n",
              "      <td>s5</td>\n",
              "      <td>Movie</td>\n",
              "      <td>21</td>\n",
              "      <td>Robert Luketic</td>\n",
              "      <td>Jim Sturgess, Kevin Spacey, Kate Bosworth, Aar...</td>\n",
              "      <td>United States</td>\n",
              "      <td>2008</td>\n",
              "      <td>PG-13</td>\n",
              "      <td>123 min</td>\n",
              "      <td>Dramas</td>\n",
              "      <td>A brilliant group of students become card-coun...</td>\n",
              "      <td>2020</td>\n",
              "      <td>1</td>\n",
              "      <td>1</td>\n",
              "    </tr>\n",
              "  </tbody>\n",
              "</table>\n",
              "</div>\n",
              "      <button class=\"colab-df-convert\" onclick=\"convertToInteractive('df-bdfa3a6a-b1dd-431b-9fdf-2b82ffd0cfd0')\"\n",
              "              title=\"Convert this dataframe to an interactive table.\"\n",
              "              style=\"display:none;\">\n",
              "        \n",
              "  <svg xmlns=\"http://www.w3.org/2000/svg\" height=\"24px\"viewBox=\"0 0 24 24\"\n",
              "       width=\"24px\">\n",
              "    <path d=\"M0 0h24v24H0V0z\" fill=\"none\"/>\n",
              "    <path d=\"M18.56 5.44l.94 2.06.94-2.06 2.06-.94-2.06-.94-.94-2.06-.94 2.06-2.06.94zm-11 1L8.5 8.5l.94-2.06 2.06-.94-2.06-.94L8.5 2.5l-.94 2.06-2.06.94zm10 10l.94 2.06.94-2.06 2.06-.94-2.06-.94-.94-2.06-.94 2.06-2.06.94z\"/><path d=\"M17.41 7.96l-1.37-1.37c-.4-.4-.92-.59-1.43-.59-.52 0-1.04.2-1.43.59L10.3 9.45l-7.72 7.72c-.78.78-.78 2.05 0 2.83L4 21.41c.39.39.9.59 1.41.59.51 0 1.02-.2 1.41-.59l7.78-7.78 2.81-2.81c.8-.78.8-2.07 0-2.86zM5.41 20L4 18.59l7.72-7.72 1.47 1.35L5.41 20z\"/>\n",
              "  </svg>\n",
              "      </button>\n",
              "      \n",
              "  <style>\n",
              "    .colab-df-container {\n",
              "      display:flex;\n",
              "      flex-wrap:wrap;\n",
              "      gap: 12px;\n",
              "    }\n",
              "\n",
              "    .colab-df-convert {\n",
              "      background-color: #E8F0FE;\n",
              "      border: none;\n",
              "      border-radius: 50%;\n",
              "      cursor: pointer;\n",
              "      display: none;\n",
              "      fill: #1967D2;\n",
              "      height: 32px;\n",
              "      padding: 0 0 0 0;\n",
              "      width: 32px;\n",
              "    }\n",
              "\n",
              "    .colab-df-convert:hover {\n",
              "      background-color: #E2EBFA;\n",
              "      box-shadow: 0px 1px 2px rgba(60, 64, 67, 0.3), 0px 1px 3px 1px rgba(60, 64, 67, 0.15);\n",
              "      fill: #174EA6;\n",
              "    }\n",
              "\n",
              "    [theme=dark] .colab-df-convert {\n",
              "      background-color: #3B4455;\n",
              "      fill: #D2E3FC;\n",
              "    }\n",
              "\n",
              "    [theme=dark] .colab-df-convert:hover {\n",
              "      background-color: #434B5C;\n",
              "      box-shadow: 0px 1px 3px 1px rgba(0, 0, 0, 0.15);\n",
              "      filter: drop-shadow(0px 1px 2px rgba(0, 0, 0, 0.3));\n",
              "      fill: #FFFFFF;\n",
              "    }\n",
              "  </style>\n",
              "\n",
              "      <script>\n",
              "        const buttonEl =\n",
              "          document.querySelector('#df-bdfa3a6a-b1dd-431b-9fdf-2b82ffd0cfd0 button.colab-df-convert');\n",
              "        buttonEl.style.display =\n",
              "          google.colab.kernel.accessAllowed ? 'block' : 'none';\n",
              "\n",
              "        async function convertToInteractive(key) {\n",
              "          const element = document.querySelector('#df-bdfa3a6a-b1dd-431b-9fdf-2b82ffd0cfd0');\n",
              "          const dataTable =\n",
              "            await google.colab.kernel.invokeFunction('convertToInteractive',\n",
              "                                                     [key], {});\n",
              "          if (!dataTable) return;\n",
              "\n",
              "          const docLinkHtml = 'Like what you see? Visit the ' +\n",
              "            '<a target=\"_blank\" href=https://colab.research.google.com/notebooks/data_table.ipynb>data table notebook</a>'\n",
              "            + ' to learn more about interactive tables.';\n",
              "          element.innerHTML = '';\n",
              "          dataTable['output_type'] = 'display_data';\n",
              "          await google.colab.output.renderOutput(dataTable, element);\n",
              "          const docLink = document.createElement('div');\n",
              "          docLink.innerHTML = docLinkHtml;\n",
              "          element.appendChild(docLink);\n",
              "        }\n",
              "      </script>\n",
              "    </div>\n",
              "  </div>\n",
              "  "
            ],
            "text/plain": [
              "  show_id     type  title  ... added_year added_month added_day\n",
              "0      s1  TV Show     3%  ...       2020           8        14\n",
              "1      s2    Movie   7:19  ...       2016          12        23\n",
              "2      s3    Movie  23:59  ...       2018          12        20\n",
              "3      s4    Movie      9  ...       2017          11        16\n",
              "4      s5    Movie     21  ...       2020           1         1\n",
              "\n",
              "[5 rows x 14 columns]"
            ]
          },
          "metadata": {},
          "execution_count": 27
        }
      ]
    },
    {
      "cell_type": "code",
      "source": [
        "df_1.listed_in.value_counts()"
      ],
      "metadata": {
        "colab": {
          "base_uri": "https://localhost:8080/"
        },
        "id": "YnYPRAV0vo9R",
        "outputId": "1a1a3bca-7c5c-4bea-eb88-004477eda244"
      },
      "execution_count": 28,
      "outputs": [
        {
          "output_type": "execute_result",
          "data": {
            "text/plain": [
              "Documentaries                                                                      334\n",
              "Stand-Up Comedy                                                                    321\n",
              "Dramas, International Movies                                                       320\n",
              "Comedies, Dramas, International Movies                                             243\n",
              "Dramas, Independent Movies, International Movies                                   215\n",
              "                                                                                  ... \n",
              "Anime Series, Crime TV Shows, TV Thrillers                                           1\n",
              "Crime TV Shows, Romantic TV Shows, Spanish-Language TV Shows                         1\n",
              "Crime TV Shows, International TV Shows, Reality TV                                   1\n",
              "International Movies, Romantic Movies, Sci-Fi & Fantasy                              1\n",
              "International TV Shows, Spanish-Language TV Shows, Stand-Up Comedy & Talk Shows      1\n",
              "Name: listed_in, Length: 491, dtype: int64"
            ]
          },
          "metadata": {},
          "execution_count": 28
        }
      ]
    },
    {
      "cell_type": "code",
      "source": [
        "df_1.rating.value_counts()"
      ],
      "metadata": {
        "colab": {
          "base_uri": "https://localhost:8080/"
        },
        "id": "x-J-zP-w4PZH",
        "outputId": "f34e63bd-ecd0-4b35-c33b-992e999cac6f"
      },
      "execution_count": 29,
      "outputs": [
        {
          "output_type": "execute_result",
          "data": {
            "text/plain": [
              "TV-MA       2861\n",
              "TV-14       1928\n",
              "TV-PG        804\n",
              "R            665\n",
              "PG-13        386\n",
              "TV-Y         279\n",
              "TV-Y7        270\n",
              "PG           247\n",
              "TV-G         194\n",
              "NR            83\n",
              "G             39\n",
              "Unknown        7\n",
              "TV-Y7-FV       6\n",
              "UR             5\n",
              "NC-17          3\n",
              "Name: rating, dtype: int64"
            ]
          },
          "metadata": {},
          "execution_count": 29
        }
      ]
    },
    {
      "cell_type": "markdown",
      "source": [
        "Netflix's focus in recent years"
      ],
      "metadata": {
        "id": "9RlmXbBV-PHK"
      }
    },
    {
      "cell_type": "code",
      "source": [
        "plt.figure(figsize=(10,8))\n",
        "sns.countplot(x='added_year',hue='type',data=df_1)\n",
        "plt.title(\"Recent year Netflix's Uploads\")"
      ],
      "metadata": {
        "colab": {
          "base_uri": "https://localhost:8080/",
          "height": 535
        },
        "id": "ZpRfBmwT4bow",
        "outputId": "206f9290-733e-40b2-eda0-65bd0894b07e"
      },
      "execution_count": 30,
      "outputs": [
        {
          "output_type": "execute_result",
          "data": {
            "text/plain": [
              "Text(0.5, 1.0, \"Recent year Netflix's Uploads\")"
            ]
          },
          "metadata": {},
          "execution_count": 30
        },
        {
          "output_type": "display_data",
          "data": {
            "image/png": "[encoded data removed]",
            "text/plain": [
              "<Figure size 720x576 with 1 Axes>"
            ]
          },
          "metadata": {
            "needs_background": "light"
          }
        }
      ]
    },
    {
      "cell_type": "code",
      "source": [
        "# Pie chart for type of shows\n",
        "df_1['type'].value_counts().plot(kind='pie',autopct=\"%.2f\")"
      ],
      "metadata": {
        "colab": {
          "base_uri": "https://localhost:8080/",
          "height": 266
        },
        "id": "e2UGbLSQ-0Dg",
        "outputId": "853b7d7a-5e66-4758-9f13-6a4be670c8e8"
      },
      "execution_count": 31,
      "outputs": [
        {
          "output_type": "execute_result",
          "data": {
            "text/plain": [
              "<matplotlib.axes._subplots.AxesSubplot at 0x7f281af76e10>"
            ]
          },
          "metadata": {},
          "execution_count": 31
        },
        {
          "output_type": "display_data",
          "data": {
            "image/png": "[encoded data removed]",
            "text/plain": [
              "<Figure size 432x288 with 1 Axes>"
            ]
          },
          "metadata": {}
        }
      ]
    },
    {
      "cell_type": "markdown",
      "source": [
        "Exploring Countries"
      ],
      "metadata": {
        "id": "LA8pPEVCFLj3"
      }
    },
    {
      "cell_type": "code",
      "source": [
        "country_count = df_1.copy()\n",
        "country_count = pd.concat([country_count , df_1['country'].str.split(\",\",expand=True)],axis=1)\n",
        "country_count"
      ],
      "metadata": {
        "colab": {
          "base_uri": "https://localhost:8080/",
          "height": 1000
        },
        "id": "HmLNYoA8ErE_",
        "outputId": "4904007f-ea66-4b7e-c284-4b47eb66aada"
      },
      "execution_count": 32,
      "outputs": [
        {
          "output_type": "execute_result",
          "data": {
            "text/html": [
              "\n",
              "  <div id=\"df-faa93ae6-a455-4db3-8db0-de74adbd4c75\">\n",
              "    <div class=\"colab-df-container\">\n",
              "      <div>\n",
              "<style scoped>\n",
              "    .dataframe tbody tr th:only-of-type {\n",
              "        vertical-align: middle;\n",
              "    }\n",
              "\n",
              "    .dataframe tbody tr th {\n",
              "        vertical-align: top;\n",
              "    }\n",
              "\n",
              "    .dataframe thead th {\n",
              "        text-align: right;\n",
              "    }\n",
              "</style>\n",
              "<table border=\"1\" class=\"dataframe\">\n",
              "  <thead>\n",
              "    <tr style=\"text-align: right;\">\n",
              "      <th></th>\n",
              "      <th>show_id</th>\n",
              "      <th>type</th>\n",
              "      <th>title</th>\n",
              "      <th>director</th>\n",
              "      <th>cast</th>\n",
              "      <th>country</th>\n",
              "      <th>release_year</th>\n",
              "      <th>rating</th>\n",
              "      <th>duration</th>\n",
              "      <th>listed_in</th>\n",
              "      <th>description</th>\n",
              "      <th>added_year</th>\n",
              "      <th>added_month</th>\n",
              "      <th>added_day</th>\n",
              "      <th>0</th>\n",
              "      <th>1</th>\n",
              "      <th>2</th>\n",
              "      <th>3</th>\n",
              "      <th>4</th>\n",
              "      <th>5</th>\n",
              "      <th>6</th>\n",
              "      <th>7</th>\n",
              "      <th>8</th>\n",
              "      <th>9</th>\n",
              "      <th>10</th>\n",
              "      <th>11</th>\n",
              "    </tr>\n",
              "  </thead>\n",
              "  <tbody>\n",
              "    <tr>\n",
              "      <th>0</th>\n",
              "      <td>s1</td>\n",
              "      <td>TV Show</td>\n",
              "      <td>3%</td>\n",
              "      <td>Unknown</td>\n",
              "      <td>João Miguel, Bianca Comparato, Michel Gomes, R...</td>\n",
              "      <td>Brazil</td>\n",
              "      <td>2020</td>\n",
              "      <td>TV-MA</td>\n",
              "      <td>4 Seasons</td>\n",
              "      <td>International TV Shows, TV Dramas, TV Sci-Fi &amp;...</td>\n",
              "      <td>In a future where the elite inhabit an island ...</td>\n",
              "      <td>2020</td>\n",
              "      <td>8</td>\n",
              "      <td>14</td>\n",
              "      <td>Brazil</td>\n",
              "      <td>None</td>\n",
              "      <td>None</td>\n",
              "      <td>None</td>\n",
              "      <td>None</td>\n",
              "      <td>None</td>\n",
              "      <td>None</td>\n",
              "      <td>None</td>\n",
              "      <td>None</td>\n",
              "      <td>None</td>\n",
              "      <td>None</td>\n",
              "      <td>None</td>\n",
              "    </tr>\n",
              "    <tr>\n",
              "      <th>1</th>\n",
              "      <td>s2</td>\n",
              "      <td>Movie</td>\n",
              "      <td>7:19</td>\n",
              "      <td>Jorge Michel Grau</td>\n",
              "      <td>Demián Bichir, Héctor Bonilla, Oscar Serrano, ...</td>\n",
              "      <td>Mexico</td>\n",
              "      <td>2016</td>\n",
              "      <td>TV-MA</td>\n",
              "      <td>93 min</td>\n",
              "      <td>Dramas, International Movies</td>\n",
              "      <td>After a devastating earthquake hits Mexico Cit...</td>\n",
              "      <td>2016</td>\n",
              "      <td>12</td>\n",
              "      <td>23</td>\n",
              "      <td>Mexico</td>\n",
              "      <td>None</td>\n",
              "      <td>None</td>\n",
              "      <td>None</td>\n",
              "      <td>None</td>\n",
              "      <td>None</td>\n",
              "      <td>None</td>\n",
              "      <td>None</td>\n",
              "      <td>None</td>\n",
              "      <td>None</td>\n",
              "      <td>None</td>\n",
              "      <td>None</td>\n",
              "    </tr>\n",
              "    <tr>\n",
              "      <th>2</th>\n",
              "      <td>s3</td>\n",
              "      <td>Movie</td>\n",
              "      <td>23:59</td>\n",
              "      <td>Gilbert Chan</td>\n",
              "      <td>Tedd Chan, Stella Chung, Henley Hii, Lawrence ...</td>\n",
              "      <td>Singapore</td>\n",
              "      <td>2011</td>\n",
              "      <td>R</td>\n",
              "      <td>78 min</td>\n",
              "      <td>Horror Movies, International Movies</td>\n",
              "      <td>When an army recruit is found dead, his fellow...</td>\n",
              "      <td>2018</td>\n",
              "      <td>12</td>\n",
              "      <td>20</td>\n",
              "      <td>Singapore</td>\n",
              "      <td>None</td>\n",
              "      <td>None</td>\n",
              "      <td>None</td>\n",
              "      <td>None</td>\n",
              "      <td>None</td>\n",
              "      <td>None</td>\n",
              "      <td>None</td>\n",
              "      <td>None</td>\n",
              "      <td>None</td>\n",
              "      <td>None</td>\n",
              "      <td>None</td>\n",
              "    </tr>\n",
              "    <tr>\n",
              "      <th>3</th>\n",
              "      <td>s4</td>\n",
              "      <td>Movie</td>\n",
              "      <td>9</td>\n",
              "      <td>Shane Acker</td>\n",
              "      <td>Elijah Wood, John C. Reilly, Jennifer Connelly...</td>\n",
              "      <td>United States</td>\n",
              "      <td>2009</td>\n",
              "      <td>PG-13</td>\n",
              "      <td>80 min</td>\n",
              "      <td>Action &amp; Adventure, Independent Movies, Sci-Fi...</td>\n",
              "      <td>In a postapocalyptic world, rag-doll robots hi...</td>\n",
              "      <td>2017</td>\n",
              "      <td>11</td>\n",
              "      <td>16</td>\n",
              "      <td>United States</td>\n",
              "      <td>None</td>\n",
              "      <td>None</td>\n",
              "      <td>None</td>\n",
              "      <td>None</td>\n",
              "      <td>None</td>\n",
              "      <td>None</td>\n",
              "      <td>None</td>\n",
              "      <td>None</td>\n",
              "      <td>None</td>\n",
              "      <td>None</td>\n",
              "      <td>None</td>\n",
              "    </tr>\n",
              "    <tr>\n",
              "      <th>4</th>\n",
              "      <td>s5</td>\n",
              "      <td>Movie</td>\n",
              "      <td>21</td>\n",
              "      <td>Robert Luketic</td>\n",
              "      <td>Jim Sturgess, Kevin Spacey, Kate Bosworth, Aar...</td>\n",
              "      <td>United States</td>\n",
              "      <td>2008</td>\n",
              "      <td>PG-13</td>\n",
              "      <td>123 min</td>\n",
              "      <td>Dramas</td>\n",
              "      <td>A brilliant group of students become card-coun...</td>\n",
              "      <td>2020</td>\n",
              "      <td>1</td>\n",
              "      <td>1</td>\n",
              "      <td>United States</td>\n",
              "      <td>None</td>\n",
              "      <td>None</td>\n",
              "      <td>None</td>\n",
              "      <td>None</td>\n",
              "      <td>None</td>\n",
              "      <td>None</td>\n",
              "      <td>None</td>\n",
              "      <td>None</td>\n",
              "      <td>None</td>\n",
              "      <td>None</td>\n",
              "      <td>None</td>\n",
              "    </tr>\n",
              "    <tr>\n",
              "      <th>...</th>\n",
              "      <td>...</td>\n",
              "      <td>...</td>\n",
              "      <td>...</td>\n",
              "      <td>...</td>\n",
              "      <td>...</td>\n",
              "      <td>...</td>\n",
              "      <td>...</td>\n",
              "      <td>...</td>\n",
              "      <td>...</td>\n",
              "      <td>...</td>\n",
              "      <td>...</td>\n",
              "      <td>...</td>\n",
              "      <td>...</td>\n",
              "      <td>...</td>\n",
              "      <td>...</td>\n",
              "      <td>...</td>\n",
              "      <td>...</td>\n",
              "      <td>...</td>\n",
              "      <td>...</td>\n",
              "      <td>...</td>\n",
              "      <td>...</td>\n",
              "      <td>...</td>\n",
              "      <td>...</td>\n",
              "      <td>...</td>\n",
              "      <td>...</td>\n",
              "      <td>...</td>\n",
              "    </tr>\n",
              "    <tr>\n",
              "      <th>7782</th>\n",
              "      <td>s7783</td>\n",
              "      <td>Movie</td>\n",
              "      <td>Zozo</td>\n",
              "      <td>Josef Fares</td>\n",
              "      <td>Imad Creidi, Antoinette Turk, Elias Gergi, Car...</td>\n",
              "      <td>Sweden, Czech Republic, United Kingdom, Denmar...</td>\n",
              "      <td>2005</td>\n",
              "      <td>TV-MA</td>\n",
              "      <td>99 min</td>\n",
              "      <td>Dramas, International Movies</td>\n",
              "      <td>When Lebanon's Civil War deprives Zozo of his ...</td>\n",
              "      <td>2020</td>\n",
              "      <td>10</td>\n",
              "      <td>19</td>\n",
              "      <td>Sweden</td>\n",
              "      <td>Czech Republic</td>\n",
              "      <td>United Kingdom</td>\n",
              "      <td>Denmark</td>\n",
              "      <td>Netherlands</td>\n",
              "      <td>None</td>\n",
              "      <td>None</td>\n",
              "      <td>None</td>\n",
              "      <td>None</td>\n",
              "      <td>None</td>\n",
              "      <td>None</td>\n",
              "      <td>None</td>\n",
              "    </tr>\n",
              "    <tr>\n",
              "      <th>7783</th>\n",
              "      <td>s7784</td>\n",
              "      <td>Movie</td>\n",
              "      <td>Zubaan</td>\n",
              "      <td>Mozez Singh</td>\n",
              "      <td>Vicky Kaushal, Sarah-Jane Dias, Raaghav Chanan...</td>\n",
              "      <td>India</td>\n",
              "      <td>2015</td>\n",
              "      <td>TV-14</td>\n",
              "      <td>111 min</td>\n",
              "      <td>Dramas, International Movies, Music &amp; Musicals</td>\n",
              "      <td>A scrappy but poor boy worms his way into a ty...</td>\n",
              "      <td>2019</td>\n",
              "      <td>3</td>\n",
              "      <td>2</td>\n",
              "      <td>India</td>\n",
              "      <td>None</td>\n",
              "      <td>None</td>\n",
              "      <td>None</td>\n",
              "      <td>None</td>\n",
              "      <td>None</td>\n",
              "      <td>None</td>\n",
              "      <td>None</td>\n",
              "      <td>None</td>\n",
              "      <td>None</td>\n",
              "      <td>None</td>\n",
              "      <td>None</td>\n",
              "    </tr>\n",
              "    <tr>\n",
              "      <th>7784</th>\n",
              "      <td>s7785</td>\n",
              "      <td>Movie</td>\n",
              "      <td>Zulu Man in Japan</td>\n",
              "      <td>Unknown</td>\n",
              "      <td>Nasty C</td>\n",
              "      <td>Unknown</td>\n",
              "      <td>2019</td>\n",
              "      <td>TV-MA</td>\n",
              "      <td>44 min</td>\n",
              "      <td>Documentaries, International Movies, Music &amp; M...</td>\n",
              "      <td>In this documentary, South African rapper Nast...</td>\n",
              "      <td>2020</td>\n",
              "      <td>9</td>\n",
              "      <td>25</td>\n",
              "      <td>Unknown</td>\n",
              "      <td>None</td>\n",
              "      <td>None</td>\n",
              "      <td>None</td>\n",
              "      <td>None</td>\n",
              "      <td>None</td>\n",
              "      <td>None</td>\n",
              "      <td>None</td>\n",
              "      <td>None</td>\n",
              "      <td>None</td>\n",
              "      <td>None</td>\n",
              "      <td>None</td>\n",
              "    </tr>\n",
              "    <tr>\n",
              "      <th>7785</th>\n",
              "      <td>s7786</td>\n",
              "      <td>TV Show</td>\n",
              "      <td>Zumbo's Just Desserts</td>\n",
              "      <td>Unknown</td>\n",
              "      <td>Adriano Zumbo, Rachel Khoo</td>\n",
              "      <td>Australia</td>\n",
              "      <td>2019</td>\n",
              "      <td>TV-PG</td>\n",
              "      <td>1 Season</td>\n",
              "      <td>International TV Shows, Reality TV</td>\n",
              "      <td>Dessert wizard Adriano Zumbo looks for the nex...</td>\n",
              "      <td>2020</td>\n",
              "      <td>10</td>\n",
              "      <td>31</td>\n",
              "      <td>Australia</td>\n",
              "      <td>None</td>\n",
              "      <td>None</td>\n",
              "      <td>None</td>\n",
              "      <td>None</td>\n",
              "      <td>None</td>\n",
              "      <td>None</td>\n",
              "      <td>None</td>\n",
              "      <td>None</td>\n",
              "      <td>None</td>\n",
              "      <td>None</td>\n",
              "      <td>None</td>\n",
              "    </tr>\n",
              "    <tr>\n",
              "      <th>7786</th>\n",
              "      <td>s7787</td>\n",
              "      <td>Movie</td>\n",
              "      <td>ZZ TOP: THAT LITTLE OL' BAND FROM TEXAS</td>\n",
              "      <td>Sam Dunn</td>\n",
              "      <td>Unknown</td>\n",
              "      <td>United Kingdom, Canada, United States</td>\n",
              "      <td>2019</td>\n",
              "      <td>TV-MA</td>\n",
              "      <td>90 min</td>\n",
              "      <td>Documentaries, Music &amp; Musicals</td>\n",
              "      <td>This documentary delves into the mystique behi...</td>\n",
              "      <td>2020</td>\n",
              "      <td>3</td>\n",
              "      <td>1</td>\n",
              "      <td>United Kingdom</td>\n",
              "      <td>Canada</td>\n",
              "      <td>United States</td>\n",
              "      <td>None</td>\n",
              "      <td>None</td>\n",
              "      <td>None</td>\n",
              "      <td>None</td>\n",
              "      <td>None</td>\n",
              "      <td>None</td>\n",
              "      <td>None</td>\n",
              "      <td>None</td>\n",
              "      <td>None</td>\n",
              "    </tr>\n",
              "  </tbody>\n",
              "</table>\n",
              "<p>7777 rows × 26 columns</p>\n",
              "</div>\n",
              "      <button class=\"colab-df-convert\" onclick=\"convertToInteractive('df-faa93ae6-a455-4db3-8db0-de74adbd4c75')\"\n",
              "              title=\"Convert this dataframe to an interactive table.\"\n",
              "              style=\"display:none;\">\n",
              "        \n",
              "  <svg xmlns=\"http://www.w3.org/2000/svg\" height=\"24px\"viewBox=\"0 0 24 24\"\n",
              "       width=\"24px\">\n",
              "    <path d=\"M0 0h24v24H0V0z\" fill=\"none\"/>\n",
              "    <path d=\"M18.56 5.44l.94 2.06.94-2.06 2.06-.94-2.06-.94-.94-2.06-.94 2.06-2.06.94zm-11 1L8.5 8.5l.94-2.06 2.06-.94-2.06-.94L8.5 2.5l-.94 2.06-2.06.94zm10 10l.94 2.06.94-2.06 2.06-.94-2.06-.94-.94-2.06-.94 2.06-2.06.94z\"/><path d=\"M17.41 7.96l-1.37-1.37c-.4-.4-.92-.59-1.43-.59-.52 0-1.04.2-1.43.59L10.3 9.45l-7.72 7.72c-.78.78-.78 2.05 0 2.83L4 21.41c.39.39.9.59 1.41.59.51 0 1.02-.2 1.41-.59l7.78-7.78 2.81-2.81c.8-.78.8-2.07 0-2.86zM5.41 20L4 18.59l7.72-7.72 1.47 1.35L5.41 20z\"/>\n",
              "  </svg>\n",
              "      </button>\n",
              "      \n",
              "  <style>\n",
              "    .colab-df-container {\n",
              "      display:flex;\n",
              "      flex-wrap:wrap;\n",
              "      gap: 12px;\n",
              "    }\n",
              "\n",
              "    .colab-df-convert {\n",
              "      background-color: #E8F0FE;\n",
              "      border: none;\n",
              "      border-radius: 50%;\n",
              "      cursor: pointer;\n",
              "      display: none;\n",
              "      fill: #1967D2;\n",
              "      height: 32px;\n",
              "      padding: 0 0 0 0;\n",
              "      width: 32px;\n",
              "    }\n",
              "\n",
              "    .colab-df-convert:hover {\n",
              "      background-color: #E2EBFA;\n",
              "      box-shadow: 0px 1px 2px rgba(60, 64, 67, 0.3), 0px 1px 3px 1px rgba(60, 64, 67, 0.15);\n",
              "      fill: #174EA6;\n",
              "    }\n",
              "\n",
              "    [theme=dark] .colab-df-convert {\n",
              "      background-color: #3B4455;\n",
              "      fill: #D2E3FC;\n",
              "    }\n",
              "\n",
              "    [theme=dark] .colab-df-convert:hover {\n",
              "      background-color: #434B5C;\n",
              "      box-shadow: 0px 1px 3px 1px rgba(0, 0, 0, 0.15);\n",
              "      filter: drop-shadow(0px 1px 2px rgba(0, 0, 0, 0.3));\n",
              "      fill: #FFFFFF;\n",
              "    }\n",
              "  </style>\n",
              "\n",
              "      <script>\n",
              "        const buttonEl =\n",
              "          document.querySelector('#df-faa93ae6-a455-4db3-8db0-de74adbd4c75 button.colab-df-convert');\n",
              "        buttonEl.style.display =\n",
              "          google.colab.kernel.accessAllowed ? 'block' : 'none';\n",
              "\n",
              "        async function convertToInteractive(key) {\n",
              "          const element = document.querySelector('#df-faa93ae6-a455-4db3-8db0-de74adbd4c75');\n",
              "          const dataTable =\n",
              "            await google.colab.kernel.invokeFunction('convertToInteractive',\n",
              "                                                     [key], {});\n",
              "          if (!dataTable) return;\n",
              "\n",
              "          const docLinkHtml = 'Like what you see? Visit the ' +\n",
              "            '<a target=\"_blank\" href=https://colab.research.google.com/notebooks/data_table.ipynb>data table notebook</a>'\n",
              "            + ' to learn more about interactive tables.';\n",
              "          element.innerHTML = '';\n",
              "          dataTable['output_type'] = 'display_data';\n",
              "          await google.colab.output.renderOutput(dataTable, element);\n",
              "          const docLink = document.createElement('div');\n",
              "          docLink.innerHTML = docLinkHtml;\n",
              "          element.appendChild(docLink);\n",
              "        }\n",
              "      </script>\n",
              "    </div>\n",
              "  </div>\n",
              "  "
            ],
            "text/plain": [
              "     show_id     type  ...    10    11\n",
              "0         s1  TV Show  ...  None  None\n",
              "1         s2    Movie  ...  None  None\n",
              "2         s3    Movie  ...  None  None\n",
              "3         s4    Movie  ...  None  None\n",
              "4         s5    Movie  ...  None  None\n",
              "...      ...      ...  ...   ...   ...\n",
              "7782   s7783    Movie  ...  None  None\n",
              "7783   s7784    Movie  ...  None  None\n",
              "7784   s7785    Movie  ...  None  None\n",
              "7785   s7786  TV Show  ...  None  None\n",
              "7786   s7787    Movie  ...  None  None\n",
              "\n",
              "[7777 rows x 26 columns]"
            ]
          },
          "metadata": {},
          "execution_count": 32
        }
      ]
    },
    {
      "cell_type": "code",
      "source": [
        "country_count = country_count.melt(id_vars = [\"type\", \"title\"], value_vars = range(12), value_name = \"country\")\n",
        "country_count = country_count[country_count[\"country\"].notna()]\n",
        "country_count"
      ],
      "metadata": {
        "colab": {
          "base_uri": "https://localhost:8080/",
          "height": 481
        },
        "id": "ddmxU_-lF3bq",
        "outputId": "4c282a30-fb6f-4cce-dade-462e31c662a4"
      },
      "execution_count": 33,
      "outputs": [
        {
          "output_type": "stream",
          "name": "stderr",
          "text": [
            "/usr/local/lib/python3.7/dist-packages/ipykernel_launcher.py:1: FutureWarning: This dataframe has a column name that matches the 'value_name' column name of the resulting Dataframe. In the future this will raise an error, please set the 'value_name' parameter of DataFrame.melt to a unique name.\n",
            "  \"\"\"Entry point for launching an IPython kernel.\n"
          ]
        },
        {
          "output_type": "execute_result",
          "data": {
            "text/html": [
              "\n",
              "  <div id=\"df-5c7b2343-a74d-46c7-bf18-91287d94c6a5\">\n",
              "    <div class=\"colab-df-container\">\n",
              "      <div>\n",
              "<style scoped>\n",
              "    .dataframe tbody tr th:only-of-type {\n",
              "        vertical-align: middle;\n",
              "    }\n",
              "\n",
              "    .dataframe tbody tr th {\n",
              "        vertical-align: top;\n",
              "    }\n",
              "\n",
              "    .dataframe thead th {\n",
              "        text-align: right;\n",
              "    }\n",
              "</style>\n",
              "<table border=\"1\" class=\"dataframe\">\n",
              "  <thead>\n",
              "    <tr style=\"text-align: right;\">\n",
              "      <th></th>\n",
              "      <th>type</th>\n",
              "      <th>title</th>\n",
              "      <th>variable</th>\n",
              "      <th>country</th>\n",
              "    </tr>\n",
              "  </thead>\n",
              "  <tbody>\n",
              "    <tr>\n",
              "      <th>0</th>\n",
              "      <td>TV Show</td>\n",
              "      <td>3%</td>\n",
              "      <td>0</td>\n",
              "      <td>Brazil</td>\n",
              "    </tr>\n",
              "    <tr>\n",
              "      <th>1</th>\n",
              "      <td>Movie</td>\n",
              "      <td>7:19</td>\n",
              "      <td>0</td>\n",
              "      <td>Mexico</td>\n",
              "    </tr>\n",
              "    <tr>\n",
              "      <th>2</th>\n",
              "      <td>Movie</td>\n",
              "      <td>23:59</td>\n",
              "      <td>0</td>\n",
              "      <td>Singapore</td>\n",
              "    </tr>\n",
              "    <tr>\n",
              "      <th>3</th>\n",
              "      <td>Movie</td>\n",
              "      <td>9</td>\n",
              "      <td>0</td>\n",
              "      <td>United States</td>\n",
              "    </tr>\n",
              "    <tr>\n",
              "      <th>4</th>\n",
              "      <td>Movie</td>\n",
              "      <td>21</td>\n",
              "      <td>0</td>\n",
              "      <td>United States</td>\n",
              "    </tr>\n",
              "    <tr>\n",
              "      <th>...</th>\n",
              "      <td>...</td>\n",
              "      <td>...</td>\n",
              "      <td>...</td>\n",
              "      <td>...</td>\n",
              "    </tr>\n",
              "    <tr>\n",
              "      <th>68821</th>\n",
              "      <td>Movie</td>\n",
              "      <td>The Look of Silence</td>\n",
              "      <td>8</td>\n",
              "      <td>Germany</td>\n",
              "    </tr>\n",
              "    <tr>\n",
              "      <th>70723</th>\n",
              "      <td>Movie</td>\n",
              "      <td>Barbecue</td>\n",
              "      <td>9</td>\n",
              "      <td>Sweden</td>\n",
              "    </tr>\n",
              "    <tr>\n",
              "      <th>76598</th>\n",
              "      <td>Movie</td>\n",
              "      <td>The Look of Silence</td>\n",
              "      <td>9</td>\n",
              "      <td>Netherlands</td>\n",
              "    </tr>\n",
              "    <tr>\n",
              "      <th>78500</th>\n",
              "      <td>Movie</td>\n",
              "      <td>Barbecue</td>\n",
              "      <td>10</td>\n",
              "      <td>United States</td>\n",
              "    </tr>\n",
              "    <tr>\n",
              "      <th>86277</th>\n",
              "      <td>Movie</td>\n",
              "      <td>Barbecue</td>\n",
              "      <td>11</td>\n",
              "      <td>Uruguay</td>\n",
              "    </tr>\n",
              "  </tbody>\n",
              "</table>\n",
              "<p>9564 rows × 4 columns</p>\n",
              "</div>\n",
              "      <button class=\"colab-df-convert\" onclick=\"convertToInteractive('df-5c7b2343-a74d-46c7-bf18-91287d94c6a5')\"\n",
              "              title=\"Convert this dataframe to an interactive table.\"\n",
              "              style=\"display:none;\">\n",
              "        \n",
              "  <svg xmlns=\"http://www.w3.org/2000/svg\" height=\"24px\"viewBox=\"0 0 24 24\"\n",
              "       width=\"24px\">\n",
              "    <path d=\"M0 0h24v24H0V0z\" fill=\"none\"/>\n",
              "    <path d=\"M18.56 5.44l.94 2.06.94-2.06 2.06-.94-2.06-.94-.94-2.06-.94 2.06-2.06.94zm-11 1L8.5 8.5l.94-2.06 2.06-.94-2.06-.94L8.5 2.5l-.94 2.06-2.06.94zm10 10l.94 2.06.94-2.06 2.06-.94-2.06-.94-.94-2.06-.94 2.06-2.06.94z\"/><path d=\"M17.41 7.96l-1.37-1.37c-.4-.4-.92-.59-1.43-.59-.52 0-1.04.2-1.43.59L10.3 9.45l-7.72 7.72c-.78.78-.78 2.05 0 2.83L4 21.41c.39.39.9.59 1.41.59.51 0 1.02-.2 1.41-.59l7.78-7.78 2.81-2.81c.8-.78.8-2.07 0-2.86zM5.41 20L4 18.59l7.72-7.72 1.47 1.35L5.41 20z\"/>\n",
              "  </svg>\n",
              "      </button>\n",
              "      \n",
              "  <style>\n",
              "    .colab-df-container {\n",
              "      display:flex;\n",
              "      flex-wrap:wrap;\n",
              "      gap: 12px;\n",
              "    }\n",
              "\n",
              "    .colab-df-convert {\n",
              "      background-color: #E8F0FE;\n",
              "      border: none;\n",
              "      border-radius: 50%;\n",
              "      cursor: pointer;\n",
              "      display: none;\n",
              "      fill: #1967D2;\n",
              "      height: 32px;\n",
              "      padding: 0 0 0 0;\n",
              "      width: 32px;\n",
              "    }\n",
              "\n",
              "    .colab-df-convert:hover {\n",
              "      background-color: #E2EBFA;\n",
              "      box-shadow: 0px 1px 2px rgba(60, 64, 67, 0.3), 0px 1px 3px 1px rgba(60, 64, 67, 0.15);\n",
              "      fill: #174EA6;\n",
              "    }\n",
              "\n",
              "    [theme=dark] .colab-df-convert {\n",
              "      background-color: #3B4455;\n",
              "      fill: #D2E3FC;\n",
              "    }\n",
              "\n",
              "    [theme=dark] .colab-df-convert:hover {\n",
              "      background-color: #434B5C;\n",
              "      box-shadow: 0px 1px 3px 1px rgba(0, 0, 0, 0.15);\n",
              "      filter: drop-shadow(0px 1px 2px rgba(0, 0, 0, 0.3));\n",
              "      fill: #FFFFFF;\n",
              "    }\n",
              "  </style>\n",
              "\n",
              "      <script>\n",
              "        const buttonEl =\n",
              "          document.querySelector('#df-5c7b2343-a74d-46c7-bf18-91287d94c6a5 button.colab-df-convert');\n",
              "        buttonEl.style.display =\n",
              "          google.colab.kernel.accessAllowed ? 'block' : 'none';\n",
              "\n",
              "        async function convertToInteractive(key) {\n",
              "          const element = document.querySelector('#df-5c7b2343-a74d-46c7-bf18-91287d94c6a5');\n",
              "          const dataTable =\n",
              "            await google.colab.kernel.invokeFunction('convertToInteractive',\n",
              "                                                     [key], {});\n",
              "          if (!dataTable) return;\n",
              "\n",
              "          const docLinkHtml = 'Like what you see? Visit the ' +\n",
              "            '<a target=\"_blank\" href=https://colab.research.google.com/notebooks/data_table.ipynb>data table notebook</a>'\n",
              "            + ' to learn more about interactive tables.';\n",
              "          element.innerHTML = '';\n",
              "          dataTable['output_type'] = 'display_data';\n",
              "          await google.colab.output.renderOutput(dataTable, element);\n",
              "          const docLink = document.createElement('div');\n",
              "          docLink.innerHTML = docLinkHtml;\n",
              "          element.appendChild(docLink);\n",
              "        }\n",
              "      </script>\n",
              "    </div>\n",
              "  </div>\n",
              "  "
            ],
            "text/plain": [
              "          type                title variable         country\n",
              "0      TV Show                   3%        0          Brazil\n",
              "1        Movie                 7:19        0          Mexico\n",
              "2        Movie                23:59        0       Singapore\n",
              "3        Movie                    9        0   United States\n",
              "4        Movie                   21        0   United States\n",
              "...        ...                  ...      ...             ...\n",
              "68821    Movie  The Look of Silence        8         Germany\n",
              "70723    Movie             Barbecue        9          Sweden\n",
              "76598    Movie  The Look of Silence        9     Netherlands\n",
              "78500    Movie             Barbecue       10   United States\n",
              "86277    Movie             Barbecue       11         Uruguay\n",
              "\n",
              "[9564 rows x 4 columns]"
            ]
          },
          "metadata": {},
          "execution_count": 33
        }
      ]
    },
    {
      "cell_type": "code",
      "source": [
        "country_count['country'].nunique()"
      ],
      "metadata": {
        "colab": {
          "base_uri": "https://localhost:8080/"
        },
        "id": "mKrrz5VaGbgO",
        "outputId": "740c1c9b-c21d-40ff-c091-0ee8b1412607"
      },
      "execution_count": 34,
      "outputs": [
        {
          "output_type": "execute_result",
          "data": {
            "text/plain": [
              "189"
            ]
          },
          "metadata": {},
          "execution_count": 34
        }
      ]
    },
    {
      "cell_type": "code",
      "source": [
        "country_count['country'].value_counts()[:10]"
      ],
      "metadata": {
        "colab": {
          "base_uri": "https://localhost:8080/"
        },
        "id": "OORCirpVGpSo",
        "outputId": "49eb3e48-c2e7-4f84-c226-31ca63ac5ca6"
      },
      "execution_count": 35,
      "outputs": [
        {
          "output_type": "execute_result",
          "data": {
            "text/plain": [
              "United States     2877\n",
              "India              956\n",
              "United Kingdom     576\n",
              "Unknown            506\n",
              " United States     414\n",
              "Canada             259\n",
              "Japan              236\n",
              "France             196\n",
              "South Korea        194\n",
              "Spain              168\n",
              "Name: country, dtype: int64"
            ]
          },
          "metadata": {},
          "execution_count": 35
        }
      ]
    },
    {
      "cell_type": "markdown",
      "source": [
        "united states has two different entries"
      ],
      "metadata": {
        "id": "5hmjufNqHU8V"
      }
    },
    {
      "cell_type": "code",
      "source": [
        "country_count[\"country\"] = country_count[\"country\"].str.strip()\n",
        "country_count[\"country\"].value_counts()[:10]"
      ],
      "metadata": {
        "colab": {
          "base_uri": "https://localhost:8080/"
        },
        "id": "NdSFm18wHA_0",
        "outputId": "35d31d79-6ea0-46de-d5a1-cf811d9b2a86"
      },
      "execution_count": 36,
      "outputs": [
        {
          "output_type": "execute_result",
          "data": {
            "text/plain": [
              "United States     3291\n",
              "India              990\n",
              "United Kingdom     722\n",
              "Unknown            506\n",
              "Canada             412\n",
              "France             349\n",
              "Japan              286\n",
              "Spain              215\n",
              "South Korea        212\n",
              "Germany            199\n",
              "Name: country, dtype: int64"
            ]
          },
          "metadata": {},
          "execution_count": 36
        }
      ]
    },
    {
      "cell_type": "markdown",
      "source": [
        "we will work on 'listed_in'"
      ],
      "metadata": {
        "id": "4RZ2xp_jIA8k"
      }
    },
    {
      "cell_type": "code",
      "source": [
        "# first we rename the column for sake of simplicity\n",
        "df_1.rename(columns={'listed_in':'genres'},inplace=True)"
      ],
      "metadata": {
        "id": "n8pEaPGCHfPF"
      },
      "execution_count": 37,
      "outputs": []
    },
    {
      "cell_type": "code",
      "source": [
        "genres_explore = df_1.copy()"
      ],
      "metadata": {
        "id": "fLniGNjiIcj1"
      },
      "execution_count": 38,
      "outputs": []
    },
    {
      "cell_type": "code",
      "source": [
        "genres_explore = pd.concat([genres_explore, df_1[\"genres\"].str.split(\",\", expand = True)], axis = 1)"
      ],
      "metadata": {
        "id": "aCXk10tMIj_d"
      },
      "execution_count": 39,
      "outputs": []
    },
    {
      "cell_type": "code",
      "source": [
        "genres_explore"
      ],
      "metadata": {
        "colab": {
          "base_uri": "https://localhost:8080/",
          "height": 1000
        },
        "id": "69CqtqqtI3jT",
        "outputId": "43fc435e-8c72-49c8-bd3a-4f91570511a8"
      },
      "execution_count": 40,
      "outputs": [
        {
          "output_type": "execute_result",
          "data": {
            "text/html": [
              "\n",
              "  <div id=\"df-a87e689d-e631-4682-8683-86cb7ca98c59\">\n",
              "    <div class=\"colab-df-container\">\n",
              "      <div>\n",
              "<style scoped>\n",
              "    .dataframe tbody tr th:only-of-type {\n",
              "        vertical-align: middle;\n",
              "    }\n",
              "\n",
              "    .dataframe tbody tr th {\n",
              "        vertical-align: top;\n",
              "    }\n",
              "\n",
              "    .dataframe thead th {\n",
              "        text-align: right;\n",
              "    }\n",
              "</style>\n",
              "<table border=\"1\" class=\"dataframe\">\n",
              "  <thead>\n",
              "    <tr style=\"text-align: right;\">\n",
              "      <th></th>\n",
              "      <th>show_id</th>\n",
              "      <th>type</th>\n",
              "      <th>title</th>\n",
              "      <th>director</th>\n",
              "      <th>cast</th>\n",
              "      <th>country</th>\n",
              "      <th>release_year</th>\n",
              "      <th>rating</th>\n",
              "      <th>duration</th>\n",
              "      <th>genres</th>\n",
              "      <th>description</th>\n",
              "      <th>added_year</th>\n",
              "      <th>added_month</th>\n",
              "      <th>added_day</th>\n",
              "      <th>0</th>\n",
              "      <th>1</th>\n",
              "      <th>2</th>\n",
              "    </tr>\n",
              "  </thead>\n",
              "  <tbody>\n",
              "    <tr>\n",
              "      <th>0</th>\n",
              "      <td>s1</td>\n",
              "      <td>TV Show</td>\n",
              "      <td>3%</td>\n",
              "      <td>Unknown</td>\n",
              "      <td>João Miguel, Bianca Comparato, Michel Gomes, R...</td>\n",
              "      <td>Brazil</td>\n",
              "      <td>2020</td>\n",
              "      <td>TV-MA</td>\n",
              "      <td>4 Seasons</td>\n",
              "      <td>International TV Shows, TV Dramas, TV Sci-Fi &amp;...</td>\n",
              "      <td>In a future where the elite inhabit an island ...</td>\n",
              "      <td>2020</td>\n",
              "      <td>8</td>\n",
              "      <td>14</td>\n",
              "      <td>International TV Shows</td>\n",
              "      <td>TV Dramas</td>\n",
              "      <td>TV Sci-Fi &amp; Fantasy</td>\n",
              "    </tr>\n",
              "    <tr>\n",
              "      <th>1</th>\n",
              "      <td>s2</td>\n",
              "      <td>Movie</td>\n",
              "      <td>7:19</td>\n",
              "      <td>Jorge Michel Grau</td>\n",
              "      <td>Demián Bichir, Héctor Bonilla, Oscar Serrano, ...</td>\n",
              "      <td>Mexico</td>\n",
              "      <td>2016</td>\n",
              "      <td>TV-MA</td>\n",
              "      <td>93 min</td>\n",
              "      <td>Dramas, International Movies</td>\n",
              "      <td>After a devastating earthquake hits Mexico Cit...</td>\n",
              "      <td>2016</td>\n",
              "      <td>12</td>\n",
              "      <td>23</td>\n",
              "      <td>Dramas</td>\n",
              "      <td>International Movies</td>\n",
              "      <td>None</td>\n",
              "    </tr>\n",
              "    <tr>\n",
              "      <th>2</th>\n",
              "      <td>s3</td>\n",
              "      <td>Movie</td>\n",
              "      <td>23:59</td>\n",
              "      <td>Gilbert Chan</td>\n",
              "      <td>Tedd Chan, Stella Chung, Henley Hii, Lawrence ...</td>\n",
              "      <td>Singapore</td>\n",
              "      <td>2011</td>\n",
              "      <td>R</td>\n",
              "      <td>78 min</td>\n",
              "      <td>Horror Movies, International Movies</td>\n",
              "      <td>When an army recruit is found dead, his fellow...</td>\n",
              "      <td>2018</td>\n",
              "      <td>12</td>\n",
              "      <td>20</td>\n",
              "      <td>Horror Movies</td>\n",
              "      <td>International Movies</td>\n",
              "      <td>None</td>\n",
              "    </tr>\n",
              "    <tr>\n",
              "      <th>3</th>\n",
              "      <td>s4</td>\n",
              "      <td>Movie</td>\n",
              "      <td>9</td>\n",
              "      <td>Shane Acker</td>\n",
              "      <td>Elijah Wood, John C. Reilly, Jennifer Connelly...</td>\n",
              "      <td>United States</td>\n",
              "      <td>2009</td>\n",
              "      <td>PG-13</td>\n",
              "      <td>80 min</td>\n",
              "      <td>Action &amp; Adventure, Independent Movies, Sci-Fi...</td>\n",
              "      <td>In a postapocalyptic world, rag-doll robots hi...</td>\n",
              "      <td>2017</td>\n",
              "      <td>11</td>\n",
              "      <td>16</td>\n",
              "      <td>Action &amp; Adventure</td>\n",
              "      <td>Independent Movies</td>\n",
              "      <td>Sci-Fi &amp; Fantasy</td>\n",
              "    </tr>\n",
              "    <tr>\n",
              "      <th>4</th>\n",
              "      <td>s5</td>\n",
              "      <td>Movie</td>\n",
              "      <td>21</td>\n",
              "      <td>Robert Luketic</td>\n",
              "      <td>Jim Sturgess, Kevin Spacey, Kate Bosworth, Aar...</td>\n",
              "      <td>United States</td>\n",
              "      <td>2008</td>\n",
              "      <td>PG-13</td>\n",
              "      <td>123 min</td>\n",
              "      <td>Dramas</td>\n",
              "      <td>A brilliant group of students become card-coun...</td>\n",
              "      <td>2020</td>\n",
              "      <td>1</td>\n",
              "      <td>1</td>\n",
              "      <td>Dramas</td>\n",
              "      <td>None</td>\n",
              "      <td>None</td>\n",
              "    </tr>\n",
              "    <tr>\n",
              "      <th>...</th>\n",
              "      <td>...</td>\n",
              "      <td>...</td>\n",
              "      <td>...</td>\n",
              "      <td>...</td>\n",
              "      <td>...</td>\n",
              "      <td>...</td>\n",
              "      <td>...</td>\n",
              "      <td>...</td>\n",
              "      <td>...</td>\n",
              "      <td>...</td>\n",
              "      <td>...</td>\n",
              "      <td>...</td>\n",
              "      <td>...</td>\n",
              "      <td>...</td>\n",
              "      <td>...</td>\n",
              "      <td>...</td>\n",
              "      <td>...</td>\n",
              "    </tr>\n",
              "    <tr>\n",
              "      <th>7782</th>\n",
              "      <td>s7783</td>\n",
              "      <td>Movie</td>\n",
              "      <td>Zozo</td>\n",
              "      <td>Josef Fares</td>\n",
              "      <td>Imad Creidi, Antoinette Turk, Elias Gergi, Car...</td>\n",
              "      <td>Sweden, Czech Republic, United Kingdom, Denmar...</td>\n",
              "      <td>2005</td>\n",
              "      <td>TV-MA</td>\n",
              "      <td>99 min</td>\n",
              "      <td>Dramas, International Movies</td>\n",
              "      <td>When Lebanon's Civil War deprives Zozo of his ...</td>\n",
              "      <td>2020</td>\n",
              "      <td>10</td>\n",
              "      <td>19</td>\n",
              "      <td>Dramas</td>\n",
              "      <td>International Movies</td>\n",
              "      <td>None</td>\n",
              "    </tr>\n",
              "    <tr>\n",
              "      <th>7783</th>\n",
              "      <td>s7784</td>\n",
              "      <td>Movie</td>\n",
              "      <td>Zubaan</td>\n",
              "      <td>Mozez Singh</td>\n",
              "      <td>Vicky Kaushal, Sarah-Jane Dias, Raaghav Chanan...</td>\n",
              "      <td>India</td>\n",
              "      <td>2015</td>\n",
              "      <td>TV-14</td>\n",
              "      <td>111 min</td>\n",
              "      <td>Dramas, International Movies, Music &amp; Musicals</td>\n",
              "      <td>A scrappy but poor boy worms his way into a ty...</td>\n",
              "      <td>2019</td>\n",
              "      <td>3</td>\n",
              "      <td>2</td>\n",
              "      <td>Dramas</td>\n",
              "      <td>International Movies</td>\n",
              "      <td>Music &amp; Musicals</td>\n",
              "    </tr>\n",
              "    <tr>\n",
              "      <th>7784</th>\n",
              "      <td>s7785</td>\n",
              "      <td>Movie</td>\n",
              "      <td>Zulu Man in Japan</td>\n",
              "      <td>Unknown</td>\n",
              "      <td>Nasty C</td>\n",
              "      <td>Unknown</td>\n",
              "      <td>2019</td>\n",
              "      <td>TV-MA</td>\n",
              "      <td>44 min</td>\n",
              "      <td>Documentaries, International Movies, Music &amp; M...</td>\n",
              "      <td>In this documentary, South African rapper Nast...</td>\n",
              "      <td>2020</td>\n",
              "      <td>9</td>\n",
              "      <td>25</td>\n",
              "      <td>Documentaries</td>\n",
              "      <td>International Movies</td>\n",
              "      <td>Music &amp; Musicals</td>\n",
              "    </tr>\n",
              "    <tr>\n",
              "      <th>7785</th>\n",
              "      <td>s7786</td>\n",
              "      <td>TV Show</td>\n",
              "      <td>Zumbo's Just Desserts</td>\n",
              "      <td>Unknown</td>\n",
              "      <td>Adriano Zumbo, Rachel Khoo</td>\n",
              "      <td>Australia</td>\n",
              "      <td>2019</td>\n",
              "      <td>TV-PG</td>\n",
              "      <td>1 Season</td>\n",
              "      <td>International TV Shows, Reality TV</td>\n",
              "      <td>Dessert wizard Adriano Zumbo looks for the nex...</td>\n",
              "      <td>2020</td>\n",
              "      <td>10</td>\n",
              "      <td>31</td>\n",
              "      <td>International TV Shows</td>\n",
              "      <td>Reality TV</td>\n",
              "      <td>None</td>\n",
              "    </tr>\n",
              "    <tr>\n",
              "      <th>7786</th>\n",
              "      <td>s7787</td>\n",
              "      <td>Movie</td>\n",
              "      <td>ZZ TOP: THAT LITTLE OL' BAND FROM TEXAS</td>\n",
              "      <td>Sam Dunn</td>\n",
              "      <td>Unknown</td>\n",
              "      <td>United Kingdom, Canada, United States</td>\n",
              "      <td>2019</td>\n",
              "      <td>TV-MA</td>\n",
              "      <td>90 min</td>\n",
              "      <td>Documentaries, Music &amp; Musicals</td>\n",
              "      <td>This documentary delves into the mystique behi...</td>\n",
              "      <td>2020</td>\n",
              "      <td>3</td>\n",
              "      <td>1</td>\n",
              "      <td>Documentaries</td>\n",
              "      <td>Music &amp; Musicals</td>\n",
              "      <td>None</td>\n",
              "    </tr>\n",
              "  </tbody>\n",
              "</table>\n",
              "<p>7777 rows × 17 columns</p>\n",
              "</div>\n",
              "      <button class=\"colab-df-convert\" onclick=\"convertToInteractive('df-a87e689d-e631-4682-8683-86cb7ca98c59')\"\n",
              "              title=\"Convert this dataframe to an interactive table.\"\n",
              "              style=\"display:none;\">\n",
              "        \n",
              "  <svg xmlns=\"http://www.w3.org/2000/svg\" height=\"24px\"viewBox=\"0 0 24 24\"\n",
              "       width=\"24px\">\n",
              "    <path d=\"M0 0h24v24H0V0z\" fill=\"none\"/>\n",
              "    <path d=\"M18.56 5.44l.94 2.06.94-2.06 2.06-.94-2.06-.94-.94-2.06-.94 2.06-2.06.94zm-11 1L8.5 8.5l.94-2.06 2.06-.94-2.06-.94L8.5 2.5l-.94 2.06-2.06.94zm10 10l.94 2.06.94-2.06 2.06-.94-2.06-.94-.94-2.06-.94 2.06-2.06.94z\"/><path d=\"M17.41 7.96l-1.37-1.37c-.4-.4-.92-.59-1.43-.59-.52 0-1.04.2-1.43.59L10.3 9.45l-7.72 7.72c-.78.78-.78 2.05 0 2.83L4 21.41c.39.39.9.59 1.41.59.51 0 1.02-.2 1.41-.59l7.78-7.78 2.81-2.81c.8-.78.8-2.07 0-2.86zM5.41 20L4 18.59l7.72-7.72 1.47 1.35L5.41 20z\"/>\n",
              "  </svg>\n",
              "      </button>\n",
              "      \n",
              "  <style>\n",
              "    .colab-df-container {\n",
              "      display:flex;\n",
              "      flex-wrap:wrap;\n",
              "      gap: 12px;\n",
              "    }\n",
              "\n",
              "    .colab-df-convert {\n",
              "      background-color: #E8F0FE;\n",
              "      border: none;\n",
              "      border-radius: 50%;\n",
              "      cursor: pointer;\n",
              "      display: none;\n",
              "      fill: #1967D2;\n",
              "      height: 32px;\n",
              "      padding: 0 0 0 0;\n",
              "      width: 32px;\n",
              "    }\n",
              "\n",
              "    .colab-df-convert:hover {\n",
              "      background-color: #E2EBFA;\n",
              "      box-shadow: 0px 1px 2px rgba(60, 64, 67, 0.3), 0px 1px 3px 1px rgba(60, 64, 67, 0.15);\n",
              "      fill: #174EA6;\n",
              "    }\n",
              "\n",
              "    [theme=dark] .colab-df-convert {\n",
              "      background-color: #3B4455;\n",
              "      fill: #D2E3FC;\n",
              "    }\n",
              "\n",
              "    [theme=dark] .colab-df-convert:hover {\n",
              "      background-color: #434B5C;\n",
              "      box-shadow: 0px 1px 3px 1px rgba(0, 0, 0, 0.15);\n",
              "      filter: drop-shadow(0px 1px 2px rgba(0, 0, 0, 0.3));\n",
              "      fill: #FFFFFF;\n",
              "    }\n",
              "  </style>\n",
              "\n",
              "      <script>\n",
              "        const buttonEl =\n",
              "          document.querySelector('#df-a87e689d-e631-4682-8683-86cb7ca98c59 button.colab-df-convert');\n",
              "        buttonEl.style.display =\n",
              "          google.colab.kernel.accessAllowed ? 'block' : 'none';\n",
              "\n",
              "        async function convertToInteractive(key) {\n",
              "          const element = document.querySelector('#df-a87e689d-e631-4682-8683-86cb7ca98c59');\n",
              "          const dataTable =\n",
              "            await google.colab.kernel.invokeFunction('convertToInteractive',\n",
              "                                                     [key], {});\n",
              "          if (!dataTable) return;\n",
              "\n",
              "          const docLinkHtml = 'Like what you see? Visit the ' +\n",
              "            '<a target=\"_blank\" href=https://colab.research.google.com/notebooks/data_table.ipynb>data table notebook</a>'\n",
              "            + ' to learn more about interactive tables.';\n",
              "          element.innerHTML = '';\n",
              "          dataTable['output_type'] = 'display_data';\n",
              "          await google.colab.output.renderOutput(dataTable, element);\n",
              "          const docLink = document.createElement('div');\n",
              "          docLink.innerHTML = docLinkHtml;\n",
              "          element.appendChild(docLink);\n",
              "        }\n",
              "      </script>\n",
              "    </div>\n",
              "  </div>\n",
              "  "
            ],
            "text/plain": [
              "     show_id     type  ...                      1                     2\n",
              "0         s1  TV Show  ...              TV Dramas   TV Sci-Fi & Fantasy\n",
              "1         s2    Movie  ...   International Movies                  None\n",
              "2         s3    Movie  ...   International Movies                  None\n",
              "3         s4    Movie  ...     Independent Movies      Sci-Fi & Fantasy\n",
              "4         s5    Movie  ...                   None                  None\n",
              "...      ...      ...  ...                    ...                   ...\n",
              "7782   s7783    Movie  ...   International Movies                  None\n",
              "7783   s7784    Movie  ...   International Movies      Music & Musicals\n",
              "7784   s7785    Movie  ...   International Movies      Music & Musicals\n",
              "7785   s7786  TV Show  ...             Reality TV                  None\n",
              "7786   s7787    Movie  ...       Music & Musicals                  None\n",
              "\n",
              "[7777 rows x 17 columns]"
            ]
          },
          "metadata": {},
          "execution_count": 40
        }
      ]
    },
    {
      "cell_type": "code",
      "source": [
        "genres_explore = genres_explore.melt(id_vars = ['type','title'], value_vars=range(3),value_name=\"genres\")\n",
        "genres_explore = genres_explore[genres_explore['genres'].notna()]\n",
        "genres_explore"
      ],
      "metadata": {
        "colab": {
          "base_uri": "https://localhost:8080/",
          "height": 481
        },
        "id": "mt7CfXN_I-IC",
        "outputId": "f3bebb1e-d41d-422a-e417-e2a6bef437b6"
      },
      "execution_count": 41,
      "outputs": [
        {
          "output_type": "stream",
          "name": "stderr",
          "text": [
            "/usr/local/lib/python3.7/dist-packages/ipykernel_launcher.py:1: FutureWarning: This dataframe has a column name that matches the 'value_name' column name of the resulting Dataframe. In the future this will raise an error, please set the 'value_name' parameter of DataFrame.melt to a unique name.\n",
            "  \"\"\"Entry point for launching an IPython kernel.\n"
          ]
        },
        {
          "output_type": "execute_result",
          "data": {
            "text/html": [
              "\n",
              "  <div id=\"df-7f6f3bc5-c430-4280-9cfa-802d9cb6be66\">\n",
              "    <div class=\"colab-df-container\">\n",
              "      <div>\n",
              "<style scoped>\n",
              "    .dataframe tbody tr th:only-of-type {\n",
              "        vertical-align: middle;\n",
              "    }\n",
              "\n",
              "    .dataframe tbody tr th {\n",
              "        vertical-align: top;\n",
              "    }\n",
              "\n",
              "    .dataframe thead th {\n",
              "        text-align: right;\n",
              "    }\n",
              "</style>\n",
              "<table border=\"1\" class=\"dataframe\">\n",
              "  <thead>\n",
              "    <tr style=\"text-align: right;\">\n",
              "      <th></th>\n",
              "      <th>type</th>\n",
              "      <th>title</th>\n",
              "      <th>variable</th>\n",
              "      <th>genres</th>\n",
              "    </tr>\n",
              "  </thead>\n",
              "  <tbody>\n",
              "    <tr>\n",
              "      <th>0</th>\n",
              "      <td>TV Show</td>\n",
              "      <td>3%</td>\n",
              "      <td>0</td>\n",
              "      <td>International TV Shows</td>\n",
              "    </tr>\n",
              "    <tr>\n",
              "      <th>1</th>\n",
              "      <td>Movie</td>\n",
              "      <td>7:19</td>\n",
              "      <td>0</td>\n",
              "      <td>Dramas</td>\n",
              "    </tr>\n",
              "    <tr>\n",
              "      <th>2</th>\n",
              "      <td>Movie</td>\n",
              "      <td>23:59</td>\n",
              "      <td>0</td>\n",
              "      <td>Horror Movies</td>\n",
              "    </tr>\n",
              "    <tr>\n",
              "      <th>3</th>\n",
              "      <td>Movie</td>\n",
              "      <td>9</td>\n",
              "      <td>0</td>\n",
              "      <td>Action &amp; Adventure</td>\n",
              "    </tr>\n",
              "    <tr>\n",
              "      <th>4</th>\n",
              "      <td>Movie</td>\n",
              "      <td>21</td>\n",
              "      <td>0</td>\n",
              "      <td>Dramas</td>\n",
              "    </tr>\n",
              "    <tr>\n",
              "      <th>...</th>\n",
              "      <td>...</td>\n",
              "      <td>...</td>\n",
              "      <td>...</td>\n",
              "      <td>...</td>\n",
              "    </tr>\n",
              "    <tr>\n",
              "      <th>23321</th>\n",
              "      <td>TV Show</td>\n",
              "      <td>Zombie Dumb</td>\n",
              "      <td>2</td>\n",
              "      <td>TV Comedies</td>\n",
              "    </tr>\n",
              "    <tr>\n",
              "      <th>23323</th>\n",
              "      <td>TV Show</td>\n",
              "      <td>Zona Rosa</td>\n",
              "      <td>2</td>\n",
              "      <td>Stand-Up Comedy &amp; Talk Shows</td>\n",
              "    </tr>\n",
              "    <tr>\n",
              "      <th>23324</th>\n",
              "      <td>Movie</td>\n",
              "      <td>Zoo</td>\n",
              "      <td>2</td>\n",
              "      <td>International Movies</td>\n",
              "    </tr>\n",
              "    <tr>\n",
              "      <th>23327</th>\n",
              "      <td>Movie</td>\n",
              "      <td>Zubaan</td>\n",
              "      <td>2</td>\n",
              "      <td>Music &amp; Musicals</td>\n",
              "    </tr>\n",
              "    <tr>\n",
              "      <th>23328</th>\n",
              "      <td>Movie</td>\n",
              "      <td>Zulu Man in Japan</td>\n",
              "      <td>2</td>\n",
              "      <td>Music &amp; Musicals</td>\n",
              "    </tr>\n",
              "  </tbody>\n",
              "</table>\n",
              "<p>17051 rows × 4 columns</p>\n",
              "</div>\n",
              "      <button class=\"colab-df-convert\" onclick=\"convertToInteractive('df-7f6f3bc5-c430-4280-9cfa-802d9cb6be66')\"\n",
              "              title=\"Convert this dataframe to an interactive table.\"\n",
              "              style=\"display:none;\">\n",
              "        \n",
              "  <svg xmlns=\"http://www.w3.org/2000/svg\" height=\"24px\"viewBox=\"0 0 24 24\"\n",
              "       width=\"24px\">\n",
              "    <path d=\"M0 0h24v24H0V0z\" fill=\"none\"/>\n",
              "    <path d=\"M18.56 5.44l.94 2.06.94-2.06 2.06-.94-2.06-.94-.94-2.06-.94 2.06-2.06.94zm-11 1L8.5 8.5l.94-2.06 2.06-.94-2.06-.94L8.5 2.5l-.94 2.06-2.06.94zm10 10l.94 2.06.94-2.06 2.06-.94-2.06-.94-.94-2.06-.94 2.06-2.06.94z\"/><path d=\"M17.41 7.96l-1.37-1.37c-.4-.4-.92-.59-1.43-.59-.52 0-1.04.2-1.43.59L10.3 9.45l-7.72 7.72c-.78.78-.78 2.05 0 2.83L4 21.41c.39.39.9.59 1.41.59.51 0 1.02-.2 1.41-.59l7.78-7.78 2.81-2.81c.8-.78.8-2.07 0-2.86zM5.41 20L4 18.59l7.72-7.72 1.47 1.35L5.41 20z\"/>\n",
              "  </svg>\n",
              "      </button>\n",
              "      \n",
              "  <style>\n",
              "    .colab-df-container {\n",
              "      display:flex;\n",
              "      flex-wrap:wrap;\n",
              "      gap: 12px;\n",
              "    }\n",
              "\n",
              "    .colab-df-convert {\n",
              "      background-color: #E8F0FE;\n",
              "      border: none;\n",
              "      border-radius: 50%;\n",
              "      cursor: pointer;\n",
              "      display: none;\n",
              "      fill: #1967D2;\n",
              "      height: 32px;\n",
              "      padding: 0 0 0 0;\n",
              "      width: 32px;\n",
              "    }\n",
              "\n",
              "    .colab-df-convert:hover {\n",
              "      background-color: #E2EBFA;\n",
              "      box-shadow: 0px 1px 2px rgba(60, 64, 67, 0.3), 0px 1px 3px 1px rgba(60, 64, 67, 0.15);\n",
              "      fill: #174EA6;\n",
              "    }\n",
              "\n",
              "    [theme=dark] .colab-df-convert {\n",
              "      background-color: #3B4455;\n",
              "      fill: #D2E3FC;\n",
              "    }\n",
              "\n",
              "    [theme=dark] .colab-df-convert:hover {\n",
              "      background-color: #434B5C;\n",
              "      box-shadow: 0px 1px 3px 1px rgba(0, 0, 0, 0.15);\n",
              "      filter: drop-shadow(0px 1px 2px rgba(0, 0, 0, 0.3));\n",
              "      fill: #FFFFFF;\n",
              "    }\n",
              "  </style>\n",
              "\n",
              "      <script>\n",
              "        const buttonEl =\n",
              "          document.querySelector('#df-7f6f3bc5-c430-4280-9cfa-802d9cb6be66 button.colab-df-convert');\n",
              "        buttonEl.style.display =\n",
              "          google.colab.kernel.accessAllowed ? 'block' : 'none';\n",
              "\n",
              "        async function convertToInteractive(key) {\n",
              "          const element = document.querySelector('#df-7f6f3bc5-c430-4280-9cfa-802d9cb6be66');\n",
              "          const dataTable =\n",
              "            await google.colab.kernel.invokeFunction('convertToInteractive',\n",
              "                                                     [key], {});\n",
              "          if (!dataTable) return;\n",
              "\n",
              "          const docLinkHtml = 'Like what you see? Visit the ' +\n",
              "            '<a target=\"_blank\" href=https://colab.research.google.com/notebooks/data_table.ipynb>data table notebook</a>'\n",
              "            + ' to learn more about interactive tables.';\n",
              "          element.innerHTML = '';\n",
              "          dataTable['output_type'] = 'display_data';\n",
              "          await google.colab.output.renderOutput(dataTable, element);\n",
              "          const docLink = document.createElement('div');\n",
              "          docLink.innerHTML = docLinkHtml;\n",
              "          element.appendChild(docLink);\n",
              "        }\n",
              "      </script>\n",
              "    </div>\n",
              "  </div>\n",
              "  "
            ],
            "text/plain": [
              "          type              title variable                         genres\n",
              "0      TV Show                 3%        0         International TV Shows\n",
              "1        Movie               7:19        0                         Dramas\n",
              "2        Movie              23:59        0                  Horror Movies\n",
              "3        Movie                  9        0             Action & Adventure\n",
              "4        Movie                 21        0                         Dramas\n",
              "...        ...                ...      ...                            ...\n",
              "23321  TV Show        Zombie Dumb        2                    TV Comedies\n",
              "23323  TV Show          Zona Rosa        2   Stand-Up Comedy & Talk Shows\n",
              "23324    Movie                Zoo        2           International Movies\n",
              "23327    Movie             Zubaan        2               Music & Musicals\n",
              "23328    Movie  Zulu Man in Japan        2               Music & Musicals\n",
              "\n",
              "[17051 rows x 4 columns]"
            ]
          },
          "metadata": {},
          "execution_count": 41
        }
      ]
    },
    {
      "cell_type": "code",
      "source": [
        "genres_explore['genres'].value_counts()[:30]"
      ],
      "metadata": {
        "colab": {
          "base_uri": "https://localhost:8080/"
        },
        "id": "UabKXd0tNCg2",
        "outputId": "ddcfbb7e-fb79-4bdc-ba12-327818489fa1"
      },
      "execution_count": 42,
      "outputs": [
        {
          "output_type": "execute_result",
          "data": {
            "text/plain": [
              " International Movies         2323\n",
              "Dramas                        1384\n",
              "Comedies                      1074\n",
              "Documentaries                  751\n",
              " Dramas                        722\n",
              "Action & Adventure             721\n",
              "International TV Shows         689\n",
              " Independent Movies            653\n",
              " TV Dramas                     641\n",
              " Romantic Movies               528\n",
              " International TV Shows        509\n",
              "Children & Family Movies       502\n",
              " Thrillers                     442\n",
              " TV Comedies                   409\n",
              " Comedies                      397\n",
              "Crime TV Shows                 369\n",
              "Kids' TV                       357\n",
              "Stand-Up Comedy                321\n",
              " Romantic TV Shows             305\n",
              " Music & Musicals              304\n",
              "Horror Movies                  244\n",
              "British TV Shows               231\n",
              " Sci-Fi & Fantasy              207\n",
              " Sports Movies                 195\n",
              "Docuseries                     193\n",
              " Docuseries                    159\n",
              " Korean TV Shows               150\n",
              "Anime Series                   147\n",
              " Spanish-Language TV Shows     144\n",
              " Reality TV                    120\n",
              "Name: genres, dtype: int64"
            ]
          },
          "metadata": {},
          "execution_count": 42
        }
      ]
    },
    {
      "cell_type": "code",
      "source": [
        "genres_explore['genres']=genres_explore['genres'].str.strip()\n",
        "genres_explore['genres'].value_counts()[:20]"
      ],
      "metadata": {
        "colab": {
          "base_uri": "https://localhost:8080/"
        },
        "id": "DaljJKiSToIs",
        "outputId": "10d52baa-29f3-4617-e74d-bccd0bf7f8bb"
      },
      "execution_count": 43,
      "outputs": [
        {
          "output_type": "execute_result",
          "data": {
            "text/plain": [
              "International Movies        2437\n",
              "Dramas                      2106\n",
              "Comedies                    1471\n",
              "International TV Shows      1198\n",
              "Documentaries                786\n",
              "Action & Adventure           721\n",
              "TV Dramas                    703\n",
              "Independent Movies           673\n",
              "Children & Family Movies     532\n",
              "Romantic Movies              531\n",
              "TV Comedies                  518\n",
              "Thrillers                    491\n",
              "Crime TV Shows               426\n",
              "Kids' TV                     412\n",
              "Docuseries                   352\n",
              "Romantic TV Shows            333\n",
              "Stand-Up Comedy              329\n",
              "Music & Musicals             321\n",
              "Horror Movies                312\n",
              "British TV Shows             231\n",
              "Name: genres, dtype: int64"
            ]
          },
          "metadata": {},
          "execution_count": 43
        }
      ]
    },
    {
      "cell_type": "code",
      "source": [
        "plt.figure(figsize = (20, 8))\n",
        "listed_in = genres_explore[\"genres\"].value_counts()[:20]\n",
        "sns.barplot(x = listed_in, y = listed_in.index, palette = \"Dark2\")"
      ],
      "metadata": {
        "colab": {
          "base_uri": "https://localhost:8080/",
          "height": 509
        },
        "id": "QCxhQ6l6Sl0c",
        "outputId": "dee0c184-5ff5-4cd6-85e3-733e135b23c6"
      },
      "execution_count": 44,
      "outputs": [
        {
          "output_type": "execute_result",
          "data": {
            "text/plain": [
              "<matplotlib.axes._subplots.AxesSubplot at 0x7f281adf9cd0>"
            ]
          },
          "metadata": {},
          "execution_count": 44
        },
        {
          "output_type": "display_data",
          "data": {
            "image/png": "[encoded data removed]",
            "text/plain": [
              "<Figure size 1440x576 with 1 Axes>"
            ]
          },
          "metadata": {
            "needs_background": "light"
          }
        }
      ]
    },
    {
      "cell_type": "code",
      "source": [
        "df_genre = pd.DataFrame(genres_explore.genres.value_counts()).reset_index().rename(columns={'index':'genre', 'genres':'count'})"
      ],
      "metadata": {
        "id": "0gpaW-OMTSKR"
      },
      "execution_count": 45,
      "outputs": []
    },
    {
      "cell_type": "code",
      "source": [
        "import plotly.express as px\n",
        "import plotly.graph_objects as go\n",
        "from plotly.subplots import make_subplots\n",
        "import plotly.figure_factory as ff"
      ],
      "metadata": {
        "id": "b9iK7ilsWF8z"
      },
      "execution_count": 46,
      "outputs": []
    },
    {
      "cell_type": "code",
      "source": [
        "fig_tree = px.treemap(df_genre, path=[px.Constant(\"Distribution of Geners\"), 'count','genre'])\n",
        "fig_tree.update_layout(title='Highest watched Geners on Netflix',\n",
        "                  margin=dict(t=50, b=0, l=70, r=40),\n",
        "                  plot_bgcolor='#333', paper_bgcolor='#333',\n",
        "                  title_font=dict(size=25, color='#fff', family=\"Lato, sans-serif\"),\n",
        "                  font=dict(color='#8a8d93'),\n",
        "                  hoverlabel=dict(bgcolor=\"#444\", font_size=13, font_family=\"Lato, sans-serif\"))"
      ],
      "metadata": {
        "colab": {
          "base_uri": "https://localhost:8080/",
          "height": 542
        },
        "id": "VZHWIwOlVsgW",
        "outputId": "0570c6fc-071b-4e9a-90b5-f5fdd0213810"
      },
      "execution_count": 47,
      "outputs": [
        {
          "output_type": "display_data",
          "data": {
            "text/html": [
              "<html>\n",
              "<head><meta charset=\"utf-8\" /></head>\n",
              "<body>\n",
              "    <div>            <script src=\"https://cdnjs.cloudflare.com/ajax/libs/mathjax/2.7.5/MathJax.js?config=TeX-AMS-MML_SVG\"></script><script type=\"text/javascript\">if (window.MathJax) {MathJax.Hub.Config({SVG: {font: \"STIX-Web\"}});}</script>                <script type=\"text/javascript\">window.PlotlyConfig = {MathJaxConfig: 'local'};</script>\n",
              "        <script src=\"https://cdn.plot.ly/plotly-2.8.3.min.js\"></script>                <div id=\"e9c17e8a-b391-442f-9cac-e9cc62e36c10\" class=\"plotly-graph-div\" style=\"height:525px; width:100%;\"></div>            <script type=\"text/javascript\">                                    window.PLOTLYENV=window.PLOTLYENV || {};                                    if (document.getElementById(\"e9c17e8a-b391-442f-9cac-e9cc62e36c10\")) {                    Plotly.newPlot(                        \"e9c17e8a-b391-442f-9cac-e9cc62e36c10\",                        [{\"branchvalues\":\"total\",\"domain\":{\"x\":[0.0,1.0],\"y\":[0.0,1.0]},\"hovertemplate\":\"labels=%{label}<br>countgenrepath_0genre_path_copycount_path_copypath_0_path_copy=%{value}<br>parent=%{parent}<br>id=%{id}<extra></extra>\",\"ids\":[\"Distribution of Geners/721/Action & Adventure\",\"Distribution of Geners/57/Anime Features\",\"Distribution of Geners/147/Anime Series\",\"Distribution of Geners/231/British TV Shows\",\"Distribution of Geners/532/Children & Family Movies\",\"Distribution of Geners/25/Classic & Cult TV\",\"Distribution of Geners/103/Classic Movies\",\"Distribution of Geners/1471/Comedies\",\"Distribution of Geners/426/Crime TV Shows\",\"Distribution of Geners/59/Cult Movies\",\"Distribution of Geners/786/Documentaries\",\"Distribution of Geners/352/Docuseries\",\"Distribution of Geners/2106/Dramas\",\"Distribution of Geners/57/Faith & Spirituality\",\"Distribution of Geners/312/Horror Movies\",\"Distribution of Geners/673/Independent Movies\",\"Distribution of Geners/2437/International Movies\",\"Distribution of Geners/1198/International TV Shows\",\"Distribution of Geners/412/Kids' TV\",\"Distribution of Geners/150/Korean TV Shows\",\"Distribution of Geners/90/LGBTQ Movies\",\"Distribution of Geners/56/Movies\",\"Distribution of Geners/321/Music & Musicals\",\"Distribution of Geners/222/Reality TV\",\"Distribution of Geners/531/Romantic Movies\",\"Distribution of Geners/333/Romantic TV Shows\",\"Distribution of Geners/218/Sci-Fi & Fantasy\",\"Distribution of Geners/85/Science & Nature TV\",\"Distribution of Geners/146/Spanish-Language TV Shows\",\"Distribution of Geners/196/Sports Movies\",\"Distribution of Geners/329/Stand-Up Comedy\",\"Distribution of Geners/52/Stand-Up Comedy & Talk Shows\",\"Distribution of Geners/149/TV Action & Adventure\",\"Distribution of Geners/518/TV Comedies\",\"Distribution of Geners/703/TV Dramas\",\"Distribution of Geners/69/TV Horror\",\"Distribution of Geners/90/TV Mysteries\",\"Distribution of Geners/75/TV Sci-Fi & Fantasy\",\"Distribution of Geners/12/TV Shows\",\"Distribution of Geners/50/TV Thrillers\",\"Distribution of Geners/60/Teen TV Shows\",\"Distribution of Geners/491/Thrillers\",\"Distribution of Geners/12\",\"Distribution of Geners/25\",\"Distribution of Geners/50\",\"Distribution of Geners/52\",\"Distribution of Geners/56\",\"Distribution of Geners/57\",\"Distribution of Geners/59\",\"Distribution of Geners/60\",\"Distribution of Geners/69\",\"Distribution of Geners/75\",\"Distribution of Geners/85\",\"Distribution of Geners/90\",\"Distribution of Geners/103\",\"Distribution of Geners/146\",\"Distribution of Geners/147\",\"Distribution of Geners/149\",\"Distribution of Geners/150\",\"Distribution of Geners/196\",\"Distribution of Geners/218\",\"Distribution of Geners/222\",\"Distribution of Geners/231\",\"Distribution of Geners/312\",\"Distribution of Geners/321\",\"Distribution of Geners/329\",\"Distribution of Geners/333\",\"Distribution of Geners/352\",\"Distribution of Geners/412\",\"Distribution of Geners/426\",\"Distribution of Geners/491\",\"Distribution of Geners/518\",\"Distribution of Geners/531\",\"Distribution of Geners/532\",\"Distribution of Geners/673\",\"Distribution of Geners/703\",\"Distribution of Geners/721\",\"Distribution of Geners/786\",\"Distribution of Geners/1198\",\"Distribution of Geners/1471\",\"Distribution of Geners/2106\",\"Distribution of Geners/2437\",\"Distribution of Geners\"],\"labels\":[\"Action & Adventure\",\"Anime Features\",\"Anime Series\",\"British TV Shows\",\"Children & Family Movies\",\"Classic & Cult TV\",\"Classic Movies\",\"Comedies\",\"Crime TV Shows\",\"Cult Movies\",\"Documentaries\",\"Docuseries\",\"Dramas\",\"Faith & Spirituality\",\"Horror Movies\",\"Independent Movies\",\"International Movies\",\"International TV Shows\",\"Kids' TV\",\"Korean TV Shows\",\"LGBTQ Movies\",\"Movies\",\"Music & Musicals\",\"Reality TV\",\"Romantic Movies\",\"Romantic TV Shows\",\"Sci-Fi & Fantasy\",\"Science & Nature TV\",\"Spanish-Language TV Shows\",\"Sports Movies\",\"Stand-Up Comedy\",\"Stand-Up Comedy & Talk Shows\",\"TV Action & Adventure\",\"TV Comedies\",\"TV Dramas\",\"TV Horror\",\"TV Mysteries\",\"TV Sci-Fi & Fantasy\",\"TV Shows\",\"TV Thrillers\",\"Teen TV Shows\",\"Thrillers\",\"12\",\"25\",\"50\",\"52\",\"56\",\"57\",\"59\",\"60\",\"69\",\"75\",\"85\",\"90\",\"103\",\"146\",\"147\",\"149\",\"150\",\"196\",\"218\",\"222\",\"231\",\"312\",\"321\",\"329\",\"333\",\"352\",\"412\",\"426\",\"491\",\"518\",\"531\",\"532\",\"673\",\"703\",\"721\",\"786\",\"1198\",\"1471\",\"2106\",\"2437\",\"Distribution of Geners\"],\"name\":\"\",\"parents\":[\"Distribution of Geners/721\",\"Distribution of Geners/57\",\"Distribution of Geners/147\",\"Distribution of Geners/231\",\"Distribution of Geners/532\",\"Distribution of Geners/25\",\"Distribution of Geners/103\",\"Distribution of Geners/1471\",\"Distribution of Geners/426\",\"Distribution of Geners/59\",\"Distribution of Geners/786\",\"Distribution of Geners/352\",\"Distribution of Geners/2106\",\"Distribution of Geners/57\",\"Distribution of Geners/312\",\"Distribution of Geners/673\",\"Distribution of Geners/2437\",\"Distribution of Geners/1198\",\"Distribution of Geners/412\",\"Distribution of Geners/150\",\"Distribution of Geners/90\",\"Distribution of Geners/56\",\"Distribution of Geners/321\",\"Distribution of Geners/222\",\"Distribution of Geners/531\",\"Distribution of Geners/333\",\"Distribution of Geners/218\",\"Distribution of Geners/85\",\"Distribution of Geners/146\",\"Distribution of Geners/196\",\"Distribution of Geners/329\",\"Distribution of Geners/52\",\"Distribution of Geners/149\",\"Distribution of Geners/518\",\"Distribution of Geners/703\",\"Distribution of Geners/69\",\"Distribution of Geners/90\",\"Distribution of Geners/75\",\"Distribution of Geners/12\",\"Distribution of Geners/50\",\"Distribution of Geners/60\",\"Distribution of Geners/491\",\"Distribution of Geners\",\"Distribution of Geners\",\"Distribution of Geners\",\"Distribution of Geners\",\"Distribution of Geners\",\"Distribution of Geners\",\"Distribution of Geners\",\"Distribution of Geners\",\"Distribution of Geners\",\"Distribution of Geners\",\"Distribution of Geners\",\"Distribution of Geners\",\"Distribution of Geners\",\"Distribution of Geners\",\"Distribution of Geners\",\"Distribution of Geners\",\"Distribution of Geners\",\"Distribution of Geners\",\"Distribution of Geners\",\"Distribution of Geners\",\"Distribution of Geners\",\"Distribution of Geners\",\"Distribution of Geners\",\"Distribution of Geners\",\"Distribution of Geners\",\"Distribution of Geners\",\"Distribution of Geners\",\"Distribution of Geners\",\"Distribution of Geners\",\"Distribution of Geners\",\"Distribution of Geners\",\"Distribution of Geners\",\"Distribution of Geners\",\"Distribution of Geners\",\"Distribution of Geners\",\"Distribution of Geners\",\"Distribution of Geners\",\"Distribution of Geners\",\"Distribution of Geners\",\"Distribution of Geners\",\"\"],\"values\":[1,1,1,1,1,1,1,1,1,1,1,1,1,1,1,1,1,1,1,1,1,1,1,1,1,1,1,1,1,1,1,1,1,1,1,1,1,1,1,1,1,1,1,1,1,1,1,2,1,1,1,1,1,2,1,1,1,1,1,1,1,1,1,1,1,1,1,1,1,1,1,1,1,1,1,1,1,1,1,1,1,1,42],\"type\":\"treemap\"}],                        {\"template\":{\"data\":{\"bar\":[{\"error_x\":{\"color\":\"#2a3f5f\"},\"error_y\":{\"color\":\"#2a3f5f\"},\"marker\":{\"line\":{\"color\":\"#E5ECF6\",\"width\":0.5},\"pattern\":{\"fillmode\":\"overlay\",\"size\":10,\"solidity\":0.2}},\"type\":\"bar\"}],\"barpolar\":[{\"marker\":{\"line\":{\"color\":\"#E5ECF6\",\"width\":0.5},\"pattern\":{\"fillmode\":\"overlay\",\"size\":10,\"solidity\":0.2}},\"type\":\"barpolar\"}],\"carpet\":[{\"aaxis\":{\"endlinecolor\":\"#2a3f5f\",\"gridcolor\":\"white\",\"linecolor\":\"white\",\"minorgridcolor\":\"white\",\"startlinecolor\":\"#2a3f5f\"},\"baxis\":{\"endlinecolor\":\"#2a3f5f\",\"gridcolor\":\"white\",\"linecolor\":\"white\",\"minorgridcolor\":\"white\",\"startlinecolor\":\"#2a3f5f\"},\"type\":\"carpet\"}],\"choropleth\":[{\"colorbar\":{\"outlinewidth\":0,\"ticks\":\"\"},\"type\":\"choropleth\"}],\"contour\":[{\"colorbar\":{\"outlinewidth\":0,\"ticks\":\"\"},\"colorscale\":[[0.0,\"#0d0887\"],[0.1111111111111111,\"#46039f\"],[0.2222222222222222,\"#7201a8\"],[0.3333333333333333,\"#9c179e\"],[0.4444444444444444,\"#bd3786\"],[0.5555555555555556,\"#d8576b\"],[0.6666666666666666,\"#ed7953\"],[0.7777777777777778,\"#fb9f3a\"],[0.8888888888888888,\"#fdca26\"],[1.0,\"#f0f921\"]],\"type\":\"contour\"}],\"contourcarpet\":[{\"colorbar\":{\"outlinewidth\":0,\"ticks\":\"\"},\"type\":\"contourcarpet\"}],\"heatmap\":[{\"colorbar\":{\"outlinewidth\":0,\"ticks\":\"\"},\"colorscale\":[[0.0,\"#0d0887\"],[0.1111111111111111,\"#46039f\"],[0.2222222222222222,\"#7201a8\"],[0.3333333333333333,\"#9c179e\"],[0.4444444444444444,\"#bd3786\"],[0.5555555555555556,\"#d8576b\"],[0.6666666666666666,\"#ed7953\"],[0.7777777777777778,\"#fb9f3a\"],[0.8888888888888888,\"#fdca26\"],[1.0,\"#f0f921\"]],\"type\":\"heatmap\"}],\"heatmapgl\":[{\"colorbar\":{\"outlinewidth\":0,\"ticks\":\"\"},\"colorscale\":[[0.0,\"#0d0887\"],[0.1111111111111111,\"#46039f\"],[0.2222222222222222,\"#7201a8\"],[0.3333333333333333,\"#9c179e\"],[0.4444444444444444,\"#bd3786\"],[0.5555555555555556,\"#d8576b\"],[0.6666666666666666,\"#ed7953\"],[0.7777777777777778,\"#fb9f3a\"],[0.8888888888888888,\"#fdca26\"],[1.0,\"#f0f921\"]],\"type\":\"heatmapgl\"}],\"histogram\":[{\"marker\":{\"pattern\":{\"fillmode\":\"overlay\",\"size\":10,\"solidity\":0.2}},\"type\":\"histogram\"}],\"histogram2d\":[{\"colorbar\":{\"outlinewidth\":0,\"ticks\":\"\"},\"colorscale\":[[0.0,\"#0d0887\"],[0.1111111111111111,\"#46039f\"],[0.2222222222222222,\"#7201a8\"],[0.3333333333333333,\"#9c179e\"],[0.4444444444444444,\"#bd3786\"],[0.5555555555555556,\"#d8576b\"],[0.6666666666666666,\"#ed7953\"],[0.7777777777777778,\"#fb9f3a\"],[0.8888888888888888,\"#fdca26\"],[1.0,\"#f0f921\"]],\"type\":\"histogram2d\"}],\"histogram2dcontour\":[{\"colorbar\":{\"outlinewidth\":0,\"ticks\":\"\"},\"colorscale\":[[0.0,\"#0d0887\"],[0.1111111111111111,\"#46039f\"],[0.2222222222222222,\"#7201a8\"],[0.3333333333333333,\"#9c179e\"],[0.4444444444444444,\"#bd3786\"],[0.5555555555555556,\"#d8576b\"],[0.6666666666666666,\"#ed7953\"],[0.7777777777777778,\"#fb9f3a\"],[0.8888888888888888,\"#fdca26\"],[1.0,\"#f0f921\"]],\"type\":\"histogram2dcontour\"}],\"mesh3d\":[{\"colorbar\":{\"outlinewidth\":0,\"ticks\":\"\"},\"type\":\"mesh3d\"}],\"parcoords\":[{\"line\":{\"colorbar\":{\"outlinewidth\":0,\"ticks\":\"\"}},\"type\":\"parcoords\"}],\"pie\":[{\"automargin\":true,\"type\":\"pie\"}],\"scatter\":[{\"marker\":{\"colorbar\":{\"outlinewidth\":0,\"ticks\":\"\"}},\"type\":\"scatter\"}],\"scatter3d\":[{\"line\":{\"colorbar\":{\"outlinewidth\":0,\"ticks\":\"\"}},\"marker\":{\"colorbar\":{\"outlinewidth\":0,\"ticks\":\"\"}},\"type\":\"scatter3d\"}],\"scattercarpet\":[{\"marker\":{\"colorbar\":{\"outlinewidth\":0,\"ticks\":\"\"}},\"type\":\"scattercarpet\"}],\"scattergeo\":[{\"marker\":{\"colorbar\":{\"outlinewidth\":0,\"ticks\":\"\"}},\"type\":\"scattergeo\"}],\"scattergl\":[{\"marker\":{\"colorbar\":{\"outlinewidth\":0,\"ticks\":\"\"}},\"type\":\"scattergl\"}],\"scattermapbox\":[{\"marker\":{\"colorbar\":{\"outlinewidth\":0,\"ticks\":\"\"}},\"type\":\"scattermapbox\"}],\"scatterpolar\":[{\"marker\":{\"colorbar\":{\"outlinewidth\":0,\"ticks\":\"\"}},\"type\":\"scatterpolar\"}],\"scatterpolargl\":[{\"marker\":{\"colorbar\":{\"outlinewidth\":0,\"ticks\":\"\"}},\"type\":\"scatterpolargl\"}],\"scatterternary\":[{\"marker\":{\"colorbar\":{\"outlinewidth\":0,\"ticks\":\"\"}},\"type\":\"scatterternary\"}],\"surface\":[{\"colorbar\":{\"outlinewidth\":0,\"ticks\":\"\"},\"colorscale\":[[0.0,\"#0d0887\"],[0.1111111111111111,\"#46039f\"],[0.2222222222222222,\"#7201a8\"],[0.3333333333333333,\"#9c179e\"],[0.4444444444444444,\"#bd3786\"],[0.5555555555555556,\"#d8576b\"],[0.6666666666666666,\"#ed7953\"],[0.7777777777777778,\"#fb9f3a\"],[0.8888888888888888,\"#fdca26\"],[1.0,\"#f0f921\"]],\"type\":\"surface\"}],\"table\":[{\"cells\":{\"fill\":{\"color\":\"#EBF0F8\"},\"line\":{\"color\":\"white\"}},\"header\":{\"fill\":{\"color\":\"#C8D4E3\"},\"line\":{\"color\":\"white\"}},\"type\":\"table\"}]},\"layout\":{\"annotationdefaults\":{\"arrowcolor\":\"#2a3f5f\",\"arrowhead\":0,\"arrowwidth\":1},\"autotypenumbers\":\"strict\",\"coloraxis\":{\"colorbar\":{\"outlinewidth\":0,\"ticks\":\"\"}},\"colorscale\":{\"diverging\":[[0,\"#8e0152\"],[0.1,\"#c51b7d\"],[0.2,\"#de77ae\"],[0.3,\"#f1b6da\"],[0.4,\"#fde0ef\"],[0.5,\"#f7f7f7\"],[0.6,\"#e6f5d0\"],[0.7,\"#b8e186\"],[0.8,\"#7fbc41\"],[0.9,\"#4d9221\"],[1,\"#276419\"]],\"sequential\":[[0.0,\"#0d0887\"],[0.1111111111111111,\"#46039f\"],[0.2222222222222222,\"#7201a8\"],[0.3333333333333333,\"#9c179e\"],[0.4444444444444444,\"#bd3786\"],[0.5555555555555556,\"#d8576b\"],[0.6666666666666666,\"#ed7953\"],[0.7777777777777778,\"#fb9f3a\"],[0.8888888888888888,\"#fdca26\"],[1.0,\"#f0f921\"]],\"sequentialminus\":[[0.0,\"#0d0887\"],[0.1111111111111111,\"#46039f\"],[0.2222222222222222,\"#7201a8\"],[0.3333333333333333,\"#9c179e\"],[0.4444444444444444,\"#bd3786\"],[0.5555555555555556,\"#d8576b\"],[0.6666666666666666,\"#ed7953\"],[0.7777777777777778,\"#fb9f3a\"],[0.8888888888888888,\"#fdca26\"],[1.0,\"#f0f921\"]]},\"colorway\":[\"#636efa\",\"#EF553B\",\"#00cc96\",\"#ab63fa\",\"#FFA15A\",\"#19d3f3\",\"#FF6692\",\"#B6E880\",\"#FF97FF\",\"#FECB52\"],\"font\":{\"color\":\"#2a3f5f\"},\"geo\":{\"bgcolor\":\"white\",\"lakecolor\":\"white\",\"landcolor\":\"#E5ECF6\",\"showlakes\":true,\"showland\":true,\"subunitcolor\":\"white\"},\"hoverlabel\":{\"align\":\"left\"},\"hovermode\":\"closest\",\"mapbox\":{\"style\":\"light\"},\"paper_bgcolor\":\"white\",\"plot_bgcolor\":\"#E5ECF6\",\"polar\":{\"angularaxis\":{\"gridcolor\":\"white\",\"linecolor\":\"white\",\"ticks\":\"\"},\"bgcolor\":\"#E5ECF6\",\"radialaxis\":{\"gridcolor\":\"white\",\"linecolor\":\"white\",\"ticks\":\"\"}},\"scene\":{\"xaxis\":{\"backgroundcolor\":\"#E5ECF6\",\"gridcolor\":\"white\",\"gridwidth\":2,\"linecolor\":\"white\",\"showbackground\":true,\"ticks\":\"\",\"zerolinecolor\":\"white\"},\"yaxis\":{\"backgroundcolor\":\"#E5ECF6\",\"gridcolor\":\"white\",\"gridwidth\":2,\"linecolor\":\"white\",\"showbackground\":true,\"ticks\":\"\",\"zerolinecolor\":\"white\"},\"zaxis\":{\"backgroundcolor\":\"#E5ECF6\",\"gridcolor\":\"white\",\"gridwidth\":2,\"linecolor\":\"white\",\"showbackground\":true,\"ticks\":\"\",\"zerolinecolor\":\"white\"}},\"shapedefaults\":{\"line\":{\"color\":\"#2a3f5f\"}},\"ternary\":{\"aaxis\":{\"gridcolor\":\"white\",\"linecolor\":\"white\",\"ticks\":\"\"},\"baxis\":{\"gridcolor\":\"white\",\"linecolor\":\"white\",\"ticks\":\"\"},\"bgcolor\":\"#E5ECF6\",\"caxis\":{\"gridcolor\":\"white\",\"linecolor\":\"white\",\"ticks\":\"\"}},\"title\":{\"x\":0.05},\"xaxis\":{\"automargin\":true,\"gridcolor\":\"white\",\"linecolor\":\"white\",\"ticks\":\"\",\"title\":{\"standoff\":15},\"zerolinecolor\":\"white\",\"zerolinewidth\":2},\"yaxis\":{\"automargin\":true,\"gridcolor\":\"white\",\"linecolor\":\"white\",\"ticks\":\"\",\"title\":{\"standoff\":15},\"zerolinecolor\":\"white\",\"zerolinewidth\":2}}},\"legend\":{\"tracegroupgap\":0},\"margin\":{\"t\":50,\"b\":0,\"l\":70,\"r\":40},\"title\":{\"text\":\"Highest watched Geners on Netflix\",\"font\":{\"size\":25,\"color\":\"#fff\",\"family\":\"Lato, sans-serif\"}},\"font\":{\"color\":\"#8a8d93\"},\"hoverlabel\":{\"font\":{\"size\":13,\"family\":\"Lato, sans-serif\"},\"bgcolor\":\"#444\"},\"plot_bgcolor\":\"#333\",\"paper_bgcolor\":\"#333\"},                        {\"responsive\": true}                    ).then(function(){\n",
              "                            \n",
              "var gd = document.getElementById('e9c17e8a-b391-442f-9cac-e9cc62e36c10');\n",
              "var x = new MutationObserver(function (mutations, observer) {{\n",
              "        var display = window.getComputedStyle(gd).display;\n",
              "        if (!display || display === 'none') {{\n",
              "            console.log([gd, 'removed!']);\n",
              "            Plotly.purge(gd);\n",
              "            observer.disconnect();\n",
              "        }}\n",
              "}});\n",
              "\n",
              "// Listen for the removal of the full notebook cells\n",
              "var notebookContainer = gd.closest('#notebook-container');\n",
              "if (notebookContainer) {{\n",
              "    x.observe(notebookContainer, {childList: true});\n",
              "}}\n",
              "\n",
              "// Listen for the clearing of the current output cell\n",
              "var outputEl = gd.closest('.output');\n",
              "if (outputEl) {{\n",
              "    x.observe(outputEl, {childList: true});\n",
              "}}\n",
              "\n",
              "                        })                };                            </script>        </div>\n",
              "</body>\n",
              "</html>"
            ]
          },
          "metadata": {}
        }
      ]
    },
    {
      "cell_type": "code",
      "source": [
        "df_1.columns"
      ],
      "metadata": {
        "colab": {
          "base_uri": "https://localhost:8080/"
        },
        "id": "LTGIz38npMhy",
        "outputId": "d679a1e7-3f29-4890-c746-451f99e24268"
      },
      "execution_count": 48,
      "outputs": [
        {
          "output_type": "execute_result",
          "data": {
            "text/plain": [
              "Index(['show_id', 'type', 'title', 'director', 'cast', 'country',\n",
              "       'release_year', 'rating', 'duration', 'genres', 'description',\n",
              "       'added_year', 'added_month', 'added_day'],\n",
              "      dtype='object')"
            ]
          },
          "metadata": {},
          "execution_count": 48
        }
      ]
    },
    {
      "cell_type": "code",
      "source": [
        "df_1.added_month.value_counts()"
      ],
      "metadata": {
        "colab": {
          "base_uri": "https://localhost:8080/"
        },
        "id": "B5Id7jnRQDWy",
        "outputId": "b264d61d-93e2-4efa-871a-afe2ea5008eb"
      },
      "execution_count": 49,
      "outputs": [
        {
          "output_type": "execute_result",
          "data": {
            "text/plain": [
              "12    833\n",
              "10    785\n",
              "1     757\n",
              "11    738\n",
              "3     669\n",
              "9     619\n",
              "8     618\n",
              "4     601\n",
              "7     600\n",
              "5     543\n",
              "6     542\n",
              "2     472\n",
              "Name: added_month, dtype: int64"
            ]
          },
          "metadata": {},
          "execution_count": 49
        }
      ]
    },
    {
      "cell_type": "code",
      "source": [
        "plt.figure(figsize=(10,8))\n",
        "sns.countplot(x='added_month',hue='type',data=df_1)\n",
        "plt.title(\"Monthwise content addition\")"
      ],
      "metadata": {
        "colab": {
          "base_uri": "https://localhost:8080/",
          "height": 535
        },
        "id": "8199PL5LmH7H",
        "outputId": "30099290-19d0-45d6-e34a-39ffafa6e6f1"
      },
      "execution_count": 50,
      "outputs": [
        {
          "output_type": "execute_result",
          "data": {
            "text/plain": [
              "Text(0.5, 1.0, 'Monthwise content addition')"
            ]
          },
          "metadata": {},
          "execution_count": 50
        },
        {
          "output_type": "display_data",
          "data": {
            "image/png": "[encoded data removed]",
            "text/plain": [
              "<Figure size 720x576 with 1 Axes>"
            ]
          },
          "metadata": {
            "needs_background": "light"
          }
        }
      ]
    },
    {
      "cell_type": "markdown",
      "source": [
        "we can clearly see that on **\"January\"**, **\"October\"** and in **\"December\"** there is more content added on netflix.\n",
        "\n",
        "And in **\"February\"** very less amount of content added."
      ],
      "metadata": {
        "id": "6kaazfPMmnhG"
      }
    },
    {
      "cell_type": "markdown",
      "source": [
        "**Plotting Bar chart for checking how many movies/shows added on an avergae on days of evrey month**"
      ],
      "metadata": {
        "id": "r2EI_mwNughx"
      }
    },
    {
      "cell_type": "code",
      "source": [
        "plt.figure(figsize=(18,8))\n",
        "sns.countplot(x='added_day',hue='type',data=df_1)\n",
        "plt.xlabel('Days')\n",
        "plt.ylabel('Total no. of Movies/TV shows added')\n",
        "plt.title(\"Daywise content addition\")"
      ],
      "metadata": {
        "colab": {
          "base_uri": "https://localhost:8080/",
          "height": 535
        },
        "id": "r27B6IZBqjK-",
        "outputId": "e01b6166-26d4-4dc5-e5ee-70b8f31e21c8"
      },
      "execution_count": 51,
      "outputs": [
        {
          "output_type": "execute_result",
          "data": {
            "text/plain": [
              "Text(0.5, 1.0, 'Daywise content addition')"
            ]
          },
          "metadata": {},
          "execution_count": 51
        },
        {
          "output_type": "display_data",
          "data": {
            "image/png": "[encoded data removed]",
            "text/plain": [
              "<Figure size 1296x576 with 1 Axes>"
            ]
          },
          "metadata": {
            "needs_background": "light"
          }
        }
      ]
    },
    {
      "cell_type": "markdown",
      "source": [
        "we can clearly spot the insights that netflix majorly add the content on the **1st day of every month**.\n",
        "\n",
        "And there is another day which is **15th**, mid of the month which has second highest number of contents added on it."
      ],
      "metadata": {
        "id": "foTgxGZavLrZ"
      }
    },
    {
      "cell_type": "code",
      "source": [
        "df_1.rating.value_counts()"
      ],
      "metadata": {
        "colab": {
          "base_uri": "https://localhost:8080/"
        },
        "id": "QUXtH--QwxzS",
        "outputId": "66dcaab9-aad7-4f35-e40c-b827a6feb1c6"
      },
      "execution_count": 52,
      "outputs": [
        {
          "output_type": "execute_result",
          "data": {
            "text/plain": [
              "TV-MA       2861\n",
              "TV-14       1928\n",
              "TV-PG        804\n",
              "R            665\n",
              "PG-13        386\n",
              "TV-Y         279\n",
              "TV-Y7        270\n",
              "PG           247\n",
              "TV-G         194\n",
              "NR            83\n",
              "G             39\n",
              "Unknown        7\n",
              "TV-Y7-FV       6\n",
              "UR             5\n",
              "NC-17          3\n",
              "Name: rating, dtype: int64"
            ]
          },
          "metadata": {},
          "execution_count": 52
        }
      ]
    },
    {
      "cell_type": "code",
      "source": [
        "plt.figure(figsize=(15,8))\n",
        "sns.countplot(x='rating',hue='type',data=df_1)\n",
        "plt.xlabel('Rating')\n",
        "plt.ylabel('Total no. of Movies/TV shows')\n",
        "plt.title(\"Movies/TV shows - Rating wise\")"
      ],
      "metadata": {
        "colab": {
          "base_uri": "https://localhost:8080/",
          "height": 535
        },
        "id": "NX6X1e4WxQIo",
        "outputId": "3e26e2d3-4e63-439c-d321-e5775c74f288"
      },
      "execution_count": 53,
      "outputs": [
        {
          "output_type": "execute_result",
          "data": {
            "text/plain": [
              "Text(0.5, 1.0, 'Movies/TV shows - Rating wise')"
            ]
          },
          "metadata": {},
          "execution_count": 53
        },
        {
          "output_type": "display_data",
          "data": {
            "image/png": "[encoded data removed]",
            "text/plain": [
              "<Figure size 1080x576 with 1 Axes>"
            ]
          },
          "metadata": {
            "needs_background": "light"
          }
        }
      ]
    },
    {
      "cell_type": "markdown",
      "source": [
        "## **Netflix Rating of Movies/TV Shows based on content:-**\n",
        "\n",
        "**TV-MA** :for Mature Audiences\n",
        "\n",
        "**R** : Restricted\n",
        "\n",
        "**PG-13** : Parents strongly cautioned. May be Inappropriate for ages 12 and under\n",
        "\n",
        "**TV-14** : Parents strongly cautioned. May not be suitable for ages 14 and under\n",
        "\n",
        "**TV-PG** : Parental Guidance suggested\n",
        "\n",
        "**NR** : Not Rated\n",
        "\n",
        "**TV-G** : Suitable for General Audiences\n",
        "\n",
        "**TV-Y** : Designed to be appropriate for all children\n",
        "\n",
        "**PG** : Parental Guidance suggested\n",
        "\n",
        "**G** : Suitable for General Audiences\n",
        "\n",
        "**NC-17** : the content isn't suitable for children under 17 and younger\n",
        "\n",
        "**TV-Y7-FV** : Suitable for ages 7 and up\n",
        "\n",
        "**UR** : Unrated\n",
        "\n",
        "\n",
        "\n",
        "\n"
      ],
      "metadata": {
        "id": "UJMNbSax0XQ_"
      }
    },
    {
      "cell_type": "markdown",
      "source": [
        "We will work on Description column\n",
        "\n"
      ],
      "metadata": {
        "id": "0usR-8GjZ-HV"
      }
    },
    {
      "cell_type": "code",
      "source": [
        "from sklearn import preprocessing\n",
        "from sklearn.feature_extraction.text import CountVectorizer, TfidfVectorizer\n",
        "from sklearn.model_selection import train_test_split, KFold\n",
        "from nltk.corpus import stopwords\n",
        "from nltk.stem.snowball import SnowballStemmer"
      ],
      "metadata": {
        "id": "3gv2rKHr3Tng"
      },
      "execution_count": 54,
      "outputs": []
    },
    {
      "cell_type": "code",
      "source": [
        "\n",
        "import nltk \n",
        "nltk.download()"
      ],
      "metadata": {
        "colab": {
          "base_uri": "https://localhost:8080/"
        },
        "id": "PXZwMstSaVmY",
        "outputId": "07564236-8839-4b73-cb74-495d22ed67c6"
      },
      "execution_count": 55,
      "outputs": [
        {
          "name": "stdout",
          "output_type": "stream",
          "text": [
            "NLTK Downloader\n",
            "---------------------------------------------------------------------------\n",
            "    d) Download   l) List    u) Update   c) Config   h) Help   q) Quit\n",
            "---------------------------------------------------------------------------\n",
            "Downloader> d\n",
            "\n",
            "Download which package (l=list; x=cancel)?\n",
            "  Identifier> l\n",
            "Packages:\n",
            "  [ ] abc................. Australian Broadcasting Commission 2006\n",
            "  [ ] alpino.............. Alpino Dutch Treebank\n",
            "  [ ] averaged_perceptron_tagger Averaged Perceptron Tagger\n",
            "  [ ] averaged_perceptron_tagger_ru Averaged Perceptron Tagger (Russian)\n",
            "  [ ] basque_grammars..... Grammars for Basque\n",
            "  [ ] biocreative_ppi..... BioCreAtIvE (Critical Assessment of Information\n",
            "                           Extraction Systems in Biology)\n",
            "  [ ] bllip_wsj_no_aux.... BLLIP Parser: WSJ Model\n",
            "  [ ] book_grammars....... Grammars from NLTK Book\n",
            "  [ ] brown............... Brown Corpus\n",
            "  [ ] brown_tei........... Brown Corpus (TEI XML Version)\n",
            "  [ ] cess_cat............ CESS-CAT Treebank\n",
            "  [ ] cess_esp............ CESS-ESP Treebank\n",
            "  [ ] chat80.............. Chat-80 Data Files\n",
            "  [ ] city_database....... City Database\n",
            "  [ ] cmudict............. The Carnegie Mellon Pronouncing Dictionary (0.6)\n",
            "  [ ] comparative_sentences Comparative Sentence Dataset\n",
            "  [ ] comtrans............ ComTrans Corpus Sample\n",
            "  [ ] conll2000........... CONLL 2000 Chunking Corpus\n",
            "  [ ] conll2002........... CONLL 2002 Named Entity Recognition Corpus\n",
            "Hit Enter to continue: \n",
            "  [ ] conll2007........... Dependency Treebanks from CoNLL 2007 (Catalan\n",
            "                           and Basque Subset)\n",
            "  [ ] crubadan............ Crubadan Corpus\n",
            "  [ ] dependency_treebank. Dependency Parsed Treebank\n",
            "  [ ] dolch............... Dolch Word List\n",
            "  [ ] europarl_raw........ Sample European Parliament Proceedings Parallel\n",
            "                           Corpus\n",
            "  [ ] extended_omw........ Extended Open Multilingual WordNet\n",
            "  [ ] floresta............ Portuguese Treebank\n",
            "  [ ] framenet_v15........ FrameNet 1.5\n",
            "  [ ] framenet_v17........ FrameNet 1.7\n",
            "  [ ] gazetteers.......... Gazeteer Lists\n",
            "  [ ] genesis............. Genesis Corpus\n",
            "  [ ] gutenberg........... Project Gutenberg Selections\n",
            "  [ ] ieer................ NIST IE-ER DATA SAMPLE\n",
            "  [ ] inaugural........... C-Span Inaugural Address Corpus\n",
            "  [ ] indian.............. Indian Language POS-Tagged Corpus\n",
            "  [ ] jeita............... JEITA Public Morphologically Tagged Corpus (in\n",
            "                           ChaSen format)\n",
            "  [ ] kimmo............... PC-KIMMO Data Files\n",
            "  [ ] knbc................ KNB Corpus (Annotated blog corpus)\n",
            "Hit Enter to continue: \n",
            "  [ ] large_grammars...... Large context-free and feature-based grammars\n",
            "                           for parser comparison\n",
            "  [ ] lin_thesaurus....... Lin's Dependency Thesaurus\n",
            "  [ ] mac_morpho.......... MAC-MORPHO: Brazilian Portuguese news text with\n",
            "                           part-of-speech tags\n",
            "  [ ] machado............. Machado de Assis -- Obra Completa\n",
            "  [ ] masc_tagged......... MASC Tagged Corpus\n",
            "  [ ] maxent_ne_chunker... ACE Named Entity Chunker (Maximum entropy)\n",
            "  [ ] maxent_treebank_pos_tagger Treebank Part of Speech Tagger (Maximum entropy)\n",
            "  [ ] moses_sample........ Moses Sample Models\n",
            "  [ ] movie_reviews....... Sentiment Polarity Dataset Version 2.0\n",
            "  [ ] mte_teip5........... MULTEXT-East 1984 annotated corpus 4.0\n",
            "  [ ] mwa_ppdb............ The monolingual word aligner (Sultan et al.\n",
            "                           2015) subset of the Paraphrase Database.\n",
            "  [ ] names............... Names Corpus, Version 1.3 (1994-03-29)\n",
            "  [ ] nombank.1.0......... NomBank Corpus 1.0\n",
            "  [ ] nonbreaking_prefixes Non-Breaking Prefixes (Moses Decoder)\n",
            "  [ ] nps_chat............ NPS Chat\n",
            "  [ ] omw-1.4............. Open Multilingual Wordnet\n",
            "  [ ] omw................. Open Multilingual Wordnet\n",
            "  [ ] opinion_lexicon..... Opinion Lexicon\n",
            "Hit Enter to continue: \n",
            "  [ ] panlex_swadesh...... PanLex Swadesh Corpora\n",
            "  [ ] paradigms........... Paradigm Corpus\n",
            "  [ ] pe08................ Cross-Framework and Cross-Domain Parser\n",
            "                           Evaluation Shared Task\n",
            "  [ ] perluniprops........ perluniprops: Index of Unicode Version 7.0.0\n",
            "                           character properties in Perl\n",
            "  [ ] pil................. The Patient Information Leaflet (PIL) Corpus\n",
            "  [ ] pl196x.............. Polish language of the XX century sixties\n",
            "  [ ] porter_test......... Porter Stemmer Test Files\n",
            "  [ ] ppattach............ Prepositional Phrase Attachment Corpus\n",
            "  [ ] problem_reports..... Problem Report Corpus\n",
            "  [ ] product_reviews_1... Product Reviews (5 Products)\n",
            "  [ ] product_reviews_2... Product Reviews (9 Products)\n",
            "  [ ] propbank............ Proposition Bank Corpus 1.0\n",
            "  [ ] pros_cons........... Pros and Cons\n",
            "  [ ] ptb................. Penn Treebank\n",
            "  [ ] punkt............... Punkt Tokenizer Models\n",
            "  [ ] qc.................. Experimental Data for Question Classification\n",
            "  [ ] reuters............. The Reuters-21578 benchmark corpus, ApteMod\n",
            "                           version\n",
            "  [ ] rslp................ RSLP Stemmer (Removedor de Sufixos da Lingua\n",
            "                           Portuguesa)\n",
            "Hit Enter to continue: \n",
            "  [ ] rte................. PASCAL RTE Challenges 1, 2, and 3\n",
            "  [ ] sample_grammars..... Sample Grammars\n",
            "  [ ] semcor.............. SemCor 3.0\n",
            "  [ ] senseval............ SENSEVAL 2 Corpus: Sense Tagged Text\n",
            "  [ ] sentence_polarity... Sentence Polarity Dataset v1.0\n",
            "  [ ] sentiwordnet........ SentiWordNet\n",
            "  [ ] shakespeare......... Shakespeare XML Corpus Sample\n",
            "  [ ] sinica_treebank..... Sinica Treebank Corpus Sample\n",
            "  [ ] smultron............ SMULTRON Corpus Sample\n",
            "  [ ] snowball_data....... Snowball Data\n",
            "  [ ] spanish_grammars.... Grammars for Spanish\n",
            "  [ ] state_union......... C-Span State of the Union Address Corpus\n",
            "  [ ] stopwords........... Stopwords Corpus\n",
            "  [ ] subjectivity........ Subjectivity Dataset v1.0\n",
            "  [ ] swadesh............. Swadesh Wordlists\n",
            "  [ ] switchboard......... Switchboard Corpus Sample\n",
            "  [ ] tagsets............. Help on Tagsets\n",
            "  [ ] timit............... TIMIT Corpus Sample\n",
            "  [ ] toolbox............. Toolbox Sample Files\n",
            "  [ ] treebank............ Penn Treebank Sample\n",
            "  [ ] twitter_samples..... Twitter Samples\n",
            "Hit Enter to continue: \n",
            "  [ ] udhr2............... Universal Declaration of Human Rights Corpus\n",
            "                           (Unicode Version)\n",
            "  [ ] udhr................ Universal Declaration of Human Rights Corpus\n",
            "  [ ] unicode_samples..... Unicode Samples\n",
            "  [ ] universal_tagset.... Mappings to the Universal Part-of-Speech Tagset\n",
            "  [ ] universal_treebanks_v20 Universal Treebanks Version 2.0\n",
            "  [ ] vader_lexicon....... VADER Sentiment Lexicon\n",
            "  [ ] verbnet3............ VerbNet Lexicon, Version 3.3\n",
            "  [ ] verbnet............. VerbNet Lexicon, Version 2.1\n",
            "  [ ] webtext............. Web Text Corpus\n",
            "  [ ] wmt15_eval.......... Evaluation data from WMT15\n",
            "  [ ] word2vec_sample..... Word2Vec Sample\n",
            "  [ ] wordnet2021......... Open English Wordnet 2021\n",
            "  [ ] wordnet31........... Wordnet 3.1\n",
            "  [ ] wordnet............. WordNet\n",
            "  [ ] wordnet_ic.......... WordNet-InfoContent\n",
            "  [ ] words............... Word Lists\n",
            "  [ ] ycoe................ York-Toronto-Helsinki Parsed Corpus of Old\n",
            "                           English Prose\n",
            "\n",
            "Collections:\n",
            "  [ ] all-corpora......... All the corpora\n",
            "Hit Enter to continue: \n",
            "  [ ] all-nltk............ All packages available on nltk_data gh-pages\n",
            "                           branch\n",
            "  [ ] all................. All packages\n",
            "  [ ] book................ Everything used in the NLTK Book\n",
            "  [ ] popular............. Popular packages\n",
            "  [ ] tests............... Packages for running tests\n",
            "  [ ] third-party......... Third-party data packages\n",
            "\n",
            "([*] marks installed packages)\n",
            "\n",
            "Download which package (l=list; x=cancel)?\n",
            "  Identifier> x\n",
            "\n",
            "---------------------------------------------------------------------------\n",
            "    d) Download   l) List    u) Update   c) Config   h) Help   q) Quit\n",
            "---------------------------------------------------------------------------\n",
            "Downloader> q\n"
          ]
        },
        {
          "output_type": "execute_result",
          "data": {
            "text/plain": [
              "True"
            ]
          },
          "metadata": {},
          "execution_count": 55
        }
      ]
    },
    {
      "cell_type": "code",
      "source": [
        "df_1['description'][0]"
      ],
      "metadata": {
        "colab": {
          "base_uri": "https://localhost:8080/",
          "height": 36
        },
        "id": "usqIqngfaYul",
        "outputId": "1c4f5f61-3f30-4d9e-df1b-e172f917b04b"
      },
      "execution_count": 56,
      "outputs": [
        {
          "output_type": "execute_result",
          "data": {
            "application/vnd.google.colaboratory.intrinsic+json": {
              "type": "string"
            },
            "text/plain": [
              "'In a future where the elite inhabit an island paradise far from the crowded slums, you get one chance to join the 3% saved from squalor.'"
            ]
          },
          "metadata": {},
          "execution_count": 56
        }
      ]
    },
    {
      "cell_type": "markdown",
      "source": [
        "we have to remove stopwords and punctuations"
      ],
      "metadata": {
        "id": "iQSyINz4boZD"
      }
    },
    {
      "cell_type": "code",
      "source": [
        "import nltk\n",
        "nltk.download('stopwords')"
      ],
      "metadata": {
        "colab": {
          "base_uri": "https://localhost:8080/"
        },
        "id": "ykXBvurnbjSj",
        "outputId": "05eb0985-f4d6-4f9e-a6d7-d4d966a32c57"
      },
      "execution_count": 57,
      "outputs": [
        {
          "output_type": "stream",
          "name": "stdout",
          "text": [
            "[nltk_data] Downloading package stopwords to /root/nltk_data...\n",
            "[nltk_data]   Unzipping corpora/stopwords.zip.\n"
          ]
        },
        {
          "output_type": "execute_result",
          "data": {
            "text/plain": [
              "True"
            ]
          },
          "metadata": {},
          "execution_count": 57
        }
      ]
    },
    {
      "cell_type": "code",
      "source": [
        "stop_words = nltk.corpus.stopwords.words('english')\n",
        "print(stop_words)"
      ],
      "metadata": {
        "colab": {
          "base_uri": "https://localhost:8080/"
        },
        "id": "82kBLByae_j8",
        "outputId": "ce98b57e-4c10-48b5-d1f7-c6e609b015b3"
      },
      "execution_count": 58,
      "outputs": [
        {
          "output_type": "stream",
          "name": "stdout",
          "text": [
            "['i', 'me', 'my', 'myself', 'we', 'our', 'ours', 'ourselves', 'you', \"you're\", \"you've\", \"you'll\", \"you'd\", 'your', 'yours', 'yourself', 'yourselves', 'he', 'him', 'his', 'himself', 'she', \"she's\", 'her', 'hers', 'herself', 'it', \"it's\", 'its', 'itself', 'they', 'them', 'their', 'theirs', 'themselves', 'what', 'which', 'who', 'whom', 'this', 'that', \"that'll\", 'these', 'those', 'am', 'is', 'are', 'was', 'were', 'be', 'been', 'being', 'have', 'has', 'had', 'having', 'do', 'does', 'did', 'doing', 'a', 'an', 'the', 'and', 'but', 'if', 'or', 'because', 'as', 'until', 'while', 'of', 'at', 'by', 'for', 'with', 'about', 'against', 'between', 'into', 'through', 'during', 'before', 'after', 'above', 'below', 'to', 'from', 'up', 'down', 'in', 'out', 'on', 'off', 'over', 'under', 'again', 'further', 'then', 'once', 'here', 'there', 'when', 'where', 'why', 'how', 'all', 'any', 'both', 'each', 'few', 'more', 'most', 'other', 'some', 'such', 'no', 'nor', 'not', 'only', 'own', 'same', 'so', 'than', 'too', 'very', 's', 't', 'can', 'will', 'just', 'don', \"don't\", 'should', \"should've\", 'now', 'd', 'll', 'm', 'o', 're', 've', 'y', 'ain', 'aren', \"aren't\", 'couldn', \"couldn't\", 'didn', \"didn't\", 'doesn', \"doesn't\", 'hadn', \"hadn't\", 'hasn', \"hasn't\", 'haven', \"haven't\", 'isn', \"isn't\", 'ma', 'mightn', \"mightn't\", 'mustn', \"mustn't\", 'needn', \"needn't\", 'shan', \"shan't\", 'shouldn', \"shouldn't\", 'wasn', \"wasn't\", 'weren', \"weren't\", 'won', \"won't\", 'wouldn', \"wouldn't\"]\n"
          ]
        }
      ]
    },
    {
      "cell_type": "code",
      "source": [
        "len(stop_words)"
      ],
      "metadata": {
        "colab": {
          "base_uri": "https://localhost:8080/"
        },
        "id": "8fOXd8vffVuF",
        "outputId": "9e147a2f-950c-489e-96f3-9479c54e483f"
      },
      "execution_count": 59,
      "outputs": [
        {
          "output_type": "execute_result",
          "data": {
            "text/plain": [
              "179"
            ]
          },
          "metadata": {},
          "execution_count": 59
        }
      ]
    },
    {
      "cell_type": "markdown",
      "source": [
        "We will define a function to remove stop words"
      ],
      "metadata": {
        "id": "k2DUzgoTkwoe"
      }
    },
    {
      "cell_type": "code",
      "source": [
        "def delete_stopwords(description):\n",
        "    '''\n",
        "    This is function which will take the text data as input and delets the stopwords from it.\n",
        "    '''\n",
        "    \n",
        "    # We will use a list comprehension \n",
        "    clean_text = [i.lower() for i in description.split() if i.lower() not in stop_words]\n",
        "    # joining the list of words with space separator\n",
        "    return \" \".join(clean_text)"
      ],
      "metadata": {
        "id": "WVdmSaQhgXZh"
      },
      "execution_count": 60,
      "outputs": []
    },
    {
      "cell_type": "code",
      "source": [
        "# Now we will apply this function our 'Description' column\n",
        "\n",
        "df_1['description']=df_1['description'].apply(delete_stopwords)\n",
        "df_1['description'][0:2]"
      ],
      "metadata": {
        "colab": {
          "base_uri": "https://localhost:8080/"
        },
        "id": "Bizxicnildfv",
        "outputId": "03066b06-38b2-4f0f-a60f-819ca900b266"
      },
      "execution_count": 61,
      "outputs": [
        {
          "output_type": "execute_result",
          "data": {
            "text/plain": [
              "0    future elite inhabit island paradise far crowd...\n",
              "1    devastating earthquake hits mexico city, trapp...\n",
              "Name: description, dtype: object"
            ]
          },
          "metadata": {},
          "execution_count": 61
        }
      ]
    },
    {
      "cell_type": "markdown",
      "source": [
        "okay, now we will remove punctuations"
      ],
      "metadata": {
        "id": "Fz2mf4VEms8U"
      }
    },
    {
      "cell_type": "code",
      "source": [
        "import string"
      ],
      "metadata": {
        "id": "RTv68Qbbn_R3"
      },
      "execution_count": 62,
      "outputs": []
    },
    {
      "cell_type": "code",
      "source": [
        "# Defining a function to remove the punctuation\n",
        "def remove_punctuations(text):\n",
        "    '''\n",
        "    This function takes input text and removes punctuation marks from it\n",
        "    '''\n",
        "    for punctuation in string.punctuation:\n",
        "        text = text.replace(punctuation, '')\n",
        "    return text"
      ],
      "metadata": {
        "id": "iae-NH2JmTfZ"
      },
      "execution_count": 63,
      "outputs": []
    },
    {
      "cell_type": "code",
      "source": [
        "# Now we will apply this function on 'Description' column\n",
        "df_1['description']=df_1['description'].apply(remove_punctuations)"
      ],
      "metadata": {
        "id": "BSjlQB8poagM"
      },
      "execution_count": 64,
      "outputs": []
    },
    {
      "cell_type": "markdown",
      "source": [
        "We removed the punctuation marks from decription column, now we will once check by calling some of the top rows"
      ],
      "metadata": {
        "id": "r6n01yFhrm6_"
      }
    },
    {
      "cell_type": "code",
      "source": [
        "df_1['description'][0:6]"
      ],
      "metadata": {
        "colab": {
          "base_uri": "https://localhost:8080/"
        },
        "id": "0rzGSk_Ron51",
        "outputId": "775abb0a-19f6-4c29-fa81-df28cee71cc3"
      },
      "execution_count": 65,
      "outputs": [
        {
          "output_type": "execute_result",
          "data": {
            "text/plain": [
              "0    future elite inhabit island paradise far crowd...\n",
              "1    devastating earthquake hits mexico city trappe...\n",
              "2    army recruit found dead fellow soldiers forced...\n",
              "3    postapocalyptic world ragdoll robots hide fear...\n",
              "4    brilliant group students become cardcounting e...\n",
              "5    genetics professor experiments treatment comat...\n",
              "Name: description, dtype: object"
            ]
          },
          "metadata": {},
          "execution_count": 65
        }
      ]
    },
    {
      "cell_type": "markdown",
      "source": [
        "Now we will remove punctuations and stop_words from 'genres' column"
      ],
      "metadata": {
        "id": "jdmSUA3PwByJ"
      }
    },
    {
      "cell_type": "code",
      "source": [
        "# Create a count vectorizer object\n",
        "count_vectorizer = CountVectorizer()\n",
        "# fit the count vectorizer using the text data\n",
        "count_vectorizer.fit(df['description'])\n",
        "# Collect the vocabulary items used in the vectorizer\n",
        "dictionary = count_vectorizer.vocabulary_.items()"
      ],
      "metadata": {
        "id": "god_Pinhykir"
      },
      "execution_count": null,
      "outputs": []
    },
    {
      "cell_type": "code",
      "source": [
        "count_vectorizer = CountVectorizer()\n",
        "count_vectorizer.fit(df_1['description'])\n",
        "word_count = count_vectorizer.vocabulary_.items()"
      ],
      "metadata": {
        "id": "0C-fFZJUylhM"
      },
      "execution_count": 70,
      "outputs": []
    },
    {
      "cell_type": "code",
      "source": [
        "word_count"
      ],
      "metadata": {
        "colab": {
          "base_uri": "https://localhost:8080/"
        },
        "id": "8ok76ksKy9hA",
        "outputId": "68a3a75e-5247-4d2f-a9ee-7619a4eb4c34"
      },
      "execution_count": 72,
      "outputs": [
        {
          "output_type": "execute_result",
          "data": {
            "text/plain": [
              "dict_items([('future', 7167), ('elite', 5655), ('inhabit', 8970), ('island', 9248), ('paradise', 12709), ('far', 6411), ('crowded', 4242), ('slums', 16126), ('get', 7363), ('one', 12334), ('chance', 3073), ('join', 9466), ('saved', 15232), ('squalor', 16543), ('devastating', 4837), ('earthquake', 5504), ('hits', 8329), ('mexico', 11126), ('city', 3339), ('trapped', 17952), ('survivors', 17091), ('walks', 18912), ('life', 10195), ('wait', 18889), ('rescued', 14548), ('trying', 18094), ('desperately', 4790), ('stay', 16652), ('alive', 785), ('army', 1228), ('recruit', 14268), ('found', 6951), ('dead', 4504), ('fellow', 6537), ('soldiers', 16252), ('forced', 6887), ('confront', 3793), ('terrifying', 17467), ('secret', 15420), ('thats', 17520), ('haunting', 8024), ('jungle', 9561), ('training', 17909), ('camp', 2764), ('postapocalyptic', 13388), ('world', 19355), ('ragdoll', 13987), ('robots', 14874), ('hide', 8205), ('fear', 6490), ('dangerous', 4431), ('machines', 10552), ('exterminate', 6276), ('them', 17533), ('brave', 2402), ('newcomer', 11903), ('joins', 9469), ('group', 7721), ('brilliant', 2471), ('students', 16858), ('become', 1830), ('cardcounting', 2840), ('experts', 6217), ('intent', 9079), ('swindling', 17152), ('millions', 11224), ('las', 9978), ('vegas', 18637), ('casinos', 2930), ('playing', 13208), ('blackjack', 2105), ('genetics', 7322), ('professor', 13651), ('experiments', 6214), ('treatment', 17985), ('comatose', 3589), ('sister', 15993), ('blends', 2137), ('medical', 10968), ('shamanic', 15685), ('cures', 4330), ('unlocks', 18401), ('shocking', 15803), ('side', 15889), ('effect', 5577), ('awful', 1541), ('accident', 427), ('couple', 4064), ('admitted', 545), ('grisly', 7697), ('hospital', 8469), ('separated', 15570), ('must', 11660), ('find', 6656), ('escape', 5977), ('death', 4521), ('finds', 6658), ('high', 8212), ('school', 15301), ('attacks', 1405), ('him', 8278), ('dedicated', 4589), ('teacher', 17344), ('trevor', 18004), ('garfield', 7259), ('grows', 7729), ('weary', 19019), ('gang', 7241), ('warfare', 18949), ('new', 11899), ('york', 19518), ('system', 17195), ('moves', 11573), ('california', 2731), ('teach', 17343), ('there', 17547), ('thinking', 17571), ('less', 10148), ('hostile', 8478), ('environment', 5909), ('doctor', 5159), ('goes', 7499), ('missing', 11324), ('psychiatrist', 13772), ('wife', 19182), ('treats', 17987), ('bizarre', 2100), ('condition', 3755), ('psychic', 13773), ('patient', 12829), ('knows', 9806), ('much', 11588), ('hes', 8190), ('leading', 10058), ('on', 12316), ('architect', 1174), ('move', 11569), ('castle', 2943), ('slated', 16067), ('luxury', 10526), ('hotel', 8487), ('something', 16277), ('inside', 9024), ('determined', 4821), ('stop', 16744), ('renovation', 14485), ('farmer', 6420), ('pens', 12921), ('confession', 3773), ('admitting', 546), ('wifes', 19183), ('murder', 11625), ('beginning', 1856), ('macabre', 10543), ('tale', 17259), ('based', 1735), ('stephen', 16682), ('kings', 9758), ('novella', 12093), ('dark', 4456), ('althistory', 871), ('thriller', 17618), ('naïve', 11798), ('law', 10026), ('student', 16857), ('worldweary', 19365), ('detective', 4815), ('uncover', 18275), ('conspiracy', 3852), ('tyrannized', 18197), ('poland', 13274), ('decades', 4547), ('archival', 1177), ('video', 18720), ('interviews', 9136), ('examine', 6090), ('mexican', 11124), ('politics', 13301), ('1994', 160), ('year', 19481), ('marked', 10775), ('rise', 14802), ('ezln', 6308), ('assassination', 1322), ('luis', 10495), ('donaldo', 5221), ('colosio', 3579), ('intimate', 9139), ('documentary', 5167), ('follows', 6856), ('rock', 14879), ('star', 16602), ('artiwara', 1281), ('kongmalai', 9820), ('historic', 8311), ('2215kilometer', 219), ('charity', 3111), ('run', 15038), ('across', 476), ('thailand', 17509), ('2017', 194), ('stranded', 16778), ('earth', 5503), ('suddenly', 16935), ('destroyed', 4804), ('mysterious', 11673), ('cataclysm', 2948), ('astronauts', 1365), ('aboard', 380), ('marooned', 10783), ('space', 16357), ('station', 16640), ('slowly', 16122), ('lose', 10415), ('minds', 11239), ('backdrop', 1575), ('nigerias', 11953), ('looming', 10390), ('independence', 8864), ('britain', 2481), ('danladi', 4439), ('waziri', 19009), ('races', 13958), ('capture', 2830), ('killer', 9729), ('terrorizing', 17477), ('local', 10312), ('women', 19312), ('psychology', 13778), ('faces', 6322), ('alzheimers', 881), ('daughter', 4479), ('three', 17612), ('close', 3444), ('female', 6542), ('friends', 7067), ('experience', 6208), ('romance', 14926), ('marriage', 10787), ('heartbreak', 8085), ('tragedy', 17894), ('terror', 17470), ('norway', 12054), ('young', 19528), ('survivor', 17090), ('grieving', 7678), ('families', 6382), ('country', 4057), ('rally', 14030), ('justice', 9574), ('healing', 8070), ('true', 18077), ('story', 16758), ('indias', 8877), ('day', 4492), ('zany', 19567), ('mishap', 11312), ('mumbai', 11616), ('chawl', 3156), ('disrupts', 5093), ('love', 10444), ('compelling', 3685), ('residents', 14575), ('unite', 18376), ('aid', 680), ('little', 10278), ('boy', 2362), ('mixing', 11359), ('old', 12290), ('footage', 6872), ('arsenals', 1252), ('improbable', 8808), ('win', 19220), ('versus', 18686), ('liverpool', 10288), ('final', 6645), ('moments', 11423), ('1989', 154), ('championship', 3069), ('game', 7231), ('accidentally', 429), ('connecting', 3816), ('internet', 9103), ('two', 18177), ('strangers', 16783), ('form', 6923), ('tight', 17673), ('friendship', 7068), ('knowing', 9802), ('already', 855), ('share', 15706), ('bond', 2261), ('taxi', 17337), ('driver', 5361), ('gangster', 7248), ('athlete', 1382), ('struggle', 16849), ('better', 1978), ('lives', 10289), ('despite', 4792), ('obstacles', 12190), ('like', 10225), ('crooked', 4221), ('politicians', 13300), ('evil', 6072), ('dons', 5233), ('caste', 2936), ('barriers', 1722), ('successful', 16925), ('writer', 19411), ('returns', 14668), ('town', 17855), ('launched', 10011), ('career', 2852), ('encountering', 5773), ('people', 12926), ('spark', 16379), ('nostalgic', 12063), ('often', 12270), ('painfully', 12643), ('illuminating', 8712), ('flashbacks', 6741), ('middleaged', 11155), ('divorcee', 5142), ('kolkata', 9815), ('visit', 18806), ('ailing', 688), ('father', 6461), ('longburied', 10361), ('memories', 11034), ('resurface', 14625), ('bringing', 2476), ('discoveries', 5018), ('seiya', 15469), ('knights', 9793), ('zodiac', 19615), ('protect', 13725), ('reincarnation', 14376), ('goddess', 7491), ('athena', 1380), ('prophecy', 13705), ('hangs', 7919), ('all', 786), ('reallife', 14157), ('look', 10385), ('fbi', 6486), ('counterterrorism', 4053), ('operations', 12378), ('features', 6506), ('access', 426), ('sides', 15894), ('sting', 16717), ('government', 7564), ('informant', 8961), ('radicalized', 13972), ('target', 17310), ('docuseries', 5173), ('takes', 17255), ('deep', 4598), ('dive', 5125), ('lucrative', 10491), ('wellness', 19081), ('industry', 8906), ('touts', 17846), ('health', 8071), ('products', 13642), ('live', 10282), ('promises', 13683), ('virus', 18797), ('rampages', 14044), ('lone', 10349), ('man', 10672), ('stays', 16655), ('locked', 10320), ('apartment', 1088), ('digitally', 4928), ('cut', 4359), ('seeking', 15447), ('help', 8144), ('desperate', 4789), ('way', 19003), ('out', 12497), ('diary', 4887), ('anne', 1022), ('franks', 7001), ('retold', 14651), ('alongside', 842), ('five', 6711), ('holocaust', 8370), ('poignant', 13261), ('oscar', 12472), ('winner', 19240), ('helen', 8133), ('mirren', 11286), ('kenya', 9689), ('barris', 1723), ('family', 6383), ('navigate', 11786), ('relationships', 14401), ('race', 13954), ('culture', 4312), ('grappling', 7623), ('newfound', 11906), ('success', 16923), ('comedy', 3607), ('series', 15590), ('pawesome', 12859), ('explores', 6238), ('feline', 6530), ('became', 1828), ('online', 12352), ('icons', 8648), ('earliest', 5491), ('text', 17500), ('memes', 11030), ('celebrity', 3007), ('cat', 2947), ('influencers', 8951), ('pining', 13121), ('crush', 4264), ('years', 19488), ('puts', 13865), ('best', 1955), ('efforts', 5583), ('friend', 7063), ('zone', 19622), ('reveals', 14681), ('getting', 7367), ('married', 10791), ('ayu', 1555), ('ditto', 5121), ('finally', 6647), ('transition', 17939), ('newlyweds', 11913), ('quick', 13922), ('pregnancy', 13483), ('creates', 4146), ('uncertainty', 18261), ('nerdy', 11864), ('schooler', 15304), ('dani', 4434), ('attracts', 1432), ('interest', 9087), ('longtime', 10382), ('lands', 9955), ('cross', 4225), ('hairs', 7854), ('ex', 6083), ('social', 16218), ('media', 10964), ('teenage', 17379), ('hacker', 7834), ('huge', 8529), ('nose', 12056), ('helps', 8151), ('cool', 3962), ('kid', 9714), ('woo', 19327), ('girl', 7411), ('he', 8050), ('secretly', 15424), ('with', 19279), ('celebrates', 3002), ('50th', 298), ('anniversary', 1025), ('harlem', 7971), ('sports', 16501), ('program', 13665), ('inspired', 9039), ('countless', 4055), ('kids', 9722), ('pro', 13609), ('basketball', 1743), ('players', 13203), ('days', 4496), ('exams', 6096), ('teen', 17378), ('girls', 7418), ('make', 10631), ('seaside', 15405), ('getaway', 7364), ('end', 5780), ('adolescence', 547), ('bang', 1674), ('painful', 12642), ('breakup', 2427), ('trio', 18036), ('partyloving', 12789), ('makes', 10636), ('bet', 1963), ('brothers', 2523), ('fall', 6368), ('sisters', 15997), ('quickly', 13923), ('realize', 14153), ('age', 651), ('differences', 4916), ('big', 2015), ('ignore', 8683), ('estranged', 6007), ('mother', 11527), ('dies', 4910), ('woman', 19304), ('follow', 6851), ('quirky', 13939), ('instructions', 9054), ('laid', 9915), ('order', 12428), ('collect', 3544), ('important', 8790), ('inheritance', 8976), ('slacker', 16059), ('owner', 12596), ('public', 13789), ('bath', 1760), ('house', 8498), ('rallies', 14029), ('community', 3669), ('save', 15231), ('developer', 4841), ('comes', 3610), ('open', 12367), ('mall', 10665), ('urbanites', 18530), ('renovating', 14484), ('rundown', 15042), ('sons', 16299), ('disappearance', 4980), ('connected', 3814), ('supernatural', 17011), ('decadesold', 4549), ('vignettes', 18740), ('summer', 16967), ('holidays', 8361), ('vacationers', 18572), ('battle', 1769), ('mosquitoes', 11519), ('suffer', 16939), ('ruined', 15020), ('plans', 13186), ('otherwise', 12485), ('hit', 8319), ('snags', 16164), ('precious', 13466), ('time', 17684), ('off', 12237), ('lagos', 9913), ('journalist', 9510), ('undercover', 18283), ('prostitute', 13721), ('expose', 6247), ('human', 8541), ('trafficking', 17892), ('exploited', 6229), ('ruthless', 15068), ('violence', 18775), ('aiming', 693), ('hasten', 8004), ('uprising', 18516), ('leader', 10055), ('underground', 18291), ('rebellion', 14184), ('dispatches', 5075), ('acrobatic', 475), ('assassin', 1319), ('aeon', 609), ('flux', 6825), ('eliminate', 5650), ('governments', 7566), ('top', 17780), ('orphan', 12460), ('subjected', 16898), ('tests', 17491), ('gave', 7281), ('superpowers', 17013), ('raised', 14014), ('istanbuls', 9267), ('streets', 16808), ('falls', 6373), ('reporter', 14520), ('linked', 10247), ('past', 12807), ('aspiring', 1314), ('dancer', 4426), ('uprooted', 18519), ('senior', 15547), ('torn', 17802), ('boys', 2370), ('shot', 15836), ('dream', 5336), ('escaping', 5980), ('bus', 2644), ('killed', 9728), ('girlfriend', 7413), ('channels', 3085), ('grief', 7672), ('running', 15047), ('coach', 3471), ('wins', 19246), ('miss', 11320), ('nigeria', 11951), ('pageant', 12636), ('unexpected', 18332), ('competition', 3689), ('campaign', 2765), ('south', 16343), ('africa', 637), ('carefree', 2858), ('bachelor', 1569), ('unexpectedly', 18333), ('left', 10099), ('charge', 3104), ('embark', 5694), ('road', 14837), ('trip', 18037), ('change', 3079), ('fierce', 6600), ('mammoth', 10671), ('hunter', 8582), ('dleh', 5153), ('sets', 15614), ('impossible', 8793), ('journey', 9512), ('rescue', 14547), ('loves', 10453), ('vicious', 18707), ('warlord', 18950), ('village', 18754), ('upon', 18507), ('losing', 10419), ('memory', 11037), ('crown', 4246), ('prince', 13578), ('encounters', 5774), ('commoner', 3656), ('experiences', 6210), ('unforgettable', 18349), ('husband', 8592), ('joseon', 9498), ('oldest', 12292), ('bachelorette', 1570), ('spanish', 16371), ('photographer', 13053), ('josé', 9507), ('díaz', 5482), ('spends', 16432), ('100', 3), ('living', 10293), ('alone', 840), ('remote', 14465), ('mountain', 11557), ('nature', 11777), ('documenting', 5171), ('beauty', 1824), ('surroundings', 17080), ('hundred', 8570), ('hardy', 7966), ('souls', 16330), ('diverse', 5130), ('backgrounds', 1581), ('participate', 12770), ('playful', 13204), ('exploring', 6239), ('sex', 15641), ('happiness', 7938), ('aspects', 1310), ('diagnosed', 4876), ('multiple', 11613), ('sclerosis', 15333), ('responds', 14603), ('ironman', 9227), ('triathlon', 18012), ('cranky', 4126), ('fatherinlaws', 6464), ('led', 10094), ('seventhgrader', 15633), ('cj', 3352), ('warned', 18958), ('dangers', 4433), ('decide', 4561), ('middleschool', 11159), ('chronicles', 3303), ('elouise', 5671), ('cobells', 3487), ('long', 10357), ('fight', 6609), ('us', 18540), ('gross', 7715), ('mismanagement', 11316), ('mineralrich', 11245), ('native', 11769), ('american', 914), ('land', 9943), ('marries', 10792), ('fathers', 6466), ('choice', 3267), ('soon', 16301), ('possibility', 13383), ('religion', 14424), ('considers', 3848), ('union', 18372), ('invalid', 9167), ('stylist', 16889), ('hair', 7847), ('designer', 4777), ('makeup', 10638), ('artist', 1275), ('team', 17349), ('give', 7420), ('britains', 2482), ('biggest', 2023), ('fashion', 6439), ('disasters', 4995), ('muchneeded', 11590), ('makeunders', 10637), ('randomly', 14060), ('receiving', 14209), ('handsome', 7911), ('political', 13296), ('bribe', 2448), ('sweet', 17136), ('poor', 13327), ('elderly', 5615), ('decides', 4564), ('treat', 17982), ('shopping', 15822), ('spree', 16519), ('go', 7480), ('smoothly', 16151), ('dealing', 4515), ('personal', 12985), ('demons', 4702), ('son', 16284), ('prizefighter', 13606), ('attempts', 1410), ('return', 14664), ('ring', 14786), ('challenging', 3060), ('rival', 14819), ('12round', 26), ('rematch', 14449), ('pregnant', 13484), ('leave', 10083), ('boyfriend', 2364), ('assume', 1350), ('identity', 8665), ('america', 913), ('12', 25), ('later', 9991), ('reunites', 14673), ('korea', 9831), ('parentstobe', 12740), ('claire', 3359), ('ryan', 15075), ('suburban', 16917), ('rental', 14489), ('home', 8374), ('unaware', 18248), ('someone', 16276), ('watching', 18990), ('every', 6060), ('via', 18698), ('hidden', 8203), ('cameras', 2760), ('perplexing', 12973), ('suicide', 16951), ('classmate', 3384), ('receives', 14208), ('tapes', 17304), ('unravel', 18421), ('mystery', 11675), ('tragic', 17895), ('cast', 2934), ('members', 11027), ('writers', 19414), ('producers', 13638), ('mental', 11053), ('professionals', 13649), ('discuss', 5023), ('difficult', 4920), ('issues', 9265), ('themes', 17535), ('explored', 6235), ('13', 30), ('reasons', 14172), ('why', 19162), ('agrees', 670), ('appear', 1106), ('show', 15840), ('million', 11220), ('prize', 13604), ('challenges', 3059), ('extreme', 6291), ('realizes', 14155), ('made', 10563), ('grave', 7629), ('mistake', 11332), ('thoughtprovoking', 17600), ('scholars', 15298), ('activists', 488), ('analyze', 951), ('criminalization', 4189), ('african', 638), ('americans', 918), ('prison', 13592), ('boom', 2287), ('oprah', 12400), ('winfrey', 19235), ('sits', 16003), ('director', 4967), ('ava', 1489), ('duvernay', 5460), ('oscarnominated', 12473), ('film', 6633), ('historical', 8312), ('cycles', 4376), ('oppression', 12398), ('broken', 2499), ('ming', 11248), ('dynasty', 5475), ('quinglong', 13933), ('jinyiwei', 9432), ('squad', 16541), ('highly', 8232), ('trained', 17904), ('former', 6927), ('street', 16805), ('urchins', 18532), ('eunuch', 6023), ('jia', 9410), ('unseats', 18442), ('emperor', 5740), ('called', 2736), ('action', 479), ('betrayed', 1971), ('upping', 18514), ('ante', 1043), ('sequel', 15576), ('renting', 14491), ('vacation', 18571), ('that', 17518), ('customized', 4357), ('violate', 18772), ('privacy', 13598), ('google', 7534), ('executive', 6141), ('boldly', 2243), ('deathdefying', 4523), ('mission', 11325), ('travel', 17964), ('freefall', 7026), ('back', 1572), ('without', 19284), ('rocket', 14883), ('tasked', 17318), ('escorting', 5985), ('prosecution', 13713), ('witness', 19286), ('court', 4073), ('aging', 664), ('cop', 3970), ('gears', 7290), ('16block', 52), ('trek', 17992), ('theyll', 17555), ('lucky', 10490), ('nearing', 11812), ('midlife', 11163), ('crisis', 4200), ('thirtysomething', 17583), ('mike', 11187), ('wishes', 19269), ('doover', 5240), ('exactly', 6085), ('gets', 7366), ('wakes', 18898), ('17', 56), ('again', 646), ('terminal', 17455), ('cancer', 2782), ('leaves', 10084), ('behind', 1867), ('18', 62), ('sentimental', 15564), ('gifts', 7389), ('unborn', 18254), ('receive', 14206), ('birthday', 2079), ('reaches', 14133), ('womanhood', 19306), ('spain', 16367), ('relinquishes', 14427), ('last', 9981), ('colonies', 3568), ('battlefatigued', 1771), ('outpost', 12524), ('engages', 5814), ('brutal', 2536), ('sometimes', 16279), ('clash', 3370), ('filipino', 6626), ('insurgents', 9065), ('los', 10414), ('angeles', 992), ('settles', 15620), ('cozy', 4103), ('complex', 3700), ('disturbing', 5115), ('sense', 15552), ('filmmakers', 6637), ('occult', 12199), ('rituals', 14817), ('tied', 17666), ('abandoned', 350), ('warehouse', 18948), ('gradually', 7584), ('horror', 8454), ('closer', 3447), ('think', 17569), ('bumbling', 2597), ('paris', 12744), ('policeman', 13281), ('doggedly', 5186), ('master', 10834), ('thief', 17563), ('repeatedly', 14506), ('eludes', 5678), ('even', 6044), ('theyre', 17556), ('men', 11040), ('graduate', 7585), ('krish', 9850), ('ananya', 954), ('hope', 8429), ('parents', 12739), ('approval', 1133), ('marry', 10794), ('cultural', 4310), ('2014', 190), ('academy', 415), ('award', 1529), ('feature', 6503), ('backup', 1589), ('vocalists', 18832), ('legends', 10109), ('support', 17038), ('convicted', 3944), ('horrified', 8451), ('prove', 13743), ('innocence', 9002), ('dogged', 5185), ('investigator', 9186), ('truth', 18090), ('worlds', 19362), ('kpop', 9844), ('festival', 6573), ('21st', 216), ('2015', 191), ('groups', 7722), ('exo', 6180), ('4minute', 285), ('shinee', 15776), ('electrifying', 5628), ('seoul', 15568), ('cup', 4320), ('stadium', 16567), ('working', 19349), ('artificial', 1270), ('intelligence', 9071), ('investigate', 9179), ('failure', 6345), ('deadly', 4508), ('mars', 10796), ('landing', 9945), ('controller', 3924), ('astonishing', 1357), ('discovery', 5021), ('1979', 143), ('single', 15970), ('bohemian', 2235), ('mom', 11419), ('dorothea', 5252), ('hoping', 8435), ('place', 13170), ('asks', 1307), ('jeffs', 9368), ('straightandnarrow', 16768), ('changes', 3081), ('abruptly', 392), ('buddies', 2565), ('take', 17250), ('bash', 1739), ('night', 11955), ('crucial', 4249), ('med', 10957), ('interview', 9133), ('experiment', 6212), ('daughters', 4481), ('sends', 15542), ('mothers', 11533), ('disguised', 5038), ('21yearolds', 217), ('member', 11026), ('gen', 7302), ('historys', 8317), ('greatest', 7642), ('stands', 16595), ('battalion', 1767), ('21', 214), ('sikh', 15916), ('fights', 6614), ('defend', 4613), ('attack', 1401), ('10000', 5), ('afghans', 631), ('coaches', 3473), ('montreal', 11463), ('soccer', 16216), ('chase', 3132), ('dreams', 5343), ('stardom', 16606), ('erupt', 5967), ('passion', 12801), ('frozen', 7095), ('tundra', 18116), ('futuristic', 7169), ('arizona', 1210), ('humans', 8553), ('soldier', 16251), ('hunts', 8585), ('bioengineered', 2058), ('revived', 14703), ('experimental', 6213), ('procedure', 13620), ('extra', 6282), ('24', 225), ('hours', 8497), ('uses', 18550), ('avenge', 1500), ('child', 3223), ('redeem', 14278), ('himself', 8281), ('four', 6959), ('learn', 10075), ('inherited', 8978), ('ancestral', 961), ('claim', 3355), ('greedy', 7648), ('feudal', 6578), ('lord', 10404), ('threatens', 17610), ('over', 12541), ('twentysix', 18160), ('1980', 144), ('massacre', 10828), ('gwangju', 7813), ('relatives', 14403), ('victims', 18710), ('come', 3601), ('together', 17742), ('infamous', 8919), ('orchestrator', 12424), ('musician', 11652), ('suspicious', 17105), ('circumstances', 3333), ('harddrinking', 7950), ('music', 11646), ('fan', 6390), ('stars', 16619), ('die', 4907), ('27', 236), ('explore', 6234), ('surrounding', 17079), ('deaths', 4524), ('jimi', 9421), ('hendrix', 8157), ('jim', 9420), ('morrison', 11505), ('brian', 2447), ('jones', 9485), ('janis', 9329), ('joplin', 9492), ('kurt', 9874), ('cobain', 3485), ('amy', 945), ('winehouse', 19229), ('drunken', 5400), ('antics', 1055), ('result', 14622), ('property', 13703), ('damage', 4418), ('alcoholic', 749), ('enters', 5879), ('rehab', 14360), ('meets', 10990), ('resident', 14572), ('outlook', 12520), ('fiancé', 6585), ('acts', 497), ('strangely', 16781), ('invitation', 9196), ('florist', 6810), ('tiny', 17706), ('scrap', 15363), ('paper', 12699), ('terminally', 17456), ('ill', 8697), ('agent', 657), ('accepts', 425), ('risky', 14812), ('exchange', 6112), ('drug', 5384), ('might', 11173), ('survive', 17086), ('effects', 5579), ('convicts', 3947), ('row', 14994), ('stories', 16753), ('emerge', 5714), ('motivations', 11539), ('soliciting', 16257), ('ray', 14124), ('begins', 1858), ('transitioning', 17941), ('male', 10655), ('grandmother', 7607), ('cope', 3972), ('tracking', 17872), ('indonesian', 8890), ('break', 2418), ('records', 14251), ('becoming', 1832), ('first', 6689), ('nation', 11760), ('medal', 10958), ('archery', 1169), ('olympics', 12310), ('1988', 153), ('attending', 1417), ('premier', 13491), ('colleges', 3556), ('miserable', 11303), ('engineering', 5820), ('beat', 1815), ('schools', 15311), ('draconian', 5296), ('muslim', 11658), ('womens', 19313), ('activist', 487), ('india', 8869), ('protests', 13736), ('oral', 12411), ('divorces', 5143), ('starting', 16625), ('movement', 11571), ('reclaim', 14225), ('religious', 14426), ('constitutional', 3863), ('rights', 14776), ('dissatisfied', 5094), ('bridal', 2452), ('shop', 15814), ('turn', 18135), ('topsyturvy', 17791), ('care', 2847), ('exgirlfriends', 6152), ('baby', 1564), ('breaks', 2424), ('hopes', 8434), ('restoring', 14618), ('lively', 10286), ('nightclub', 11956), ('crooks', 4222), ('planning', 13185), ('bank', 1681), ('heist', 8129), ('wind', 19222), ('abducting', 362), ('pizza', 13165), ('delivery', 4675), ('force', 6886), ('commit', 3642), ('robbery', 14856), ('strict', 16823), ('limit', 10235), ('dissident', 5098), ('sneak', 16179), ('refugees', 14328), ('denmark', 4712), ('prevented', 13548), ('returning', 14667), ('fiery', 6603), ('spiritless', 16464), ('relationship', 14400), ('victim', 18708), ('dominant', 5206), ('mafia', 10580), ('boss', 2318), ('imprisons', 8807), ('gives', 7422), ('society', 16224), ('familial', 6379), ('obligations', 12165), ('manga', 10689), ('unconventional', 18271), ('sexual', 15652), ('freedom', 7024), ('liberation', 10181), ('crashlanding', 4130), ('royal', 15002), ('aliens', 781), ('blend', 2134), ('evade', 6032), ('intergalactic', 9094), ('bounty', 2347), ('hunters', 8583), ('crashes', 4128), ('forest', 6906), ('rainy', 14012), ('criminals', 4190), ('battling', 1779), ('wild', 19187), ('animals', 1009), ('launching', 10013), ('restaurant', 14610), ('ambitious', 906), ('chef', 3177), ('allconsuming', 790), ('upscale', 18521), ('eatery', 5519), ('tales', 17264), ('abound', 385), ('singing', 15969), ('furry', 7160), ('lampo', 9937), ('milady', 11193), ('pilou', 13116), ('meatball', 10946), ('band', 1663), ('1960s', 125), ('madrid', 10575), ('producer', 13637), ('guillermo', 7769), ('rojas', 14910), ('launches', 10012), ('roll', 14917), ('label', 9889), ('singer', 15961), ('robert', 14860), ('clever', 3416), ('maribel', 10759), ('small', 16129), ('towns', 17856), ('letters', 10157), ('santa', 15189), ('smoke', 16145), ('elves', 5683), ('venture', 18666), ('north', 12049), ('pole', 13278), ('retrieve', 14659), ('wish', 19268), ('reunite', 14671), ('dying', 5469), ('pals', 12675), ('recreate', 14263), ('desert', 4767), ('mali', 10660), ('along', 841), ('mechanic', 10951), ('extremely', 6292), ('straight', 16767), ('used', 18546), ('idea', 8653), ('right', 14773), ('guy', 7810), ('electionnight', 5623), ('manager', 10675), ('polling', 13303), ('site', 16001), ('gubernatorial', 7754), ('candidate', 2784), ('corrupt', 4015), ('incumbents', 8854), ('victory', 18718), ('yanto', 19472), ('kidnapped', 9717), ('mobster', 11377), ('silly', 15921), ('slapstick', 16065), ('campy', 2774), ('crimefighting', 4180), ('ensues', 5863), ('drama', 5315), ('when', 19123), ('40', 267), ('brooklyn', 2509), ('walkup', 18913), ('attempt', 1407), ('sell', 15522), ('buy', 2673), ('italian', 9269), ('prime', 13573), ('minister', 11262), ('lover', 10451), ('official', 12258), ('budapest', 2560), ('christmas', 3294), ('week', 19043), ('things', 17568), ('novelists', 12092), ('turned', 18137), ('upside', 18524), ('encounter', 5771), ('outside', 12531), ('leads', 10059), ('intense', 9076), ('affair', 614), ('diplomats', 4960), ('falling', 6370), ('pretty', 13545), ('art', 1258), ('shortterm', 15835), ('marine', 10767), ('veterinarian', 18693), ('healthy', 8075), ('twentysomething', 18161), ('comically', 3617), ('early', 5492), ('slapped', 16064), ('diagnosis', 4878), ('5050', 297), ('survival', 17083), ('climb', 3425), ('highest', 8223), ('peak', 12883), ('java', 9345), ('overcoming', 12548), ('discovering', 5019), ('meaning', 10936), ('keep', 9670), ('selly', 15528), ('tries', 18027), ('earn', 5496), ('money', 11431), ('making', 10639), ('appearance', 1107), ('party', 12786), ('mobsters', 11378), ('loyal', 10469), ('struggles', 16850), ('afloat', 632), ('driving', 5365), ('heroinaddicted', 8183), ('brother', 2518), ('detox', 4830), ('center', 3023), ('looking', 10388), ('2yearold', 241), ('armed', 1217), ('gunmen', 7792), ('seize', 15470), ('iranian', 9211), ('embassy', 5700), ('tense', 17442), ('sixday', 16010), ('standoff', 16593), ('british', 2484), ('prepare', 13498), ('raid', 13997), ('faking', 6364), ('tech', 17362), ('billionaire', 2047), ('recruits', 14271), ('international', 9101), ('operatives', 12380), ('bold', 2239), ('bloody', 2177), ('dictator', 4896), ('volatile', 18840), ('six', 16009), ('approach', 1128), ('college', 3554), ('graduation', 7588), ('opportunities', 12389), ('threaten', 17607), ('undertake', 18305), ('grueling', 7733), ('difficulties', 4921), ('store', 16749), ('merely', 11075), ('physical', 13061), ('recruited', 14269), ('sheriff', 15755), ('volunteers', 18850), ('infiltrate', 8940), ('county', 4062), ('prisons', 13596), ('corruption', 4017), ('crime', 4177), ('within', 19283), ('hapless', 7930), ('stunning', 16877), ('psychotic', 13785), ('rob', 14851), ('loathsome', 10307), ('sugar', 16945), ('daddy', 4395), ('scheme', 15289), ('illconceived', 8700), ('violent', 18776), ('report', 14518), ('husbands', 8593), ('appears', 1111), ('police', 13280), ('officer', 12255), ('traces', 17866), ('cryptic', 4275), ('connection', 3817), ('loyalties', 10471), ('tested', 17484), ('cruelties', 4252), ('revealed', 14679), ('business', 2650), ('partners', 12779), ('spend', 16430), ('evening', 6045), ('debating', 4530), ('pay', 12865), ('committed', 3650), ('excitement', 6117), ('scenes', 15284), ('seven', 15628), ('major', 10626), ('events', 6048), ('food', 6863), ('given', 7421), ('genie', 7324), ('embarks', 5697), ('madcap', 10559), ('messy', 11102), ('search', 15400), ('wouldbe', 19382), ('spiced', 16437), ('liberally', 10177), ('black', 2103), ('bollywood', 2245), ('lethal', 10153), ('numerous', 12121), ('flawed', 6754), ('examines', 6092), ('cuteness', 4361), ('adorability', 558), ('animal', 1007), ('species', 16406), ('thrive', 17624), ('variety', 18616), ('environments', 5912), ('fangs', 6398), ('claws', 3396), ('venomous', 18663), ('stings', 16719), ('wield', 19176), ('weapons', 19016), ('creature', 4156), ('crowned', 4247), ('fiercest', 6602), ('powerful', 13430), ('cats', 2976), ('indestructible', 8868), ('arachnids', 1150), ('fleshmelting', 6767), ('pit', 13147), ('vipers', 18783), ('latin', 9995), ('americas', 919), ('deadliest', 4507), ('creatures', 4157), ('avalanches', 1495), ('volcanoes', 18842), ('natural', 11773), ('cataclysms', 2950), ('choose', 3272), ('destructive', 4808), ('paths', 12826), ('shy', 15880), ('natsu', 11772), ('awakens', 1527), ('part', 12766), ('chosen', 3282), ('ensure', 5865), ('humanity', 8546), ('changed', 3080), ('wonders', 19321), ('gestation', 7362), ('cuttingedge', 4366), ('cgi', 3040), ('nine', 11974), ('months', 11462), ('womb', 19310), ('affect', 616), ('ones', 12347), ('shake', 15674), ('meet', 10986), ('encourages', 5777), ('embrace', 5708), ('heroic', 8180), ('workers', 19347), ('contain', 3879), ('ebola', 5525), ('outbreak', 12500), ('arrives', 1246), ('symptoms', 17188), ('gymnast', 7819), ('lacks', 9900), ('confidence', 3777), ('needs', 11825), ('reach', 14132), ('spot', 16503), ('national', 11761), ('captures', 2832), ('joy', 9516), ('usmexico', 18557), ('border', 2306), ('sharing', 15710), ('short', 15826), ('bittersweet', 2095), ('reunion', 14670), ('2018', 196), ('babysitters', 1567), ('battles', 1776), ('boogeyman', 2278), ('monsters', 11454), ('nab', 11695), ('halloween', 7880), ('stressedout', 16817), ('moms', 11425), ('carla', 2872), ('kiki', 9724), ('holiday', 8360), ('daunting', 4482), ('meeting', 10988), ('awkward', 1543), ('glamorous', 7429), ('businesswoman', 2656), ('traditionbound', 17886), ('begin', 1855), ('curious', 4334), ('idealistic', 8657), ('interfaith', 9091), ('observes', 12179), ('increasingly', 8850), ('intolerant', 9144), ('financial', 6650), ('strain', 16772), ('overworked', 12588), ('engineer', 5818), ('autism', 1474), ('regresses', 14353), ('fantasy', 6408), ('bullying', 2593), ('28yearold', 238), ('layabout', 10044), ('reexamine', 14309), ('dysfunctional', 5478), ('assembles', 1329), ('respects', 14600), ('won', 19314), ('pass', 12793), ('wartime', 18974), ('details', 4812), ('pivotal', 13161), ('1944', 112), ('allied', 811), ('task', 17317), ('tried', 18025), ('war', 18943), ('ii', 8689), ('seizing', 15473), ('control', 3922), ('key', 9697), ('bridges', 2459), ('holland', 8363), ('lifestyle', 10207), ('line', 10242), ('wealthy', 19012), ('charmer', 3122), ('poses', 13369), ('ranch', 14054), ('hand', 7898), ('hardworking', 7965), ('work', 19343), ('debt', 4537), ('cares', 2863), ('wounded', 19384), ('horse', 8458), ('teaches', 17346), ('expected', 6201), ('wed', 19034), ('childhood', 3225), ('obsessed', 12182), ('football', 6873), ('rid', 14753), ('truly', 18081), ('heart', 8082), ('orphanage', 12461), ('ej', 5608), ('becomes', 1831), ('boxer', 2358), ('confronts', 3797), ('formidable', 6929), ('villain', 18758), ('trail', 17898), ('possible', 13384), ('diamond', 4882), ('caught', 2978), ('tricky', 18024), ('clues', 3465), ('feelings', 6521), ('suspect', 17096), ('sent', 15559), ('abroad', 390), ('scoop', 15335), ('dashing', 4471), ('whos', 19158), ('poised', 13266), ('king', 9752), ('brings', 2477), ('ultimate', 18222), ('gift', 7386), ('aldovia', 753), ('queen', 13908), ('amber', 903), ('kingdom', 9753), ('unwrapping', 18482), ('monarchy', 11428), ('helping', 8149), ('richard', 14740), ('secure', 15428), ('plan', 13178), ('wedding', 19036), ('simple', 15937), ('tastes', 17322), ('protocol', 13737), ('parisian', 12747), ('marinette', 10770), ('transforms', 17936), ('superhero', 16999), ('ladybug', 9909), ('lonely', 10352), ('adrien', 570), ('runs', 15049), ('away', 1535), ('sam', 15147), ('dance', 4424), ('toil', 17744), ('stepmothers', 16685), ('diner', 4948), ('lost', 10422), ('cell', 3011), ('phone', 13046), ('bring', 2475), ('vain', 18579), ('stepmother', 16684), ('mean', 10935), ('stepsisters', 16689), ('works', 19353), ('elf', 5646), ('tree', 17989), ('lot', 10423), ('miracle', 11275), ('satire', 15211), ('stanley', 16600), ('kubrick', 9860), ('sociopath', 16228), ('dystopian', 5480), ('england', 5823), ('undergoes', 18287), ('rehabilitation', 14362), ('therapy', 17546), ('engrossing', 5830), ('melodrama', 11021), ('golden', 7509), ('globenominated', 7459), ('debra', 4536), ('winger', 19238), ('plays', 13211), ('sheltered', 15748), ('slowwitted', 16124), ('widowed', 19174), ('aunt', 1453), ('frances', 6986), ('dry', 5402), ('cleaners', 3400), ('liveaction', 10283), ('adventure', 585), ('heads', 8062), ('hawaii', 8032), ('timmy', 17698), ('learns', 10079), ('source', 16339), ('fairy', 6354), ('magic', 10588), ('hands', 7910), ('gentle', 7332), ('lawabiding', 10027), ('grace', 7577), ('confesses', 3771), ('killing', 9732), ('skeptical', 16024), ('lawyer', 10040), ('tyler', 18189), ('perry', 12974), ('filmmaker', 6636), ('puzzle', 13867), ('pieces', 13090), ('history', 8315), ('controversial', 3928), ('figure', 6616), ('corporate', 4002), ('headhunter', 8054), ('promotion', 13688), ('derail', 4748), ('mdear', 10928), ('act', 477), ('church', 3313), ('grandpa', 7609), ('valuable', 18593), ('lesson', 10150), ('timid', 17696), ('familys', 6386), ('sacred', 15088), ('tycoon', 18187), ('gifted', 7387), ('flees', 6762), ('austere', 1460), ('roots', 14964), ('pursue', 13848), ('wealth', 19011), ('among', 929), ('copenhagens', 3974), ('pride', 13563), ('propelling', 13699), ('ruin', 15019), ('brief', 2461), ('full', 7121), ('triumph', 18044), ('lampoon', 9938), ('cofounder', 3516), ('doug', 5265), ('kenney', 9685), ('built', 2583), ('empire', 5744), ('molding', 11415), ('pop', 13330), ('1970s', 134), ('following', 6855), ('fatal', 6456), ('car', 2835), ('crash', 4127), ('mans', 10718), ('spirit', 16461), ('remains', 14442), ('stuck', 16854), ('shared', 15708), ('doors', 5238), ('wreck', 19397), ('graphic', 7617), ('seemed', 15452), ('discover', 5016), ('went', 19092), ('wrong', 19422), ('familiarlooking', 6381), ('stranger', 16782), ('cory', 4020), ('remember', 14450), ('everyone', 6064), ('chrissy', 3286), ('freddie', 7018), ('hunt', 8580), ('kingsized', 9759), ('candy', 2786), ('bars', 1728), ('worth', 19378), ('spooky', 16497), ('corys', 4021), ('spending', 16431), ('jealousy', 9360), ('flares', 6740), ('cousin', 4081), ('rosie', 14972), ('ride', 14755), ('seemingly', 15453), ('idyllic', 8670), ('crumble', 4256), ('restrictive', 14620), ('starts', 16627), ('bookstore', 2284), ('aardman', 344), ('animations', 1013), ('wallace', 18915), ('gromit', 7706), ('morph', 11499), ('fans', 6402), ('collaborators', 3538), ('retrospective', 14661), ('celebrating', 3003), ('studios', 16864), ('40th', 272), ('dissects', 5096), ('case', 2921), ('whose', 19159), ('sparked', 16380), ('altright', 874), ('theories', 17541), ('spoof', 16491), ('scary', 15274), ('movies', 11576), ('settling', 15621), ('horrifyingly', 8453), ('hilarious', 8268), ('await', 1520), ('ghost', 7369), ('serial', 15589), ('resurfaces', 14627), ('jordan', 9493), ('silver', 15924), ('putting', 13866), ('torment', 17797), ('heyday', 8193), ('stillvirile', 16714), ('reconnect', 14237), ('onset', 12355), ('degenerative', 4641), ('neural', 11884), ('disorder', 5065), ('hilarys', 8272), ('hire', 8297), ('goodlooking', 7527), ('backfires', 1579), ('try', 18093), ('fool', 6867), ('neighbor', 11843), ('blocks', 2161), ('view', 18736), ('commercial', 3636), ('billboard', 2043), ('hong', 8404), ('kong', 9819), ('resorts', 14592), ('drastic', 5323), ('imaginative', 8731), ('measures', 10943), ('down', 5272), ('yijuan', 19503), ('mentally', 11055), ('kaiqi', 9596), ('happy', 7939), ('face', 6317), ('misfortune', 11309), ('criminal', 4187), ('intrigue', 9148), ('marital', 10772), ('strife', 16826), ('exorcism', 6184), ('professional', 13646), ('nba', 11799), ('hooper', 8427), ('coney', 3763), ('islands', 9251), ('stephon', 16683), ('marbury', 10743), ('navigates', 11787), ('pressures', 13535), ('pitfalls', 13153), ('peaks', 12884), ('unsolved', 18448), ('novelist', 12091), ('unhappy', 18358), ('fantasizes', 6404), ('turns', 18141), ('selfserving', 15518), ('mythical', 11683), ('bid', 2011), ('invincibility', 9193), ('mercy', 11072), ('see', 15440), ('otherworldly', 12486), ('beings', 1872), ('singapore', 15959), ('investigates', 9181), ('chinese', 3249), ('migrant', 11177), ('construction', 3866), ('worker', 19346), ('spent', 16434), ('sleepless', 16086), ('nights', 11962), ('benefits', 1919), ('lingering', 10245), ('questions', 13918), ('around', 1231), ('kratom', 9847), ('leaf', 10061), ('alternative', 868), ('opioid', 12385), ('painkillers', 12644), ('juan', 9525), ('manuel', 10726), ('fangio', 6397), ('formula', 6932), ('winning', 19244), ('championships', 3070), ('1950s', 119), ('protective', 13729), ('gear', 7287), ('safety', 15104), ('resilient', 14580), ('treatments', 17986), ('traumas', 17959), ('pediatric', 12896), ('filmed', 6634), ('course', 4071), ('willful', 19202), ('hired', 8298), ('design', 4775), ('garden', 7256), ('versailles', 18682), ('louis', 10436), ('xiv', 19451), ('ensnared', 5861), ('romantic', 14935), ('complications', 3708), ('icon', 8645), ('carol', 2886), ('burnett', 2635), ('tv', 18150), ('panel', 12689), ('adults', 578), ('guests', 7760), ('solve', 16266), ('problems', 13617), ('honesty', 8400), ('knack', 9788), ('drawing', 5327), ('develops', 4846), ('musically', 11648), ('selfdiscovery', 15497), ('tough', 17828), ('lovestruck', 10455), ('teenager', 17381), ('nextdoor', 11925), ('grow', 7724), ('adulthood', 576), ('latasha', 9986), ('harlins', 7972), ('flashpoint', 6743), ('1992', 158), ('la', 9886), ('evocatively', 6076), ('15yearolds', 49), ('selfmade', 15508), ('millionaire', 11221), ('ian', 8629), ('thinks', 17572), ('caring', 2870), ('joanna', 9438), ('put', 13863), ('test', 17482), ('stewardess', 16703), ('karyn', 9643), ('choi', 3266), ('kangta', 9614), ('skills', 16039), ('thirst', 17577), ('revenge', 14689), ('killers', 9731), ('fit', 6707), ('anger', 998), ('serious', 15591), ('injury', 8989), ('sidelined', 15892), ('hometown', 8390), ('reluctantly', 14437), ('train', 17903), ('youth', 19536), ('overbearing', 12544), ('kickstart', 9713), ('overwhelmed', 12585), ('illness', 8707), ('understand', 18301), ('complexity', 3703), ('fantastic', 6405), ('consoling', 3851), ('monster', 11452), ('abel', 371), ('morales', 11484), ('avoid', 1516), ('corruptions', 4018), ('easy', 5514), ('path', 12820), ('pursues', 13851), ('amid', 922), ('1981', 146), ('excoriates', 6126), ('noted', 12070), ('antideathpenalty', 1056), ('questionable', 13916), ('methods', 11117), ('got', 7555), ('freed', 7023), ('1999', 166), ('entrepreneurs', 5902), ('worldwide', 19366), ('alternatives', 869), ('current', 4337), ('capitalist', 2810), ('structures', 16848), ('advocating', 607), ('profitable', 13660), ('businesses', 2652), ('also', 859), ('tackle', 17216), ('inequality', 8912), ('nears', 11814), ('bridetobe', 2456), ('visited', 18807), ('angel', 990), ('could', 4037), ('shed', 15733), ('followed', 6852), ('runin', 15043), ('grieco', 7671), ('dimwits', 4946), ('steve', 16701), ('gain', 7198), ('entry', 5906), ('swanky', 17118), ('saturday', 15218), ('sketch', 16026), ('1888', 77), ('amsterdam', 940), ('headstrong', 8064), ('violin', 18779), ('maker', 10635), ('immersed', 8743), ('peril', 12959), ('businessmen', 2655), ('guard', 7746), ('catches', 2965), ('writertelevision', 19415), ('host', 8472), ('shoplifting', 15818), ('instead', 9047), ('turning', 18139), ('in', 8819), ('rule', 15026), ('1991', 157), ('politician', 13299), ('detlev', 4827), ('rohwedder', 14908), ('germanys', 7356), ('tumultuous', 18114), ('reunification', 14669), ('confessing', 3772), ('unusual', 18468), ('repressed', 14529), ('prompted', 13690), ('sexuality', 15654), ('highpriced', 8236), ('call', 2734), ('nina', 11973), ('james', 9317), ('cheating', 3162), ('her', 8164), ('calling', 2740), ('pretending', 13542), ('another', 1037), ('discovers', 5020), ('oceans', 12215), ('brimming', 2473), ('plastic', 13191), ('waste', 18983), ('pollutions', 13305), ('environmental', 5910), ('impacts', 8762), ('relative', 14402), ('jules', 9542), ('daly', 4417), ('travels', 17970), ('niece', 11945), ('nephew', 11861), ('europe', 6025), ('gloria', 7468), ('groove', 7713), ('alexia', 766), ('twister', 18171), ('drag', 5305), ('artists', 1280), ('stage', 16569), ('makeover', 10633), ('isolated', 9258), ('revive', 14702), ('homes', 8385), ('foreigners', 6900), ('arrive', 1245), ('shock', 15801), ('shows', 15852), ('russell', 15060), ('peters', 13006), ('and', 964), ('funny', 7150), ('special', 16401), ('interested', 9088), ('movie', 11574), ('girlfriends', 7415), ('uncle', 18264), ('claims', 3358), ('longdead', 10362), ('storybook', 16760), ('popoy', 13333), ('basha', 1740), ('ever', 6051), ('imagined', 8733), ('shifting', 15767), ('times', 17691), ('kept', 9691), ('decadeslong', 4548), ('coming', 3623), ('set', 15610), ('impasse', 8766), ('tehran', 17388), ('beset', 1951), ('bitter', 2093), ('feud', 6577), ('involving', 9205), ('pious', 13136), ('caretaker', 2864), ('dad', 4394), ('extraordinary', 6285), ('baudelaire', 1780), ('orphans', 12464), ('trials', 18008), ('tribulations', 18016), ('count', 4045), ('olaf', 12287), ('fateful', 6459), ('quest', 13914), ('unlock', 18399), ('longheld', 10369), ('secrets', 15425), ('aspect', 1309), ('unraveling', 18423), ('jewish', 9406), ('physics', 13066), ('seeks', 15448), ('rabbis', 13948), ('spiritual', 16466), ('guidance', 7762), ('shaun', 15727), ('flock', 6795), ('adorable', 559), ('alien', 779), ('ship', 15783), ('crashlands', 4131), ('near', 11806), ('mossy', 11521), ('bottom', 2337), ('farm', 6419), ('sparks', 16383), ('ufo', 18211), ('frenzy', 7049), ('class', 3375), ('bully', 2592), ('deaf', 4510), ('hed', 8108), ('tormented', 17798), ('grade', 7581), ('feels', 6522), ('unworthy', 18480), ('redemption', 14283), ('streamofconsciousness', 16804), ('centers', 3025), ('gay', 7285), ('reeling', 14296), ('lovers', 10452), ('recent', 14210), ('argentine', 1194), ('legal', 10105), ('ethical', 6014), ('countryside', 4061), ('pick', 13076), ('infant', 8923), ('waiting', 18891), ('adopt', 551), ('ace', 453), ('news', 11917), ('louisiana', 10438), ('flooding', 6800), ('reckless', 14219), ('teens', 17384), ('kill', 9727), ('amish', 924), ('prosecutor', 13714), ('youths', 19538), ('condemnation', 3752), ('bo', 2208), ('giftgiving', 7388), ('good', 7525), ('enough', 5851), ('study', 16866), ('claus', 3391), ('reckons', 14224), ('aftermath', 643), ('younger', 19530), ('incarceration', 8827), ('greater', 7641), ('taipei', 17245), ('san', 15163), ('francisco', 6992), ('swap', 17119), ('daring', 4455), ('pact', 12627), ('embarking', 5696), ('journeys', 9514), ('filled', 6630), ('memoirs', 11032), ('author', 1467), ('amos', 930), ('oz', 12605), ('poetic', 13258), ('shares', 15709), ('suffering', 16941), ('independent', 8865), ('israel', 9260), ('gabriela', 7184), ('cámara', 4389), ('opens', 12371), ('cala', 2720), ('similar', 15929), ('menu', 11060), ('unusually', 18469), ('welcoming', 19066), ('kitchen', 9775), ('philandering', 13032), ('club', 3459), ('promoter', 13686), ('rich', 14739), ('clue', 3462), ('mayhem', 10896), ('unleash', 18389), ('carry', 2903), ('dads', 4397), ('dai', 4402), ('tianqing', 17653), ('taiwan', 17246), ('karma', 9638), ('permit', 12969), ('speak', 16394), ('thousand', 17602), ('words', 19342), ('fasttalking', 6453), ('jack', 9292), ('syllable', 17178), ('turmoil', 18134), ('chinas', 3247), ('civil', 3345), ('kuomintang', 9871), ('pilots', 13115), ('pain', 12641), ('leaving', 10085), ('strength', 16812), ('bonds', 2264), ('junkyard', 9569), ('eve', 6043), ('hank', 7922), ('trash', 17957), ('truck', 18073), ('rescuing', 14552), ('newly', 11910), ('engaged', 5812), ('couples', 4065), ('jamaica', 9315), ('mischievous', 11295), ('ways', 19007), ('facing', 6328), ('drought', 5376), ('hungry', 8577), ('tiger', 17671), ('noble', 11997), ('cow', 4096), ('fable', 6311), ('children', 3229), ('book', 2279), ('kannada', 9616), ('folk', 6845), ('song', 16286), ('uruguayan', 18538), ('president', 13525), ('mujica', 11599), ('tupamaro', 18122), ('prisoners', 13595), ('solitary', 16260), ('confinement', 3782), ('torture', 17809), ('unfulfilled', 18353), ('hides', 8209), ('budding', 2566), ('interior', 9096), ('bill', 2042), ('murray', 11639), ('rounds', 14985), ('allstar', 827), ('mischief', 11294), ('barroom', 1725), ('camaraderie', 2750), ('irreverent', 9235), ('twist', 18169), ('height', 8120), ('cold', 3529), ('1960', 124), ('andré', 981), ('merlaux', 11081), ('french', 7041), ('service', 15602), ('contends', 3889), ('enemies', 5803), ('foreign', 6898), ('bureaucratic', 2619), ('job', 9440), ('optimistic', 12404), ('envisioned', 5914), ('bad', 1595), ('landon', 9952), ('opposite', 12394), ('campus', 2773), ('bookworm', 2286), ('jamie', 9319), ('play', 13199), ('blooms', 2179), ('tear', 17355), ('apart', 1086), ('anonymous', 1034), ('tip', 17707), ('bomb', 2251), ('commissioner', 3639), ('negotiate', 11838), ('terrorist', 17472), ('demands', 4686), ('release', 14408), ('militants', 11205), ('officers', 12256), ('innovative', 9008), ('mentoring', 11058), ('promising', 13684), ('harsh', 7988), ('ganginfested', 7243), ('watts', 18998), ('neighborhood', 11844), ('peculiar', 12891), ('catch', 2964), ('crushs', 4268), ('attention', 1419), ('it', 9268), ('blur', 2202), ('beatrix', 1819), ('cant', 2799), ('inducted', 8897), ('witch', 19274), ('unfortunate', 18351), ('incident', 8833), ('pending', 12909), ('title', 17720), ('fast', 6443), ('disappears', 4984), ('meg', 10991), ('charles', 3114), ('galaxies', 7205), ('darkness', 4460), ('earths', 5506), ('orbit', 12413), ('recordsetting', 14252), ('endurance', 5798), ('flight', 6775), ('homeless', 8379), ('exconvict', 6124), ('forms', 6931), ('serving', 15605), ('bodyguard', 2227), ('wake', 18897), ('jesus', 9395), ('christs', 3299), ('crucifixion', 4250), ('apostles', 1102), ('dedicate', 4588), ('spreading', 16517), ('message', 11093), ('risking', 14808), ('everything', 6066), ('aiko', 687), ('knew', 9789), ('lie', 10191), ('joining', 9468), ('divers', 5129), ('burst', 2641), ('began', 1853), ('app', 1103), ('motocross', 11544), ('racer', 13956), ('miles', 11202), ('hill', 8274), ('topsecret', 17790), ('robotic', 14870), ('combat', 3591), ('dog', 5182), ('creator', 4154), ('military', 11207), ('hot', 8484), ('pursuit', 13853), ('coincidences', 3527), ('starcrossed', 16605), ('fate', 6457), ('pulls', 13811), ('istanbul', 9266), ('shaji', 15672), ('pappan', 12703), ('goofy', 7533), ('outlaws', 12515), ('low', 10457), ('funds', 7142), ('hefty', 8117), ('tugofwar', 18105), ('selfdoubt', 15498), ('loses', 10418), ('gun', 7787), ('due', 5414), ('hero', 8178), ('conscientious', 3833), ('overcome', 12546), ('placed', 13171), ('bureaucracy', 2617), ('intrepid', 9146), ('inspector', 9035), ('desk', 4783), ('matters', 10868), ('released', 14409), ('technicality', 17365), ('16', 50), ('ago', 665), ('surprising', 17073), ('truths', 18091), ('hightension', 8253), ('caller', 2737), ('harm', 7974), ('balcony', 1634), ('darker', 4457), ('alleged', 792), ('decision', 4572), ('supreme', 17048), ('establish', 5999), ('castebased', 2937), ('reservations', 14564), ('jobs', 9444), ('education', 5568), ('causes', 2983), ('conflict', 3787), ('mentor', 11056), ('cynical', 4380), ('gambler', 7227), ('chronic', 3300), ('smoker', 16146), ('ditches', 5119), ('fiancée', 6586), ('snubs', 16205), ('doctors', 5161), ('checks', 3167), ('nursing', 12131), ('kindly', 9747), ('orphaned', 12463), ('jimmy', 9422), ('goons', 7536), ('jyoti', 9585), ('indirectly', 8881), ('caused', 2982), ('municipal', 11621), ('clerk', 3413), ('literary', 10274), ('ambitions', 905), ('stalks', 16582), ('loan', 10303), ('recovery', 14262), ('decided', 4562), ('base', 1733), ('storys', 16763), ('central', 3026), ('character', 3098), ('palatial', 12668), ('spell', 16423), ('eerie', 5575), ('bighearted', 2025), ('fuzzly', 7172), ('fixing', 6721), ('mishaps', 11313), ('embracing', 5711), ('quirks', 13938), ('seventh', 15631), ('scifi', 15328), ('buff', 2574), ('employment', 5750), ('prospects', 13717), ('improve', 8811), ('accused', 451), ('reality', 14150), ('troupe', 18069), ('hiphop', 8291), ('thrown', 17632), ('studio', 16863), ('founded', 6955), ('vishnus', 18801), ('spirits', 16465), ('rebound', 14190), ('sees', 15456), ('dancers', 4427), ('prepping', 13501), ('annual', 1032), ('contest', 3893), ('enmeshed', 5847), ('drugs', 5392), ('prey', 13554), ('manipulative', 10705), ('charms', 3124), ('abducts', 366), ('adolescent', 548), ('twice', 18162), ('real', 14148), ('trucker', 18074), ('jailed', 9305), ('illfated', 8704), ('travelers', 17967), ('quetta', 13920), ('taking', 17257), ('pressure', 13533), ('assumes', 1352), ('different', 4917), ('persona', 12984), ('korean', 9832), ('celebs', 3008), ('multinational', 11612), ('engage', 5811), ('usually', 18561), ('lighthearted', 10219), ('debates', 4529), ('surround', 17077), ('beyond', 1987), ('abominable', 382), ('snowmen', 16200), ('flee', 6760), ('scientist', 15325), ('hip', 8290), ('irresponsible', 9233), ('londoner', 10346), ('invents', 9177), ('imaginary', 8728), ('singleparent', 15975), ('meetings', 10989), ('available', 1492), ('tim', 17683), ('step', 16677), ('designers', 4778), ('disciplines', 5007), ('critters', 4214), ('narrate', 11736), ('science', 15320), ('peeks', 12901), ('incredible', 8851), ('untimely', 18461), ('demise', 4691), ('separate', 15569), ('incidents', 8834), ('cha', 3041), ('min', 11229), ('seyeon', 15658), ('they', 17553), ('ve', 18628), ('bodies', 2222), ('don', 5218), ('recognize', 14229), ('disenfranchised', 5032), ('16yearold', 55), ('connects', 3819), ('older', 12291), ('onesided', 12348), ('descends', 4763), ('obsession', 12183), ('anorexia', 1036), ('lifelong', 10203), ('acapulco', 416), ('ostensibly', 12478), ('reason', 14171), ('holds', 8355), ('surprises', 17072), ('contract', 3911), ('skilled', 16037), ('staging', 16573), ('accidents', 431), ('fears', 6496), ('may', 10889), ('strategy', 16792), ('accomplice', 437), ('rejecting', 14390), ('ordinary', 12433), ('crosses', 4231), ('stoic', 16730), ('upset', 18522), ('divorce', 5140), ('infatuated', 8928), ('grandmothers', 7608), ('entrancing', 5897), ('watches', 18988), ('window', 19225), ('sights', 15905), ('hockey', 8343), ('league', 10063), ('rising', 14805), ('racial', 13961), ('tensions', 17444), ('jeopardize', 9381), ('goals', 7485), ('lad', 9902), ('upheaval', 18500), ('musical', 11647), ('featuring', 6507), ('songs', 16290), ('beatles', 1818), ('navy', 11789), ('seals', 15395), ('cia', 3316), ('turkish', 18132), ('agents', 658), ('notorious', 12081), ('known', 9805), ('dejjal', 4651), ('arabic', 1148), ('antichrist', 1051), ('sick', 15884), ('constant', 3859), ('squabbling', 16540), ('bliss', 2152), ('devastated', 4835), ('formerly', 6928), ('vow', 18857), ('silence', 15917), ('trains', 17910), ('sisterinlaw', 15996), ('traffickers', 17891), ('veteran', 18691), ('forces', 6889), ('regeneration', 14340), ('technology', 17371), ('lets', 10154), ('indefinitely', 8862), ('troubled', 18063), ('strange', 16780), ('wave', 19000), ('suicides', 16952), ('northern', 12052), ('reconnects', 14240), ('coast', 3477), ('guilt', 7770), ('stricken', 16822), ('frenetic', 7047), ('comic', 3615), ('adam', 504), ('devine', 4853), ('talks', 17272), ('awkwardness', 1544), ('pitch', 13148), ('perfect', 12946), ('audition', 1444), ('omaha', 12311), ('fun', 7135), ('comedian', 3603), ('conover', 3825), ('bursts', 2642), ('misconceptions', 11297), ('deconstructs', 4581), ('topics', 17783), ('positive', 13374), ('takeaways', 17251), ('heroes', 8179), ('ice', 8636), ('cream', 4143), ('ladies', 9905), ('sandlers', 15175), ('jokes', 9474), ('groundbreaking', 7718), ('abducted', 361), ('murdered', 11626), ('john', 9459), ('reve', 14677), ('walsh', 18925), ('fought', 6947), ('raise', 14013), ('awareness', 1534), ('problem', 13615), ('chasing', 3135), ('athletic', 1385), ('daredevils', 4451), ('limits', 10237), ('various', 18618), ('giant', 7380), ('waves', 19001), ('snowy', 16204), ('slopes', 16116), ('casino', 2929), ('du', 5404), ('liban', 10175), ('lebanese', 10086), ('actor', 491), ('adel', 527), ('karam', 9625), ('delivers', 4674), ('earthy', 5507), ('punchlines', 13819), ('kissing', 9773), ('norms', 12044), ('colonoscopies', 3570), ('porn', 13346), ('named', 11715), ('rocco', 14878), ('fastfooted', 6446), ('piglet', 13101), ('bunty', 2612), ('object', 12161), ('desire', 4781), ('want', 18939), ('swift', 17143), ('swine', 17153), ('animalracing', 1008), ('schemes', 15290), ('trailblazing', 17899), ('aditi', 531), ('mittal', 11354), ('mixes', 11358), ('topical', 17782), ('standup', 16596), ('frank', 6996), ('talk', 17267), ('wearing', 19018), ('thongs', 17591), ('indian', 8872), ('ratings', 14108), ('roz', 15005), ('lil', 10229), ('others', 12484), ('affairs', 615), ('secrecy', 15419), ('sailing', 15114), ('yacht', 19461), ('catastrophic', 2963), ('hurricane', 8588), ('harmonious', 7975), ('existence', 6167), ('interrupted', 9118), ('showing', 15849), ('anxiety', 1074), ('seem', 15450), ('biomedical', 2065), ('firm', 6686), ('prizes', 13607), ('submit', 16904), ('homeschooling', 8386), ('wants', 18942), ('let', 10152), ('dubai', 5406), ('fleet', 6763), ('spaceships', 16363), ('hovering', 8511), ('contact', 3875), ('baffling', 1609), ('diagnoses', 4877), ('costly', 4032), ('illnesses', 8708), ('answers', 1041), ('relief', 14421), ('brazilian', 2414), ('afonso', 633), ('padilha', 12632), ('dives', 5132), ('humble', 8557), ('beginnings', 1857), ('digs', 4930), ('fivepart', 6713), ('fascinating', 6435), ('continent', 3899), ('planet', 13181), ('spotlights', 16506), ('afrobrazilian', 641), ('thinkers', 17570), ('individual', 8883), ('discussing', 5025), ('representation', 14526), ('entrepreneurship', 5903), ('wholesome', 19154), ('freshman', 7055), ('tessa', 17481), ('complicated', 3706), ('hardin', 7956), ('scott', 15353), ('struggling', 16851), ('terms', 17458), ('newspaper', 11919), ('adopts', 556), ('gruff', 7735), ('effort', 5582), ('push', 13856), ('displaced', 5081), ('maria', 10756), ('puerto', 13800), ('rican', 14735), ('uncertain', 18259), ('futures', 7168), ('federal', 6510), ('housing', 8508), ('expires', 6218), ('careers', 2856), ('porns', 13347), ('adjustment', 535), ('normal', 12038), ('adult', 573), ('entertainment', 5884), ('third', 17573), ('installment', 9044), ('genres', 7330), ('ended', 5786), ('large', 9968), ('immigration', 8749), ('emotional', 5735), ('fallout', 6371), ('hard', 7947), ('churchgoers', 3314), ('means', 10939), ('thy', 17649), ('fell', 6535), ('betrayal', 1969), ('tears', 17356), ('whether', 19128), ('trust', 18085), ('second', 15417), ('air', 699), ('traffic', 17888), ('controllers', 3925), ('results', 14624), ('responsible', 14607), ('prep', 13495), ('loner', 10353), ('films', 6639), ('classmates', 3385), ('overdosing', 12551), ('cocaine', 3489), ('role', 14913), ('tourist', 17839), ('partying', 12788), ('chile', 3234), ('devastates', 4836), ('area', 1188), ('scramble', 15360), ('psychologist', 13777), ('investigating', 9182), ('string', 16830), ('murders', 11633), ('crimesolving', 4186), ('killings', 9733), ('dramatized', 5320), ('depiction', 4733), ('11day', 22), ('agatha', 650), ('christie', 3291), ('solving', 16269), ('writing', 19418), ('backlash', 1582), ('intergenerational', 9095), ('stick', 16705), ('thick', 17561), ('thin', 17566), ('thriving', 17625), ('nightlife', 11957), ('kuala', 9858), ('lumpur', 10502), ('showgirl', 15848), ('housekeeper', 8502), ('chanteuse', 3086), ('unruly', 18434), ('wreak', 19394), ('havoc', 8031), ('bullies', 2589), ('turbulent', 18127), ('grounds', 7720), ('tanks', 17295), ('unfolds', 18347), ('geopolitics', 7342), ('century', 3030), ('footballer', 6874), ('player', 13202), ('destroy', 4803), ('mix', 11356), ('brilliance', 2470), ('erudition', 5966), ('skill', 16036), ('enables', 5762), ('modern', 11392), ('sherlock', 15756), ('holmes', 8369), ('cases', 2922), ('heal', 8066), ('wounds', 19385), ('frustrated', 7098), ('thankless', 17514), ('office', 12254), ('retsuko', 14663), ('red', 14275), ('panda', 12682), ('copes', 3975), ('daily', 4403), ('belting', 1904), ('metal', 11105), ('karaoke', 9627), ('validation', 18588), ('spirals', 16460), ('innocent', 9003), ('reparation', 14501), ('great', 7639), ('costs', 4033), ('agustín', 673), ('radagast', 13968), ('aristarán', 1204), ('adds', 525), ('doses', 5255), ('acting', 478), ('highenergy', 8220), ('routine', 14990), ('crew', 4171), ('shooting', 15811), ('forested', 6908), ('location', 10317), ('entity', 5894), ('cannot', 2796), ('hear', 8077), ('stood', 16742), ('groom', 7708), ('altar', 862), ('exfiancé', 6147), ('ai', 679), ('weiwei', 19063), ('inspire', 9038), ('suffers', 16942), ('persecution', 12975), ('actions', 483), ('japan', 9333), ('board', 2209), ('pink', 13122), ('asia', 1299), ('goal', 7482), ('ainsley', 697), ('harriott', 7983), ('foods', 6866), ('sensitive', 15556), ('ainu', 698), ('searches', 15401), ('recently', 14211), ('deceased', 4552), ('navigating', 11788), ('indigenous', 8879), ('changing', 3082), ('ana', 946), ('influencer', 8950), ('talking', 17271), ('she', 15731), ('shipped', 15787), ('grumpy', 7737), ('grandfathers', 7603), ('digital', 4927), ('concrete', 3750), ('urban', 18529), ('appreciate', 1125), ('joys', 9520), ('happily', 7937), ('deal', 4511), ('episode', 5925), ('thought', 17598), ('protégé', 13739), ('rogue', 14903), ('threat', 17606), ('serves', 15601), ('outspoken', 12536), ('conservative', 3842), ('fending', 6552), ('prospect', 13715), ('arranged', 1236), ('traveling', 17968), ('rv', 15072), ('ruby', 15010), ('unlikely', 18396), ('sidekick', 15890), ('aj', 714), ('toughtalking', 17835), ('10yearold', 17), ('stowaway', 16766), ('drives', 5364), ('else', 5674), ('studies', 16862), ('grad', 7580), ('akif', 722), ('involved', 9202), ('continuation', 3904), ('uoolss', 18484), ('ajin', 716), ('authorities', 1471), ('granddaughter', 7599), ('sexually', 15656), ('assaulted', 1326), ('served', 15599), ('frail', 6979), ('plots', 13229), ('spat', 16389), ('disgraced', 5035), ('retaliates', 14637), ('kidnapping', 9720), ('filming', 6635), ('tatsumi', 17327), ('assassins', 1324), ('wit', 19273), ('akbar', 720), ('trusty', 18089), ('advisor', 602), ('birbal', 2071), ('display', 5083), ('unique', 18373), ('adventures', 590), ('mughalera', 11597), ('enter', 5873), ('arrested', 1240), ('dramatic', 5317), ('escapes', 5979), ('model', 11388), ('fresh', 7052), ('start', 16623), ('park', 12749), ('ranger', 14064), ('assignment', 1337), ('network', 11881), ('poachers', 13246), ('depends', 4730), ('instincts', 9049), ('lebanonsyria', 10089), ('head', 8051), ('armssmuggling', 1226), ('clan', 3362), ('conflicts', 3790), ('power', 13428), ('growing', 7725), ('enduring', 5802), ('criticism', 4211), ('shaken', 15675), ('learning', 10077), ('switched', 17162), ('birth', 2078), ('inferiority', 8932), ('impoverished', 8796), ('tells', 17405), ('tall', 17274), ('influence', 8948), ('upgrade', 18499), ('status', 16647), ('alan', 731), ('saldaña', 15131), ('sitting', 16005), ('exit', 6170), ('maxing', 10886), ('credit', 4160), ('card', 2838), ('vacationing', 18573), ('resort', 14591), ('ornery', 12458), ('held', 8132), ('captive', 2825), ('organization', 12442), ('alaskan', 735), ('cannery', 2791), ('fighter', 6610), ('tapped', 17305), ('boxing', 2360), ('goa', 7481), ('vengeance', 18658), ('fueled', 7106), ('pentup', 12925), ('toward', 17849), ('magical', 10589), ('transports', 17949), ('ruled', 15027), ('general', 7308), ('colombian', 3563), ('alejandro', 757), ('riaño', 14731), ('discusses', 5024), ('perks', 12965), ('dating', 4477), ('shewolf', 15760), ('styles', 16885), ('dancing', 4428), ('bogotá', 2231), ('announcers', 1028), ('grammyaward', 7592), ('sanz', 15193), ('mourning', 11564), ('siblings', 15883), ('selling', 15525), ('beloved', 1901), ('beach', 1795), ('other', 12483), ('alex', 762), ('fernández', 6560), ('performs', 12956), ('familiar', 6380), ('autobiographical', 1477), ('deeper', 4601), ('tender', 17431), ('trueloves', 18079), ('virginity', 18791), ('lovable', 10443), ('awry', 1545), ('equally', 5932), ('elliot', 5663), ('alexa', 763), ('katie', 9656), ('ready', 14146), ('whatever', 19113), ('next', 11924), ('alexandria', 765), ('egyptian', 5596), ('enamored', 5766), ('hollywood', 8367), ('yehia', 19490), ('hunger', 8574), ('strike', 16827), ('smitten', 16144), ('creative', 4150), ('muse', 11643), ('colombia', 3562), ('sensation', 15550), ('legs', 10115), ('alexis', 767), ('viera', 18731), ('purpose', 13847), ('addiction', 516), ('endanger', 5781), ('sweethearts', 17139), ('perils', 12961), ('precarious', 13464), ('gnome', 7478), ('vendor', 18652), ('brotherinlaw', 2521), ('attend', 1412), ('trade', 17876), ('fair', 6349), ('sofia', 16237), ('stumble', 16871), ('shenanigans', 15750), ('ali', 773), ('wongs', 19324), ('stand', 16588), ('delves', 4682), ('hoarding', 8340), ('rocky', 14889), ('feminism', 6546), ('terrible', 17463), ('cobra', 3488), ('wong', 19323), ('bump', 2598), ('torrent', 17806), ('motherhood', 11529), ('telling', 17404), ('white', 19142), ('spins', 16456), ('iraqiborn', 9216), ('cleric', 3411), ('melbourne', 11014), ('duty', 5459), ('19thcentury', 168), ('canada', 2776), ('weighs', 19054), ('murderess', 11629), ('pardoned', 12734), ('insanity', 9014), ('margaret', 10752), ('atwoods', 1434), ('awardwinning', 1533), ('novel', 12090), ('witnesses', 19288), ('figures', 6617), ('respond', 14601), ('pablo', 12610), ('escobar', 5982), ('medellín', 10962), ('cartels', 2909), ('sole', 16255), ('jairo', 9309), ('velásquez', 18649), ('web', 19024), ('bandits', 1668), ('waitress', 18892), ('befriending', 1851), ('coworkers', 4100), ('romancing', 14928), ('ruggedly', 15017), ('rancher', 14055), ('aimless', 694), ('gamer', 7233), ('parallel', 12715), ('tokyo', 17748), ('compete', 3687), ('sadistic', 15097), ('games', 7234), ('trans', 17916), ('vibrant', 18701), ('personality', 12987), ('shakes', 15676), ('kiss', 9772), ('factbased', 6330), ('account', 442), ('humankinds', 8549), ('gather', 7275), ('signals', 15909), ('intelligent', 9072), ('solar', 16249), ('reporters', 14521), ('ixbee', 9282), ('pixbee', 13163), ('squee', 16549), ('lovely', 10450), ('odd', 12221), ('hobbies', 8341), ('seal', 15393), ('tackles', 17218), ('research', 14553), ('scientists', 15326), ('mysteriously', 11674), ('disappeared', 4982), ('awaits', 1522), ('applying', 1118), ('laws', 10037), ('rest', 14608), ('galaxy', 7206), ('fact', 6329), ('fiction', 6592), ('imagine', 8732), ('planets', 13182), ('mistakes', 11335), ('plaything', 13212), ('gravity', 7634), ('steal', 16657), ('presents', 13516), ('lawmen', 10032), ('fly', 6826), ('rods', 14898), ('bedroom', 1838), ('swing', 17154), ('dancings', 4429), ('continued', 3906), ('prosperity', 13718), ('joyous', 9519), ('personalities', 12986), ('inseparable', 9022), ('fearless', 6493), ('provocation', 13756), ('gelds', 7297), ('levels', 10162), ('mc', 10906), ('joe', 9450), ('speed', 16418), ('retires', 14650), ('showbiz', 15842), ('rhythm', 14728), ('balancing', 1631), ('everyday', 6063), ('chaos', 3088), ('clashes', 3372), ('brewing', 2445), ('rivalries', 14820), ('beverly', 1982), ('hills', 8275), ('guest', 7759), ('unsuspecting', 18455), ('staff', 16568), ('embroiled', 5712), ('hostage', 8473), ('looks', 10389), ('canine', 2789), ('con', 3728), ('sneaks', 16181), ('penniless', 12917), ('runaway', 15039), ('tangled', 17289), ('organized', 12443), ('blackmails', 2110), ('adulterous', 574), ('emmy', 5728), ('outstanding', 12537), ('childrens', 3230), ('animated', 1010), ('madagascar', 10556), ('bootyshaker', 2300), ('julien', 9547), ('craziest', 4140), ('juliens', 9548), ('dethroned', 4826), ('allies', 812), ('propel', 13698), ('lemur', 10124), ('colorful', 3575), ('summoning', 16973), ('dearly', 4520), ('departed', 4726), ('charming', 3123), ('vengeful', 18660), ('documents', 5172), ('loving', 10456), ('traditional', 17883), ('process', 13623), ('acceptance', 422), ('traumatic', 17960), ('revisits', 14699), ('terrors', 17478), ('sight', 15903), ('instant', 9045), ('chemistry', 3182), ('unravels', 18424), ('jarring', 9337), ('weekend', 19044), ('excursion', 6128), ('secluded', 15415), ('unwelcome', 18474), ('visitor', 18809), ('picking', 13077), ('randy', 14061), ('admirers', 542), ('temptress', 17422), ('mandy', 10685), ('lane', 9958), ('cathartic', 2971), ('chronicling', 3304), ('indiana', 8873), ('battlescarred', 1777), ('ops', 12401), ('vet', 18690), ('ciafunded', 3317), ('russian', 15062), ('triggerhappy', 18030), ('comrades', 3727), ('thirteenyearold', 17580), ('miguel', 11182), ('immune', 8756), ('fever', 6581), ('myriad', 11671), ('surprised', 17070), ('anticipated', 1052), ('talented', 17261), ('clings', 3428), ('strikes', 16828), ('accept', 421), ('bound', 2343), ('forbids', 6885), ('marrying', 10795), ('stubborn', 16853), ('hitched', 8322), ('enlists', 5846), ('guru', 7803), ('bosss', 2322), ('nothing', 12073), ('happened', 7932), ('heavily', 8103), ('mind', 11232), ('body', 2223), ('birthdays', 2080), ('happygolucky', 7940), ('commitmentaverse', 3644), ('strives', 16837), ('bit', 2086), ('calm', 2743), ('chaotic', 3090), ('sebastián', 15414), ('radio', 13974), ('modest', 11396), ('fame', 6377), ('deals', 4517), ('exwife', 6298), ('whom', 19156), ('still', 16711), ('striving', 16838), ('yorkers', 19521), ('heartache', 8083), ('equipped', 5937), ('limited', 10236), ('resources', 14594), ('individuals', 8885), ('conditions', 3756), ('wilderness', 19189), ('tap', 17300), ('battlefield', 1772), ('berlin', 1942), ('quietly', 13928), ('resistance', 14582), ('adolf', 549), ('hitler', 8325), ('eight', 5601), ('christine', 3293), ('raf', 13981), ('points', 13265), ('prestigious', 13536), ('homicide', 8393), ('teaming', 17351), ('security', 15430), ('outdoor', 12505), ('wolf', 19299), ('humphrey', 8568), ('kate', 9652), ('cubs', 4289), ('explanation', 6223), ('pup', 13831), ('runt', 15050), ('cave', 2990), ('befriends', 1852), ('driven', 5360), ('pack', 12617), ('blind', 2144), ('alphabet', 848), ('alphaland', 850), ('read', 14140), ('write', 19410), ('exciting', 6118), ('phonic', 13050), ('deceptively', 4560), ('antifa', 1059), ('charlottesville', 3119), ('riots', 14793), ('trumps', 18084), ('presidency', 13524), ('250', 231), ('prisoner', 13593), ('mindbending', 11234), ('latimer', 9994), ('takeshi', 17256), ('kovacs', 9841), ('tattooist', 17331), ('yakuza', 19463), ('nononsense', 12022), ('ctac', 4281), ('never', 11891), ('always', 878), ('weddings', 19037), ('copy', 3981), ('editor', 5558), ('pool', 13326), ('involves', 9204), ('staying', 16654), ('forever', 6911), ('17thcentury', 59), ('adjust', 533), ('presentday', 13512), ('cartagena', 2907), ('defeat', 4608), ('dumped', 5427), ('respective', 14599), ('acquitted', 473), ('amanda', 888), ('knox', 9807), ('closest', 3448), ('recounts', 14256), ('littleknown', 10279), ('played', 13201), ('eradicate', 5940), ('apartheid', 1087), ('laura', 10016), ('carlos', 2877), ('intensity', 9078), ('fragility', 6978), ('realities', 14149), ('tarnish', 17314), ('idealized', 8658), ('notions', 12080), ('brotherly', 2522), ('catholic', 2973), ('absurdities', 400), ('amar', 891), ('anthony', 1047), ('independently', 8866), ('knowledge', 9804), ('reunited', 14672), ('coincidence', 3526), ('blood', 2166), ('fulfill', 7117), ('build', 2579), ('widow', 19173), ('cairo', 2714), ('poverty', 13426), ('14yearold', 40), ('phenom', 13025), ('confronted', 3795), ('greed', 7647), ('amateur', 894), ('eccentric', 5526), ('homeowners', 8383), ('spaces', 16361), ('backyard', 1592), ('roller', 14918), ('coaster', 3479), ('indoor', 8892), ('aquarium', 1142), ('amelia', 910), ('earharts', 5487), ('accomplishments', 440), ('celebrated', 3001), ('thanks', 17515), ('muriel', 11635), ('engaging', 5815), ('backstories', 1587), ('institutions', 9053), ('pentagon', 12923), ('west', 19100), ('point', 13263), ('playboy', 13200), ('mansion', 10721), ('supermodel', 17008), ('tyra', 18195), ('banks', 1688), ('created', 4145), ('executiveproduced', 6142), ('transformation', 17929), ('potential', 13413), ('supermodels', 17009), ('profiles', 13657), ('william', 19203), ('powell', 13427), ('wrote', 19429), ('the', 17522), ('anarchist', 955), ('cookbook', 3956), ('regretting', 14357), ('mitch', 11348), ('rapp', 14087), ('loss', 10420), ('singleminded', 15974), ('endure', 5799), ('tightly', 17676), ('wound', 19383), ('unfulfilling', 18354), ('surly', 17067), ('debate', 4528), ('practice', 13442), ('nonreligious', 12023), ('circumcision', 3331), ('anthology', 1046), ('arc', 1158), ('season', 15406), ('dramas', 5316), ('focusing', 6834), ('dramatizes', 5321), ('including', 8840), ('oj', 12282), ('simpson', 15941), ('trial', 18007), ('andrew', 976), ('cunanans', 4318), ('1997', 163), ('botched', 2329), ('arrest', 1239), ('supremacist', 17046), ('idaho', 8652), ('galvanize', 7220), ('opinion', 12383), ('exploration', 6232), ('circus', 3334), ('spectacle', 16408), ('evolved', 6080), ('onering', 12346), ('event', 6046), ('eventually', 6050), ('breed', 2432), ('1931', 104), ('tore', 17793), ('lines', 10243), ('claiming', 3357), ('raped', 14080), ('nonwhite', 12030), ('islanders', 9250), ('soar', 16209), ('company', 3675), ('reopens', 14496), ('shuttered', 15877), ('factory', 6335), ('ohio', 12276), ('shatter', 15723), ('barack', 1694), ('michelle', 11142), ('obama', 12154), ('directors', 4968), ('steven', 16702), ('bognar', 2230), ('julia', 9543), ('reichert', 14366), ('importance', 8789), ('storytelling', 16765), ('judge', 9531), ('streamed', 16801), ('supposedly', 17043), ('sending', 15541), ('excon', 6122), ('track', 17871), ('drags', 5311), ('underworld', 18309), ('neonazi', 11857), ('prevent', 13547), ('footsteps', 6880), ('dull', 5424), ('oklahoma', 12284), ('raucous', 14115), ('travelling', 17969), ('magazine', 10581), ('sellers', 15524), ('alcohol', 747), ('sexfilled', 15644), ('twisted', 18170), ('emmywinning', 5730), ('horrors', 8456), ('unsettling', 18446), ('capacity', 2806), ('baseball', 1734), ('legend', 10107), ('ted', 17373), ('williams', 19204), ('hitter', 8330), ('teammates', 17352), ('press', 13530), ('using', 18556), ('raw', 14123), ('firsthand', 6691), ('shanann', 15687), ('linking', 10248), ('terrorists', 17473), ('corporation', 4003), ('tightknit', 17675), ('seniors', 15548), ('homecoming', 8376), ('arrival', 1243), ('muddles', 11593), ('chiseled', 3257), ('belie', 1879), ('businessman', 2653), ('pathological', 12823), ('yuppie', 19553), ('pursuits', 13854), ('indulges', 8899), ('sudden', 16934), ('homicidal', 8392), ('urges', 18535), ('passes', 12799), ('tension', 17443), ('mounts', 11561), ('florida', 6807), ('interracial', 9114), ('rocked', 14880), ('vandalism', 18602), ('pleads', 13216), ('ally', 836), ('satirical', 15212), ('haunted', 8023), ('rebuild', 14194), ('injustices', 8991), ('modernday', 11393), ('parenting', 12738), ('amit', 925), ('tandon', 17286), ('wisdom', 19261), ('wisecracks', 19264), ('philippine', 13035), ('crackdown', 4106), ('narcotics', 11734), ('joseph', 9499), ('expands', 6191), ('profits', 13661), ('fikret', 6622), ('songstress', 16291), ('solmaz', 16261), ('wacky', 18876), ('fill', 6628), ('soontowed', 16304), ('buddha', 2562), ('philosophy', 13043), ('nonviolence', 12028), ('warmonger', 18955), ('destruction', 4807), ('enemy', 5804), ('rare', 14093), ('videos', 18723), ('winehouses', 19230), ('inner', 8999), ('circle', 3328), ('offer', 12248), ('charismatic', 3109), ('schumer', 15317), ('spills', 16446), ('growth', 7730), ('misguided', 11311), ('advice', 598), ('raunchy', 14117), ('sincere', 15956), ('riffs', 14767), ('uncensored', 18258), ('denvers', 4720), ('bellco', 1889), ('theater', 17523), ('extensive', 6273), ('clips', 3434), ('tell', 17402), ('ellis', 5665), ('dungan', 5432), ('15', 41), ('helped', 8145), ('define', 4624), ('tamil', 17281), ('cinema', 3324), ('fievel', 6604), ('mouse', 11565), ('immigrates', 8748), ('perilous', 12960), ('cowboy', 4097), ('nasty', 11753), ('mousenapping', 11566), ('hunting', 8584), ('buried', 2629), ('treasure', 17978), ('beneath', 1913), ('ruins', 15022), ('subway', 16921), ('tunnel', 18120), ('onto', 12360), ('drawn', 5329), ('hedonistic', 8112), ('cannes', 2792), ('values', 18596), ('undergoing', 18288), ('surgery', 17063), ('london', 10343), ('reflects', 14317), ('chamber', 3061), ('courtroom', 4078), ('unhappily', 18357), ('production', 13641), ('shell', 15744), ('anything', 1079), ('2002', 175), ('el', 5610), ('ayyat', 1558), ('90', 330), ('minutes', 11273), ('explosion', 6240), ('riders', 14758), ('thirdclass', 17574), ('cars', 2905), ('nightmare', 11959), ('abusive', 409), ('exboyfriend', 6105), ('actress', 495), ('question', 13915), ('took', 17775), ('selfassured', 15484), ('had', 7838), ('drive', 5359), ('granted', 7615), ('god', 7490), ('hiding', 8210), ('maid', 10611), ('confidant', 3776), ('herself', 8188), ('accountant', 443), ('magician', 10592), ('invites', 9199), ('colombias', 3564), ('mostwanted', 11524), ('eager', 5483), ('settle', 15616), ('abdullah', 367), ('longs', 10377), ('feel', 6519), ('musicians', 11653), ('differing', 4919), ('views', 18738), ('record', 14246), ('album', 742), ('drastically', 5324), ('alters', 870), ('scours', 15356), ('hyderabad', 8608), ('entangled', 5868), ('suggests', 16948), ('eye', 6299), ('harassed', 7941), ('performing', 12955), ('clear', 3404), ('name', 11714), ('kat', 9649), ('eva', 6030), ('rough', 14981), ('patch', 12817), ('visiting', 18808), ('roger', 14902), ('complete', 3697), ('nigerian', 11952), ('agonizing', 667), ('defy', 4637), ('deportation', 4735), ('orders', 12432), ('giving', 7423), ('citizenship', 3338), ('ancient', 962), ('really', 14158), ('technological', 17369), ('advances', 582), ('civilized', 3351), ('extraterrestrial', 6287), ('icelandic', 8639), ('guineabissauan', 7775), ('asylum', 1375), ('seeker', 15445), ('intertwined', 9128), ('longlost', 10373), ('twin', 18164), ('secretary', 15422), ('plot', 13227), ('brews', 2446), ('fortune', 6939), ('broke', 2498), ('heiress', 8125), ('nearby', 11807), ('charm', 3120), ('visually', 18814), ('impaired', 8763), ('pianist', 13071), ('careens', 2851), ('twists', 18174), ('unintentionally', 18369), ('scene', 15283), ('librarian', 10186), ('dispirited', 5079), ('cricketer', 4176), ('desolate', 4784), ('seek', 15444), ('retribution', 14658), ('overlap', 12559), ('influences', 8952), ('prepares', 13499), ('michelinstarred', 11141), ('chiang', 3202), ('reflection', 14314), ('inscrutable', 9016), ('incomparable', 8842), ('both', 2330), ('famed', 6378), ('nicolas', 11943), ('anelka', 985), ('legacy', 10104), ('indepth', 8867), ('popular', 13340), ('attacked', 1402), ('lifealtering', 10196), ('assault', 1325), ('amidst', 923), ('wars', 18971), ('vincent', 18764), ('entrepreneurial', 5901), ('ends', 5796), ('copper', 3977), ('dimension', 4943), ('highschool', 8244), ('afterlife', 642), ('purgatorial', 13843), ('vulnerable', 18872), ('streetwise', 16810), ('chicago', 3206), ('own', 12594), ('banning', 1690), ('crossfire', 4232), ('framed', 6981), ('angela', 991), ('heartwarming', 8095), ('mccourt', 10913), ('australia', 1462), ('heartfelt', 8088), ('harvard', 7997), ('symbologist', 17185), ('vatican', 18625), ('retaliate', 14636), ('persecutions', 12976), ('management', 10674), ('counseling', 4042), ('therapist', 17545), ('birds', 2074), ('chuck', 3308), ('feathered', 6500), ('lots', 10427), ('guarding', 7749), ('eggs', 5589), ('nest', 11871), ('pesky', 12999), ('pigs', 13102), ('closeknit', 3445), ('announce', 1026), ('engagement', 5813), ('stirs', 16725), ('riot', 14790), ('emotion', 5734), ('singular', 15980), ('biopic', 2066), ('yet', 19498), ('prolific', 13676), ('marathi', 10739), ('dentistturnedsuperstar', 4718), ('directed', 4963), ('paul', 12847), ('thomas', 17587), ('anderson', 968), ('thom', 17586), ('yorke', 19519), ('radiohead', 13976), ('visual', 18813), ('piece', 13089), ('loud', 10431), ('enchanted', 5767), ('crackers', 4109), ('owen', 12590), ('shape', 15699), ('eats', 5521), ('hell', 8138), ('uncles', 18266), ('unlucky', 18402), ('debtridden', 4538), ('math', 10854), ('tournament', 17842), ('rockpaperscissors', 14886), ('diabolical', 4875), ('visions', 18805), ('frequent', 7051), ('anitta', 1016), ('ethic', 6013), ('revealing', 14680), ('mildmannered', 11197), ('krishna', 9852), ('gangleader', 7245), ('spinechilling', 16451), ('malevolent', 10657), ('unfold', 18344), ('villages', 18757), ('jungles', 9562), ('buildings', 2581), ('cops', 3978), ('vikrant', 18747), ('mysteries', 11672), ('realm', 14159), ('paranormal', 12726), ('youtube', 19539), ('nail', 11706), ('salons', 15143), ('gypsies', 7824), ('supersleuthing', 17016), ('liam', 10171), ('neeson', 11828), ('distressing', 5110), ('delhi', 4659), ('vows', 18860), ('believe', 1882), ('ideals', 8659), ('directions', 4965), ('intern', 9099), ('negligence', 11836), ('surgeon', 17061), ('looked', 10387), ('picturesque', 13086), ('nantucket', 11723), ('crafty', 4120), ('thieves', 17565), ('ghostly', 7371), ('conundrum', 3931), ('plucky', 13235), ('passions', 12804), ('spinster', 16457), ('softspoken', 16242), ('green', 7651), ('gables', 7182), ('summons', 16974), ('rendered', 14470), ('obsolete', 12188), ('deleted', 4658), ('overtaken', 12576), ('spontaneous', 16489), ('massive', 10832), ('artifact', 1268), ('niko', 11967), ('breckinridge', 2431), ('interstellar', 9126), ('sound', 16333), ('mired', 11284), ('happen', 7931), ('fewer', 6583), ('deeds', 4596), ('hardcharging', 7948), ('lang', 9960), ('aka', 717), ('antman', 1069), ('drafted', 5302), ('dr', 5293), ('pym', 13871), ('van', 18600), ('dyne', 5476), ('wasp', 18982), ('urgent', 18534), ('grandson', 7611), ('famous', 6388), ('knight', 9792), ('hilariously', 8269), ('beautiful', 1823), ('tribe', 18014), ('villains', 18760), ('superheroes', 17000), ('bheem', 1997), ('forging', 6918), ('comedic', 3605), ('boundaries', 2344), ('jeselnik', 9391), ('revels', 14687), ('saying', 15248), ('theres', 17548), ('subject', 16897), ('skewers', 16032), ('taboos', 17214), ('tragedies', 17893), ('pulling', 13810), ('curtain', 4345), ('provocative', 13757), ('style', 16884), ('forger', 6913), ('fake', 6362), ('stolen', 16733), ('diamonds', 4883), ('penitentiary', 12915), ('mob', 11369), ('phony', 13051), ('alias', 775), ('toughasnails', 17829), ('protects', 13731), ('humanitarian', 8545), ('cure', 4327), ('disease', 5028), ('determination', 4819), ('antoine', 1070), ('griezmann', 7680), ('overcame', 12545), ('stature', 16646), ('champion', 3067), ('refuge', 14326), ('hindu', 8287), ('temple', 17413), ('loved', 10447), ('hailing', 7846), ('mountains', 11558), ('iga', 8673), ('kanzo', 9620), ('hattori', 8018), ('elementary', 5635), ('kenichi', 9681), ('mitsuba', 11351), ('hone', 8397), ('ninja', 11977), ('recovered', 14259), ('cockpit', 3492), ('reveal', 14678), ('largest', 9973), ('gritty', 7699), ('dramatization', 5319), ('tevez', 17497), ('harrowing', 7986), ('argentinas', 1193), ('fuerte', 7110), ('apache', 1084), ('sáez', 17201), ('carral', 2895), ('condescending', 3754), ('underachieving', 18281), ('loafer', 10302), ('lured', 10510), ('kingpin', 9756), ('visionary', 18804), ('carmaker', 2881), ('introduces', 9153), ('fuelefficient', 7107), ('highperformance', 8234), ('hypercar', 8615), ('market', 10776), ('bigname', 2027), ('competitors', 3693), ('ferrari', 6562), ('porsche', 13349), ('apollo', 1098), ('statements', 16634), ('contrary', 3917), ('nasas', 11748), ('manned', 10713), ('moon', 11472), ('1905', 94), ('drifter', 5352), ('tangles', 17290), ('sinister', 15982), ('cult', 4307), ('disappear', 4979), ('april', 1138), ('forges', 6915), ('ahead', 674), ('vast', 18623), ('prominent', 13679), ('drugfueled', 5389), ('manson', 10723), ('france', 6985), ('despair', 4786), ('crippling', 4196), ('aram', 1152), ('beirut', 1873), ('grandfather', 7602), ('armenian', 1218), ('comedians', 3604), ('antonio', 1072), ('sanint', 15179), ('julián', 9551), ('arango', 1155), ('impersonate', 8775), ('cabbie', 2692), ('pair', 12655), ('dirty', 4972), ('opera', 12372), ('twenty', 18159), ('debut', 4541), ('arashi', 1156), ('showcase', 15843), ('talents', 17263), ('chicken', 3212), ('archibald', 1171), ('chores', 3281), ('forgets', 6917), ('lifes', 10205), ('stumbles', 16872), ('otto', 12491), ('von', 18851), ('walruss', 18924), ('melt', 11023), ('arctic', 1184), ('fox', 6971), ('swifty', 17144), ('ragtag', 13993), ('madly', 10570), ('studying', 16867), ('immunizing', 8758), ('protein', 13732), ('produced', 13636), ('penguins', 12913), ('offers', 12252), ('convince', 3948), ('courts', 4079), ('rabid', 13951), ('algorithm', 771), ('contestants', 3895), ('identify', 8663), ('matches', 10843), ('cash', 2924), ('amsterdams', 941), ('exclusive', 6120), ('horrifying', 8452), ('misleading', 11315), ('passionate', 12802), ('investigative', 9185), ('light', 10217), ('englishlanguage', 5826), ('ari', 1198), ('eldjárn', 5618), ('pokes', 13270), ('nordic', 12034), ('hollywoods', 8368), ('thor', 17592), ('whims', 19131), ('toddlers', 17735), ('more', 11490), ('wry', 19431), ('thoughtful', 17599), ('shaffir', 15666), ('edgy', 5549), ('humor', 8565), ('fastpaced', 6451), ('specials', 16405), ('ariana', 1199), ('grande', 7600), ('sweetener', 17137), ('tour', 17836), ('behindthescenes', 1868), ('rehearsal', 14363), ('laugh', 10003), ('retelling', 14640), ('classic', 3379), ('arjun', 1212), ('sanskrit', 15188), ('epic', 5918), ('mahabharata', 10602), ('princes', 13579), ('lab', 9888), ('loop', 10393), ('disoriented', 5067), ('fends', 6553), ('masked', 10823), ('raiders', 13999), ('harboring', 7944), ('energy', 5807), ('dc', 4499), ('comics', 3619), ('arrow', 1249), ('affluent', 626), ('saving', 15236), ('bow', 2351), ('arrows', 1250), ('arsenio', 1253), ('hall', 7877), ('bothersome', 2332), ('toes', 17738), ('arth', 1262), ('inhabitants', 8971), ('arthdal', 1263), ('regions', 14352), ('vie', 18727), ('brand', 2392), ('remake', 14443), ('philanderer', 13030), ('sake', 15124), ('clauss', 3392), ('supersecret', 17015), ('toymaking', 17863), ('facility', 6327), ('mr', 11581), ('entrusts', 5905), ('arthur', 1265), ('ultraimportant', 18227), ('grim', 7686), ('discrimination', 5022), ('entitled', 5893), ('upright', 18515), ('ventures', 18667), ('heartland', 8090), ('epidemiologist', 5923), ('nationwide', 11768), ('bird', 2073), ('flu', 6821), ('investigation', 9183), ('sample', 15158), ('delicacies', 4662), ('en', 5760), ('route', 14988), ('tomb', 17756), ('raider', 13998), ('catacombs', 2951), ('hellish', 8141), ('structured', 16847), ('sour', 16338), ('obsessivecompulsive', 12186), ('crumbles', 4257), ('entangling', 5871), ('chauffeur', 3149), ('pimp', 13117), ('ugly', 18213), ('glitzy', 7453), ('veneer', 18654), ('dispute', 5088), ('devoted', 4860), ('lengths', 10128), ('thirty', 17582), ('ash', 1288), ('demon', 4697), ('par', 12707), ('excellence', 6107), ('deadite', 4506), ('plague', 13173), ('touch', 17823), ('floral', 6804), ('jinmi', 9428), ('xufeng', 19457), ('heavenly', 8102), ('emperors', 5741), ('conspire', 3854), ('allergies', 799), ('diet', 4912), ('sleep', 16082), ('friendly', 7065), ('expert', 6215), ('bust', 2658), ('myths', 11687), ('latest', 9992), ('happens', 7935), ('need', 11821), ('brush', 2534), ('teeth', 17385), ('elaborate', 5611), ('cunning', 4319), ('warrior', 18968), ('legendary', 10108), ('buddhism', 2563), ('spectrum', 16414), ('brakes', 2389), ('slam', 16062), ('roy', 15001), ('challenge', 3055), ('foe', 6835), ('bride', 2453), ('iconic', 8646), ('nürburgring', 12147), ('germany', 7355), ('isn', 9255), ('boring', 2312), ('neighbors', 11846), ('behaving', 1863), ('perspectives', 12992), ('converge', 3938), ('unified', 18365), ('voice', 18836), ('astronomy', 1369), ('smart', 16134), ('absurd', 399), ('highsociety', 8248), ('embarrassing', 5698), ('techsavvy', 17372), ('robberies', 14854), ('evading', 6034), ('private', 13599), ('mayor', 10899), ('exposing', 6250), ('depravity', 4739), ('highstakes', 8250), ('professionalized', 13647), ('lights', 10221), ('imbue', 8736), ('powers', 13438), ('harbors', 7945), ('separation', 15573), ('odds', 12225), ('promise', 13681), ('fabric', 6313), ('geek', 7292), ('japanese', 9334), ('lingerie', 10244), ('focuses', 6833), ('gymnasts', 7821), ('survived', 17087), ('usa', 18541), ('gymnastics', 7820), ('larry', 9975), ('nassars', 11751), ('abuse', 404), ('exposed', 6248), ('usags', 18542), ('toxic', 17858), ('ada', 501), ('crushed', 4265), ('sea', 15391), ('migration', 11180), ('economy', 5539), ('dire', 4961), ('straits', 16776), ('protagonist', 13724), ('dagny', 4400), ('taggart', 17232), ('solution', 16264), ('rubble', 15007), ('longabandoned', 10358), ('atm', 1392), ('dishes', 5045), ('vies', 18732), ('recover', 14258), ('loser', 10416), ('captain', 2821), ('atomic', 1394), ('sock', 16231), ('puppet', 13834), ('activate', 485), ('joey', 9453), ('partner', 12777), ('eren', 5946), ('yeager', 19479), ('titans', 17717), ('harold', 7979), ('evans', 6040), ('wages', 18884), ('ongoing', 12351), ('obtain', 12192), ('compensation', 3686), ('entrance', 5896), ('exam', 6088), ('whole', 19153), ('wrenching', 19402), ('considered', 3847), ('humiliated', 8562), ('communities', 3668), ('aunty', 1455), ('donna', 5228), ('uniquely', 18374), ('offbeat', 12239), ('array', 1238), ('sketches', 16028), ('eclectic', 5531), ('characters', 3101), ('42yearold', 275), ('viorel', 18782), ('distraught', 5108), ('kgb', 9701), ('files', 6624), ('evidence', 6070), ('proving', 13754), ('architects', 1175), ('engineers', 5821), ('conspired', 3855), ('nazis', 11796), ('designed', 4776), ('genocide', 7327), ('teams', 17353), ('gold', 7505), ('manner', 10714), ('pursuing', 13852), ('australian', 1463), ('outback', 12499), ('shagadelic', 15667), ('spy', 16535), ('continues', 3907), ('teamed', 17350), ('goldmember', 7512), ('swingin', 17155), ('groovy', 7714), ('superspy', 17019), ('austin', 1461), ('foil', 6841), ('genius', 7326), ('powerss', 13439), ('mojo', 11412), ('60s', 309), ('rickshaw', 14749), ('unmasks', 18406), ('insurance', 9063), ('adjuster', 534), ('robot', 14867), ('violating', 18773), ('global', 7454), ('rural', 15053), ('wrestling', 19407), ('doubts', 5264), ('scrambles', 15361), ('dangerously', 4432), ('katara', 9650), ('sokka', 16246), ('aang', 343), ('hibernation', 8198), ('avatar', 1498), ('airbending', 700), ('fire', 6672), ('nun', 12122), ('elder', 5614), ('upholding', 18504), ('forbidden', 6883), ('pastor', 12811), ('shark', 15711), ('hardened', 7952), ('convict', 3943), ('furlough', 7157), ('exact', 6084), ('amass', 892), ('thanos', 17517), ('acquiring', 471), ('infinity', 8946), ('stones', 16739), ('wiping', 19257), ('half', 7860), ('universe', 18381), ('meteoric', 11110), ('bergling', 1939), ('avicii', 1513), ('swedish', 17132), ('up', 18485), ('you', 19527), ('me', 10930), ('unknown', 18387), ('commands', 3631), ('appearing', 1110), ('recollection', 14232), ('is', 9238), ('targeting', 17312), ('commander', 3626), ('emma', 5726), ('lead', 10054), ('threeyear', 17615), ('highachieving', 8214), ('11yearold', 24), ('grapples', 7622), ('disparate', 5071), ('traveler', 17966), ('drugaddicted', 5385), ('several', 15635), ('northeast', 12050), ('pungent', 13821), ('delicacy', 4663), ('sparking', 16381), ('unaccustomed', 18237), ('entrepreneur', 5900), ('decisions', 4574), ('delving', 4683), ('43', 276), ('accra', 446), ('cricket', 4175), ('mohammad', 11406), ('azharuddin', 1559), ('1990s', 156), ('aziz', 1560), ('ansari', 1038), ('parks', 12753), ('recreation', 14267), ('sharpwitted', 15721), ('immigrants', 8747), ('unfiltered', 18338), ('babies', 1563), ('era', 5939), ('spike', 16444), ('jonze', 9490), ('insights', 9030), ('wokeness', 19298), ('climate', 3422), ('keith', 9674), ('flick', 6772), ('rejoins', 14393), ('emerges', 5718), ('koku', 9814), ('loose', 10396), ('mukesh', 11601), ('seductive', 15438), ('sarika', 15202), ('1975', 139), ('governmentdeclared', 7565), ('emergency', 5717), ('bhawani', 1996), ('seized', 15471), ('treasures', 17979), ('martial', 10803), ('bangkok', 1675), ('clutches', 3467), ('cruel', 4251), ('tyrant', 18199), ('hindi', 8286), ('conclusion', 3746), ('saga', 15105), ('malayalam', 10650), ('villagers', 18756), ('mahismati', 10607), ('destined', 4800), ('english', 5825), ('version', 18684), ('ss', 16556), ('rajamoulis', 14020), ('wideeyed', 19167), ('ambition', 904), ('dubious', 5407), ('practices', 13443), ('idol', 8669), ('stock', 16726), ('turkeys', 18131), ('coup', 4063), ('aegean', 608), ('immediately', 8741), ('unemployed', 18326), ('necessary', 11818), ('morocco', 11498), ('random', 14059), ('countries', 4056), ('nurture', 12132), ('infants', 8927), ('fed', 6509), ('rome', 14941), ('citys', 3341), ('double', 5259), ('cutthroat', 4365), ('ballroom', 1648), ('instructors', 9056), ('proud', 13741), ('pintsized', 13131), ('performers', 12954), ('waltz', 18928), ('punjab', 13827), ('maternal', 10851), ('opportunity', 12390), ('mend', 11045), ('surprise', 17069), ('blues', 2192), ('stages', 16571), ('soviet', 16353), ('freight', 7040), ('hijacking', 8261), ('typist', 18194), ('vice', 18702), ('glamour', 7430), ('1929', 102), ('stigma', 16709), ('são', 17203), ('paulo', 12849), ('telemarketers', 17393), ('headed', 8052), ('kick', 9708), ('locals', 10314), ('blunder', 2197), ('alter', 863), ('jpop', 9521), ('learned', 10076), ('freak', 7016), ('born', 2313), ('flaunt', 6750), ('front', 7088), ('crushes', 4266), ('middle', 11154), ('transported', 17948), ('baggage', 1611), ('singles', 15976), ('reignite', 14369), ('hike', 8265), ('jenn', 9374), ('territory', 17469), ('menacing', 11043), ('bear', 1806), ('imprisoned', 8806), ('arsonist', 1256), ('untangle', 18457), ('robbers', 14855), ('philly', 13038), ('peter', 13005), ('longago', 10359), ('trauma', 17958), ('exorcise', 6183), ('embolden', 5706), ('ghosts', 7372), ('sprawling', 16514), ('rizzuto', 14833), ('associates', 1347), ('presided', 13522), ('fraud', 7010), ('ultimately', 18223), ('brought', 2526), ('tycoons', 18188), ('actioner', 481), ('miami', 11135), ('crook', 4220), ('snatched', 16176), ('heroin', 8182), ('hyperkinetic', 8618), ('cuban', 4286), ('kingpins', 9757), ('floridas', 6808), ('influx', 8956), ('ecstasy', 5541), ('irish', 9221), ('invasion', 9168), ('posh', 13370), ('abbey', 355), ('grove', 7723), ('alfie', 768), ('wickers', 19165), ('englands', 5824), ('worst', 19377), ('educator', 5570), ('pulled', 13809), ('racket', 13966), ('higher', 8221), ('risks', 14809), ('rewards', 14714), ('gains', 7200), ('geriatric', 7352), ('irving', 9237), ('zisman', 19613), ('continue', 3905), ('jackass', 9293), ('franchise', 6989), ('unused', 18467), ('reinstated', 14380), ('crimes', 4185), ('requests', 14543), ('enlist', 5843), ('catching', 2966), ('felons', 6540), ('ordered', 12429), ('villainous', 18759), ('controls', 3927), ('gathers', 7278), ('clean', 3399), ('themselves', 17536), ('facilitate', 6324), ('womanizing', 19308), ('spurns', 16531), ('persistent', 12980), ('answer', 1040), ('asianamerican', 1301), ('rappers', 14090), ('strive', 16836), ('achieve', 456), ('genre', 7328), ('outsiders', 12533), ('scam', 15252), ('petty', 13015), ('adoptive', 555), ('thumb', 17639), ('dictatorial', 4897), ('suspected', 17097), ('practicing', 13444), ('witchcraft', 19275), ('demonized', 4701), ('renowned', 14487), ('convoluted', 3953), ('license', 10188), ('roams', 14846), ('wrangle', 19389), ('confederate', 3767), ('pioneer', 13132), ('throws', 17633), ('shots', 15838), ('cringing', 4193), ('arts', 1282), ('baki', 1625), ('hanma', 7925), ('surpass', 17068), ('inmates', 8996), ('descend', 4759), ('dan', 4422), ('kouzo', 9840), ('brawlers', 2407), ('challengers', 3058), ('bakugan', 1627), ('fighting', 6613), ('watch', 18985), ('ganesh', 7239), ('disarm', 4990), ('invaders', 9164), ('dacoits', 4393), ('mythological', 11684), ('elephant', 5638), ('suspiciously', 17106), ('balto', 1655), ('endures', 5801), ('taunts', 17333), ('disapproving', 4989), ('guides', 7765), ('cargo', 2867), ('medicine', 10973), ('winter', 19248), ('halfdog', 7866), ('halfwolf', 7876), ('voiced', 18837), ('maurice', 10876), ('lamarche', 9926), ('proudly', 13742), ('pups', 13839), ('adoption', 554), ('nobody', 12001), ('aleu', 760), ('pilot', 13114), ('baltos', 1656), ('kodi', 9811), ('sled', 16079), ('deliver', 4670), ('mail', 10613), ('faster', 6444), ('dogs', 5190), ('plane', 13179), ('vanishes', 18609), ('exgirlfriend', 6151), ('minibus', 11254), ('riza', 14832), ('steady', 16656), ('presence', 13510), ('dreamy', 5345), ('searching', 15402), ('soul', 16325), ('mate', 10846), ('negotiates', 11839), ('heartsick', 8092), ('kindred', 9749), ('though', 17597), ('disintegrating', 5053), ('oddball', 12222), ('recast', 14203), ('tom', 17752), ('sawyer', 15242), ('huck', 8526), ('finn', 6669), ('draft', 5301), ('misfit', 11307), ('cronies', 4218), ('sought', 16324), ('since', 15955), ('boyhood', 2367), ('heirless', 8126), ('maharaj', 10603), ('brajbhan', 2387), ('throne', 17627), ('vikram', 18746), ('brajbhans', 2388), ('badi', 1602), ('rani', 14069), ('conceives', 3735), ('fighters', 6611), ('burmese', 2631), ('factions', 6333), ('mens', 11050), ('bachelors', 1571), ('roof', 14950), ('unabashed', 18234), ('wrestle', 19404), ('woes', 19296), ('quarters', 13901), ('misfires', 11306), ('offered', 12249), ('snitch', 16187), ('inmate', 8995), ('dilemma', 4936), ('rivals', 14822), ('belle', 1890), ('fusion', 7164), ('bistro', 2085), ('kram', 9845), ('chic', 3205), ('district', 5111), ('parkour', 12752), ('enthusiast', 5887), ('bawdy', 1782), ('restaurateur', 14612), ('bangkoks', 1676), ('glittering', 7450), ('silom', 15922), ('kind', 9743), ('computer', 3721), ('repairman', 14500), ('streetsmart', 16809), ('graffiti', 7589), ('worsens', 19376), ('chinatown', 3248), ('spirited', 16462), ('marketing', 10777), ('fortuneteller', 6941), ('predestined', 13472), ('disaster', 4993), ('shift', 15766), ('30yearold', 251), ('philosophies', 13042), ('franchises', 6990), ('fc', 6488), ('barcelona', 1705), ('futile', 7166), ('honest', 8399), ('opt', 12402), ('ransom', 14076), ('laidback', 9917), ('servant', 15595), ('blogger', 2163), ('saudi', 15222), ('conventions', 3936), ('mighty', 11174), ('tribal', 18013), ('roman', 14925), ('conflicted', 3788), ('allegiances', 794), ('nuance', 12108), ('mesmerizing', 11090), ('techniques', 17368), ('flavor', 6751), ('globehopping', 7458), ('celebration', 3004), ('cooking', 3960), ('tradition', 17882), ('barbie', 1702), ('swiss', 17160), ('majestic', 10624), ('alps', 853), ('excited', 6116), ('funfilled', 7145), ('riding', 14762), ('ken', 9680), ('coral', 3985), ('reef', 14294), ('amazing', 897), ('know', 9801), ('bffs', 1989), ('vlog', 18828), ('dreamhouse', 5340), ('roberts', 14862), ('costa', 4029), ('rica', 14734), ('mermaid', 11084), ('water', 18992), ('devious', 4854), ('surf', 17054), ('champ', 3065), ('merliah', 11082), ('actually', 499), ('dolphin', 5199), ('oceana', 12211), ('princess', 13580), ('predictable', 13476), ('transformed', 17933), ('butterflys', 2667), ('super', 16991), ('sparkle', 16382), ('courtney', 4076), ('trades', 17880), ('places', 13172), ('erika', 5951), ('collide', 3557), ('blond', 2165), ('fabulous', 6315), ('lookalike', 10386), ('hoverboardriding', 8510), ('cosmos', 4027), ('winking', 19239), ('devilish', 4850), ('fairies', 6351), ('raquelle', 14092), ('gloss', 7470), ('blair', 2121), ('willows', 19211), ('princesses', 13581), ('delancy', 4654), ('hadley', 7841), ('hightech', 8252), ('agency', 654), ('burglar', 2625), ('would', 19381), ('rather', 14106), ('sing', 15958), ('visits', 18811), ('switch', 17161), ('favorite', 6479), ('rollerskating', 14921), ('heroine', 8184), ('emoji', 5732), ('barbra', 1703), ('streisand', 16811), ('culminates', 4303), ('13city', 33), ('dazzling', 4498), ('ballads', 1638), ('broadway', 2495), ('standards', 16590), ('degree', 4644), ('architecture', 1176), ('expatriate', 6195), ('disastrous', 4996), ('balochistan', 1651), ('unsanctioned', 18435), ('hostagerescue', 8474), ('adores', 563), ('bitti', 2096), ('printer', 13586), ('affection', 619), ('pretends', 13543), ('barfii', 1710), ('hearing', 8078), ('speech', 16416), ('appropriate', 1131), ('suitor', 16956), ('shruti', 15864), ('technical', 17364), ('university', 18383), ('robotbuilding', 14868), ('divergent', 5128), ('cultures', 4313), ('stepfather', 16680), ('however', 8514), ('approve', 1134), ('match', 10841), ('split', 16476), ('slackers', 16060), ('madeup', 10566), ('sport', 16499), ('baseketball', 1736), ('craze', 4137), ('basketballbaseball', 1744), ('hybrids', 8606), ('popularity', 13341), ('mirrors', 11290), ('chinle', 3251), ('arizonas', 1211), ('navajo', 11782), ('state', 16633), ('talkative', 17268), ('bat', 1755), ('fogville', 6839), ('quiet', 13927), ('seems', 15454), ('norman', 12040), ('bates', 1758), ('normans', 12042), ('endeavors', 5785), ('floundering', 6813), ('negative', 11831), ('david', 4485), ('letterman', 10156), ('unearths', 18320), ('musicals', 11649), ('toetapping', 17739), ('joker', 9473), ('gordon', 7542), ('monstrous', 11455), ('batman', 1763), ('madness', 10572), ('amalies', 886), ('bankrupt', 1686), ('collapses', 3541), ('mikael', 11184), ('polished', 13293), ('dispatched', 5073), ('creek', 4164), ('michigan', 11144), ('precinct', 13465), ('mercenaries', 11066), ('offthebooks', 12267), ('chernobyl', 3191), ('humancontrolled', 8542), ('droids', 5367), ('ambush', 908), ('fourman', 6961), ('latvia', 10000), ('unearth', 18317), ('artifacts', 1269), ('eastern', 5513), ('fishing', 6700), ('albacore', 736), ('tuna', 18115), ('competitive', 3691), ('waters', 18995), ('oregon', 12437), ('middleclass', 11156), ('attentions', 1420), ('jewels', 9405), ('concerned', 3740), ('rhino', 14722), ('poaching', 13247), ('directly', 4966), ('impact', 8759), ('finland', 6668), ('retired', 14646), ('desolation', 4785), ('weight', 19055), ('customs', 4358), ('standing', 16592), ('promised', 13682), ('cooly', 3963), ('confident', 3778), ('exile', 6162), ('revisit', 14697), ('perform', 12950), ('trace', 17865), ('andy', 983), ('whitfield', 19147), ('received', 14207), ('starring', 16617), ('spartacus', 16387), ('sand', 15168), ('stress', 16815), ('incognito', 8841), ('emily', 5724), ('ten', 17425), ('exlove', 6173), ('reconnecting', 14238), ('girlhood', 7417), ('revelations', 14683), ('bucky', 2558), ('bjorn', 2102), ('farout', 6426), ('wondrous', 19322), ('whoever', 19152), ('came', 2755), ('term', 17454), ('brain', 2377), ('met', 11103), ('use', 18545), ('beaks', 1802), ('puzzles', 13868), ('tools', 17777), ('disasterprone', 4994), ('bean', 1803), ('painting', 12652), ('unfit', 18340), ('wellknown', 19079), ('wildlife', 19194), ('mama', 10669), ('origin', 12448), ('building', 2580), ('replicas', 14516), ('3d', 264), ('beasts', 1814), ('kinds', 9750), ('coexist', 3511), ('predatory', 13471), ('midst', 11165), ('unit', 18375), ('mercenary', 11067), ('transform', 17928), ('bugs', 2578), ('lessons', 10151), ('talent', 17260), ('bug', 2577), ('factor', 6334), ('televised', 17400), ('faraway', 6412), ('upheavals', 18501), ('investment', 9189), ('transplant', 17944), ('chicagos', 3208), ('prodigy', 13633), ('august', 1450), ('monroe', 11450), ('frontiers', 7090), ('disco', 5009), ('casts', 2944), ('queens', 13909), ('burlesque', 2630), ('beast', 1810), ('gone', 7520), ('finding', 6657), ('situation', 16007), ('emman', 5727), ('contend', 3887), ('realizing', 14156), ('boob', 2276), ('tube', 18099), ('beavis', 1826), ('butthead', 2668), ('expedition', 6204), ('nations', 11767), ('capital', 2809), ('robin', 14863), ('jamika', 9320), ('heels', 8115), ('greets', 7660), ('bebes', 1827), ('wits', 19290), ('jakarta', 9310), ('bookie', 2281), ('actionpacked', 482), ('housemates', 8504), ('convenience', 3932), ('demanding', 4685), ('inlaws', 8994), ('trouble', 18062), ('jinks', 9426), ('ensue', 5862), ('bag', 1610), ('lady', 9908), ('tours', 17845), ('athletes', 1383), ('achieved', 457), ('roguish', 14905), ('barrister', 1724), ('lefroy', 10098), ('inspiration', 9036), ('jane', 9325), ('austen', 1458), ('skeeters', 16022), ('fantastical', 6406), ('entertain', 5880), ('inexplicably', 8917), ('barry', 1727), ('bee', 1840), ('deadend', 4505), ('honey', 8401), ('sues', 16938), ('theyve', 17557), ('stealing', 16658), ('bees', 1845), ('nectar', 11820), ('londons', 10348), ('camden', 2754), ('hears', 8081), ('sure', 17052), ('walk', 18906), ('aisle', 712), ('30', 242), ('continually', 3903), ('relive', 14428), ('privileged', 13602), ('cosmic', 4025), ('looping', 10394), ('mark', 10774), ('jessie', 9394), ('welcome', 19064), ('foster', 6946), ('cody', 3506), ('ability', 377), ('leonardo', 10137), ('dicaprio', 4891), ('crisscrosses', 4204), ('globe', 7457), ('consequences', 3839), ('manmade', 10712), ('warming', 18954), ('taken', 17252), ('reverse', 14693), ('interactions', 9082), ('peaceful', 12879), ('whaling', 19112), ('garnered', 7263), ('setbacks', 15612), ('1940', 108), ('winston', 19247), ('churchill', 3315), ('commissions', 3641), ('commandos', 3630), ('stealth', 16660), ('audacious', 1438), ('tactics', 17224), ('todrick', 17736), ('original', 12449), ('texas', 17498), ('theorists', 17542), ('belief', 1880), ('flat', 6745), ('vehemently', 18642), ('rejects', 14392), ('presenter', 13514), ('punchalee', 13817), ('conniving', 3821), ('dao', 4445), ('wholl', 19155), ('ankara', 1017), ('disdain', 5027), ('rules', 15030), ('correctness', 4010), ('solves', 16268), ('seduced', 15434), ('concocts', 3749), ('retirement', 14649), ('staring', 16611), ('alltimegreat', 829), ('jump', 9556), ('jockey', 9446), ('20th', 210), ('consecutive', 3837), ('unrelenting', 18427), ('glory', 7469), ('whoopi', 19157), ('goldberg', 7506), ('narrates', 11738), ('elmo', 5667), ('kevin', 9695), ('clashs', 3374), ('remarkable', 14445), ('workingclass', 19350), ('baltimore', 1654), ('hensons', 8162), ('sesame', 15606), ('mary', 10813), ('balance', 1629), ('scorned', 15343), ('cab', 2689), ('villager', 18755), ('200th', 183), ('waterloo', 18994), ('thousands', 17603), ('enthusiasts', 5888), ('reenact', 14298), ('napoleon', 11730), ('1967', 130), ('arabisraeli', 1149), ('rapidly', 14083), ('transforming', 17935), ('hottest', 8493), ('exhilarating', 6159), ('price', 13557), ('reconstruct', 14243), ('womans', 19309), ('cheerleader', 3172), ('bella', 1887), ('dawson', 4491), ('quarterback', 13897), ('dimming', 4945), ('yearning', 19486), ('torrid', 17807), ('roofer', 14951), ('ben', 1910), ('holly', 8366), ('teamwork', 17354), ('problemsolving', 13618), ('types', 18192), ('em', 5687), ('adventuring', 591), ('gwen', 7814), ('max', 10885), ('backed', 1577), ('platt', 13198), ('songbook', 16288), ('onstage', 12357), ('numbers', 12119), ('lp', 10473), ('rookie', 14953), ('emasculating', 5692), ('manages', 10677), ('firms', 6688), ('softball', 16239), ('advocates', 606), ('haiti', 7856), ('escaped', 5978), ('psychopathic', 13780), ('hardnosed', 7957), ('danger', 4430), ('benji', 1926), ('told', 17749), ('poochs', 13324), ('santas', 15190), ('workshop', 19354), ('medically', 10969), ('discharged', 5002), ('motorcycle', 11548), ('racing', 13963), ('dj', 5149), ('ickarus', 8642), ('touring', 17837), ('loony', 10392), ('bin', 2054), ('many', 10732), ('streak', 16799), ('50000', 291), ('euros', 6029), ('sponsors', 16488), ('turkishgerman', 18133), ('onenight', 12342), ('clare', 3364), ('andis', 972), ('cinematic', 3325), ('lolle', 10342), ('moved', 11570), ('sven', 17113), ('hart', 7992), ('grey', 7668), ('cities', 3335), ('starstudded', 16622), ('10story', 12), ('collection', 3548), ('redemptive', 14284), ('crushing', 4267), ('romances', 14927), ('guts', 7808), ('griffith', 7682), ('ensuing', 5864), ('fullfledged', 7127), ('horrible', 8447), ('believed', 1883), ('griffiths', 7683), ('equal', 5930), ('hawk', 8035), ('vanquish', 18611), ('bert', 1949), ('kreischer', 9849), ('pet', 13002), ('pot', 13409), ('shirtless', 15795), ('relays', 14406), ('grizzly', 7702), ('laughoutloud', 10006), ('decadent', 4545), ('pasta', 12808), ('dayold', 4495), ('fries', 7071), ('skillful', 16038), ('cooks', 3961), ('tired', 17713), ('leftovers', 10101), ('tantalizing', 17298), ('wildly', 19195), ('culinary', 4299), ('agendas', 656), ('advance', 579), ('justmarried', 9579), ('door', 5237), ('jerry', 9388), ('seinfeld', 15463), ('leslie', 10147), ('hannah', 7926), ('gadsby', 7190), ('funniest', 7149), ('bits', 2091), ('netflixs', 11876), ('2020', 198), ('unseen', 18444), ('table', 17209), ('acclaimed', 432), ('schitts', 15293), ('merrily', 11087), ('recall', 14198), ('surefire', 17053), ('wasnt', 18981), ('comiccon', 3618), ('predicament', 13473), ('displace', 5080), ('highway', 8254), ('officials', 12260), ('curse', 4341), ('soldierzombies', 16253), ('tide', 17662), ('bethany', 1966), ('hamilton', 7890), ('arm', 1215), ('surfing', 17059), ('emmynominated', 5729), ('prequel', 13503), ('breaking', 2421), ('smalltime', 16132), ('attorney', 1424), ('mcgill', 10917), ('morally', 11486), ('challenged', 3056), ('saul', 15223), ('goodman', 7528), ('brink', 2478), ('splitting', 16479), ('owners', 12597), ('investigators', 9187), ('herbalife', 8166), ('nutritional', 12138), ('pyramid', 13872), ('television', 17401), ('betty', 1980), ('ground', 7717), ('kills', 9735), ('22', 218), ('fend', 6551), ('quarantines', 13895), ('provides', 13749), ('consider', 3844), ('zero', 19592), ('selfawareness', 15485), ('zach', 19562), ('galifianakis', 7210), ('subjects', 16899), ('nobudget', 12003), ('plunges', 13239), ('amnesia', 926), ('tricks', 18023), ('valt', 18591), ('aoi', 1082), ('beyblade', 1984), ('valtryek', 18592), ('number', 12115), ('blader', 2115), ('scouted', 15358), ('european', 6026), ('dante', 4442), ('dragon', 5307), ('generation', 7312), ('bladers', 2116), ('beyblades', 1985), ('birthplace', 2081), ('blading', 2119), ('novice', 12095), ('competitor', 3692), ('harness', 7977), ('untamed', 18456), ('tournaments', 17843), ('anime', 1014), ('blade', 2114), ('spinning', 16454), ('tops', 17789), ('honor', 8407), ('rightwing', 14777), ('subversive', 16920), ('2011', 185), ('indians', 8875), ('demonstrate', 4703), ('sacrifices', 15090), ('countrys', 4060), ('suspended', 17100), ('onslaught', 12356), ('captives', 2826), ('episodes', 5926), ('rash', 14099), ('caution', 2987), ('spoilers', 16483), ('highlights', 8230), ('tourney', 17844), ('icc', 8635), ('t20', 17207), ('youthful', 19537), ('dealer', 4512), ('defending', 4616), ('kindhearted', 9746), ('temporarily', 17415), ('shoulder', 15839), ('knotty', 9800), ('critic', 4208), ('cushy', 4349), ('unsatisfying', 18437), ('impulsive', 8816), ('freespirited', 7034), ('defied', 4622), ('convention', 3934), ('flirting', 6790), ('be', 1793), ('twopart', 18179), ('depicts', 4734), ('lay', 10043), ('foundation', 6952), ('pl', 13169), ('deshpande', 4774), ('humorist', 8566), ('philanthropic', 13033), ('threatened', 17608), ('notsolittle', 12084), ('bhangra', 1993), ('preps', 13502), ('heartwrenching', 8096), ('comingofage', 3624), ('arduous', 1186), ('donkey', 5227), ('uncovering', 18276), ('diwali', 5145), ('celebrate', 3000), ('chhota', 3201), ('ramayana', 14035), ('reenacting', 14300), ('smartaleck', 16135), ('meme', 11029), ('appointed', 1119), ('ceo', 3032), ('workplace', 19352), ('siddharth', 15887), ('dismisses', 5061), ('warnings', 18961), ('palace', 12665), ('occurrences', 12206), ('reconsider', 14241), ('beliefs', 1881), ('behavior', 1864), ('chilling', 3240), ('23yearold', 224), ('maledominated', 10656), ('bibi', 2002), ('horseloving', 8459), ('tina', 17700), ('flirts', 6791), ('tinas', 17701), ('eyes', 6304), ('foal', 6829), ('falkenstein', 6367), ('pal', 12664), ('devise', 4855), ('failing', 6343), ('pitted', 13158), ('whats', 19115), ('screen', 15373), ('reconcile', 14235), ('narrowminded', 11745), ('busy', 2661), ('maids', 10612), ('humorous', 8567), ('free', 7021), ('grant', 7614), ('alcoholfueled', 748), ('haywire', 8041), ('abduct', 360), ('fiancées', 6587), ('refuses', 14330), ('responsibility', 14606), ('overgrown', 12555), ('sonny', 16296), ('koufax', 9839), ('5yearold', 305), ('grownup', 7727), ('monty', 11465), ('horticulturists', 8465), ('plant', 13187), ('gardens', 7258), ('junior', 9564), ('jason', 9340), ('kaylee', 9664), ('jasons', 9341), ('essay', 5995), ('tenderfoot', 17432), ('gamblers', 7228), ('fortunes', 6940), ('gunslinging', 7797), ('preacher', 13462), ('writes', 19417), ('whales', 19111), ('ussr', 18559), ('upended', 18496), ('puberty', 13788), ('nick', 11937), ('kroll', 9855), ('lived', 10284), ('virginia', 18789), ('mining', 11258), ('uncovers', 18277), ('profoundly', 13664), ('bjarke', 2101), ('ingels', 8964), ('vision', 18802), ('aims', 696), ('restore', 14615), ('manhattans', 10693), ('skyline', 16056), ('rush', 15055), ('bags', 1613), ('mixed', 11357), ('backstage', 1586), ('rap', 14078), ('duo', 5439), ('bigflo', 2019), ('oli', 12297), ('superstar', 17020), ('concept', 3737), ('dishonest', 5047), ('liar', 10174), ('once', 12319), ('documentarian', 5165), ('broomfield', 2512), ('tupac', 18121), ('shakur', 15679), ('biggie', 2024), ('smalls', 16131), ('digging', 4926), ('charts', 3130), ('yoga', 19510), ('founder', 6956), ('bikram', 2039), ('choudhury', 3284), ('burr', 2640), ('zombie', 19620), ('apocalypse', 1096), ('romcoms', 14940), ('explains', 6222), ('hugs', 8537), ('downfall', 5276), ('musings', 11657), ('fillmore', 6631), ('auditorium', 1446), ('unloads', 18398), ('outrage', 12527), ('appropriation', 1132), ('blistering', 2154), ('nashville', 11750), ('overpopulation', 12566), ('dictators', 4898), ('gorilla', 7546), ('sign', 15907), ('language', 9961), ('funnyman', 7151), ('uncork', 18274), ('profanitylaced', 13644), ('incisive', 8835), ('diggers', 4925), ('hicks', 8201), ('remembers', 14451), ('puffing', 13802), ('cigarettes', 3320), ('smoking', 16148), ('weed', 19041), ('drinking', 5357), ('commercials', 3637), ('insight', 9028), ('well', 19068), ('performances', 12952), ('late', 9988), ('demonstrates', 4704), ('reckoned', 14222), ('recorded', 14248), ('iconoclastic', 8647), ('goat', 7487), ('priesthood', 13566), ('hickss', 8202), ('performance', 12951), ('spouting', 16512), ('nye', 12142), ('scientific', 15323), ('dynamic', 5472), ('bowtied', 2355), ('climatechange', 3423), ('skeptics', 16025), ('abuzz', 410), ('barber', 1701), ('actors', 493), ('approaches', 1130), ('worry', 19374), ('recognized', 14230), ('ballet', 1642), ('evangelist', 6039), ('billy', 2053), ('graham', 7590), ('presidents', 13527), ('eichner', 5599), ('sprints', 16524), ('celebrities', 3006), ('stun', 16875), ('pedestrians', 12895), ('unapologetic', 18241), ('check', 3164), ('german', 7354), ('biology', 2063), ('contemporary', 3885), ('literature', 10275), ('create', 4144), ('instructor', 9055), ('abduction', 363), ('ominous', 12315), ('watchers', 18987), ('enthusiasm', 5886), ('protecting', 13727), ('preserving', 13519), ('inadvertently', 8822), ('shoots', 15813), ('endangered', 5782), ('eagle', 5485), ('setting', 15615), ('exposes', 6249), ('vs', 18868), ('raises', 14015), ('genetic', 7319), ('dispositions', 5087), ('cracking', 4110), ('ferocious', 6561), ('efficient', 5580), ('interpol', 9111), ('shadowy', 15664), ('elena', 5637), ('michaels', 11139), ('stray', 16798), ('werewolves', 19096), ('thwarted', 17646), ('galician', 7209), ('20', 170), ('egypt', 5595), ('identification', 8662), ('unfamiliar', 18337), ('smalltown', 16133), ('videographer', 18722), ('sexy', 15657), ('famine', 6387), ('ravages', 14121), ('battlehardened', 1775), ('irishman', 9222), ('deserts', 4771), ('exacts', 6086), ('tyrants', 18200), ('lowincome', 10464), ('maintain', 10621), ('victorian', 18713), ('12yearold', 29), ('magnate', 10596), ('ciel', 3318), ('phantomhive', 13017), ('thwarts', 17648), ('watched', 18986), ('butler', 2664), ('sebastian', 15413), ('portrays', 13364), ('islamic', 9247), ('yazidi', 19477), ('slave', 16072), ('snipers', 16186), ('adopted', 552), ('rwandan', 15074), ('ashby', 1290), ('docudrama', 5162), ('sametitled', 15153), ('tracks', 17873), ('1993', 159), ('bombing', 2255), ('bombay', 2253), ('covering', 4088), ('underlings', 18292), ('somali', 16271), ('helicopters', 8136), ('heavy', 8104), ('casualties', 2946), ('blaming', 2126), ('mogul', 11404), ('blackownedandoperated', 2111), ('hotspot', 8491), ('ink', 8992), ('tattoo', 17329), ('ceaser', 2996), ('expand', 6189), ('rambunctious', 14037), ('principal', 13582), ('jefferson', 9366), ('pierce', 13092), ('leaps', 10074), ('lightning', 10220), ('albinos', 741), ('waged', 18882), ('behalf', 1862), ('advocacy', 604), ('nearfuture', 11811), ('humanitys', 8547), ('innovations', 9007), ('darkest', 4458), ('1984', 149), ('programmer', 13666), ('adapts', 511), ('endings', 5789), ('jewelry', 9404), ('bereaved', 1936), ('theft', 17528), ('tchalla', 17340), ('superpowered', 17012), ('advanced', 580), ('wakanda', 18895), ('brutally', 2539), ('moscow', 11515), ('harddriving', 7951), ('submarine', 16902), ('sunken', 16985), ('nazi', 11794), ('sub', 16892), ('underwater', 18307), ('neutralize', 11888), ('lazarus', 10049), ('rae', 13979), ('beaten', 1816), ('anyone', 1078), ('animosity', 1015), ('patagonia', 12816), ('chief', 3216), ('phenomena', 13026), ('edge', 5546), ('whale', 19110), ('tilikum', 17680), ('captivity', 2827), ('recordshattering', 14253), ('blackpink', 2112), ('detail', 4810), ('hardfought', 7953), ('menaced', 11042), ('psychopath', 13779), ('scared', 15264), ('lillian', 10230), ('logger', 10333), ('tables', 17211), ('stalker', 16580), ('selfreplicating', 15515), ('bent', 1931), ('eliminating', 5651), ('killy', 9736), ('guide', 7763), ('remnant', 14461), ('influential', 8954), ('unsung', 18454), ('songwriter', 16292), ('drove', 5380), ('johnnys', 9462), ('transfer', 17924), ('ordained', 12425), ('ichigo', 8640), ('kurosaki', 9873), ('acquires', 470), ('reaper', 14164), ('rukia', 15025), ('kuchiki', 9861), ('round', 14984), ('fogged', 6838), ('scimitarweilding', 15329), ('mayuri', 10901), ('destroys', 4806), ('laboratory', 9892), ('unleashing', 18392), ('cloud', 3454), ('reishi', 14388), ('lays', 10047), ('seiretei', 15465), ('sinners', 15986), ('eternal', 6010), ('substitute', 16914), ('launch', 10010), ('kidnap', 9716), ('ichigos', 8641), ('derails', 4749), ('scrappy', 15367), ('vinny', 18769), ('pazienza', 12874), ('determines', 4822), ('againstallodds', 648), ('comeback', 3602), ('wrongfully', 19425), ('measure', 10941), ('unavailable', 18247), ('soulful', 16327), ('interesting', 9089), ('date', 4474), ('detecting', 4813), ('sharp', 15717), ('luckily', 10488), ('recognizes', 14231), ('deduction', 4592), ('asian', 1300), ('seekers', 15446), ('parties', 12775), ('koala', 9809), ('blinky', 2151), ('spunky', 16528), ('amuse', 943), ('jérémy', 9586), ('hatches', 8010), ('superheroloving', 17001), ('lola', 10341), ('condemned', 3753), ('centuriesold', 3028), ('kingdoms', 9754), ('embittered', 5705), ('wronged', 19423), ('crossing', 4235), ('cape', 2807), ('privateschool', 13600), ('swimming', 17147), ('shaking', 15678), ('dealers', 4513), ('kunal', 9869), ('seedy', 15442), ('greece', 7646), ('heron', 8186), ('heritage', 8174), ('zeus', 19594), ('demonic', 4700), ('ethically', 6015), ('amazon', 899), ('port', 13350), ('belém', 1907), ('brazil', 2413), ('patriarch', 12835), ('elías', 5685), ('sheep', 15736), ('respected', 14597), ('sibling', 15882), ('doomed', 5235), ('passengers', 12797), ('spectral', 16413), ('gruesome', 7734), ('destination', 4798), ('deliciously', 4665), ('smuggler', 16154), ('george', 7343), ('rises', 14804), ('eventual', 6049), ('heat', 8097), ('glassblowing', 7435), ('sculpture', 15388), ('60000', 308), ('throw', 17630), ('satans', 15209), ('illegitimate', 8703), ('rin', 14784), ('exorcist', 6186), ('15yearold', 48), ('adele', 528), ('focused', 6832), ('bluehaired', 2191), ('piques', 13140), ('fashionable', 6440), ('homemaker', 8382), ('rediscover', 14287), ('regret', 14355), ('nfl', 11928), ('thad', 17506), ('buys', 2676), ('frat', 7006), ('renames', 14469), ('thadland', 17507), ('raunchiest', 14116), ('debauched', 4531), ('blue', 2188), ('vistas', 18812), ('unhinges', 18361), ('vagabond', 18576), ('dwight', 5467), ('jewel', 9401), ('stint', 16721), ('jail', 9304), ('constructed', 3865), ('cindy', 3323), ('dean', 4518), ('muddle', 11592), ('languishing', 9963), ('hearken', 8080), ('murky', 11636), ('choices', 3268), ('root', 14963), ('insiders', 9026), ('shrouds', 15862), ('morphed', 11500), ('raccoon', 13953), ('beastman', 1813), ('michiru', 11145), ('shirou', 15794), ('animacity', 1006), ('thai', 17508), ('bnk48', 2207), ('spotlight', 16504), ('combining', 3598), ('trademark', 17878), ('selfdeprecating', 15492), ('burnham', 2636), ('duke', 5423), ('belt', 1903), ('melody', 11022), ('burnhams', 2637), ('oneman', 12340), ('energetic', 5806), ('dezzy', 4868), ('bob', 2214), ('lazar', 10048), ('blew', 2142), ('whistle', 19140), ('51', 301), ('explain', 6219), ('worked', 19345), ('shut', 15873), ('ross', 14973), ('signature', 15910), ('wetonwet', 19108), ('bevy', 1983), ('bucolic', 2559), ('landscape', 9956), ('paintings', 12653), ('overly', 12563), ('improves', 8812), ('sleigh', 16093), ('send', 15540), ('candid', 2783), ('profile', 13653), ('bobbi', 2215), ('jene', 9373), ('smith', 16142), ('israeli', 9261), ('choreographer', 3278), ('ohad', 12274), ('naharin', 11705), ('forge', 6912), ('artistic', 1277), ('bobbleheads', 2216), ('collector', 3550), ('uninvited', 18371), ('barge', 1714), ('prized', 13605), ('raj', 14018), ('bobby', 2217), ('christian', 3287), ('fisherman', 6698), ('oppose', 12391), ('unlimited', 18397), ('field', 6597), ('voices', 18838), ('phenomenon', 13027), ('redefine', 14279), ('robson', 14876), ('keen', 9669), ('matched', 10842), ('devotion', 4863), ('republican', 14538), ('galvanized', 7221), ('powerhouse', 13432), ('boca', 2219), ('juniors', 9565), ('provide', 13746), ('irked', 9223), ('admirer', 541), ('duties', 5455), ('backfire', 1578), ('accompanies', 435), ('alternately', 867), ('strains', 16774), ('strengthens', 16814), ('crossroads', 4238), ('escorts', 5986), ('clients', 3420), ('sitcom', 15999), ('90s', 331), ('curmudgeon', 4335), ('ofnot', 12269), ('quite', 13941), ('goldbut', 7507), ('bojack', 2238), ('todd', 17733), ('cane', 2788), ('horsin', 8462), ('iceland', 8638), ('ponder', 13312), ('venezuelan', 18656), ('simón', 15949), ('bolívar', 2250), ('liberate', 10178), ('downandout', 5273), ('utterly', 18568), ('unprepared', 18418), ('eccentricities', 5527), ('shepherd', 15752), ('bolt', 2248), ('crosscountry', 4226), ('mistakenly', 11334), ('wannabe', 18938), ('basque', 1746), ('word', 19339), ('pr', 13440), ('fading', 6339), ('intertwining', 9130), ('epiphany', 5924), ('1985', 150), ('vessel', 18689), ('protesting', 13735), ('nuclear', 12113), ('testing', 17490), ('sunk', 16984), ('zealand', 19575), ('unearthed', 18318), ('audio', 1442), ('hedy', 8113), ('lamarr', 9927), ('brains', 2383), ('patent', 12819), ('frequency', 7050), ('hopping', 8436), ('curaçao', 4326), ('amiable', 920), ('angers', 1000), ('gangsters', 7249), ('conscience', 3832), ('buddy', 2568), ('chapter', 3096), ('bargained', 1711), ('for', 6882), ('englishspeaking', 5828), ('toronto', 17804), ('frenchspeaking', 7044), ('lifeguards', 10200), ('sydneys', 17175), ('bondi', 2262), ('moonlighting', 11475), ('dominatrix', 5212), ('bff', 1988), ('assistant', 1342), ('bonnie', 2274), ('parker', 12750), ('clyde', 3469), ('barrow', 1726), ('bulletriddled', 2587), ('depressionravaged', 4744), ('exes', 6146), ('logistics', 10336), ('blended', 2135), ('dramedy', 5322), ('booba', 2277), ('curiosities', 4331), ('wonder', 19315), ('readers', 14141), ('books', 2282), ('authors', 1473), ('kidfriendly', 9715), ('conversations', 3941), ('empathy', 5739), ('equality', 5931), ('selflove', 15507), ('antiracism', 1062), ('zealands', 19576), ('patrol', 12839), ('safe', 15100), ('protection', 13728), ('safeguard', 15102), ('crossings', 4236), ('ports', 13365), ('inept', 8911), ('fictional', 6593), ('northend', 12051), ('airport', 706), ('improvised', 8813), ('mockumentary', 11385), ('covers', 4089), ('suspects', 17099), ('foul', 6948), ('birgitte', 2076), ('nyborg', 12140), ('danish', 4438), ('ministers', 11263), ('seat', 15410), ('landmark', 9950), ('deeply', 4604), ('import', 8788), ('employees', 5747), ('producing', 13639), ('content', 3890), ('barbs', 1704), ('israelpalestine', 9263), ('gaza', 7286), ('syrian', 17194), ('narrowly', 11744), ('integrate', 9068), ('allaccess', 787), ('indycar', 8909), ('dixon', 5146), ('400pound', 268), ('giants', 7381), ('arnold', 1229), ('strongman', 16843), ('glimpse', 7447), ('casting', 2942), ('mistreatment', 11340), ('mammals', 10670), ('plight', 13226), ('beluga', 1906), ('disowned', 5068), ('surya', 17092), ('shiv', 15796), ('wrongly', 19426), ('suryas', 17093), ('kamal', 9603), ('reassembles', 14175), ('modernize', 11395), ('dabke', 4392), ('routines', 14991), ('lifting', 10214), ('saggy', 15107), ('skin', 16040), ('repairing', 14499), ('shoddy', 15805), ('breast', 2429), ('enhancements', 5835), ('surgeons', 17062), ('fixeruppers', 6720), ('funloving', 7148), ('gumbles', 7784), ('bounce', 2341), ('foulsmelling', 6950), ('bottersnikes', 2335), ('scarlett', 15270), ('sleepy', 16090), ('southwestern', 16349), ('loosens', 10399), ('grip', 7690), ('mortal', 11507), ('celestial', 3009), ('impregnates', 8798), ('reincarnated', 14375), ('goalkeeperturnedtalent', 7484), ('scout', 15357), ('clubs', 3461), ('cuca', 4290), ('grand', 7596), ('traveled', 17965), ('veronica', 18680), ('lance', 9941), ('traumatized', 17961), ('causing', 2984), ('spiral', 16458), ('fourth', 6966), ('boyka', 2369), ('unassuming', 18244), ('jandi', 9323), ('spoiled', 16481), ('belongs', 1900), ('clique', 3435), ('brad', 2374), ('paisley', 12659), ('hosts', 8483), ('laughs', 10008), ('nate', 11757), ('bargatze', 1713), ('heffron', 8116), ('jon', 9480), ('reep', 14305), ('sarah', 15195), ('tiana', 17652), ('winfield', 19234), ('homage', 8373), ('1980s', 145), ('comedies', 3606), ('quiz', 13944), ('bowl', 2352), ('almost', 838), ('except', 6108), ('interactive', 9083), ('illusions', 8715), ('illustrate', 8716), ('manufacture', 10728), ('seizures', 15474), ('psychosis', 13783), ('post', 13386), ('elusive', 5680), ('germs', 7358), ('emotions', 5738), ('explained', 6220), ('refreshingly', 14323), ('relatable', 14396), ('minors', 11268), ('person', 12983), ('struck', 16845), ('hierarchy', 8211), ('divides', 5135), ('cliques', 3436), ('expectations', 6200), ('reuse', 14675), ('continents', 3901), ('sustainable', 17107), ('weeks', 19048), ('linor', 10251), ('abargil', 354), ('inspiring', 9041), ('orson', 12467), ('welles', 19073), ('broadcast', 2490), ('emboldened', 5707), ('defends', 4617), ('murderous', 11632), ('stash', 16630), ('cabin', 2695), ('toni', 17768), ('traci', 17869), ('towanda', 17848), ('trina', 18035), ('tamar', 17276), ('braxton', 2411), ('bread', 2416), ('cake', 2717), ('decorator', 4584), ('lifechanging', 10197), ('makeovers', 10634), ('customer', 4355), ('mood', 11469), ('lucie', 10485), ('bboy', 1790), ('insecurities', 9019), ('soda', 16233), ('stereo', 16691), ('café', 2707), ('tacvba', 17225), ('aterciopelados', 1377), ('50year', 299), ('dictatorships', 4900), ('dissent', 5097), ('abhay', 372), ('aaliya', 341), ('plenty', 13225), ('99th', 338), ('cafe', 2705), ('customers', 4356), ('souvenirs', 16350), ('chang', 3078), ('insatiable', 9015), ('curiosity', 4332), ('convivial', 3952), ('manufacturing', 10730), ('crystal', 4278), ('meth', 11113), ('violations', 18774), ('faced', 6319), ('lgbtq', 10169), ('project', 13673), ('chairman', 3050), ('bunbury', 2602), ('banking', 1684), ('13year', 35), ('coma', 3587), ('mid1970s', 11153), ('befriend', 1850), ('enigmatic', 5836), ('surfer', 17057), ('thrill', 17616), ('brené', 2441), ('brown', 2528), ('courage', 4067), ('comfort', 3613), ('defined', 4625), ('scarcity', 15262), ('brewery', 2444), ('foaming', 6830), ('regan', 14336), ('heights', 8121), ('underwear', 18308), ('elastic', 5612), ('brendan', 2437), ('fry', 7102), ('fund', 7137), ('planner', 13184), ('bridgerton', 2458), ('quinns', 13935), ('bestselling', 1961), ('novels', 12094), ('packed', 12621), ('hoxton', 8520), ('bridget', 2460), ('gender', 7303), ('rife', 14764), ('interspecies', 9124), ('orc', 12415), ('prophesied', 13706), ('turf', 18129), ('bright', 2465), ('machine', 10551), ('kelly', 9676), ('bastille', 1752), ('logic', 10335), ('migos', 11176), ('uneventful', 18330), ('brij', 2469), ('mohan', 11408), ('sentenced', 15561), ('abilities', 376), ('amnesiac', 927), ('roommate', 14957), ('cheerleading', 3173), ('champs', 3071), ('rebels', 14186), ('virtual', 18792), ('cheer', 3170), ('healthier', 8074), ('lifestyles', 10208), ('broadchurch', 2494), ('detectives', 4816), ('ellie', 5662), ('miller', 11219), ('alec', 755), ('assigned', 1336), ('deceit', 4553), ('consumer', 3873), ('items', 9274), ('outcomes', 12504), ('yanuos', 19473), ('25', 230), ('triad', 18005), ('leaders', 10056), ('hurtling', 8591), ('edgeof', 5547), ('yourseat', 19534), ('thrust', 17635), ('custody', 4352), ('alliances', 809), ('proprietor', 13711), ('soninlaw', 16295), ('shoes', 15807), ('moral', 11483), ('inform', 8960), ('incarcerated', 8826), ('faction', 6332), ('seditious', 15432), ('painter', 12650), ('imperial', 8771), ('contentious', 3891), ('fatherinlaw', 6463), ('handle', 7904), ('household', 8501), ('foundering', 6957), ('boots', 2299), ('athletics', 1386), ('prankster', 13455), ('bruno', 2533), ('macdonald', 10545), ('weird', 19058), ('dress', 5348), ('codes', 3505), ('punishments', 13826), ('neighboring', 11845), ('authoritarians', 1470), ('troublemakers', 18064), ('unthinkable', 18460), ('punishment', 13825), ('dorms', 5251), ('40yearold', 274), ('pune', 13820), ('bucket', 2555), ('list', 10265), ('20yearold', 213), ('donor', 5231), ('marriages', 10790), ('hosting', 8482), ('outrageous', 12528), ('anythinggoes', 1080), ('hungary', 8573), ('siddhartha', 15888), ('buddis', 2567), ('spin', 16447), ('glide', 7444), ('giggle', 7393), ('thelma', 17531), ('louise', 10437), ('syndrome', 17191), ('institution', 9051), ('highoctane', 8233), ('thunderstruck', 17644), ('truckracing', 18075), ('greasepit', 7637), ('ferret', 6565), ('darnell', 4463), ('paw', 12858), ('maybe', 10892), ('pile', 13107), ('bunch', 2603), ('crazy', 4142), ('stunts', 16881), ('judo', 9536), ('trainer', 17907), ('grooms', 7711), ('youngest', 19531), ('marathon', 10740), ('runner', 15045), ('willing', 19208), ('chefs', 3178), ('researchers', 14555), ('gastronomic', 7270), ('weigh', 19051), ('presiding', 13529), ('identities', 8664), ('patriarchal', 12836), ('assamese', 1317), ('fugitives', 7112), ('lock', 10319), ('worse', 19375), ('cartel', 2908), ('said', 15110), ('kentuckys', 9688), ('backwoods', 1591), ('bloodshed', 2169), ('eyeopening', 6302), ('jeff', 9364), ('dave', 4484), ('attell', 1406), ('packing', 12623), ('disneys', 5063), ('maines', 10618), ('kikiwaka', 9725), ('unclenephew', 18265), ('citizens', 3337), ('going', 7502), ('iowa', 9207), ('lounge', 10440), ('soaring', 16211), ('probes', 13613), ('personas', 12989), ('portland', 13356), ('afoul', 635), ('pariss', 12748), ('thrillseeking', 17623), ('superbike', 16992), ('courier', 4070), ('unites', 18378), ('resulting', 14623), ('disheartened', 5044), ('parishioners', 12746), ('alcoholism', 751), ('faith', 6357), ('zurich', 19635), ('fraternitys', 7009), ('hazing', 8046), ('escalates', 5973), ('scottish', 15354), ('disgruntled', 5036), ('besieged', 1953), ('militia', 11209), ('exmarine', 6175), ('tackling', 17219), ('sleuths', 16097), ('recalls', 14201), ('elizabeth', 5658), ('taylor', 17338), ('wandrous', 18934), ('stylish', 16888), ('yearns', 19487), ('especially', 5988), ('mazelike', 10904), ('manila', 10699), ('slum', 16125), ('incensed', 8830), ('civilians', 3347), ('manigan', 10698), ('retiree', 14647), ('rene', 14475), ('soften', 16240), ('homosexuality', 8395), ('vanessa', 18607), ('roland', 14912), ('kuwaiti', 9879), ('pleasure', 13219), ('exlover', 6174), ('raising', 14016), ('blow', 2183), ('steam', 16662), ('akshay', 725), ('joshi', 9501), ('lambodar', 9930), ('posing', 13371), ('kkompany', 9782), ('extortion', 6281), ('demand', 4684), ('joshis', 9502), ('apathetic', 1089), ('shocked', 15802), ('prank', 13452), ('cézanne', 4390), ('émile', 19640), ('zola', 19619), ('schoolboys', 15303), ('flesheating', 6766), ('rips', 14800), ('woodland', 19332), ('terrified', 17466), ('dick', 4893), ('strawbridge', 16797), ('craftsman', 4118), ('hardie', 7955), ('cabins', 2697), ('popup', 13344), ('wales', 18905), ('construct', 3864), ('no', 11992), ('1920s', 99), ('telephone', 17398), ('revolution', 14706), ('manage', 10673), ('dinner', 4951), ('draws', 5330), ('crowds', 4243), ('admission', 543), ('infected', 8930), ('carnivorous', 2885), ('insects', 9017), ('emerged', 5715), ('exterminator', 6278), ('witnessing', 19289), ('literally', 10273), ('alejandros', 758), ('above', 387), ('jolt', 9477), ('needed', 11822), ('nudge', 12114), ('loners', 10354), ('choin', 3269), ('charmed', 3121), ('seonwoo', 15567), ('seethes', 15457), ('biblical', 2005), ('newsstand', 11921), ('vendors', 18653), ('fantasies', 6403), ('fixation', 6718), ('lemonade', 10123), ('seller', 15523), ('arise', 1202), ('surface', 17055), ('calendar', 2727), ('models', 11391), ('scotland', 15350), ('nerves', 11868), ('morals', 11487), ('ruthlessly', 15069), ('sylvanian', 17179), ('throwing', 17631), ('hopscotch', 8438), ('rabbit', 13949), ('leap', 10071), ('freya', 7057), ('occasion', 12196), ('stella', 16674), ('hazelnut', 8045), ('chipmunk', 3254), ('dominic', 5215), ('moment', 11421), ('memorable', 11033), ('fete', 6575), ('loveliest', 10449), ('thing', 17567), ('impending', 8768), ('isis', 9242), ('sweden', 17131), ('entangles', 5870), ('bind', 2055), ('pope', 13331), ('francis', 6991), ('jorge', 9494), ('bergoglio', 1940), ('vocation', 18834), ('ravaged', 14119), ('dictatorship', 4899), ('period', 12962), ('east', 5511), ('qualified', 13890), ('midwife', 11168), ('colleagues', 3543), ('convent', 3933), ('bodybuilder', 2224), ('twotime', 18181), ('calum', 2745), ('moger', 11403), ('debilitating', 4534), ('cam', 2748), ('culprit', 4305), ('flamenco', 6732), ('camarón', 2751), ('de', 4502), ('isla', 9245), ('covered', 4087), ('sweeping', 17134), ('biography', 2060), ('contrabando', 3910), ('traición', 17897), ('camelia', 2756), ('corner', 3994), ('bibideaux', 2003), ('camera', 2759), ('relevant', 14416), ('unstoppable', 18452), ('attends', 1418), ('overcomes', 12547), ('established', 6000), ('paved', 12856), ('espionage', 5990), ('cole', 3533), ('guantanamo', 7744), ('bays', 1785), ('xray', 19454), ('cusp', 4350), ('meddling', 10961), ('commitment', 3643), ('grapple', 7619), ('boyfriends', 2365), ('dublin', 5408), ('aisling', 713), ('danielle', 4436), ('millennial', 11215), ('hijinks', 8263), ('hangovers', 7918), ('wear', 19017), ('preston', 13537), ('declare', 4576), ('jock', 9445), ('gab', 7177), ('tie', 17665), ('knot', 9799), ('doozy', 5241), ('total', 17817), ('fraudulently', 7012), ('identical', 8661), ('triplet', 18040), ('psychiatric', 13771), ('dueling', 5415), ('wardrobe', 18946), ('malfunction', 10658), ('viral', 18785), ('bubbly', 2550), ('streamer', 16802), ('judgment', 9534), ('incandescent', 8824), ('shores', 15825), ('tumbles', 18109), ('trips', 18042), ('hallucinatory', 7882), ('lyle', 10530), ('candyman', 2787), ('hookhanded', 8419), ('flesh', 6765), ('peoples', 12927), ('marijuana', 10763), ('shipment', 15786), ('touches', 17825), ('ranks', 14074), ('immortal', 8752), ('renegade', 14476), ('cadillac', 2702), ('relentlessly', 14414), ('upbeat', 18489), ('droid', 5366), ('heartbreaking', 8086), ('economist', 5538), ('pikettys', 13104), ('accumulation', 448), ('repercussions', 14509), ('richi', 14745), ('sneha', 16183), ('decisionmaking', 4573), ('krupp', 9857), ('blowing', 2184), ('treehouse', 17990), ('smithereens', 16143), ('traditions', 17887), ('reconstructs', 14245), ('negotiations', 11840), ('recount', 14254), ('ordeals', 12427), ('gotham', 7557), ('garage', 7252), ('overhauls', 12556), ('trucks', 18076), ('trading', 17881), ('showstopper', 15853), ('bucks', 2557), ('verge', 18677), ('carbon', 2837), ('tax', 17335), ('thrusts', 17636), ('lowlevel', 10465), ('illegal', 8701), ('darndale', 4462), ('releasing', 14411), ('cards', 2845), ('cardcaptor', 2839), ('huggable', 8530), ('cousins', 4082), ('nestled', 11873), ('rainbowcolored', 14009), ('carealot', 2848), ('bears', 1809), ('schoolboy', 15302), ('spanning', 16374), ('philippines', 13037), ('personally', 12988), ('professionally', 13648), ('carehome', 2862), ('spaceship', 16362), ('readied', 14142), ('rigid', 14778), ('disrupted', 5092), ('spry', 16527), ('angeless', 993), ('painters', 12651), ('chicano', 3209), ('ballarta', 1639), ('mocks', 11384), ('transit', 17938), ('corn', 3993), ('betrays', 1972), ('parenthood', 12737), ('pregnancies', 13482), ('commitments', 3648), ('bathtub', 1762), ('puddle', 13799), ('theorizes', 17543), ('autopsy', 1485), ('carmen', 2882), ('sandiego', 15174), ('foiling', 6843), ('viles', 18751), ('savvy', 15240), ('sidekicks', 15891), ('ivy', 9281), ('zack', 19563), ('vile', 18750), ('shanghai', 15692), ('parttimer', 12785), ('carole', 2887), ('tuesday', 18104), ('outcast', 12501), ('telekinetic', 17392), ('lashes', 9980), ('crowd', 4241), ('torments', 17801), ('joke', 9472), ('prom', 13678), ('socially', 16222), ('19yearold', 169), ('spreads', 16518), ('globally', 7456), ('reputed', 14542), ('plaguefree', 13175), ('haven', 8028), ('avoiding', 1518), ('ferrell', 6564), ('spanishspeaking', 16373), ('creditors', 4161), ('smash', 16137), ('modeling', 11390), ('casablancas', 2919), ('chronicled', 3302), ('invented', 9170), ('recklessness', 14220), ('selfdestruction', 15494), ('teenagers', 17382), ('apparent', 1105), ('potion', 13416), ('sleuth', 16095), ('conan', 3729), ('nefarious', 11829), ('poisoned', 13267), ('daniel', 4435), ('craig', 4121), ('minted', 11271), ('007', 0), ('financier', 6652), ('terrorism', 17471), ('poker', 13269), ('troops', 18056), ('invade', 9161), ('benny', 1929), ('ho', 8338), ('macau', 10544), ('pluck', 13232), ('diligence', 4938), ('wields', 19180), ('enormous', 5850), ('jonbenet', 9484), ('ramseys', 14049), ('1996', 162), ('roles', 14916), ('highpowered', 8235), ('lawyers', 10041), ('interests', 9090), ('ebbs', 5524), ('flows', 6820), ('sorrow', 16318), ('vampire', 18598), ('controlled', 3923), ('dracula', 5297), ('southern', 16347), ('curry', 4340), ('favor', 6477), ('adaptation', 507), ('tennessee', 17438), ('williamss', 19206), ('sizzling', 16017), ('abagnale', 347), ('jr', 9522), ('johannesburg', 9456), ('hardpartying', 7958), ('economics', 5537), ('burgeoning', 2621), ('hopeful', 8431), ('united', 18377), ('states', 16637), ('frenemies', 7045), ('hoped', 8430), ('escalate', 5972), ('resentments', 14562), ('verbal', 18672), ('jabs', 9287), ('brawls', 2409), ('14thcentury', 39), ('serfs', 15584), ('incurs', 8856), ('suspicion', 17103), ('inquisition', 9011), ('aside', 1303), ('merge', 11076), ('kitty', 9781), ('galore', 7217), ('claw', 3393), ('domination', 5211), ('exploits', 6231), ('felinefriendly', 6531), ('folks', 6847), ('kitties', 9780), ('wallis', 18919), ('cctv', 2994), ('phones', 13047), ('devices', 4848), ('recordings', 14250), ('exsoldiers', 6265), ('donning', 5230), ('suit', 16953), ('fedora', 6513), ('dapper', 4447), ('presidential', 13526), ('election', 5622), ('honky', 8405), ('tonk', 17770), ('badonkadonk', 1606), ('confides', 3780), ('troubling', 18068), ('bacteria', 1594), ('incursions', 8858), ('certain', 3038), ('archivist', 1179), ('pk', 13168), ('nair', 11709), ('bankruptcy', 1687), ('abah', 348), ('emak', 5689), ('adapt', 506), ('vying', 18873), ('developed', 4840), ('unhealthy', 18359), ('horde', 8440), ('bearing', 1808), ('illustrious', 8720), ('valiant', 18586), ('reaching', 14134), ('egotistical', 5594), ('kicks', 9712), ('deciding', 4565), ('mistress', 11341), ('pickle', 13078), ('fatshaming', 6472), ('maharashtra', 10604), ('kabaddi', 9589), ('saves', 15234), ('bells', 1893), ('adventurous', 592), ('resham', 14567), ('backpacker', 1584), ('perspective', 12991), ('1986', 151), ('shuttle', 15878), ('challenger', 3057), ('priya', 13603), ('polar', 13275), ('opposites', 12395), ('brash', 2398), ('pirya', 13144), ('sophisticated', 16308), ('perfectionist', 12948), ('does', 5179), ('oil', 12281), ('nonetheless', 12019), ('dare', 4449), ('hub', 8523), ('booms', 2290), ('storeowner', 16750), ('heartbroken', 8087), ('schoolteacher', 15312), ('impulses', 8815), ('unmask', 18405), ('donors', 5232), ('shelter', 15747), ('monsoon', 11451), ('banker', 1682), ('washedup', 18977), ('vince', 18763), ('michael', 11138), ('fatherhood', 6462), ('tune', 18117), ('risen', 14803), ('catapult', 2959), ('calf', 2728), ('secretive', 15423), ('breezes', 2434), ('subdued', 16895), ('swept', 17142), ('ethereal', 6012), ('80s', 325), ('lyrical', 10534), ('evolving', 6082), ('indonesia', 8889), ('senator', 15538), ('kennedy', 9682), ('reputation', 14540), ('keeps', 9673), ('bay', 1783), ('berlins', 1944), ('charité', 3112), ('ida', 8651), ('tuberculosis', 18100), ('diphtheria', 4958), ('1943', 111), ('regime', 14345), ('eugenic', 6021), ('willy', 19213), ('wonka', 19326), ('confections', 3765), ('beauties', 1822), ('martialarts', 10804), ('butt', 2665), ('software', 16243), ('reboot', 14188), ('angels', 996), ('rings', 14787), ('encoded', 5770), ('information', 8962), ('charlie', 3117), ('shapes', 15701), ('outer', 12506), ('wilbur', 19186), ('pig', 13099), ('templeton', 17414), ('rat', 14102), ('charlotte', 3118), ('spider', 16438), ('eb', 5523), ('whites', 19146), ('timeless', 17688), ('adored', 562), ('soulmate', 16328), ('seema', 15451), ('sid', 15886), ('jealous', 9358), ('womanizers', 19307), ('omi', 12314), ('jai', 9303), ('lovebirds', 10445), ('holden', 8352), ('lesbian', 10145), ('cameron', 2761), ('dallas', 4414), ('level', 10160), ('photographers', 13054), ('mount', 11556), ('document', 5164), ('reefs', 14295), ('adventurer', 588), ('cyril', 4386), ('chauquet', 3151), ('colossal', 3581), ('adrenalinepacked', 565), ('britishcolonized', 2485), ('mainland', 10619), ('immigrant', 8746), ('shaped', 15700), ('coltrane', 3583), ('romanticized', 14937), ('assis', 1339), ('chateaubriand', 3141), ('achievements', 459), ('judged', 9532), ('related', 14397), ('amritsar', 938), ('evoke', 6077), ('dreadful', 5335), ('unease', 18321), ('hindusikh', 8288), ('budget', 2569), ('dreamed', 5337), ('bored', 2309), ('fish', 6695), ('pond', 13311), ('gripping', 7692), ('ups', 18520), ('downs', 5282), ('navarro', 11785), ('coveted', 4093), ('sharks', 15714), ('worldchampion', 19356), ('juggle', 9538), ('malone', 10668), ('exbaseball', 6102), ('bar', 1693), ('operates', 12375), ('saloon', 15144), ('webtoon', 19032), ('upperclassman', 18511), ('igniting', 8681), ('twitter', 18176), ('packs', 12624), ('knives', 9794), ('headtohead', 8065), ('impromptu', 8809), ('ingredients', 8969), ('refrigerators', 14325), ('kitchens', 9776), ('redefining', 14282), ('gourmet', 7562), ('juicy', 9541), ('smoky', 16149), ('barbecue', 1699), ('pitmasters', 13154), ('flavors', 6753), ('pushing', 13861), ('fine', 6660), ('dining', 4950), ('reinventing', 14385), ('ideas', 8660), ('fascinate', 6433), ('chelsea', 3179), ('handler', 7905), ('hangups', 7920), ('netflix', 11875), ('photographic', 13055), ('ninenine', 11975), ('peretti', 12945), ('showcases', 15845), ('reimagining', 14373), ('sad', 15091), ('joyful', 9517), ('rahul', 13995), ('submerging', 16903), ('ashes', 1291), ('humanoid', 8551), ('haunt', 8022), ('steps', 16688), ('cheuk', 3197), ('wanchi', 18929), ('cracks', 4113), ('wise', 19262), ('follies', 6850), ('flair', 6729), ('dodgy', 5177), ('decorators', 4585), ('fullbore', 7123), ('glaswegians', 7436), ('presenters', 13515), ('parodies', 12757), ('virginal', 18788), ('tracey', 17867), ('strictly', 16824), ('tower', 17852), ('hamlets', 7892), ('superhuman', 17002), ('dholakpur', 4871), ('traded', 17877), ('immortality', 8753), ('lures', 10511), ('sonapur', 16285), ('centuries', 3027), ('wicked', 19163), ('conquer', 3826), ('indraverma', 8895), ('wile', 19197), ('trolls', 18053), ('overtake', 12575), ('messina', 11101), ('kung', 9870), ('fu', 7104), ('runins', 15044), ('endless', 5790), ('china', 3246), ('zuhu', 19632), ('colonial', 3567), ('supporting', 17041), ('self', 15481), ('easier', 5509), ('done', 5224), ('believes', 1884), ('warn', 18957), ('fixit', 6722), ('can', 2775), ('delivering', 4673), ('blunderberry', 2198), ('cakes', 2718), ('awakes', 1528), ('smarts', 16136), ('monkey', 11444), ('chico', 3214), ('bon', 2259), ('blunderburg', 2199), ('drops', 5375), ('moneycrazed', 11433), ('assembly', 1330), ('jang', 9327), ('taejun', 17227), ('6yearold', 315), ('toy', 17859), ('doll', 5195), ('chucky', 3309), ('neither', 11849), ('intertwine', 9127), ('tainted', 17244), ('pasts', 12814), ('include', 8838), ('ruka', 15023), ('aquatic', 1143), ('ocean', 12210), ('wielder', 19177), ('chakuro', 3052), ('relaxation', 14405), ('creating', 4147), ('wintry', 19250), ('feisty', 6527), ('fatka', 6470), ('fatkas', 6471), ('halfhuman', 7869), ('halfwitch', 7875), ('sabrina', 15085), ('wartorn', 18975), ('telecommunications', 17391), ('explosive', 6242), ('larger', 9970), ('rapper', 14089), ('chingo', 3250), ('bling', 2150), ('texmex', 17499), ('pug', 13805), ('chip', 3253), ('kindergarten', 9745), ('potato', 13410), ('midnight', 11164), ('10th', 13), ('lesserknown', 10149), ('carrying', 2904), ('letter', 10155), ('1930s', 103), ('overthrow', 12580), ('conquerors', 3828), ('inventor', 9175), ('caractacus', 2836), ('potts', 13420), ('flying', 6827), ('vulgaria', 18870), ('devoid', 4857), ('suspecting', 17098), ('infidelity', 8939), ('catherine', 2972), ('hires', 8299), ('chloe', 3261), ('faithfulness', 6360), ('intensify', 9077), ('meaningful', 10937), ('meals', 10934), ('present', 13511), ('reacquainted', 14135), ('hospice', 8468), ('ward', 18944), ('exotic', 6188), ('chocolate', 3265), ('500000', 292), ('employee', 5746), ('weighed', 19052), ('jobless', 9442), ('debts', 4539), ('insecure', 9018), ('transformative', 17932), ('thug', 17637), ('box', 2356), ('risk', 14806), ('concert', 3743), ('chris', 3285), ('delia', 4661), ('unbridled', 18256), ('reconsiders', 14242), ('buying', 2675), ('pants', 12696), ('minneapolis', 11266), ('thoughts', 17601), ('selfcensorship', 15488), ('problematic', 13616), ('dolphins', 5200), ('lame', 9931), ('mutant', 11661), ('extended', 6270), ('searing', 15403), ('observations', 12177), ('atlanta', 1388), ('tucker', 18102), ('chops', 3277), ('matchmaking', 10845), ('contextual', 3898), ('acculturated', 447), ('accentuate', 420), ('cnns', 3470), ('christiane', 3288), ('amanpour', 890), ('reports', 14523), ('christina', 3292), ('pazsitzky', 12875), ('seattle', 15411), ('biting', 2090), ('dose', 5254), ('focus', 6831), ('salacious', 15127), ('precocious', 13468), ('trespass', 18002), ('hold', 8351), ('janitor', 9330), ('foils', 6844), ('attempted', 1408), ('intended', 9074), ('georgia', 7345), ('pines', 13120), ('thrilled', 17617), ('grandparents', 7610), ('berry', 1948), ('inherit', 8975), ('socialite', 16220), ('ellen', 5660), ('value', 18595), ('miranda', 11280), ('lyla', 10529), ('disrupt', 5091), ('pediatrician', 12897), ('recovers', 14261), ('ski', 16033), ('patients', 12832), ('jolted', 9478), ('luther', 10520), ('krank', 9846), ('skip', 16042), ('rooftop', 14952), ('frosty', 7093), ('careworn', 2865), ('christopher', 3298), ('winnie', 19243), ('pooh', 13325), ('acre', 474), ('wood', 19328), ('block', 2158), ('inspires', 9040), ('goalie', 7483), ('claudio', 3390), ('tamburrini', 17277), ('educational', 5569), ('tots', 17820), ('nursery', 12129), ('rhymes', 14726), ('tunes', 18118), ('easytofollow', 5516), ('chuchu', 3307), ('cussly', 4351), ('chacha', 3042), ('playtime', 13213), ('chiku', 3222), ('habit', 7828), ('colors', 3578), ('egg', 5587), ('opening', 12368), ('harlo', 7973), ('perch', 12937), ('adoodledoo', 550), ('fustyle', 7165), ('mistaking', 11336), ('hustler', 8596), ('fishermen', 6699), ('hatch', 8009), ('careen', 2850), ('disarray', 4992), ('horribly', 8448), ('regard', 14337), ('botany', 2327), ('score', 15339), ('historysteeped', 8318), ('14', 37), ('undergo', 18286), ('rigorous', 14779), ('fourday', 6960), ('selection', 15477), ('spies', 16443), ('kerala', 9692), ('fixed', 6719), ('papers', 12701), ('matriarch', 10859), ('picnics', 13083), ('gentleman', 7333), ('hawon', 8037), ('immature', 8740), ('grandsons', 7612), ('whip', 19134), ('iris', 9220), ('succumbs', 16930), ('triumphs', 18046), ('parking', 12751), ('realizations', 14152), ('execution', 6138), ('choosing', 3275), ('worthy', 19380), ('spared', 16377), ('nice', 11934), ('ran', 14053), ('epicenter', 5920), ('darren', 4466), ('chockfull', 3263), ('sideshow', 15895), ('oddities', 12224), ('bite', 2087), ('neck', 11819), ('academic', 413), ('establishment', 6002), ('rape', 14079), ('unfolding', 18346), ('chronology', 3305), ('magnitude', 10598), ('scale', 15250), ('smooth', 16150), ('functioning', 7136), ('rio', 14789), ('janeiro', 9326), ('able', 378), ('photography', 13057), ('decade', 4543), ('seminal', 15533), ('whove', 19160), ('brutalized', 2538), ('congo', 3804), ('regain', 14332), ('empowerment', 5753), ('moody', 11470), ('burnedout', 2634), ('sinks', 15985), ('expanding', 6190), ('kenneth', 9684), ('clarks', 3369), ('1969', 132), ('civilisation', 3348), ('throughout', 17629), ('examining', 6093), ('motherinlaw', 11530), ('reflect', 14312), ('maladjusted', 10646), ('tomoyas', 17764), ('nagisa', 11704), ('saxophonist', 15245), ('clarence', 3365), ('clemons', 3408), ('awakening', 1525), ('andromeda', 980), ('perseus', 12977), ('beastly', 1812), ('looms', 10391), ('cadets', 2701), ('shattered', 15724), ('demoted', 4708), ('foolhardy', 6868), ('rank', 14071), ('convinces', 3950), ('peer', 12903), ('abolish', 381), ('ranking', 14073), ('illuminated', 8711), ('screens', 15375), ('sisterbrother', 15994), ('cleo', 3409), ('cuquín', 4323), ('professions', 13650), ('enjoy', 5838), ('stylin', 16886), ('chases', 3134), ('lords', 10406), ('physically', 13062), ('hairies', 7850), ('segregated', 15459), ('dominated', 5208), ('newman', 11914), ('universal', 18380), ('pause', 12853), ('fastforward', 6447), ('donal', 5219), ('macintyre', 10554), ('heinous', 8123), ('plagued', 13174), ('disfigured', 5033), ('musicdriven', 11650), ('clive', 3438), ('davis', 4489), ('moguls', 11405), ('attackers', 1404), ('client', 3418), ('driss', 5358), ('culprits', 4306), ('scandal', 15256), ('martin', 10806), ('claudia', 3389), ('topflight', 17781), ('targets', 17313), ('links', 10249), ('generations', 7314), ('earlier', 5490), ('flint', 6784), ('lockwood', 10326), ('clouds', 3455), ('rain', 14007), ('chewandswallow', 3198), ('feed', 6516), ('overflow', 12554), ('shrimpanzees', 15859), ('tacodiles', 17221), ('jellyfish', 9370), ('sandwiches', 15176), ('goingaway', 7503), ('manhattan', 10692), ('proportions', 13707), ('cuervos', 4296), ('potro', 13418), ('argentina', 1192), ('soccerstar', 16217), ('chava', 3154), ('iglesiass', 8676), ('doting', 5257), ('hugo', 8535), ('sánchez', 17202), ('nicaragua', 11932), ('callers', 2738), ('triangles', 18010), ('confessional', 3774), ('callin', 2739), ('eighth', 5602), ('triangle', 18009), ('wreaking', 19395), ('complicates', 3707), ('meens', 10985), ('remain', 14440), ('allows', 824), ('inheriting', 8979), ('creators', 4155), ('nosotros', 12060), ('nobles', 11999), ('carter', 2910), ('benches', 1912), ('undefeated', 18279), ('upbringing', 18490), ('snoop', 16190), ('dogg', 5184), ('atrisk', 1396), ('rivalry', 14821), ('johnny', 9461), ('reignites', 14371), ('karate', 9628), ('chronicle', 3301), ('peru', 12995), ('farmers', 6421), ('galicia', 7208), ('prosperous', 13719), ('providing', 13750), ('suppliers', 17035), ('contrasts', 3918), ('coco', 3496), ('celis', 3010), ('raúl', 14128), ('meneses', 11048), ('alternate', 865), ('sounds', 16335), ('jj', 9435), ('edutaining', 5572), ('fridge', 7058), ('sunny', 16987), ('refrigerator', 14324), ('ostracized', 12480), ('earnest', 5498), ('laborer', 9893), ('outlawed', 12514), ('highschooler', 8245), ('instantly', 9046), ('obedient', 12156), ('mask', 10822), ('japans', 9335), ('longinvading', 10372), ('britannia', 2483), ('supercomputer', 16995), ('destroying', 4805), ('duped', 5441), ('believing', 1885), ('arms', 1225), ('detroit', 4831), ('foulmouthed', 6949), ('crack', 4105), ('bonding', 2263), ('naples', 11729), ('buenos', 2572), ('aires', 703), ('neapolitan', 11805), ('coffee', 3513), ('concoct', 3747), ('10', 2), ('mint', 11270), ('masterful', 10835), ('utilize', 18565), ('forensic', 6903), ('longstanding', 10379), ('longunsolved', 10383), ('collides', 3558), ('flame', 6731), ('hesitates', 8191), ('propose', 13709), ('competing', 3688), ('gangs', 7247), ('smugglers', 16155), ('pressured', 13534), ('colin', 3535), ('quinn', 13934), ('calls', 2742), ('hypocrisies', 8624), ('politically', 13298), ('charged', 3105), ('offbroadway', 12240), ('snl', 16188), ('columbus', 3584), ('achieving', 460), ('chilean', 3235), ('commune', 3660), ('voluntarily', 18847), ('invaded', 9162), ('walledin', 18918), ('settlement', 15618), ('cosmetics', 4024), ('fundamentalist', 7139), ('carlton', 2880), ('pearson', 12888), ('jeopardizes', 9382), ('dear', 4519), ('seinfelds', 15464), ('roving', 14993), ('combines', 3597), ('vintage', 18770), ('caffeinefueled', 2706), ('sharpest', 15718), ('aukerman', 1452), ('podcast', 13254), ('cohost', 3524), ('bandleader', 1669), ('reggie', 14343), ('appearances', 1108), ('assortment', 1349), ('titan', 17716), ('missile', 11322), ('sobering', 16213), ('mass', 10827), ('bogus', 2233), ('teachers', 17345), ('credentials', 4159), ('his', 8304), ('heaven', 8101), ('actorsinger', 494), ('pedro', 12899), ('infante', 8924), ('impersonators', 8779), ('misunderstanding', 11344), ('villa', 18753), ('erotic', 5957), ('descending', 4762), ('abyss', 412), ('latenight', 9990), ('obrien', 12171), ('farflung', 6418), ('destinations', 4799), ('development', 4844), ('owes', 12591), ('housewife', 8507), ('feeling', 6520), ('stale', 16577), ('prostitutes', 13722), ('latif', 9993), ('nasser', 11752), ('intricate', 9147), ('lavish', 10025), ('rides', 14759), ('fur', 7153), ('coats', 3482), ('mma', 11366), ('grants', 7616), ('highs', 8243), ('lows', 10468), ('ascent', 1286), ('bubble', 2546), ('sensual', 15557), ('unforeseen', 18348), ('entangle', 5867), ('widely', 19168), ('coverups', 4092), ('assassinations', 1323), ('intrigues', 9149), ('contagion', 3877), ('sweeps', 17135), ('impose', 8791), ('quarantine', 13894), ('scrambling', 15362), ('exindian', 6164), ('commando', 3629), ('entire', 5891), ('observant', 12175), ('sofía', 16244), ('hisher', 8306), ('portrait', 13359), ('bundy', 2605), ('committing', 3652), ('greatness', 7644), ('baking', 1626), ('braising', 2386), ('pollan', 13302), ('elevated', 5641), ('cannabis', 2790), ('cuisine', 4297), ('artful', 1260), ('leafy', 10062), ('herb', 8165), ('thc', 17521), ('infusions', 8963), ('cbd', 2993), ('sauces', 15221), ('firstever', 6690), ('mouthwatering', 11568), ('marijuanainfused', 10764), ('chill', 3238), ('celeb', 2999), ('judges', 9533), ('luke', 10498), ('jackson', 9295), ('likes', 10228), ('hurt', 8590), ('warden', 18945), ('baffled', 1608), ('cruiser', 4255), ('deter', 4818), ('brutality', 2537), ('observing', 12180), ('videotaping', 18726), ('arrests', 1242), ('department', 4727), ('animation', 1012), ('activism', 486), ('multimedia', 11610), ('spokenword', 16485), ('response', 14604), ('injustice', 8990), ('coraline', 3987), ('resembles', 14559), ('coronavirus', 3999), ('pandemic', 12684), ('toll', 17750), ('despondent', 4793), ('suicidal', 16950), ('lifeline', 10202), ('salesman', 15135), ('lifetime', 10210), ('images', 8727), ('wiretap', 19259), ('escobars', 5983), ('print', 13585), ('counterfeit', 4048), ('room', 14954), ('terribly', 17464), ('boxings', 2361), ('wanes', 18935), ('champions', 3068), ('coffey', 3514), ('criscilla', 4198), ('phases', 13023), ('ibadan', 8630), ('frisky', 7079), ('spill', 16445), ('seasoned', 15408), ('bustling', 2660), ('sydney', 17174), ('magistrates', 10595), ('preside', 13521), ('offenses', 12246), ('verdicts', 18674), ('houghton', 8494), ('newest', 11905), ('multicultural', 11606), ('hybridgenre', 8605), ('farming', 6423), ('decimating', 4569), ('largely', 9969), ('ignored', 8684), ('cheap', 3159), ('recession', 14213), ('panic', 12691), ('racism', 13964), ('darrell', 4465), ('hammond', 7894), ('suffered', 16940), ('nearly', 11813), ('cheeky', 3168), ('ferguson', 6558), ('casual', 2945), ('70s', 317), ('toilets', 17746), ('mildly', 11196), ('crimefilled', 4181), ('postsept', 13404), ('11', 18), ('36hour', 259), ('paragliding', 12712), ('rent', 14488), ('hodgepodge', 8345), ('20something', 208), ('tenants', 17429), ('residence', 14570), ('guards', 7751), ('disused', 5117), ('hilarity', 8271), ('salaries', 15130), ('reluctant', 14436), ('recoup', 14257), ('teaching', 17347), ('rebellious', 14185), ('chaperone', 3092), ('tempt', 17417), ('gods', 7495), ('reinvented', 14384), ('classics', 3382), ('fanciful', 6394), ('feasts', 6499), ('apple', 1114), ('josh', 9500), ('ages', 660), ('whipsmart', 19137), ('rebecca', 14182), ('jettisons', 9399), ('nollywood', 12012), ('ramsey', 14048), ('nouah', 12087), ('impersonating', 8776), ('imposter', 8794), ('undergraduates', 18290), ('jolting', 9479), ('blog', 2162), ('surviving', 17089), ('matter', 10867), ('bowling', 2354), ('alley', 803), ('nonconformist', 12017), ('raquel', 14091), ('20s', 207), ('radical', 13971), ('exquisite', 6260), ('wig', 19184), ('chess', 3194), ('creápolis', 4174), ('cashstrapped', 2927), ('sensational', 15551), ('insidious', 9027), ('collects', 3552), ('insider', 9025), ('andrés', 982), ('colmenares', 3561), ('colosios', 3580), ('favelas', 6476), ('procedural', 13619), ('profilers', 13656), ('psychological', 13775), ('interrogation', 9116), ('cost', 4028), ('walls', 18920), ('grievous', 7679), ('galvanizes', 7222), ('disabilities', 4973), ('irrepressible', 9231), ('alonzo', 843), ('latino', 9997), ('stereotypes', 16694), ('pricey', 13561), ('luxuries', 10524), ('toughlove', 17832), ('sly', 16128), ('infectious', 8931), ('37yearold', 262), ('cristina', 4206), ('valiantly', 18587), ('encourage', 5775), ('abused', 405), ('domestic', 5203), ('insists', 9032), ('ang', 989), ('lees', 10097), ('oscarwinning', 12475), ('yu', 19541), ('shulien', 15869), ('destiny', 4802), ('sword', 17166), ('hades', 7840), ('alpert', 846), ('rachel', 13960), ('shocks', 15804), ('proper', 13701), ('hippie', 8293), ('sleeps', 16089), ('completely', 3698), ('satisfy', 15214), ('confined', 3781), ('nica', 11931), ('fullcycle', 7124), ('breeding', 2433), ('bluefin', 2190), ('kindai', 9744), ('pioneered', 13133), ('kinki', 9761), ('aqua', 1141), ('institute', 9050), ('enterprising', 5878), ('cupcake', 4322), ('cheerful', 3171), ('dinosaur', 4953), ('sorts', 16321), ('twins', 18167), ('reckon', 14221), ('rebel', 14183), ('nimue', 11971), ('arrogant', 1248), ('curtiz', 4348), ('casablanca', 2918), ('1942', 110), ('dreamer', 5338), ('landed', 9944), ('mine', 11242), ('sucked', 16932), ('deception', 4557), ('nominee', 12016), ('symbiotic', 17182), ('ushio', 18555), ('noriko', 12035), ('shinohara', 15782), ('elevenyearold', 5645), ('fascinated', 6434), ('releases', 14410), ('modified', 11398), ('cyborgs', 4374), ('devilman', 4851), ('cyborg', 4373), ('009', 1), ('blessed', 2138), ('bicycle', 2009), ('astrologer', 1362), ('selfrealization', 15511), ('dl', 5152), ('hughley', 8534), ('entertains', 5885), ('hotbutton', 8486), ('scandals', 15258), ('rapidfire', 14082), ('philadelphia', 13029), ('prima', 13569), ('ballerina', 1640), ('dial', 4879), ('experiencing', 6211), ('resist', 14581), ('ramadan', 14034), ('ismail', 9253), ('mosque', 11518), ('who', 19150), ('ismails', 9254), ('chagrin', 3046), ('hasty', 8007), ('screwball', 15378), ('evolves', 6081), ('buzzmaking', 2679), ('citywide', 3343), ('veterans', 18692), ('vietnam', 18734), ('lee', 10096), ('kath', 9653), ('kels', 9678), ('bublé', 2551), ('kim', 9737), ('sharon', 15716), ('lurks', 10514), ('yuletide', 19546), ('dilek', 4935), ('cardiologist', 2843), ('pinpoint', 13128), ('cause', 2980), ('witnessed', 19287), ('kübra', 9885), ('possessed', 13378), ('examination', 6089), ('dutiful', 5456), ('jake', 9311), ('complaint', 3696), ('thrillseeker', 17622), ('tween', 18155), ('bmx', 2206), ('approving', 1135), ('volunteer', 18849), ('dotcom', 5256), ('economic', 5536), ('maya', 10890), ('hooks', 8421), ('intersect', 9120), ('shifty', 15770), ('cigarsmoking', 3321), ('wizard', 19293), ('principled', 13583), ('extravagant', 6289), ('antiextremist', 1058), ('scholar', 15297), ('refusing', 14331), ('sentence', 15560), ('aids', 686), ('ron', 14946), ('woodroof', 19333), ('smuggles', 16156), ('medications', 10971), ('depression', 4742), ('dana', 4423), ('carvey', 2917), ('pitchperfect', 13152), ('sotrueithurts', 16323), ('millennials', 11216), ('goose', 7538), ('beats', 1820), ('totally', 17819), ('fifteenyearold', 6606), ('tara', 17307), ('websters', 19031), ('rejection', 14391), ('debbie', 4533), ('allens', 797), ('nutcracker', 12137), ('yearn', 19485), ('snatching', 16178), ('trophies', 18057), ('gorgeous', 7544), ('alyssa', 880), ('edwards', 5574), ('ruffling', 15013), ('feathers', 6501), ('nailing', 11708), ('impeckable', 8767), ('courtship', 4080), ('enlisted', 5844), ('mexicos', 11127), ('infiltrating', 8943), ('capitals', 2811), ('oncepromising', 12330), ('wrestler', 19405), ('commonwealth', 3658), ('hamster', 7896), ('penfold', 12911), ('stateoftheart', 16636), ('gadgetry', 7189), ('jet', 9398), ('caregiver', 2860), ('inherits', 8980), ('estate', 6003), ('swirl', 17158), ('tangling', 17291), ('4x4', 286), ('vehicles', 18644), ('steer', 16668), ('roads', 14840), ('trickiest', 18021), ('terrains', 17461), ('sloss', 16117), ('sosa', 16322), ('reminisces', 14457), ('ponders', 13314), ('inhabits', 8974), ('tupperware', 18123), ('thirsty', 17579), ('priest', 13564), ('trojan', 18050), ('publicist', 13790), ('danny', 4440), ('fields', 6598), ('volcanologist', 18843), ('rumblings', 15033), ('dormant', 5249), ('volcano', 18841), ('eruption', 5969), ('adapted', 509), ('risa', 14801), ('dany', 4444), ('boon', 2292), ('homeland', 8378), ('gig', 7391), ('topple', 17786), ('flip', 6787), ('icy', 8650), ('beth', 1965), ('addy', 526), ('reynolds', 14720), ('esteemed', 6005), ('flower', 6818), ('frantic', 7003), ('spans', 16375), ('bangla', 1677), ('charred', 3126), ('corpse', 4006), ('woods', 19334), ('highprofile', 8237), ('contains', 3881), ('chillingly', 3241), ('alma', 837), ('ignites', 8680), ('sordid', 16315), ('implicated', 8785), ('unwanted', 18472), ('waking', 18901), ('derelict', 4752), ('raza', 14126), ('libby', 10176), ('testified', 17485), ('convincing', 3951), ('entering', 5875), ('terrorize', 17474), ('lake', 9918), ('farrier', 6427), ('tourism', 17838), ('spots', 16507), ('absence', 394), ('drifting', 5353), ('sailors', 15116), ('feuding', 6580), ('exchanging', 6113), ('bipasha', 2069), ('basu', 1754), ('disconcerting', 5010), ('arouse', 1233), ('resentment', 14561), ('attract', 1426), ('dash', 4469), ('lily', 10231), ('messages', 11094), ('dares', 4453), ('notebook', 12069), ('forth', 6934), ('flirtations', 6789), ('fails', 6344), ('dates', 4476), ('trendy', 18000), ('outing', 12510), ('boarding', 2210), ('brighter', 2466), ('gullah', 7782), ('coastal', 3478), ('1902', 93), ('chappelle', 3094), ('triumphant', 18045), ('caps', 2816), ('scorching', 15338), ('material', 10848), ('selfreflection', 15513), ('tidal', 17660), ('defiant', 4621), ('awarded', 1530), ('twain', 18153), ('ceremony', 3034), ('washington', 18980), ('broadcaster', 2491), ('evolutionary', 6079), ('grieve', 7676), ('batra', 1765), ('playfully', 13205), ('resigned', 14579), ('middling', 11161), ('brent', 2440), ('stab', 16559), ('donald', 5220), ('trump', 18083), ('swagger', 17114), ('paramount', 12722), ('theatre', 17525), ('biological', 2061), ('sleepovers', 16088), ('nighttime', 11963), ('soap', 16208), ('frankly', 7000), ('obsess', 12181), ('assists', 1345), ('humanzombie', 8556), ('hybrid', 8604), ('outwitting', 12539), ('mindless', 11238), ('ghouls', 7376), ('cliquish', 3437), ('depressed', 4740), ('13yearold', 36), ('arkansas', 1214), ('metropolis', 11120), ('supergirl', 16998), ('bumblebee', 2595), ('batgirl', 1759), ('zatanna', 19572), ('lantern', 9965), ('classwork', 3388), ('youtuber', 19540), ('figuring', 6620), ('copycat', 3982), ('archnemesis', 1180), ('depalma', 4724), ('carrie', 2897), ('scarface', 15267), ('untouchables', 18464), ('failed', 6342), ('ll', 10297), ('misfits', 11308), ('oblivious', 12169), ('fastmoving', 6450), ('hordes', 8441), ('undead', 18278), ('decimate', 4566), ('compound', 3714), ('hotheaded', 8489), ('hitandrun', 8320), ('mowed', 11579), ('optimist', 12403), ('uberpopular', 18206), ('lure', 10509), ('rattled', 14112), ('pin', 13118), ('eligible', 5649), ('scholarship', 15299), ('indie', 8878), ('roommates', 14958), ('grieves', 7677), ('karppi', 9641), ('ties', 17668), ('helsinki', 8152), ('gallaudet', 7213), ('yorker', 19520), ('possibilities', 13382), ('funk', 7146), ('confessions', 3775), ('escapade', 5975), ('beneficiary', 1916), ('everdelightful', 6054), ('everchallenging', 6052), ('twilight', 18163), ('mailed', 10614), ('asking', 1306), ('color', 3572), ('slights', 16104), ('slippery', 16108), ('postracial', 13401), ('cinematographer', 3326), ('lack', 9898), ('eldest', 5617), ('funeral', 7143), ('fiasco', 6589), ('attendees', 1416), ('drummond', 5398), ('moneycoutts', 11432), ('craft', 4115), ('attempting', 1409), ('feats', 6502), ('proved', 13744), ('magicians', 10593), ('shady', 15665), ('lifeordeath', 10204), ('rioting', 14791), ('modeled', 11389), ('inferno', 8934), ('turner', 18138), ('mete', 11109), ('attracting', 1428), ('previous', 13551), ('exracecar', 6261), ('barbaric', 1697), ('where', 19125), ('frankenstein', 6997), ('2020s', 199), ('mad', 10555), ('mirror', 11287), ('bikers', 2037), ('fairclough', 6350), ('vivid', 18827), ('backdrops', 1576), ('braindead', 2381), ('aristocrats', 1208), ('trapping', 17955), ('octopus', 12220), ('oceandwelling', 12212), ('pistone', 13146), ('donnie', 5229), ('brasco', 2397), ('grew', 7667), ('tori', 17795), ('lustigman', 10519), ('link', 10246), ('attraction', 1429), ('commits', 3649), ('represents', 14528), ('commemorate', 3632), ('25th', 233), ('simmonss', 15934), ('def', 4606), ('jam', 9314), ('1000', 4), ('waitstill', 18894), ('martha', 10801), ('risked', 14807), ('fleeing', 6761), ('degrassis', 4643), ('newbies', 11901), ('realworld', 14163), ('bills', 2051), ('piling', 13111), ('deidra', 4646), ('laney', 9959), ('walled', 18917), ('americanborn', 915), ('flatmates', 6748), ('belonging', 1898), ('roomies', 14955), ('syndicate', 17189), ('gunning', 7793), ('reels', 14297), ('dcp', 4500), ('vartika', 18619), ('chaturvedi', 3148), ('painstaking', 12646), ('2012', 187), ('nirbhaya', 11981), ('selfconfidence', 15490), ('dotty', 5258), ('deliha', 4668), ('hunky', 8579), ('zeliha', 19584), ('kooky', 9826), ('rascal', 14097), ('flatts', 6749), ('bassist', 1748), ('jay', 9352), ('demarcus', 4687), ('exbeauty', 6103), ('allison', 815), ('juggling', 9540), ('demetri', 4690), ('offkilter', 12261), ('acoustic', 463), ('guitar', 7777), ('hairless', 7851), ('nope', 12033), ('oneliners', 12339), ('drawings', 5328), ('muses', 11644), ('doughnut', 5267), ('holes', 8358), ('alphabets', 849), ('aggressive', 662), ('zimbabwes', 19604), ('disputed', 5089), ('2008', 180), ('asked', 1305), ('constitution', 3862), ('bleak', 2132), ('masterminds', 10838), ('pathologist', 12825), ('plotting', 13230), ('impenetrable', 8769), ('reserve', 14565), ('denis', 4711), ('leary', 10080), ('caustically', 2986), ('nonsmokers', 12025), ('vegetarians', 18639), ('undesirables', 18311), ('dennis', 4713), ('gnasher', 7477), ('rubi', 15008), ('pieface', 13091), ('quench', 13912), ('beanotown', 1804), ('expression', 6256), ('deon', 4723), ('thank', 17513), ('say', 15246), ('welp', 19086), ('deray', 4751), ('ball', 1637), ('finer', 6662), ('handling', 7907), ('ricky', 14750), ('gervais', 7361), ('comedydrama', 3608), ('illusionist', 8714), ('derren', 4755), ('reinvents', 14387), ('debunk', 4540), ('confines', 3783), ('disbelief', 4998), ('manipulate', 10700), ('bullet', 2586), ('mentalist', 11054), ('demonstrating', 4705), ('manipulation', 10704), ('appalling', 1104), ('ireland', 9219), ('square', 16544), ('rests', 14621), ('decimates', 4568), ('mujin', 11600), ('fences', 6550), ('lust', 10516), ('severe', 15636), ('droughtravaged', 5377), ('dystopia', 5479), ('betray', 1968), ('hikes', 8266), ('scatter', 15277), ('stalked', 16579), ('drunkenly', 5401), ('cringeworthy', 4192), ('email', 5688), ('hopeless', 8433), ('wes', 19098), ('erase', 5943), ('note', 12068), ('reads', 14145), ('spaniard', 16369), ('passerby', 12798), ('error', 5963), ('genealogy', 7307), ('12thcentury', 28), ('philosopher', 13039), ('profound', 13663), ('teachings', 17348), ('caliph', 2733), ('upend', 18495), ('convinced', 3949), ('rescind', 14546), ('sway', 17125), ('castes', 2940), ('allowed', 822), ('tailspin', 17243), ('helpful', 8148), ('welfare', 19067), ('motives', 11541), ('finnish', 6670), ('1666', 51), ('dakota', 4409), ('zealot', 19577), ('reawakened', 14179), ('demonboy', 4698), ('degenerate', 4639), ('ryo', 15076), ('chats', 3143), ('rasika', 14101), ('dugal', 5422), ('mythologist', 11685), ('devdutt', 4838), ('pattanaik', 12841), ('relevance', 14415), ('folklore', 6846), ('shesh', 15758), ('shahi', 15670), ('examined', 6091), ('schizophrenia', 15294), ('dexter', 4867), ('bloodspatter', 2170), ('analyst', 948), ('murderers', 11628), ('tipped', 17709), ('ne', 11803), ('erdowell', 5945), ('chased', 3133), ('lastditch', 9982), ('jaded', 9298), ('southall', 16344), ('movieloving', 11575), ('shah', 15669), ('rukh', 15024), ('khan', 9702), ('operation', 12377), ('bigotry', 2028), ('chitragupta', 3258), ('oversees', 12572), ('determine', 4820), ('gamely', 7232), ('complies', 3710), ('connect', 3813), ('draw', 5326), ('normally', 12039), ('preclude', 13467), ('forming', 6930), ('friendships', 7069), ('finance', 6648), ('flops', 6803), ('pocket', 13249), ('difference', 4915), ('empress', 5755), ('dragontaming', 5310), ('mace', 10546), ('magistrate', 10594), ('dee', 4594), ('renjie', 14481), ('motley', 11542), ('lisa', 10262), ('sanders', 15172), ('crowdsources', 4244), ('column', 3585), ('prosecuting', 13712), ('onceobese', 12328), ('mi', 11131), ('xiao', 19448), ('liang', 10172), ('affects', 622), ('diana', 4884), ('attractive', 1431), ('chambermaid', 3062), ('troublesome', 18067), ('unreasonable', 18425), ('hitting', 8331), ('kirsten', 9770), ('johnson', 9463), ('inventive', 9174), ('comical', 3616), ('inevitable', 8913), ('brosnans', 2516), ('merchant', 11069), ('inexperienced', 8915), ('deranged', 4750), ('possesses', 13379), ('cerebral', 3033), ('cabaret', 2690), ('expounds', 6253), ('primal', 13570), ('decidedly', 4563), ('gastrointestinal', 7269), ('introduced', 9152), ('italys', 9272), ('expertise', 6216), ('sites', 16002), ('miser', 11302), ('charade', 3102), ('akash', 718), ('sameer', 15152), ('shipboard', 15784), ('flawless', 6755), ('facade', 6316), ('broadcasters', 2492), ('desires', 4782), ('agam', 649), ('singhs', 15968), ('bandung', 1672), ('dilan', 4932), ('affections', 621), ('milea', 11200), ('dilans', 4933), ('involvement', 9203), ('motorbike', 11547), ('imperils', 8774), ('distant', 5102), ('belgium', 1877), ('conflicting', 3789), ('intervenes', 9131), ('favreau', 6482), ('saddest', 15093), ('schmuck', 15295), ('losers', 10417), ('angry', 1003), ('naoko', 11725), ('gauko', 7280), ('paleontologists', 12670), ('fossils', 6945), ('located', 10316), ('aided', 683), ('tablets', 17212), ('downed', 5275), ('meteorite', 11111), ('rex', 14717), ('zoe', 19616), ('alpha', 847), ('dinosaurs', 4954), ('fullon', 7128), ('ty', 18186), ('rux', 15071), ('revvit', 14713), ('facetoface', 6323), ('dstructs', 5403), ('amped', 932), ('stronger', 16841), ('agile', 663), ('dinotrux', 4956), ('newells', 11904), ('lies', 10193), ('meehan', 10982), ('truecrime', 18078), ('payday', 12868), ('loans', 10304), ('cheat', 3160), ('emissions', 5725), ('brazen', 2412), ('lecturer', 10093), ('russia', 15061), ('shaolin', 15698), ('monk', 11443), ('te', 17341), ('36th', 260), ('creatives', 4152), ('analysis', 947), ('singletons', 15978), ('nairobi', 11710), ('platonic', 13195), ('meldrum', 11015), ('definitive', 4629), ('proof', 13694), ('sasquatchs', 15203), ('exasperates', 6099), ('wreaks', 19396), ('ruth', 15067), ('whitefeather', 19143), ('feldman', 6528), ('dispensary', 5078), ('encouraging', 5778), ('traumatizes', 17962), ('deserves', 4772), ('segregation', 15461), ('labor', 9891), ('spearheaded', 16399), ('bridestobe', 2455), ('meager', 10932), ('fallouts', 6372), ('absent', 395), ('shrewd', 15857), ('wisecracking', 19263), ('flashy', 6744), ('fiercely', 6601), ('disillusioned', 5052), ('chart', 3127), ('till', 17681), ('heartthrob', 8094), ('awesome', 1539), ('accompanied', 434), ('django', 5150), ('plantation', 13188), ('neige', 11842), ('meditation', 10976), ('richestorags', 14744), ('smile', 16141), ('guided', 7764), ('twinkling', 18166), ('disabled', 4975), ('portrayal', 13362), ('gemma', 7300), ('physician', 13063), ('bolshevik', 2247), ('elevating', 5642), ('parody', 12758), ('sharply', 15719), ('spoofs', 16492), ('documentaries', 5166), ('delusional', 4679), ('unhinged', 18360), ('abiding', 373), ('caregivers', 2861), ('connections', 3818), ('mire', 11283), ('controversy', 3930), ('rudy', 15012), ('moore', 11478), ('ego', 5591), ('dolemite', 5193), ('zeina', 19583), ('tarek', 17309), ('dollar', 5196), ('newintown', 11908), ('damning', 4420), ('thorny', 17596), ('dolly', 5198), ('parton', 12781), ('moving', 11577), ('forgiveness', 6920), ('partons', 12782), ('catalog', 2954), ('seasonal', 15407), ('screeching', 15372), ('halt', 7886), ('coldhearted', 3531), ('hometowns', 8391), ('abandons', 353), ('prosthetic', 13720), ('tail', 17239), ('copenhagen', 3973), ('nabbed', 11696), ('mastermind', 10836), ('bosses', 2320), ('wrongs', 19428), ('selfstyled', 15519), ('archaeologist', 1162), ('sally', 15139), ('hurst', 8589), ('risktakers', 14810), ('aroundtheworld', 1232), ('jawdropping', 9351), ('unpredictable', 18417), ('elements', 5636), ('locations', 10318), ('sumptuous', 16976), ('landscapes', 9957), ('manhunt', 10695), ('promiscuous', 13680), ('bro', 2489), ('zixin', 19614), ('qihong', 13879), ('gallivanting', 7216), ('mistaken', 11333), ('stir', 16722), ('recovering', 14260), ('addict', 514), ('childstealing', 3233), ('reconstructions', 14244), ('archive', 1178), ('sir', 15989), ('branson', 2396), ('balloon', 1645), ('improv', 8810), ('troupes', 18070), ('muchcoveted', 11589), ('plea', 13215), ('spurring', 16533), ('fearlessly', 6494), ('glover', 7473), ('cocoa', 3497), ('puffs', 13804), ('toys', 17864), ('distress', 5109), ('signal', 15908), ('wiped', 19254), ('population', 13343), ('swarm', 17122), ('soulstealing', 16332), ('invades', 9165), ('martian', 10805), ('marines', 10769), ('obliterate', 12167), ('survivalists', 17085), ('scenarios', 15282), ('civilization', 3349), ('collapse', 3540), ('30year', 250), ('frantically', 7004), ('recreates', 14265), ('bygone', 2682), ('noticing', 12077), ('passed', 12795), ('users', 18549), ('bracing', 2373), ('landlords', 9949), ('educated', 5567), ('resisting', 14584), ('repressive', 14530), ('caiman', 2713), ('undo', 18313), ('lizard', 10295), ('sorcerer', 16313), ('nikaidos', 11964), ('hole', 8356), ('landlady', 9947), ('pose', 13367), ('jig', 9414), ('flatmate', 6747), ('supposed', 17042), ('dong', 5225), ('yilong', 19504), ('selects', 15479), ('warriors', 18970), ('tenant', 17428), ('bickering', 2007), ('aloysius', 845), ('flynn', 6828), ('pupil', 13832), ('1971', 135), ('sergei', 15587), ('dovlatov', 5269), ('maddening', 10560), ('publishing', 13795), ('humanequine', 8543), ('propels', 13700), ('reined', 14378), ('trainers', 17908), ('zac', 19561), ('efron', 5584), ('darin', 4454), ('olien', 12298), ('leong', 10140), ('nonsense', 12024), ('healers', 8069), ('businessclass', 2651), ('showoffs', 15851), ('hat', 8008), ('proceeds', 13622), ('messes', 11098), ('grump', 7736), ('whoville', 19161), ('generous', 7317), ('forestdwelling', 6907), ('lorax', 10403), ('shortsighted', 15834), ('onceler', 12326), ('ruining', 15021), ('profit', 13659), ('seuss', 15627), ('vampires', 18599), ('gory', 7550), ('vulnerability', 18871), ('stationed', 16641), ('selfdefense', 15491), ('hisone', 8307), ('amakasu', 883), ('concealed', 3731), ('gifu', 7390), ('luca', 10478), ('ladja', 9906), ('zenithian', 19588), ('gate', 7271), ('shibumi', 15763), ('resurrected', 14629), ('arisen', 1203), ('ethan', 6011), ('slips', 16109), ('firebreathers', 6675), ('soared', 16210), ('skies', 16035), ('alliance', 808), ('malicious', 10662), ('draco', 5295), ('dragons', 5309), ('offspring', 12265), ('drake', 5314), ('stable', 16561), ('brittania', 2487), ('ruler', 15028), ('monarchs', 11427), ('grandchildren', 7598), ('slain', 16061), ('savages', 15228), ('icebreathing', 8637), ('swordwielding', 17170), ('reopen', 14495), ('dragonpurs', 5308), ('exstudent', 6269), ('how', 8512), ('allnew', 817), ('hiccup', 8199), ('toothless', 17779), ('dak', 4407), ('leyla', 10167), ('devote', 4859), ('huttsgalor', 8602), ('pirates', 13142), ('snowfall', 16199), ('marks', 10779), ('odinyule', 12229), ('viking', 18744), ('weather', 19020), ('cancel', 2780), ('unless', 18393), ('swoop', 17165), ('hypnotizes', 8622), ('facilitator', 6326), ('narrated', 11737), ('cruise', 4254), ('nationalities', 11765), ('tailored', 17241), ('shea', 15732), ('syd', 17173), ('mcgee', 10916), ('riveting', 14829), ('doc', 5157), ('judicial', 9535), ('falsely', 6375), ('valentines', 18584), ('christmasthemed', 3296), ('everyones', 6065), ('dreamworks', 5344), ('shrek', 15856), ('oh', 12273), ('introduce', 9151), ('boovs', 2301), ('unfortunately', 18352), ('wellmeaning', 19080), ('shorts', 15833), ('then', 17537), ('gobber', 7488), ('boneknapper', 2269), ('po', 13245), ('masters', 10840), ('thundering', 17643), ('storming', 16755), ('ox', 12600), ('croc', 4215), ('shifus', 15771), ('puss', 13862), ('captured', 2831), ('participates', 12771), ('kingdomwide', 9755), ('ginormica', 7408), ('pumpkins', 13816), ('carrots', 2902), ('megamind', 10998), ('button', 2671), ('doom', 5234), ('distinctive', 5104), ('dries', 5351), ('noten', 12071), ('airship', 707), ('quin', 13931), ('zaza', 19574), ('fail', 6341), ('empty', 5757), ('stomachs', 16734), ('least', 10082), ('worries', 19373), ('hungover', 8575), ('soulsearching', 16331), ('unexceptional', 18331), ('highranking', 8239), ('pushes', 13860), ('practical', 13441), ('stacks', 16564), ('enforcers', 5810), ('sworn', 17172), ('spains', 16368), ('del', 4652), ('sol', 16247), ('absorbing', 397), ('supply', 17037), ('chain', 3047), ('illicit', 8705), ('tracing', 17870), ('export', 6245), ('sale', 15132), ('consumption', 3874), ('tryst', 18096), ('tettsu', 17496), ('chiharu', 3220), ('spring', 16520), ('wary', 18976), ('dishonesty', 5048), ('24hour', 228), ('intimacy', 9138), ('flounders', 6814), ('clock', 3440), ('winds', 19226), ('flocks', 6796), ('grounded', 7719), ('ducklings', 5410), ('wing', 19236), ('anastasia', 957), ('cardonas', 2844), ('kidnaps', 9721), ('corrupted', 4016), ('offender', 12243), ('blockbuster', 2159), ('lamebrained', 9932), ('rhode', 14723), ('measuring', 10944), ('fitting', 6710), ('willowdean', 19210), ('dickson', 4894), ('against', 647), ('mixups', 11361), ('assuming', 1353), ('doppelgänger', 5243), ('perky', 12966), ('ikebukuro', 8694), ('mesh', 11089), ('waiter', 18890), ('pakistani', 12663), ('colleague', 3542), ('hernán', 8177), ('zin', 19606), ('carringtons', 2900), ('colbys', 3528), ('updated', 18494), ('primetime', 13575), ('surge', 17060), ('vaping', 18613), ('ecigarettes', 5530), ('smokers', 16147), ('courageous', 4068), ('watchs', 18991), ('emergencies', 5716), ('unlawful', 18388), ('sawmill', 15241), ('stashes', 16632), ('luna', 10503), ('jupiter', 9570), ('sublime', 16901), ('forbidding', 6884), ('flourish', 6815), ('harshest', 7989), ('ingenuity', 8967), ('expat', 6194), ('usual', 18560), ('mexicanamerican', 11125), ('sushi', 17095), ('cal', 2719), ('thoms', 17589), ('chicagoans', 3207), ('fumbling', 7133), ('maze', 10903), ('olives', 12301), ('healed', 8067), ('herbalist', 8167), ('treating', 17984), ('reshape', 14568), ('liz', 10294), ('spirituality', 16467), ('affectionate', 620), ('mid1960s', 11152), ('laurel', 10017), ('canyon', 2804), ('nexus', 11927), ('eddie', 5544), ('strongest', 16842), ('fuel', 7105), ('flashing', 6742), ('murphy', 11637), ('unleashes', 18391), ('1983', 148), ('impressions', 8804), ('remembrances', 14452), ('tarzan', 17316), ('threats', 17611), ('sociopathic', 16229), ('summon', 16971), ('17yearold', 60), ('confusion', 3801), ('rediscovers', 14289), ('astronomers', 1367), ('deathtrap', 4525), ('asteroids', 1355), ('comets', 3612), ('edmilson', 5562), ('filho', 6625), ('audience', 1440), ('edoardo', 5564), ('ferrario', 6563), ('unpacks', 18411), ('peculiarities', 12892), ('beer', 1844), ('rattles', 14113), ('allgirls', 807), ('clairvoyant', 3360), ('counselor', 4043), ('leans', 10070), ('convents', 3937), ('loveless', 10448), ('victorianera', 18714), ('ruskin', 15059), ('eggy', 5590), ('fates', 6460), ('serve', 15598), ('einsatzgruppen', 5605), ('jews', 9407), ('romani', 14929), ('proposal', 13708), ('denied', 4710), ('affinity', 623), ('meddle', 10959), ('conductors', 3761), ('obtaining', 12193), ('electricity', 5627), ('hindered', 8284), ('didn', 4905), ('scorched', 15337), ('smoothtalking', 16152), ('arson', 1255), ('defense', 4618), ('indebted', 8859), ('grifter', 7684), ('swindlers', 17151), ('trusted', 18086), ('longhidden', 10370), ('imran', 8818), ('kareena', 9630), ('kapoor', 9622), ('exceptionally', 6110), ('dissimilar', 5099), ('suitors', 16957), ('knock', 9795), ('excia', 6114), ('forty', 6942), ('storm', 16754), ('liquor', 10260), ('fugitive', 7111), ('jesse', 9392), ('pinkman', 13125), ('outrun', 12529), ('written', 19420), ('gilligan', 7402), ('aaron', 345), ('lópez', 10541), ('trafficker', 17890), ('pepe', 12929), ('cadena', 2700), ('treacherous', 17975), ('warring', 18967), ('dea', 4503), ('joaquín', 9439), ('chapo', 3093), ('guzmán', 7812), ('chavo', 3155), ('nameless', 11716), ('chilindrina', 3237), ('quico', 13926), ('doña', 5292), ('florinda', 6809), ('ramón', 14052), ('jirafales', 9433), ('spanishmexican', 16372), ('paco', 12625), ('ignacio', 8677), ('taibo', 17237), ('ernesto', 5954), ('che', 3158), ('guevara', 7761), ('sheds', 15735), ('revolutionary', 14707), ('lucas', 10479), ('jades', 9299), ('clone', 3443), ('passionless', 12803), ('counterintuitive', 4049), ('wives', 19292), ('insomniac', 9034), ('minimart', 11257), ('chatos', 3142), ('hitman', 8328), ('cholo', 3271), ('replace', 14510), ('theme', 17534), ('insecurity', 9020), ('decadelong', 4544), ('eta', 6009), ('operated', 12374), ('50', 288), ('himalayas', 8280), ('jean', 9361), ('maggi', 10584), ('profiled', 13654), ('advancement', 581), ('adaptive', 510), ('excop', 6125), ('surrounded', 17078), ('cuarteto', 4282), ('rodrigo', 14896), ('bueno', 2571), ('superstars', 17022), ('paroled', 12759), ('aurelio', 1456), ('casillas', 2928), ('areas', 1189), ('anthropologist', 1048), ('resisted', 14583), ('languishes', 9962), ('troubles', 18066), ('photojournalist', 13058), ('jesús', 9397), ('abad', 346), ('colorado', 3573), ('photographs', 13056), ('regional', 14351), ('vato', 18626), ('succeed', 16922), ('enticing', 5890), ('deceptive', 4559), ('bands', 1671), ('márama', 11690), ('rombai', 14938), ('financially', 6651), ('naresh', 11735), ('probe', 13612), ('activities', 489), ('proog', 13695), ('emo', 5731), ('capricious', 2815), ('infinite', 8945), ('computeranimated', 3722), ('underprivileged', 18296), ('elevator', 5643), ('cub', 4284), ('merry', 11088), ('wrangles', 19390), ('reindeer', 14377), ('tow', 17847), ('clinic', 3430), ('1901', 92), ('elisa', 5654), ('loriga', 10412), ('marcela', 10745), ('gracia', 7579), ('ibeas', 8631), ('enroll', 5855), ('recollections', 14233), ('rarely', 14094), ('seen', 15455), ('pays', 12872), ('tribute', 18017), ('90th', 332), ('newlywed', 11912), ('offlimits', 12262), ('defying', 4638), ('2003', 176), ('overlapping', 12560), ('exceptional', 6109), ('bravery', 2404), ('nurses', 12130), ('deportees', 4736), ('turbulence', 18126), ('blitzen', 2156), ('miniature', 11252), ('tryouts', 18095), ('appeared', 1109), ('legions', 10111), ('sitter', 16004), ('unorthodox', 18409), ('borrowers', 2316), ('unable', 18235), ('paulos', 12850), ('theatro', 17527), ('emicida', 5720), ('exec', 6134), ('cooper', 3964), ('embraces', 5710), ('scienceloving', 15322), ('calandrelli', 2722), ('demonstrations', 4706), ('athome', 1387), ('makassar', 10630), ('expelled', 6206), ('seymour', 15659), ('cute', 4360), ('convert', 3942), ('pairs', 12658), ('deciphering', 4571), ('comprised', 3716), ('emojis', 5733), ('reenactments', 14301), ('origins', 12452), ('historymaking', 8316), ('empires', 5745), ('extent', 6274), ('smell', 16140), ('directs', 4969), ('enriches', 5854), ('month', 11460), ('caged', 2709), ('psychologically', 13776), ('emotionally', 5736), ('guiltstricken', 7772), ('forward', 6944), ('coldblooded', 3530), ('outcome', 12503), ('practitioners', 13446), ('zavala', 19573), ('riddled', 14754), ('longer', 10365), ('humdrum', 8560), ('dorm', 5248), ('hamburg', 7888), ('iraniangerman', 9212), ('enissa', 5837), ('amani', 889), ('deductions', 4593), ('fanmail', 6400), ('etiquette', 6019), ('selfhelp', 15501), ('negligent', 11837), ('followers', 6854), ('enola', 5849), ('sleuthing', 16096), ('outsmart', 12535), ('horrific', 8450), ('deepdives', 4599), ('notable', 12066), ('peek', 12900), ('infiltrates', 8942), ('avid', 1514), ('magically', 10590), ('screenwriters', 15377), ('depart', 4725), ('norm', 12037), ('simply', 15940), ('relieved', 14423), ('equestria', 5934), ('ponies', 13316), ('canterlot', 2802), ('totalitarian', 17818), ('maintains', 10623), ('peace', 12878), ('subduing', 16896), ('populace', 13339), ('displays', 5085), ('punishable', 13823), ('vanished', 18608), ('before', 1849), ('astrid', 1360), ('satoru', 15217), ('fujinuma', 7115), ('eric', 5947), ('andre', 973), ('orleans', 12456), ('fastfood', 6445), ('autofill', 1481), ('python', 13875), ('idle', 8668), ('greats', 7645), ('decline', 4579), ('piano', 13072), ('blacksmith', 2113), ('tortures', 17811), ('blames', 2125), ('misery', 11305), ('trespassing', 18003), ('builds', 2582), ('library', 10187), ('traps', 17956), ('scavenger', 15279), ('freely', 7030), ('prompting', 13691), ('censor', 3020), ('mossad', 11520), ('bouts', 2350), ('fútbol', 7176), ('primera', 13574), ('cora', 3984), ('80', 324), ('heir', 8124), ('addled', 523), ('deities', 4648), ('bai', 1614), ('qian', 13878), ('ye', 19478), ('hua', 8522), ('lifetimes', 10211), ('transcend', 17920), ('sociocultural', 16226), ('1940s', 109), ('kariman', 9635), ('solace', 16248), ('prone', 13693), ('fragile', 6977), ('singers', 15962), ('represent', 14525), ('showdown', 15846), ('stakes', 16576), ('scheming', 15291), ('narcissistic', 11731), ('evan', 6036), ('ark', 1213), ('preparation', 13496), ('flood', 6798), ('meanwhile', 10940), ('interprets', 9113), ('hobby', 8342), ('fifteen', 6605), ('shinji', 15779), ('nerv', 11866), ('policymakers', 13289), ('gambia', 7224), ('genital', 7325), ('mutilation', 11665), ('kin', 9742), ('uk', 18217), ('incursion', 8857), ('bolivian', 2244), ('exploitation', 6228), ('orthodox', 12468), ('longmissing', 10374), ('unimaginable', 18367), ('fairytale', 6355), ('destinies', 4801), ('paramedic', 12720), ('journeying', 9513), ('patiently', 12831), ('audrey', 1447), ('materials', 10850), ('miodownik', 11274), ('objects', 12164), ('comfortable', 3614), ('ancestors', 960), ('av', 1488), ('vhs', 18696), ('priestintraining', 13567), ('miracles', 11276), ('possession', 13380), ('robs', 14875), ('weirder', 19059), ('geology', 7341), ('professors', 13652), ('microscopic', 11151), ('lifeforms', 10198), ('wrench', 19401), ('blossoming', 2181), ('somehow', 16275), ('coder', 3503), ('weeklong', 19046), ('retreat', 14654), ('companys', 3677), ('subordinate', 16905), ('sweetheart', 17138), ('allegations', 791), ('clergy', 3410), ('journalists', 9511), ('reporting', 14522), ('malaysia', 10651), ('hijack', 8258), ('747', 319), ('nerve', 11867), ('gas', 7267), ('aimed', 691), ('pains', 12645), ('dna', 5155), ('cadaver', 2699), ('participants', 12769), ('wests', 19103), ('protracted', 13738), ('afghanistan', 630), ('jamess', 9318), ('regrets', 14356), ('maverick', 10881), ('orin', 12453), ('boyd', 2363), ('latrell', 9999), ('walker', 18908), ('cinematographers', 3327), ('forests', 6909), ('capturing', 2833), ('pandas', 12683), ('monkeys', 11445), ('redcrowned', 14276), ('cranes', 4124), ('refurbished', 14329), ('catastrophe', 2961), ('uploaded', 18506), ('cyber', 4367), ('enlightening', 5842), ('vox', 18861), ('wide', 19166), ('range', 14063), ('cryptocurrency', 4276), ('diets', 4914), ('guys', 7811), ('exterminating', 6277), ('mercenarys', 11068), ('bangladesh', 1678), ('steeped', 16667), ('grasping', 7625), ('hungrily', 8576), ('millman', 11225), ('maggie', 10585), ('extras', 6286), ('accompany', 436), ('endoflife', 5793), ('icu', 8649), ('unknowingly', 18386), ('nurse', 12127), ('tragically', 17896), ('impacted', 8760), ('clarinet', 3366), ('enjoying', 5839), ('hüseyin', 8628), ('firuzan', 6694), ('roamed', 14844), ('flowed', 6817), ('maddy', 10562), ('didnt', 4906), ('venturing', 18668), ('fabrizio', 6314), ('copano', 3971), ('participation', 12772), ('reflecting', 14313), ('sperm', 16435), ('whatsapp', 19116), ('banter', 1691), ('fadily', 6338), ('camara', 2749), ('weaves', 19022), ('cigale', 3319), ('wizards', 19294), ('shattering', 15725), ('losses', 10421), ('divorcée', 5144), ('widower', 19175), ('fiona', 6671), ('bruce', 2530), ('philip', 13034), ('mould', 11555), ('impressive', 8805), ('forgeries', 6914), ('fakkah', 6365), ('fuzz', 7171), ('mines', 11247), ('crosscultural', 4227), ('malay', 10649), ('unscrupulous', 18441), ('closing', 3452), ('billiondollar', 2049), ('ad', 500), ('hotshot', 8490), ('nets', 11880), ('miscommunication', 11296), ('inn', 8997), ('remodel', 14463), ('rustic', 15065), ('contractor', 3914), ('diego', 4909), ('isabel', 9239), ('pretend', 13540), ('drugdealing', 5387), ('falz', 6376), ('endofyear', 5794), ('gambling', 7230), ('legalize', 10106), ('downonhisluck', 5278), ('butcher', 2662), ('mckellan', 10922), ('bigcity', 2017), ('kiteflying', 9777), ('omar', 12312), ('abdulrahman', 368), ('obsessive', 12185), ('outlandish', 12511), ('lowercaste', 10462), ('jabya', 9288), ('uppercaste', 18509), ('shalu', 15683), ('derided', 4753), ('position', 13372), ('proves', 13745), ('stumbling', 16873), ('faroff', 6425), ('skullbania', 16049), ('barbarian', 1696), ('thirdgrader', 17576), ('carnival', 2884), ('wonderland', 19320), ('wanted', 18940), ('bungling', 2608), ('grips', 7694), ('extremist', 6295), ('lebanon', 10087), ('fary', 6432), ('veers', 18633), ('tony', 17772), ('toretto', 17794), ('circuit', 3330), ('drivers', 5363), ('supercars', 16993), ('cred', 4158), ('sleeper', 16084), ('gearheads', 7289), ('drink', 5356), ('grail', 7591), ('fuyuki', 7170), ('splintered', 16475), ('timeline', 17689), ('holy', 8372), ('unprecedented', 18416), ('hakuno', 7857), ('kishinami', 9771), ('extinction', 6280), ('chaldea', 3053), ('shiro', 15793), ('unsettled', 18445), ('mystical', 11677), ('compassionate', 3681), ('doubles', 5261), ('effective', 5578), ('solver', 16267), ('gk', 7425), ('chesterton', 3196), ('grads', 7583), ('seriously', 15592), ('severely', 15638), ('sacrifice', 15089), ('clerical', 3412), ('lease', 10081), ('portly', 13357), ('palestinian', 12671), ('militant', 11204), ('motion', 11534), ('sportswriter', 16502), ('samoan', 15157), ('hallucinogenic', 7883), ('threeday', 17613), ('romp', 14944), ('counterculture', 4047), ('fist', 6704), ('witches', 19277), ('houses', 8506), ('fulltime', 7129), ('babysitter', 1566), ('mae', 10577), ('sobriety', 16214), ('squarely', 16545), ('outline', 12517), ('exercise', 6145), ('selfcentered', 15489), ('felipe', 6533), ('esparza', 5987), ('muy', 11668), ('comments', 3635), ('neto', 11879), ('não', 12146), ('faz', 6485), ('sentido', 15563), ('felix', 6534), ('lobrecht', 10311), ('polite', 13294), ('laughter', 10009), ('sheer', 15738), ('walking', 18911), ('revisiting', 14698), ('photos', 13059), ('feminist', 6547), ('unattractive', 18246), ('fernando', 6559), ('sanjiao', 15184), ('impersonations', 8777), ('concepts', 3739), ('masculinity', 10818), ('acquire', 468), ('ferris', 6566), ('allaround', 789), ('peasant', 12889), ('strongwilled', 16844), ('prerevolutionary', 13504), ('earning', 5499), ('jury', 9573), ('50yearold', 300), ('crises', 4199), ('figaro', 6608), ('phobias', 13045), ('wordless', 19341), ('grillo', 7685), ('immersing', 8744), ('schoolers', 15305), ('yearlong', 19483), ('conspiring', 3857), ('leon', 10135), ('vitali', 18817), ('envy', 5916), ('levelheaded', 10161), ('cocky', 3495), ('barista', 1715), ('easily', 5510), ('cheated', 3161), ('kimberly', 9738), ('premonition', 13493), ('prompt', 13689), ('prevents', 13550), ('rollercoaster', 14920), ('rekindle', 14394), ('roleplaying', 14915), ('publicly', 13792), ('fix', 6716), ('nostalgia', 12062), ('lampedusa', 9936), ('mediterranean', 10979), ('migrants', 11178), ('californias', 2732), ('2016', 192), ('rages', 13989), ('backcountry', 1574), ('firefighters', 6677), ('flames', 6733), ('razed', 14127), ('wildfire', 19192), ('dylan', 5470), ('gray', 7636), ('africas', 640), ('pharmaceutical', 13019), ('companies', 3671), ('lifesaving', 10206), ('hiv', 8332), ('affordable', 628), ('successfully', 16926), ('unresolved', 18430), ('preschoolers', 13507), ('fireman', 6679), ('pontypandy', 13319), ('uhd', 18214), ('4k', 284), ('clearest', 3406), ('picture', 13084), ('fireplace', 6680), ('crackles', 4111), ('adding', 520), ('warmth', 18956), ('atmosphere', 1393), ('ultrahd', 18226), ('snaps', 16172), ('highdef', 8218), ('nazuna', 11797), ('norimichi', 12036), ('summers', 16968), ('soontobe', 16302), ('georgias', 7347), ('gwinnett', 7815), ('embellishes', 5702), ('impress', 8799), ('broker', 2501), ('starryeyed', 16618), ('sketchy', 16029), ('intertwines', 9129), ('reserved', 14566), ('tenacious', 17426), ('juventus', 9582), ('reign', 14367), ('khmer', 9705), ('rouge', 14980), ('cambodia', 2752), ('foes', 6836), ('shanties', 15696), ('cornish', 3996), ('chants', 3087), ('sail', 15113), ('harry', 7987), ('stanton', 16601), ('cowboys', 4098), ('calves', 2746), ('montanas', 11458), ('fishtail', 6701), ('basin', 1742), ('fishtronaut', 6702), ('marina', 10766), ('zeek', 19582), ('too', 17774), ('physique', 13068), ('image', 8724), ('100000', 6), ('aristocratic', 1207), ('hearts', 8091), ('fitness', 6708), ('crossfit', 4233), ('sanctional', 15166), ('ninjas', 11979), ('fury', 7161), ('griefstricken', 7674), ('maine', 10617), ('contractors', 3915), ('hosted', 8476), ('sabato', 15081), ('renovates', 14483), ('rvs', 15073), ('properties', 13702), ('fizas', 6725), ('mumbais', 11617), ('fiza', 6724), ('funky', 7147), ('enclave', 5769), ('chips', 3256), ('goto', 7559), ('enlightened', 5841), ('auto', 1476), ('inventing', 9171), ('intermittent', 9098), ('windshield', 19227), ('wipers', 19255), ('delve', 4681), ('delectable', 4657), ('chaoshan', 3089), ('creation', 4148), ('steaming', 16663), ('noodles', 12032), ('nosy', 12064), ('flinch', 6781), ('twoyear', 18183), ('embedded', 5701), ('untenable', 18459), ('1959', 123), ('pasadena', 12791), ('southcentral', 16345), ('jazz', 9355), ('rooms', 14959), ('flooded', 6799), ('lava', 10022), ('leaping', 10073), ('chairs', 3051), ('hanging', 7915), ('curtains', 4346), ('swinging', 17156), ('chandeliers', 3076), ('yes', 19497), ('senile', 15546), ('granny', 7613), ('constantly', 3861), ('crumbling', 4258), ('barely', 1708), ('outlaw', 12513), ('teng', 17436), ('buzzfeed', 2678), ('ranging', 14067), ('crazes', 4139), ('injection', 8986), ('instagram', 9042), ('irl', 9224), ('epicureans', 5921), ('evolution', 6078), ('diaspora', 4888), ('soma', 16270), ('totsuki', 17821), ('victorious', 18716), ('overthetop', 12579), ('expulsion', 6258), ('mosley', 11517), ('botanist', 2326), ('eat', 5517), ('concerning', 3741), ('generosity', 7316), ('simmer', 15931), ('agree', 669), ('camino', 2763), ('santiago', 15191), ('500mile', 294), ('40day', 270), ('ntozake', 12106), ('shanges', 15691), ('consists', 3849), ('curtis', 4347), ('duffy', 5420), ('catholics', 2975), ('preserve', 13517), ('frustrating', 7099), ('visa', 18798), ('renewal', 14479), ('likable', 10224), ('devises', 4856), ('unromantic', 18433), ('fowl', 6970), ('menagerie', 11044), ('ire', 9218), ('interwoven', 9137), ('limbo', 10234), ('failures', 6346), ('targeted', 17311), ('leonard', 10136), ('nimoy', 11970), ('spock', 16480), ('frisbee', 7078), ('brodie', 2497), ('exhibition', 6157), ('brothersinlaw', 2524), ('undesirable', 18310), ('álex', 19637), ('badboy', 1597), ('justin', 9576), ('fashanu', 6438), ('openly', 12369), ('pulpfiction', 13812), ('nielsen', 11947), ('starship', 16620), ('altairiv', 861), ('mole', 11416), ('operating', 12376), ('govern', 7563), ('false', 6374), ('ticking', 17658), ('technicians', 17366), ('procedures', 13621), ('documentarystyle', 5170), ('kai', 9594), ('discarded', 5000), ('shuheis', 15867), ('claimed', 3356), ('71', 318), ('chapecoense', 3091), ('furor', 7159), ('addition', 522), ('beitar', 1874), ('jerusalem', 9390), ('underscores', 18299), ('institutionalized', 9052), ('bladesmiths', 2118), ('pages', 12639), ('xue', 19455), ('abandoning', 351), ('devil', 4849), ('19', 89), ('jinseok', 9431), ('according', 441), ('processed', 13624), ('epidemic', 5922), ('rates', 14105), ('obesity', 12158), ('diabetes', 4874), ('diseases', 5029), ('managers', 10676), ('feimster', 6526), ('awakenings', 1526), ('divorced', 5141), ('havana', 8026), ('revolves', 14710), ('wistful', 19272), ('mario', 10771), ('conde', 3751), ('sultry', 16964), ('nuptials', 12125), ('longsimmering', 10378), ('commitmentphobic', 3647), ('brit', 2480), ('alluring', 834), ('crawford', 4135), ('allegedly', 793), ('injured', 8987), ('er', 5938), ('conducts', 3762), ('panicked', 12692), ('franca', 6984), ('sozzani', 16355), ('vogue', 18835), ('fashionworld', 6442), ('provocateur', 13755), ('milan', 11194), ('francesco', 6988), ('carlo', 2876), ('habits', 7832), ('franco', 6994), ('escamilla', 5974), ('reflections', 14315), ('violently', 18777), ('dashed', 4470), ('farewell', 6417), ('elstner', 5675), ('savors', 15239), ('discussions', 5026), ('brühl', 2542), ('lena', 10125), ('meyerlandrut', 11128), ('harbour', 7946), ('uninterested', 18370), ('fraternity', 7008), ('pledge', 13222), ('frightening', 7073), ('tramp', 17913), ('meek', 10983), ('cook', 3955), ('unsavory', 18438), ('widespread', 19172), ('drummers', 5396), ('fred', 7017), ('armisen', 1219), ('drummer', 5395), ('accents', 419), ('repo', 14517), ('sizable', 16015), ('sheet', 15740), ('transaction', 17917), ('deserted', 4768), ('freeforall', 7027), ('takenoprisoners', 17253), ('shootout', 15812), ('mistletoe', 11338), ('ornament', 12457), ('gaby', 7186), ('mia', 11134), ('fabled', 6312), ('stone', 16736), ('blinds', 2147), ('raven', 14122), ('mississippi', 11328), ('deserters', 4770), ('slaves', 16074), ('confederacy', 3766), ('painted', 12649), ('exhibit', 6156), ('freeway', 7036), ('rick', 14748), ('rosss', 14975), ('freeze', 7038), ('device', 4847), ('frost', 7092), ('resists', 14585), ('locket', 10322), ('seizes', 15472), ('communicate', 3661), ('warp', 18963), ('devout', 4865), ('preachers', 13463), ('selfreliant', 15514), ('vienna', 18729), ('sigmund', 15906), ('freud', 7056), ('counselors', 4044), ('voorhees', 18853), ('maniac', 10696), ('slasher', 16066), ('gotten', 7561), ('righteous', 14774), ('eventful', 6047), ('abu', 401), ('dhabi', 4869), ('bankrobbing', 1685), ('rodriguez', 14897), ('relocates', 14433), ('werner', 19097), ('herzog', 8189), ('texting', 17503), ('altered', 864), ('trivial', 18048), ('assist', 1340), ('regimen', 14346), ('froning', 7087), ('narcotic', 11733), ('southwest', 16348), ('18thcentury', 87), ('trappers', 17954), ('wrest', 19403), ('hudsons', 8528), ('antarctic', 1042), ('wildernesses', 19190), ('attenborough', 1411), ('temperatures', 17411), ('collecting', 3547), ('mohawk', 11409), ('reservation', 14563), ('canadian', 2778), ('eddy', 5545), ('smuggle', 16153), ('rendering', 14471), ('2009', 182), ('orchestrates', 12422), ('powerfully', 13431), ('vindictive', 18767), ('catastrophes', 2962), ('clueless', 3463), ('musicpacked', 11655), ('troublemaking', 18065), ('classroom', 3386), ('spinoff', 16455), ('foreboding', 6895), ('forgo', 6921), ('renewed', 14480), ('olympic', 12309), ('chayse', 3157), ('breakdancer', 2419), ('tanner', 17296), ('tannerfuller', 17297), ('stephanie', 16681), ('kimmy', 9740), ('alchemist', 745), ('edward', 5573), ('elric', 5672), ('als', 857), ('closely', 3446), ('alphonse', 851), ('preschool', 13505), ('common', 3655), ('rowdy', 14996), ('highintensity', 8225), ('programs', 13668), ('embraced', 5709), ('sri', 16553), ('lankas', 9964), ('hai', 7844), ('phuong', 13060), ('saigon', 15111), ('abductors', 365), ('kyle', 9883), ('crazed', 4138), ('afflict', 624), ('purchase', 13840), ('website', 19028), ('fyre', 7174), ('billed', 2044), ('spectacularly', 16410), ('writereditor', 19413), ('guinea', 7774), ('carpet', 2893), ('photo', 13052), ('arif', 1200), ('gora', 7540), ('betrothed', 1975), ('gabbar', 7179), ('crafts', 4117), ('gabby', 7180), ('pandy', 12688), ('paws', 12862), ('gabriel', 7183), ('fluffy', 6822), ('iglesias', 8675), ('vicente', 18703), ('2019', 197), ('buchmann', 2554), ('gap', 7251), ('malawi', 10647), ('hawaiianshirt', 8034), ('racist', 13965), ('baskets', 1745), ('priusdriving', 13597), ('allfemale', 805), ('taco', 17220), ('dreaming', 5341), ('gad', 7187), ('elmaleh', 5666), ('gleefully', 7441), ('obsessions', 12184), ('slang', 16063), ('regales', 14335), ('encountered', 5772), ('reviled', 14695), ('branded', 2393), ('traitor', 17911), ('gaga', 7192), ('halftime', 7873), ('cosmonaut', 4026), ('yuri', 19554), ('gagarin', 7193), ('1961', 126), ('vostok', 18854), ('galavant', 7204), ('tongueincheek', 17766), ('accuses', 452), ('cameos', 2758), ('doesn', 5180), ('posttraumatic', 13406), ('ptsd', 13786), ('badass', 1596), ('deserter', 4769), ('warm', 18952), ('recut', 14274), ('livestream', 10291), ('gavreel', 7282), ('posted', 13392), ('crimeridden', 4184), ('cleaning', 3401), ('confronting', 3796), ('sarcastic', 15199), ('1860s', 71), ('vallon', 18590), ('cooperate', 3965), ('osaka', 12470), ('troll', 18051), ('tape', 17302), ('slaughter', 16069), ('elephants', 5639), ('ivory', 9280), ('80yearold', 326), ('rangers', 14065), ('bravely', 2403), ('concluding', 3745), ('comicstrip', 3621), ('yearly', 19484), ('strip', 16832), ('ramone', 14042), ('menace', 11041), ('minions', 11260), ('enslave', 5859), ('garfunkel', 7260), ('oates', 12152), ('surprisefilled', 17071), ('wormhole', 19368), ('spacedwelling', 16359), ('mecha', 10948), ('garth', 7264), ('brooks', 2510), ('zealous', 19579), ('friendturnedrival', 7070), ('internal', 9100), ('complicate', 3705), ('sinisterly', 15983), ('incompetent', 8843), ('kidnappers', 9719), ('clubhopping', 3460), ('developers', 4842), ('saipan', 15122), ('subterranean', 16915), ('bunker', 2609), ('wwii', 19436), ('punjabi', 13828), ('oppressive', 12399), ('classbased', 3376), ('traits', 17912), ('peers', 12904), ('spelling', 16426), ('singersongwriter', 15963), ('hoshino', 8467), ('sold', 16250), ('dome', 5201), ('couric', 4069), ('understanding', 18302), ('speaking', 16396), ('transgender', 17937), ('intersex', 9123), ('newgeneration', 11907), ('bodybuilding', 2226), ('piana', 13070), ('greene', 7652), ('bodybuilders', 2225), ('olympia', 12307), ('perfection', 12947), ('excel', 6106), ('historian', 8309), ('bettany', 1977), ('hughes', 8533), ('socrates', 16232), ('confucius', 3798), ('intellectual', 9070), ('karl', 9637), ('marx', 10812), ('friedrich', 7062), ('nietzsche', 11949), ('gentrification', 7334), ('relates', 14398), ('escapades', 5976), ('thrilling', 17620), ('henry', 8160), ('morgan', 11491), ('lopez', 10401), ('latinx', 9998), ('touching', 17826), ('clumsy', 3466), ('apeman', 1092), ('lion', 10252), ('handcuffed', 7901), ('bed', 1833), ('warped', 18964), ('brainy', 2385), ('schoolwide', 15313), ('escort', 5984), ('occupied', 12201), ('squatters', 16548), ('rebirth', 14187), ('operative', 12379), ('organizers', 12444), ('clea', 3398), ('edit', 5555), ('categorize', 2969), ('clutter', 3468), ('crashing', 4129), ('fatherson', 6467), ('enforcer', 5809), ('reinvent', 14383), ('elmore', 5668), ('leonards', 10138), ('compromised', 3718), ('maxwell', 10888), ('capable', 2805), ('99', 337), ('thwart', 17645), ('blowtorch', 2187), ('víctor', 18875), ('vault', 18627), ('gal', 7201), ('lauren', 10018), ('andrea', 974), ('miraculous', 11277), ('occur', 12204), ('sanju', 15185), ('surrounds', 17081), ('blissful', 2153), ('shrine', 15860), ('unwittingly', 18478), ('upsets', 18523), ('engulfed', 5832), ('aidriven', 685), ('section', 15427), ('counter', 4046), ('snow', 16194), ('leopards', 10142), ('iv', 9277), ('newport', 11916), ('501', 296), ('manor', 10717), ('daredevil', 4450), ('biker', 2036), ('blaze', 2130), ('flameskulled', 6734), ('mephistopheles', 11061), ('zoya', 19628), ('akhtar', 721), ('anurag', 1073), ('kashyap', 9648), ('dibakar', 4890), ('banerjee', 1673), ('karan', 9626), ('johar', 9458), ('quartet', 13902), ('thrillers', 17619), ('motoko', 11545), ('batou', 1764), ('togusa', 17743), ('leg', 10102), ('mermaids', 11085), ('buffs', 2576), ('valuables', 18594), ('traverse', 17971), ('forgotten', 6922), ('landmarks', 9951), ('collectibles', 3546), ('responsibilities', 14605), ('aramaki', 1154), ('extremism', 6294), ('battleworn', 1778), ('chateau', 3140), ('previously', 13552), ('unexplained', 18334), ('detention', 4817), ('exhibits', 6158), ('interrogator', 9117), ('soe', 16235), ('hok', 8349), ('gie', 7384), ('regimes', 14349), ('suharto', 16949), ('sukarno', 16959), ('prehistoric', 13485), ('jonny', 9489), ('duddles', 5412), ('gigis', 7396), ('avantgarde', 1497), ('waif', 18885), ('groomed', 7709), ('fille', 6629), ('joie', 9465), ('gaston', 7268), ('gigi', 7395), ('metamorphoses', 11108), ('lorelai', 10407), ('leaguebound', 10064), ('rory', 14967), ('continual', 3902), ('stream', 16800), ('quickwitted', 13925), ('repartee', 14502), ('finale', 6646), ('revival', 14701), ('gilmore', 7403), ('seasons', 15409), ('gims', 7405), ('stade', 16566), ('upclose', 18491), ('gina', 7406), ('yashere', 19475), ('toilet', 17745), ('correspondent', 4013), ('ginger', 7407), ('rosa', 14968), ('rejected', 14389), ('accepting', 424), ('lawman', 10031), ('mobassassin', 11370), ('engulf', 5831), ('tougher', 17830), ('lara', 9967), ('hurdles', 8586), ('confirmation', 3784), ('nanno', 11721), ('transfers', 17926), ('misdeeds', 11300), ('faculty', 6337), ('anew', 988), ('tackled', 17217), ('quadruplets', 13887), ('liver', 10287), ('mockery', 11383), ('sophia', 16306), ('memoir', 11031), ('greeting', 7659), ('salvage', 15145), ('dormitory', 5250), ('dental', 4716), ('miho', 11183), ('nishizumi', 11986), ('tankery', 17294), ('enrolling', 5856), ('ōarai', 19645), ('tank', 17293), ('closure', 3453), ('eyeballed', 6300), ('volleyball', 18844), ('wilson', 19215), ('monologue', 11449), ('culminating', 4304), ('underdog', 18284), ('glee', 7439), ('winners', 19241), ('actual', 498), ('preteen', 13539), ('glitter', 7449), ('splendorius', 16473), ('mercenare', 11065), ('orange', 12412), ('careermaking', 2854), ('grapplers', 7621), ('malaysias', 10653), ('charcoal', 3103), ('deftly', 4635), ('environs', 5913), ('juggles', 9539), ('gnomes', 7479), ('highspeed', 8249), ('gokart', 7504), ('exdriver', 6131), ('beep', 1843), ('buckle', 2556), ('carson', 2906), ('winding', 19224), ('bumperton', 2599), ('mía', 11691), ('mías', 11692), ('lupe', 10506), ('mercedes', 11064), ('juanma', 9527), ('álvaro', 19638), ('lakeside', 9920), ('conventional', 3935), ('weapon', 19013), ('entries', 5904), ('linda', 10241), ('bishop', 2084), ('starvation', 16629), ('sanity', 15182), ('atheistic', 1379), ('congregation', 3806), ('yorkshire', 19524), ('withdrawn', 19281), ('romanian', 14931), ('depths', 4746), ('terrorizes', 17476), ('populated', 13342), ('recolonize', 14234), ('20000', 173), ('godzilla', 7496), ('haruo', 7996), ('companions', 3673), ('houtua', 8509), ('mechagodzilla', 10950), ('weakened', 19010), ('siding', 15897), ('exif', 6161), ('shadows', 15663), ('centered', 3024), ('compel', 3683), ('ram', 14033), ('fictitious', 6595), ('brosnan', 2515), ('debonair', 4535), ('satellite', 15210), ('services', 15603), ('goldie', 7510), ('goldilocks', 7511), ('persons', 12990), ('politicalindustrial', 13297), ('gollu', 7517), ('pappu', 12704), ('detonate', 4828), ('bungle', 2607), ('choppy', 3276), ('thwarting', 17647), ('wooing', 19338), ('pranksters', 13456), ('bamboozle', 1657), ('bungalow', 2606), ('activity', 490), ('aimlessly', 695), ('hardtoplease', 7963), ('praise', 13449), ('cluelessly', 3464), ('gigs', 7397), ('joint', 9470), ('burger', 2622), ('fires', 6683), ('cenk', 3019), ('esports', 5991), ('orchestrate', 12420), ('grocery', 7705), ('hops', 8437), ('labs', 9896), ('comb', 3590), ('overachieving', 12542), ('finishing', 6667), ('reputations', 14541), ('tommy', 17762), ('egan', 5586), ('drones', 5370), ('boost', 2294), ('jenna', 9375), ('arrange', 1235), ('apolitical', 1097), ('swirls', 17159), ('datingsite', 4478), ('predator', 13469), ('underused', 18306), ('newsman', 11918), ('murrow', 11640), ('sen', 15536), ('mccarthy', 10909), ('crusade', 4260), ('quell', 13911), ('communism', 3666), ('luck', 10486), ('spearheading', 16400), ('eluding', 5679), ('enchanting', 5768), ('provokes', 13759), ('exasperation', 6100), ('fiveyear', 6714), ('highrolling', 8242), ('paranoid', 12725), ('varying', 18620), ('looting', 10400), ('koreanamerican', 9833), ('shoe', 15806), ('contemplating', 3884), ('dispatching', 5076), ('rude', 15011), ('opposing', 12393), ('glatt', 7437), ('appoints', 1121), ('nemesis', 11855), ('rl', 14835), ('stines', 16716), ('adaptations', 508), ('goosebumps', 7539), ('sriram', 16555), ('dia', 4873), ('guardians', 7748), ('gorm', 7549), ('ruling', 15031), ('witty', 19291), ('whodunit', 19151), ('servants', 15596), ('mccordle', 10912), ('hyperprivileged', 8619), ('waynes', 19006), ('currently', 4338), ('employs', 5751), ('corridors', 4014), ('disinterested', 5054), ('gregorio', 7663), ('goyo', 7570), ('pilar', 13105), ('generals', 7309), ('heneral', 8159), ('re', 14131), ('frankie', 6998), ('hmong', 8336), ('1972', 136), ('gran', 7595), ('torino', 17796), ('float', 6793), ('sky', 16053), ('erste', 5965), ('mccloud', 10910), ('selfbuilding', 15486), ('guise', 7776), ('footman', 6879), ('extramarital', 6284), ('occupy', 12202), ('cumbersome', 4315), ('anticipating', 1053), ('likely', 10226), ('fujairah', 7113), ('potloving', 13417), ('bestie', 1956), ('jinky', 9427), ('backpack', 1583), ('lit', 10271), ('ignited', 8679), ('travolta', 17974), ('olivia', 12302), ('newtonjohn', 11922), ('greaser', 7638), ('budgets', 2570), ('mettle', 11122), ('workforce', 19348), ('stations', 16643), ('swindler', 17150), ('makoto', 10641), ('edamura', 5543), ('laurent', 10019), ('thierry', 17564), ('worldclass', 19358), ('temperature', 17410), ('variations', 18614), ('yellowstone', 19492), ('talentless', 17262), ('allamerican', 788), ('pearl', 12887), ('harbor', 7943), ('dday', 4501), ('colorized', 3577), ('uncanny', 18257), ('dish', 5042), ('bogotábased', 2232), ('femicides', 6544), ('lowbudget', 10459), ('punk', 13829), ('neonazis', 11858), ('bohemians', 2236), ('ethnic', 6018), ('hayley', 8040), ('although', 873), ('greenleaf', 7656), ('memphis', 11039), ('megachurch', 10992), ('adultery', 575), ('sins', 15988), ('greg', 7661), ('davies', 4487), ('manscaping', 10719), ('pranks', 13454), ('savagely', 15227), ('grego', 7662), ('rossello', 14974), ('airline', 704), ('meredith', 11074), ('babysitting', 1568), ('beppe', 1933), ('controversies', 3929), ('mcafee', 10907), ('antivirus', 1067), ('now', 12096), ('scandalous', 15257), ('disaffected', 4978), ('lacrosse', 9901), ('strong', 16840), ('grizzy', 7703), ('frolicsome', 7086), ('lemmings', 10122), ('coy', 4102), ('parts', 12783), ('nurtured', 12133), ('sierra', 15901), ('minas', 11230), ('esquipulas', 5993), ('guatemalas', 7753), ('geological', 7340), ('mayan', 10891), ('downside', 5283), ('houseguest', 8500), ('countryman', 4059), ('tennis', 17439), ('vilas', 18749), ('versions', 18685), ('1921', 100), ('unrest', 18431), ('anarchists', 956), ('stole', 16732), ('ignite', 8678), ('roaming', 14845), ('kenyan', 9690), ('rifles', 14768), ('pampered', 12678), ('average', 1505), ('peacekeeping', 12880), ('lieutenant', 10194), ('gunjan', 7790), ('saxena', 15243), ('aviator', 1512), ('kargil', 9632), ('aboveground', 388), ('powerhungry', 13433), ('gurukant', 7804), ('desai', 4758), ('ignores', 8685), ('turkey', 18130), ('sticky', 16707), ('preparing', 13500), ('airworthy', 709), ('vulcan', 18869), ('bomber', 2254), ('aircraft', 702), ('paralyzed', 12719), ('holloway', 8365), ('simmering', 15932), ('misadventures', 11292), ('surgical', 17064), ('imprecision', 8797), ('businessmans', 2654), ('uneducated', 18325), ('clockwork', 3441), ('1949', 117), ('freedoms', 7025), ('hükümet', 8627), ('mayoral', 10900), ('faruk', 6431), ('gals', 7218), ('burden', 2614), ('fin', 6644), ('whenever', 19124), ('undersea', 18300), ('keeping', 9672), ('spread', 16516), ('gags', 7196), ('opposition', 12396), ('superstitious', 17026), ('regarding', 14339), ('mango', 10691), ('companion', 3672), ('2016s', 193), ('habibie', 7827), ('helena', 8134), ('hones', 8398), ('poorly', 13329), ('shahid', 15671), ('hamlet', 7891), ('kashmiri', 9647), ('hinata', 8282), ('1962', 127), ('plussize', 13242), ('tracy', 17875), ('turnblad', 18136), ('racially', 13962), ('divided', 5134), ('watusi', 18999), ('obscure', 12173), ('tasks', 17320), ('streetcar', 16806), ('racers', 13957), ('develop', 4839), ('vehicle', 18643), ('engine', 5817), ('perpetually', 12972), ('roadblock', 14838), ('halfsisters', 7872), ('twenties', 18158), ('entwined', 5907), ('madhav', 10567), ('riya', 14831), ('differently', 4918), ('compromise', 3717), ('halo', 7884), ('spartan', 16388), ('enhanced', 5834), ('recreating', 14266), ('dawn', 4490), ('avinash', 1515), ('preeti', 13480), ('shunned', 15871), ('fortified', 6936), ('vietcong', 18733), ('wanting', 18941), ('picks', 13082), ('swoons', 17164), ('selfdescribed', 15493), ('outsider', 12532), ('rugbyobsessed', 15015), ('clashing', 3373), ('relentless', 14413), ('gene', 7306), ('add', 512), ('context', 3897), ('clarity', 3367), ('unpack', 18410), ('trove', 18071), ('sightings', 15904), ('profiler', 13655), ('hangman', 7916), ('berlinger', 1943), ('trilogy', 18034), ('treasury', 17981), ('paulson', 12851), ('complexities', 3702), ('reshapes', 14569), ('standard', 16589), ('pairing', 12657), ('cannibal', 2793), ('hannibal', 7927), ('lecter', 10092), ('stealthy', 16661), ('buress', 2620), ('zipper', 19609), ('steroids', 16699), ('cosby', 4022), ('hans', 7928), ('teeuwen', 17386), ('proclaims', 13627), ('composer', 3712), ('zimmer', 19605), ('scores', 15341), ('sellout', 15526), ('o2', 12148), ('arena', 1191), ('prague', 13448), ('kak', 9599), ('limah', 10233), ('shortly', 15832), ('haunts', 8025), ('late1980s', 9989), ('darkly', 4459), ('hiring', 8300), ('lens', 10133), ('purehearted', 13842), ('lazzaro', 10053), ('sharecropper', 15707), ('italy', 9271), ('marquises', 10785), ('ideal', 8654), ('brides', 2454), ('allow', 821), ('trickery', 18020), ('pull', 13808), ('methdealing', 11115), ('employers', 5749), ('revengeseeking', 14690), ('decluttering', 4580), ('belongings', 1899), ('clingy', 3429), ('cartoonist', 2912), ('deed', 4595), ('sergeant', 15585), ('cawood', 2992), ('boozy', 2304), ('marbles', 10742), ('cartoon', 2911), ('unicorn', 18362), ('adman', 537), ('25yearold', 234), ('advises', 601), ('rebrand', 14192), ('credits', 4162), ('longawaited', 10360), ('newage', 11900), ('filmmaking', 6638), ('selfish', 15505), ('advantage', 583), ('schoolgirls', 15307), ('gratify', 7628), ('worldchanging', 19357), ('stake', 16575), ('mckenna', 10923), ('emulating', 5759), ('entirely', 5892), ('firstperson', 6692), ('shooter', 15810), ('vague', 18578), ('mayo', 10898), ('hari', 7969), ('kondabolu', 9817), ('neophyte', 11859), ('1913', 95), ('featurelength', 6505), ('malaysian', 10652), ('harith', 7970), ('iskander', 9243), ('astley', 1356), ('globetrotters', 7460), ('1948', 116), ('lakers', 9919), ('1951', 120), ('kumar', 9865), ('harolds', 7980), ('stoner', 16738), ('craving', 4134), ('hamburgers', 7889), ('storyboard', 16759), ('michelson', 11143), ('researcher', 14554), ('60', 306), ('illuminate', 8710), ('shipman', 15785), ('harriet', 7982), ('welsch', 19087), ('stiff', 16708), ('snooty', 16191), ('archrival', 1181), ('sabotage', 15083), ('dutch', 5454), ('jumper', 9557), ('benson', 1930), ('earned', 5497), ('renown', 14486), ('patching', 12818), ('alabama', 727), ('pakistan', 12662), ('drifts', 5354), ('harvey', 7999), ('option', 12407), ('hasan', 8000), ('minhaj', 11250), ('nikhil', 11965), ('meeta', 10987), ('punishes', 13824), ('getrichquick', 7365), ('overzealous', 12589), ('2010', 184), ('shells', 15745), ('hatchtopia', 8012), ('sings', 15979), ('contempt', 3886), ('selfsufficient', 15520), ('snobbish', 16189), ('industrialist', 8902), ('victories', 18715), ('coincide', 3525), ('ensemble', 5858), ('sit', 15998), ('recreated', 14264), ('102yearold', 7), ('goblin', 7489), ('dwelling', 5466), ('simulations', 15945), ('audiences', 1441), ('spawned', 16393), ('luau', 10477), ('partygoers', 12787), ('mindblowing', 11235), ('unenviable', 18328), ('interaction', 9081), ('administrator', 539), ('paints', 12654), ('lister', 10269), ('hardships', 7961), ('afflictions', 625), ('rents', 14493), ('evicted', 6068), ('1895', 81), ('talpade', 17275), ('defies', 4623), ('sparse', 16385), ('funding', 7140), ('airplane', 705), ('highstrung', 8251), ('metin', 11119), ('stops', 16747), ('seeing', 15443), ('gloom', 7464), ('vivacious', 18825), ('hayat', 8038), ('do', 5156), ('lastminute', 9984), ('mallory', 10667), ('kane', 9612), ('ideologies', 8666), ('hazel', 8044), ('brugger', 2532), ('breezy', 2435), ('geese', 7295), ('chatty', 3146), ('gynecologists', 7823), ('frenchafrican', 7042), ('sali', 15138), ('longedfor', 10364), ('confrontation', 3794), ('reclusive', 14227), ('thugs', 17638), ('pawns', 12861), ('axwielding', 1549), ('ritual', 14816), ('greekaustralian', 7650), ('roiling', 14909), ('sexualidentity', 15653), ('odyssey', 12232), ('jeopardy', 9384), ('headspace', 8063), ('offering', 12250), ('meditations', 10977), ('jumpstart', 9559), ('physicians', 13064), ('psyche', 13768), ('ailments', 689), ('schedule', 15287), ('hartley', 7993), ('motherdaughter', 11528), ('oldfashioned', 12293), ('feminine', 6545), ('wiles', 19198), ('swindle', 17148), ('deepens', 4600), ('overtones', 12581), ('overdue', 12552), ('erupts', 5971), ('severed', 15637), ('operators', 12382), ('ontarios', 12358), ('highways', 8256), ('hedgehog', 8110), ('pigeon', 13100), ('habitat', 7830), ('telenovela', 17394), ('heidi', 8119), ('helios', 8137), ('steals', 16659), ('mobile', 11372), ('wmd', 19295), ('wipe', 19253), ('oath', 12153), ('cullen', 4301), ('bohannon', 2234), ('postcivil', 13389), ('hellboy', 8140), ('avenged', 1501), ('wesley', 19099), ('georgie', 7348), ('pretzel', 13546), ('overseas', 12570), ('aspirations', 1312), ('taste', 17321), ('epoque', 5927), ('privilege', 13601), ('benefited', 1918), ('pennsylvania', 12919), ('hemlock', 8155), ('evils', 6073), ('plain', 13177), ('lunas', 10505), ('tireless', 17714), ('leadership', 10057), ('philippineamerican', 13036), ('1899', 83), ('parttime', 12784), ('typical', 18193), ('sleekest', 16081), ('packages', 12620), ('bought', 2339), ('strategist', 16791), ('calculated', 2723), ('decimated', 4567), ('wen', 19089), ('nuan', 12107), ('signs', 15915), ('zhan', 19597), ('nanxian', 11724), ('analyzes', 952), ('pugilist', 13806), ('shantung', 15697), ('ladder', 9903), ('stellar', 16675), ('shine', 15775), ('sinclair', 15957), ('ssc', 16557), ('biomasks', 2064), ('hastily', 8005), ('defuse', 4636), ('missionary', 11326), ('virginias', 18790), ('voyeuristic', 18865), ('glitz', 7452), ('storied', 16752), ('fractures', 6976), ('tyrannical', 18196), ('lorenzo', 10410), ('arnolds', 1230), ('49', 282), ('reappears', 14166), ('remarried', 14446), ('abysmally', 411), ('academics', 414), ('arcade', 1159), ('akira', 723), ('prizewinning', 13608), ('marshal', 10799), ('abilene', 375), ('kansas', 9617), ('hickok', 8200), ('guns', 7794), ('gall', 7211), ('tidy', 17663), ('lawless', 10029), ('frontier', 7089), ('listening', 10268), ('only', 12353), ('hideandseek', 8207), ('germophobic', 7357), ('500member', 293), ('truce', 18072), ('intrusion', 9158), ('kuryu', 9875), ('takeover', 17254), ('amamiya', 887), ('befell', 1847), ('oya', 12603), ('delinquent', 4669), ('housen', 8505), ('crows', 4248), ('crossover', 4237), ('lockout', 10323), ('sidelines', 15893), ('leagues', 10065), ('structure', 16846), ('snake', 16166), ('handlers', 7906), ('motivates', 11536), ('innovators', 9010), ('deputy', 4747), ('curator', 4325), ('chaebolfunded', 3044), ('gallery', 7214), ('überelite', 19643), ('thailands', 17510), ('policies', 13286), ('perhaps', 12958), ('vital', 18816), ('priceless', 13559), ('instruments', 9059), ('veera', 18631), ('captors', 2829), ('emancipated', 5690), ('hazardous', 8042), ('canadas', 2777), ('towing', 17854), ('hardship', 7960), ('wrecked', 19399), ('direction', 4964), ('jonathan', 9483), ('adversity', 595), ('kindness', 9748), ('hikaru', 8264), ('utada', 18562), ('makuhari', 10643), ('messe', 11096), ('hilda', 8273), ('yale', 19464), ('accusations', 450), ('forsaking', 6933), ('mcs', 10925), ('djs', 5151), ('detailed', 4811), ('1945', 113), ('hiroshima', 8301), ('includes', 8839), ('prelude', 13488), ('sudan', 16933), ('bait', 1619), ('snakegoddess', 16168), ('nagin', 11703), ('immortalitygranting', 8754), ('essence', 5996), ('reptilian', 14536), ('puccios', 13797), ('roastmaster', 14850), ('slew', 16098), ('poke', 13268), ('honoring', 8409), ('infographics', 8958), ('bitesize', 2089), ('breakthroughs', 2426), ('movements', 11572), ('highflying', 8224), ('bout', 2349), ('cage', 2708), ('profane', 13643), ('engagingly', 5816), ('swear', 17127), ('scams', 15255), ('hitch', 8321), ('impression', 8801), ('nosing', 12059), ('hitlers', 8326), ('imagemaking', 8725), ('nearworld', 11816), ('conquest', 3829), ('betrayals', 1970), ('designs', 4779), ('propaganda', 13696), ('1936', 106), ('microscope', 11150), ('armored', 1222), ('15car', 43), ('headquarters', 8061), ('boasting', 2211), ('communications', 3665), ('antiaircraft', 1050), ('cannons', 2795), ('miniseries', 11261), ('rita', 14813), ('hjørdis', 8335), ('karachi', 9624), ('postcollege', 13390), ('compulsive', 3720), ('hoarders', 8339), ('acquisition', 472), ('overwhelms', 12587), ('hasselhoff', 8003), ('rails', 14003), ('hogie', 8348), ('locales', 10313), ('galapagos', 7203), ('resurrect', 14628), ('notsotalented', 12085), ('iskender', 9244), ('iffy', 8671), ('naturalist', 11775), ('wolves', 19303), ('blamed', 2124), ('15year', 47), ('colon', 3565), ('plusones', 13241), ('benjamin', 1925), ('bradley', 2375), ('nester', 11872), ('solo', 16262), ('honeymoon', 8402), ('tighten', 17674), ('belts', 1905), ('lean', 10068), ('gateway', 7274), ('threepart', 17614), ('st', 16558), ('patricks', 12838), ('comprise', 3715), ('puppeteer', 13835), ('somewhere', 16281), ('postworld', 13408), ('electronic', 5630), ('divine', 5136), ('nuns', 12124), ('expectancy', 6197), ('imagination', 8729), ('uncoordinated', 18273), ('monks', 11446), ('monastery', 11429), ('exmember', 6176), ('idealism', 8655), ('disenchantment', 5031), ('alarming', 733), ('tengs', 17437), ('quarry', 13896), ('relics', 14420), ('karnataka', 9639), ('eviction', 6069), ('currents', 4339), ('sociopolitical', 16230), ('johanne', 9455), ('24day', 227), ('exdoctor', 6130), ('duos', 5440), ('beyoncés', 1986), ('coachella', 3472), ('channel', 3083), ('creativity', 4153), ('covid19', 4095), ('isolation', 9259), ('genrespanning', 7331), ('juvie', 9583), ('bronx', 2504), ('rec', 14197), ('daniels', 4437), ('discouragement', 5015), ('honeymoons', 8403), ('naive', 11711), ('merciless', 11070), ('loosely', 10398), ('hansel', 7929), ('gretel', 7666), ('pan', 12679), ('grown', 7726), ('workaholic', 19344), ('neverland', 11898), ('pirate', 13141), ('hook', 8416), ('easter', 5512), ('bunny', 2611), ('rabbits', 13950), ('multigenerational', 11609), ('mindsets', 11240), ('cryonically', 4274), ('cherished', 3190), ('toddler', 17734), ('miraculously', 11278), ('remission', 14460), ('ngoepe', 11929), ('recounted', 14255), ('ig', 8672), ('perish', 12964), ('horns', 8445), ('confess', 3769), ('frustration', 7101), ('pets', 13013), ('sofa', 16236), ('nightmares', 11960), ('mold', 11414), ('maggots', 10586), ('inconveniences', 8846), ('rumored', 15036), ('fondness', 6861), ('horses', 8461), ('lucid', 10484), ('trickling', 18022), ('malachi', 10645), ('disenchanted', 5030), ('conduct', 3759), ('exorcisms', 6185), ('lima', 10232), ('highlevel', 8227), ('ambassadors', 902), ('cheyenne', 3200), ('safely', 15103), ('tribes', 18015), ('montana', 11457), ('geeks', 7293), ('lifelike', 10201), ('dodge', 5175), ('interconnected', 9086), ('skewer', 16030), ('misunderstandings', 11345), ('sundance', 16978), ('breakout', 2423), ('rashida', 14100), ('intersection', 9122), ('rewiring', 14715), ('fundamental', 7138), ('resourceful', 14593), ('flighty', 6779), ('samberg', 15149), ('accidentprone', 430), ('buses', 2647), ('moped', 11480), ('separates', 15571), ('kato', 9657), ('tranquil', 17914), ('andi', 971), ('motivated', 11535), ('dishwasher', 5050), ('tread', 17976), ('mavis', 10883), ('lydia', 10527), ('transylvania', 17950), ('ericka', 5949), ('selfimposed', 15503), ('errors', 5964), ('simultaneous', 15947), ('arrivals', 1244), ('package', 12618), ('stressful', 16818), ('globewinning', 7462), ('posen', 13368), ('blending', 2136), ('myth', 11680), ('conspiracyminded', 3853), ('docufiction', 5163), ('argues', 1196), ('purchased', 13841), ('yugoslavias', 19545), ('bible', 2004), ('potfueled', 13415), ('felt', 6541), ('grinch', 7689), ('lou', 10430), ('lothario', 10425), ('boot', 2295), ('sponsor', 16486), ('dray', 5331), ('gathered', 7276), ('protest', 13733), ('formed', 6926), ('greenpeace', 7657), ('chemists', 3183), ('cripple', 4194), ('annalise', 1021), ('keating', 9668), ('plus', 13240), ('copywriter', 3983), ('websites', 19029), ('beeny', 1842), ('mortgage', 11510), ('greataunt', 7640), ('quilting', 13930), ('captivate', 2822), ('prodigal', 13630), ('tumi', 18111), ('pictureperfect', 13085), ('europes', 6027), ('caesar', 2704), ('mussolini', 11659), ('consolidated', 3850), ('considerable', 3845), ('coups', 4066), ('rider', 14757), ('berk', 1941), ('whimsical', 19132), ('roughandtumble', 14982), ('campaigns', 2767), ('deathbed', 4522), ('providence', 13748), ('dictates', 4895), ('duplicity', 5445), ('benevolence', 1920), ('hubies', 8524), ('salem', 15133), ('goodhearted', 7526), ('scaredycat', 15265), ('stationmaster', 16642), ('unlocking', 18400), ('pits', 13156), ('hulk', 8538), ('marvel', 10809), ('universes', 18382), ('wolverine', 19302), ('nisha', 11984), ('prem', 13489), ('stepson', 16690), ('division', 5138), ('breakthrough', 2425), ('morality', 11485), ('revelation', 14682), ('modification', 11397), ('crispr', 4202), ('outfit', 12507), ('khirad', 9704), ('ashar', 1289), ('disapprove', 4987), ('cowen', 4099), ('misadventure', 11291), ('belligerent', 1892), ('rhodes', 14724), ('diligent', 4939), ('contracted', 3912), ('dealings', 4516), ('sexobsessed', 15648), ('pacific', 12614), ('amphibious', 934), ('fired', 6676), ('forceofnature', 6888), ('bianca', 1999), ('scornful', 15344), ('pretenses', 13544), ('deb', 4526), ('domineering', 5214), ('welldeserved', 19072), ('retreated', 14655), ('grandeur', 7601), ('cracked', 4108), ('dogeatdog', 5183), ('highclass', 8216), ('clientele', 3419), ('playwright', 13214), ('ujin', 18216), ('soprano', 16310), ('yun', 19550), ('simdeok', 15928), ('diva', 5122), ('hyori', 8613), ('jeju', 9369), ('eating', 5520), ('essential', 5997), ('supercharged', 16994), ('custom', 4353), ('baddest', 1599), ('automotive', 1482), ('obstacle', 12189), ('rehearsing', 14364), ('usain', 18543), ('captivating', 2824), ('waterss', 18997), ('internationally', 9102), ('enslaved', 5860), ('ads', 571), ('newspapers', 11920), ('classified', 3383), ('jonas', 9482), ('irresistible', 9232), ('nathan', 11759), ('selfacceptance', 15483), ('glatze', 7438), ('renounce', 14482), ('shameless', 15686), ('chauvinist', 3152), ('locks', 10324), ('qualify', 13892), ('remarries', 14447), ('li', 10170), ('angsty', 1004), ('unrequited', 18429), ('rein', 14374), ('baldwins', 1635), ('unfinished', 18339), ('medgar', 10963), ('evers', 6059), ('malcolm', 10654), ('propagandist', 13697), ('jong', 9487), ('ils', 8721), ('defection', 4612), ('nervous', 11870), ('scares', 15266), ('exmilitary', 6177), ('exspecial', 6266), ('doublecrossing', 5260), ('reddy', 14277), ('misogyny', 11319), ('anthem', 1044), ('hellbent', 8139), ('avenging', 1504), ('coverup', 4091), ('slimy', 16105), ('commonlaw', 3657), ('degenerates', 4640), ('affable', 613), ('hang', 7914), ('yim', 19505), ('tutor', 18147), ('loathes', 10306), ('penning', 12918), ('scripts', 15380), ('violinmaker', 18781), ('marcos', 10749), ('roster', 14976), ('maye', 10895), ('mourners', 11563), ('jobending', 9441), ('carpenter', 2892), ('passing', 12800), ('longwidowed', 10384), ('citizen', 3336), ('companionship', 3674), ('aoki', 1083), ('benihana', 1923), ('perennial', 12943), ('morin', 11494), ('agony', 668), ('toughminded', 17833), ('exdrug', 6132), ('mutual', 11667), ('twisty', 18175), ('evocative', 6075), ('undocumented', 18314), ('ulises', 18221), ('hooked', 8417), ('cumbia', 4316), ('situations', 16008), ('neuroses', 11887), ('sticking', 16706), ('foot', 6871), ('mouth', 11567), ('misgivings', 11310), ('charli', 3116), ('xcx', 19444), ('allgirl', 806), ('landlord', 9948), ('harper', 7981), ('tag', 17231), ('fling', 6782), ('shards', 15705), ('lodged', 10327), ('cyclist', 4378), ('wades', 18878), ('leaks', 10067), ('doping', 5242), ('paid', 12640), ('pursuers', 13850), ('defrosted', 4633), ('imachines', 8723), ('mikuri', 11189), ('commissioners', 3640), ('gleib', 7442), ('teasers', 17359), ('void', 18839), ('mourn', 11562), ('eduard', 5565), ('observe', 12178), ('milestones', 11203), ('igor', 8687), ('deformed', 4631), ('glickenstein', 7443), ('gretchen', 7665), ('tvs', 18152), ('iliza', 8696), ('shlesinger', 15798), ('undeniable', 18280), ('35', 257), ('applies', 1117), ('acerbic', 454), ('streamofconscious', 16803), ('2029', 201), ('illang', 8699), ('combats', 3593), ('koreas', 9836), ('lurking', 10513), ('pathway', 12827), ('solutions', 16265), ('vitiligo', 18820), ('same', 15150), ('portraits', 13360), ('today', 17731), ('illustrates', 8717), ('incest', 8832), ('bloodlust', 2168), ('kimchee', 9739), ('recipes', 14216), ('humanturnedvampire', 8555), ('dmitry', 5154), ('brawl', 2406), ('loyalty', 10472), ('bigger', 2022), ('supported', 17039), ('matrimony', 10862), ('absconds', 393), ('regains', 14334), ('attendant', 1413), ('cheats', 3163), ('reassess', 14176), ('domineered', 5213), ('lax', 10042), ('daughterinlaw', 4480), ('murderer', 11627), ('catapulted', 2960), ('assailants', 1316), ('consume', 3871), ('federico', 6512), ('fellini', 6536), ('kuwait', 9878), ('vices', 18705), ('oxygen', 12602), ('scuba', 15384), ('bankers', 1683), ('dizzying', 5148), ('fetishes', 6576), ('deceptions', 4558), ('cry', 4272), ('wade', 18877), ('grass', 7626), ('suzu', 17112), ('utero', 18564), ('subconscious', 16893), ('gizem', 7424), ('reawakens', 14180), ('hijacks', 8262), ('highsecurity', 8247), ('stopping', 16746), ('jilted', 9419), ('conceive', 3734), ('invite', 9197), ('senegal', 15543), ('retaining', 14634), ('stormy', 16757), ('elections', 5624), ('elastigirl', 5613), ('toughest', 17831), ('codenames', 3502), ('fulfilled', 7118), ('biologist', 2062), ('bonnin', 2275), ('stripped', 16833), ('residential', 14574), ('rink', 14788), ('matchmaker', 10844), ('sima', 15927), ('taparia', 17301), ('skulls', 16050), ('akator', 719), ('amazonian', 900), ('cradle', 4114), ('locate', 10315), ('covenant', 4085), ('songbird', 16287), ('victor', 18711), ('victors', 18717), ('reich', 14365), ('widening', 19169), ('italians', 9270), ('uneasiness', 18323), ('crisisridden', 4201), ('premiere', 13492), ('basterds', 1749), ('faceoff', 6321), ('conviction', 3945), ('substance', 16911), ('wage', 18881), ('allout', 820), ('attended', 1415), ('über', 19642), ('bloodthirsty', 2176), ('manifests', 10697), ('alain', 730), ('delambre', 4653), ('57', 304), ('pawn', 12860), ('18yearold', 88), ('tofu', 17741), ('wheel', 19117), ('elimination', 5652), ('protégée', 13740), ('harassment', 7942), ('unbeknownst', 18252), ('bookbinder', 2280), ('reading', 14143), ('20somethings', 209), ('maneuver', 10686), ('entanglements', 5869), ('bullied', 2588), ('pageants', 12638), ('gates', 7273), ('influenced', 8949), ('nypd', 12145), ('negotiator', 11841), ('butts', 2672), ('meticulous', 11118), ('machinations', 10550), ('immoral', 8751), ('freemasons', 7032), ('fraternal', 7007), ('psyches', 13770), ('dozens', 5291), ('israels', 9264), ('connolly', 3823), ('voluntary', 18848), ('intimidation', 9142), ('gadget', 7188), ('reactivated', 14138), ('overnight', 12564), ('rentals', 14490), ('rating', 14107), ('doorstep', 5239), ('tot', 17816), ('potsmuggling', 13419), ('dowdy', 5271), ('delightful', 4666), ('andhra', 970), ('pradesh', 13447), ('frame', 6980), ('laborers', 9894), ('torturing', 17812), ('avail', 1491), ('idealist', 8656), ('equation', 5933), ('jailhouse', 9307), ('shawcross', 15729), ('genesee', 7318), ('river', 14823), ('tangle', 17288), ('territorial', 17468), ('warlords', 18951), ('frightened', 7072), ('eruptions', 5970), ('hijacked', 8259), ('outrace', 12525), ('sun', 16977), ('below', 1902), ('pipa', 13137), ('simultaneously', 15948), ('perdida', 12941), ('yanked', 19470), ('schoolgirl', 15306), ('kagome', 9593), ('higurashi', 8257), ('reassemble', 14173), ('halfdemon', 7865), ('inuyasha', 9160), ('horai', 8439), ('saviors', 15238), ('sesshomaru', 15607), ('kikyo', 9726), ('beaqueathed', 1805), ('swords', 17168), ('fang', 6396), ('awakened', 1524), ('sealed', 15394), ('200', 171), ('defeated', 4609), ('emerging', 5719), ('zim', 19603), ('phase', 13022), ('dib', 4889), ('membrane', 11028), ('elected', 5621), ('nelson', 11852), ('mandela', 10684), ('1995', 161), ('rugby', 15014), ('saintexupérys', 15119), ('initiation', 8984), ('xhosa', 19446), ('closeted', 3450), ('bestkept', 1957), ('occupying', 12203), ('duels', 5416), ('superiority', 17004), ('ip', 9208), ('perseveres', 12978), ('chun', 3311), ('springs', 16522), ('wrestles', 19406), ('impairment', 8764), ('spice', 16436), ('triathlete', 18011), ('24mile', 229), ('swim', 17145), ('112mile', 21), ('bike', 2035), ('262mile', 235), ('kongs', 9822), ('shaw', 15728), ('blockbusters', 2160), ('30something', 249), ('ecommerce', 5535), ('skull', 16048), ('taskmaster', 17319), ('hydra', 8609), ('iron', 9225), ('stark', 16612), ('ingeniously', 8966), ('engineered', 5819), ('armor', 1221), ('shapeshifting', 15703), ('reptiles', 14535), ('spurs', 16534), ('abbie', 356), ('goof', 7532), ('bell', 1886), ('cranel', 4123), ('diminutive', 4944), ('hestia', 8192), ('helper', 8146), ('fore', 6894), ('duplicitous', 5444), ('rajiv', 14024), ('expresses', 6255), ('payal', 12866), ('deceitful', 4554), ('seduces', 15435), ('billionaires', 2048), ('fakes', 6363), ('coerce', 3509), ('letting', 10158), ('faiths', 6361), ('provinces', 13752), ('address', 524), ('prices', 13560), ('dwindling', 5468), ('rethinking', 14643), ('34', 256), ('isoken', 9256), ('maneuvered', 10687), ('genders', 7304), ('openness', 12370), ('banaras', 1661), ('overprotective', 12568), ('wynn', 19438), ('handman', 7908), ('recalled', 14199), ('laida', 9916), ('miggy', 11172), ('olsen', 12306), ('twains', 18154), ('pauper', 12852), ('9yearolds', 340), ('oldschool', 12296), ('devotes', 4862), ('pooch', 13322), ('respect', 14595), ('bellydancer', 1895), ('antisocial', 1065), ('selfless', 15506), ('psych', 13767), ('downontheirluck', 5279), ('stratospheric', 16793), ('allen', 796), ('iverson', 9279), ('indelible', 8863), ('benin', 1924), ('studentturnedzombie', 16859), ('retain', 14633), ('morgue', 11492), ('izzy', 9285), ('cuddly', 4294), ('magnetic', 10597), ('miniforce', 11255), ('megastar', 11001), ('chou', 3283), ('alist', 784), ('globetrotting', 7461), ('shankar', 15693), ('abandonment', 352), ('alimony', 783), ('payments', 12871), ('spitfire', 16469), ('dejected', 4650), ('chatterbox', 3145), ('mechanical', 10952), ('shadow', 15662), ('understands', 18303), ('pastime', 12810), ('multimilliondollar', 11611), ('bruens', 2531), ('copturnedprivateinvestigator', 3980), ('whitehall', 19144), ('maps', 10736), ('pattinson', 12845), ('notoriously', 12082), ('stuffy', 16870), ('extravaganza', 6290), ('hotels', 8488), ('stupidity', 16882), ('welltraveled', 19085), ('jovial', 9515), ('southeast', 16346), ('strengthen', 16813), ('attendants', 1414), ('smuggling', 16157), ('dough', 5266), ('rachael', 13959), ('stirling', 16723), ('multifaceted', 11608), ('jacqueline', 9296), ('onassis', 12318), ('radziwill', 13978), ('lottery', 10428), ('ticket', 17656), ('salesperson', 15136), ('medic', 10967), ('wishing', 19271), ('marianne', 10758), ('gustav', 7807), ('tamilian', 17282), ('selfproclaimed', 15509), ('sacramento', 15087), ('cubby', 4287), ('skully', 16052), ('droughtstricken', 5379), ('ecologists', 5534), ('migrating', 11179), ('flamingoes', 6735), ('expecting', 6202), ('dusty', 5453), ('acaster', 417), ('mundane', 11618), ('wideranging', 19171), ('phishing', 13044), ('meena', 10984), ('romantically', 14936), ('jandino', 9324), ('asporaat', 1315), ('serenades', 15580), ('rousing', 14987), ('rendition', 14474), ('vowing', 18859), ('chaste', 3138), ('villanueva', 18761), ('slipup', 16110), ('rethink', 14642), ('jani', 9328), ('dueñas', 5418), ('pours', 13425), ('dieting', 4913), ('caustic', 2985), ('fraying', 7014), ('seams', 15396), ('earthquakes', 5505), ('devastate', 4834), ('resolve', 14587), ('sinking', 15984), ('archipelago', 1173), ('continuing', 3908), ('hezbollah', 8195), ('militiamen', 11210), ('shinda', 15774), ('laali', 9887), ('fully', 7130), ('relocate', 14431), ('sells', 15527), ('silent', 15918), ('bobs', 2218), ('egos', 5592), ('permission', 12968), ('tinseltown', 17704), ('mistrust', 11342), ('cagey', 2710), ('tailor', 17240), ('whereabouts', 19126), ('ventriloquist', 18664), ('achmed', 461), ('peanut', 12885), ('walter', 18927), ('size', 16016), ('dunham', 5434), ('slays', 16077), ('jalapeño', 9313), ('bubba', 2545), ('incorrect', 8847), ('pepper', 12931), ('dunhams', 5435), ('hysterical', 8626), ('entourage', 5895), ('trailer', 17900), ('slightly', 16103), ('demented', 4688), ('posse', 13376), ('puppets', 13837), ('gleeful', 7440), ('skewering', 16031), ('joined', 9467), ('grammynominated', 7593), ('foxworthy', 6972), ('cable', 2698), ('garlin', 7262), ('37th', 261), ('learnings', 10078), ('jeffrey', 9367), ('epstein', 5929), ('abuses', 407), ('rocker', 14881), ('jem', 9371), ('jen', 9372), ('kirkman', 9767), ('jenni', 9376), ('riveras', 14825), ('banda', 1664), ('jenny', 9378), ('slates', 16068), ('trebek', 17988), ('longestrunning', 10367), ('buzz', 2677), ('jeremiah', 9385), ('invention', 9172), ('jeremy', 9386), ('missouri', 11329), ('moschino', 11514), ('charted', 3128), ('blast', 2129), ('cuts', 4363), ('buffets', 2575), ('socalled', 16215), ('restaurants', 14611), ('tarts', 17315), ('charless', 3115), ('upandcomer', 18486), ('orny', 12459), ('adams', 505), ('soldout', 16254), ('bumpy', 2601), ('offstage', 12266), ('stretches', 16821), ('tips', 17711), ('jessica', 9393), ('darling', 4461), ('hugh', 8532), ('bonneville', 2273), ('itinerant', 9275), ('immense', 8742), ('thaiswilliams', 17511), ('provided', 13747), ('lgbt', 10168), ('internets', 9106), ('infancy', 8922), ('webcam', 19026), ('kennedys', 9683), ('worldview', 19363), ('endured', 5800), ('predicaments', 13474), ('bandmates', 1670), ('britishruled', 2486), ('crusader', 4261), ('stunningly', 16878), ('immersive', 8745), ('kaufman', 9661), ('carrey', 2896), ('gaffigan', 7191), ('pockets', 13250), ('catholicism', 2974), ('wickedly', 19164), ('fifth', 6607), ('hourlong', 8496), ('bacon', 1593), ('weighty', 19056), ('disney', 5062), ('overweight', 12584), ('sardonic', 15201), ('jefferies', 9365), ('auditioning', 1445), ('famously', 6389), ('excruciating', 6127), ('generational', 7313), ('grabby', 7574), ('hypocrisy', 8625), ('illadvised', 8698), ('unrestricted', 18432), ('jaunt', 9344), ('filthy', 6642), ('norton', 12053), ('proclivities', 13628), ('hendrixs', 8158), ('carr', 2894), ('deadpan', 4509), ('uks', 18220), ('hammersmith', 7893), ('faint', 6347), ('gooey', 7531), ('retroville', 14662), ('neutron', 11889), ('simpleminded', 15938), ('hideaki', 8206), ('sanma', 15187), ('apprentice', 1126), ('oncejoyful', 12324), ('toymaker', 17862), ('petra', 13011), ('jinns', 9429), ('battleground', 1773), ('centuryold', 3031), ('jiro', 9434), ('ono', 12354), ('85yearold', 327), ('10seat', 11), ('300aplate', 245), ('foodies', 6865), ('pilgrimage', 13109), ('jo', 9436), ('koy', 9843), ('filterfree', 6640), ('spotlighting', 16505), ('oneofakind', 12343), ('bboys', 1791), ('joan', 9437), ('didion', 4904), ('griffin', 7681), ('dunne', 5437), ('78', 322), ('rivers', 14828), ('slowing', 16121), ('impersonator', 8778), ('reyes', 14719), ('zesty', 19593), ('bathroom', 1761), ('royalty', 15004), ('16thcentury', 54), ('strategic', 16789), ('mughal', 11596), ('genuine', 7337), ('woodstock', 19335), ('cocker', 3491), ('mande', 10683), ('critical', 4209), ('adulation', 572), ('rogan', 14900), ('vegans', 18636), ('boston', 2323), ('inquisitive', 9012), ('gummies', 7786), ('quasidocumentary', 13905), ('exhausted', 6154), ('servicing', 15604), ('neverbeforeseen', 11895), ('lennon', 10131), ('yoko', 19514), ('minute', 11272), ('apaches', 1085), ('oncefruitful', 12320), ('devolved', 4858), ('died', 4908), ('reformed', 14319), ('upends', 18498), ('leguizamo', 10116), ('3000', 243), ('mellencamp', 11018), ('mulaney', 11603), ('existential', 6168), ('catchy', 2967), ('eviscerates', 6074), ('laments', 9933), ('electric', 5626), ('redhot', 14286), ('quicksand', 13924), ('motown', 11552), ('boyish', 2368), ('beef', 1841), ('clinton', 3432), ('electronics', 5631), ('whiz', 19149), ('broadcasts', 2493), ('monitors', 11442), ('genetically', 7320), ('joestar', 9452), ('nickname', 11938), ('periods', 12963), ('infertile', 8935), ('situated', 16006), ('republic', 14537), ('fulfillment', 7120), ('surreal', 17075), ('meditative', 10978), ('tableaux', 17210), ('classes', 3378), ('1806', 65), ('norrell', 12045), ('conjurer', 3810), ('unjust', 18384), ('interpretation', 9112), ('brilliantly', 2472), ('colored', 3574), ('coat', 3481), ('mobilized', 11374), ('joshua', 9503), ('autonomy', 1483), ('untold', 18462), ('olasupo', 12288), ('shasore', 15722), ('greenland', 7655), ('archaic', 1165), ('inuit', 9159), ('paying', 12869), ('austria', 1465), ('assesses', 1333), ('obsessively', 12187), ('cursed', 4342), ('presides', 13528), ('municipality', 11622), ('juana', 9526), ('inés', 9206), ('cruz', 4271), ('burdened', 2615), ('judah', 9528), ('friedlander', 7061), ('explaining', 6221), ('judd', 9529), ('apatow', 1091), ('riffing', 14766), ('amusing', 944), ('lowerclass', 10463), ('counsel', 4041), ('afford', 627), ('raja', 14019), ('neverdull', 11896), ('judy', 9537), ('stink', 16720), ('alwaysupforfun', 879), ('opal', 12366), ('indomitable', 8888), ('tenacity', 17427), ('julie', 9546), ('524', 303), ('outlined', 12518), ('childs', 3231), ('lift', 10212), ('watchful', 18989), ('andrews', 977), ('henson', 8161), ('artwork', 1283), ('julius', 9550), ('juman', 9553), ('hisham', 8305), ('outlooks', 12521), ('sangah', 15178), ('shield', 15765), ('ahshin', 678), ('whirlwind', 19138), ('rushes', 15056), ('marthas', 10802), ('vineyard', 18768), ('relations', 14399), ('carolina', 2888), ('multitude', 11615), ('invited', 9198), ('nublar', 12112), ('hates', 8016), ('onceportly', 12329), ('overconfident', 12549), ('bets', 1976), ('homely', 8380), ('wager', 18883), ('uptight', 18525), ('liangliang', 10173), ('lighten', 10218), ('nevada', 11890), ('hinder', 8283), ('slick', 16101), ('sung', 16983), ('approached', 1129), ('bieber', 2013), ('snapshots', 16173), ('demme', 4692), ('deft', 4634), ('justins', 9578), ('olive', 12299), ('squidgy', 16551), ('tons', 17771), ('makebelieve', 10632), ('spina', 16448), ('bifida', 2014), ('realized', 14154), ('hunted', 8581), ('russias', 15063), ('ballistic', 1644), ('capt', 2820), ('vostrikov', 18855), ('chernobyllike', 3192), ('gorging', 7545), ('sugary', 16946), ('snacks', 16162), ('crank', 4125), ('sakuragaoka', 15126), ('seung', 15624), ('yeon', 19495), ('guardian', 7747), ('spacetime', 16364), ('wang', 18936), ('dadong', 4396), ('bale', 1636), ('anomaly', 1033), ('liu', 10280), ('bei', 1869), ('guan', 7743), ('zhang', 19598), ('fei', 6524), ('ko', 9808), ('visitors', 18810), ('locksmith', 10325), ('fled', 6758), ('aiding', 684), ('strata', 16788), ('expectation', 6199), ('restless', 14614), ('curses', 4343), ('infanticide', 8925), ('robbing', 14857), ('employer', 5748), ('simpleton', 15939), ('wayward', 19008), ('ikoma', 8695), ('fortress', 6937), ('battlegrounds', 1774), ('unato', 18245), ('region', 14350), ('kabane', 9590), ('exfootballer', 6149), ('rift', 14769), ('disowns', 5069), ('lower', 10461), ('exalted', 6087), ('shortfused', 15831), ('rage', 13988), ('turbulently', 18128), ('poet', 13257), ('imaginations', 8730), ('ahmedabad', 675), ('bartender', 1729), ('yumeko', 19549), ('jabami', 9286), ('enrolls', 5857), ('hyakkaou', 8603), ('ranked', 14072), ('winnings', 19245), ('mba', 10905), ('cheenu', 3169), ('resurrecting', 14630), ('excons', 6123), ('tenuous', 17448), ('slip', 16107), ('mess', 11092), ('solomon', 16263), ('mahlangu', 10609), ('battled', 1770), ('dropout', 5372), ('kandasamys', 9611), ('sexdetermination', 15642), ('unethical', 18329), ('sales', 15134), ('rep', 14497), ('kantaro', 9619), ('wraps', 19392), ('indulge', 8898), ('tastiest', 17323), ('sweets', 17141), ('frays', 7015), ('overthephone', 12578), ('kudret', 9862), ('léon', 10539), ('rivail', 14818), ('séance', 17204), ('spiritism', 16463), ('electrocution', 5629), ('braindamaged', 2380), ('moneyhungry', 11435), ('karol', 9640), ('modzelewski', 11400), ('łukasz', 19644), ('lotek', 10424), ('lodkowski', 10328), ('warsaws', 18973), ('klub', 9785), ('hybrydy', 8607), ('drone', 5369), ('nobility', 11996), ('1900s', 91), ('flimsy', 6780), ('flings', 6783), ('imparts', 8765), ('polish', 13291), ('rafał', 13982), ('pacześ', 12630), ('katarzyna', 9651), ('piasecka', 13074), ('anecdotes', 984), ('guiding', 7766), ('timetraveling', 17693), ('nobleman', 11998), ('chipper', 3255), ('boomer', 2288), ('papilloma', 12702), ('knockoff', 9798), ('fashions', 6441), ('finemeats', 6661), ('purveyor', 13855), ('kel', 9675), ('twomonth', 18178), ('brett', 2442), ('bolder', 2241), ('katherine', 9654), ('fancy', 6395), ('enraged', 5852), ('signing', 15914), ('uber', 18205), ('stereotypical', 16695), ('unflinching', 18342), ('roast', 14849), ('katt', 9658), ('ushers', 18554), ('kattpacalypse', 9659), ('exploding', 6226), ('doomsday', 5236), ('entertainer', 5881), ('2006', 178), ('paint', 12647), ('sassy', 15205), ('wonderful', 19317), ('kavin', 9663), ('bumbler', 2596), ('unparalleled', 18413), ('richards', 14741), ('bard', 1706), ('initiative', 8985), ('burnss', 2639), ('beleaguered', 1875), ('burns', 2638), ('theodore', 17539), ('franklin', 6999), ('eleanor', 5620), ('roosevelt', 14960), ('19th', 167), ('embarked', 5695), ('westward', 19105), ('expansion', 6192), ('jeong', 9379), ('hangover', 7917), ('ohma', 12277), ('tokita', 17747), ('disputes', 5090), ('settled', 15617), ('gladiator', 7427), ('forget', 6916), ('fusing', 7163), ('kenny', 9686), ('analytical', 950), ('frumpy', 7097), ('footwear', 6881), ('flightless', 6777), ('laughriot', 10007), ('indeed', 8861), ('shines', 15777), ('theatrical', 17526), ('recordbreaking', 14247), ('madison', 10569), ('7yearold', 323), ('brick', 2450), ('oven', 12540), ('contributions', 3921), ('entertaining', 5883), ('familyfriendly', 6384), ('dishing', 5046), ('taped', 17303), ('hudson', 8527), ('2001', 174), ('kevyn', 9696), ('aucoin', 1436), ('merged', 11077), ('recapture', 14202), ('cons', 3831), ('forcing', 6891), ('assemble', 1327), ('momentous', 11422), ('blazes', 2131), ('anxious', 1075), ('rely', 14438), ('crimebusting', 4179), ('missions', 11327), ('matriarchs', 10860), ('regimented', 14347), ('developing', 4843), ('beetle', 1846), ('hailey', 7845), ('ollie', 12304), ('opponents', 12388), ('sloans', 16113), ('brute', 2540), ('graduating', 7587), ('petrified', 13012), ('gutsy', 7809), ('racecar', 13955), ('worldfamous', 19359), ('manny', 10715), ('pacquiao', 12626), ('cookie', 3958), ('pudding', 13798), ('kitten', 9778), ('alfred', 770), ('freddy', 7019), ('heineken', 8122), ('gagged', 7194), ('carefully', 2859), ('nagger', 11702), ('declares', 4577), ('rampage', 14043), ('budd', 2561), ('elle', 5659), ('trap', 17951), ('teeming', 17377), ('efficiently', 5581), ('unraveled', 18422), ('scissor', 15331), ('ryuko', 15077), ('matoi', 10858), ('bogged', 2229), ('cautious', 2988), ('telecom', 17390), ('conference', 3768), ('fledgling', 6759), ('democracy', 4694), ('cleveland', 3415), ('crusading', 4263), ('nicaraguan', 11933), ('chinu', 3252), ('to', 17727), ('hateful', 8015), ('pi', 13069), ('hernandez', 8176), ('clowns', 3458), ('harvest', 7998), ('cocooning', 3498), ('cotton', 4036), ('souza', 16351), ('masterminding', 10837), ('reported', 14519), ('rallied', 14028), ('piers', 13094), ('shedding', 15734), ('spencer', 16428), ('spencers', 16429), ('entered', 5874), ('dollars', 5197), ('mobprotected', 11376), ('offenders', 12244), ('wheelchair', 19118), ('helpers', 8147), ('crosshairs', 4234), ('serbian', 15579), ('paratrooper', 12730), ('riverbed', 14826), ('littered', 10277), ('koreancanadian', 9834), ('coping', 3976), ('mercurial', 11071), ('saddled', 15094), ('strapped', 16786), ('projectionist', 13674), ('dvd', 5461), ('pirating', 13143), ('despicable', 4791), ('realization', 14151), ('obnoxious', 12170), ('so', 16206), ('210', 215), ('bc', 1792), ('qin', 13881), ('insurgent', 9064), ('xiang', 19447), ('spectacular', 16409), ('ranges', 14066), ('bowler', 2353), ('nosedive', 12057), ('ishmael', 9241), ('houseful', 8499), ('rodney', 14895), ('verdict', 18673), ('handed', 7902), ('masire', 10821), ('johannesburgs', 9457), ('entices', 5889), ('clashed', 3371), ('throat', 17626), ('skater', 16019), ('carley', 2875), ('thrills', 17621), ('dominates', 5209), ('soil', 16245), ('combating', 3592), ('sandee', 15170), ('either', 5607), ('ranching', 14056), ('coax', 3483), ('catcrazy', 2968), ('vets', 18695), ('rescues', 14551), ('felines', 6532), ('hockeyplaying', 8344), ('slayer', 16076), ('postman', 13397), ('crusades', 4262), ('siege', 15899), ('ocasiocortez', 12195), ('bigmoney', 2026), ('congress', 3807), ('culturally', 4311), ('insensitive', 9021), ('16th', 53), ('mit', 11346), ('astrophysics', 1371), ('capsule', 2819), ('quake', 13889), ('tutored', 18148), ('efsun', 5585), ('sinan', 15952), ('kodachrome', 9810), ('rohan', 14906), ('simran', 15942), ('koko', 9813), ('penny', 12920), ('patterson', 12844), ('taught', 17332), ('speechandhearingimpaired', 16417), ('basic', 1741), ('invader', 9163), ('steamship', 16664), ('lustful', 10518), ('explorer', 6236), ('heyerdahl', 8194), ('sails', 15117), ('balsa', 1653), ('raft', 13985), ('4300', 277), ('2050', 204), ('brighteyed', 2467), ('owl', 12592), ('kopitiam', 9829), ('pork', 13345), ('belly', 1894), ('koreans', 9835), ('hearingimpaired', 8079), ('persists', 12982), ('unforgiving', 18350), ('accepted', 423), ('dignity', 4929), ('snowplow', 16202), ('nils', 11969), ('norwegian', 12055), ('minstrels', 11269), ('folktales', 6849), ('rajasthan', 14021), ('artisan', 1272), ('payment', 12870), ('bihar', 2033), ('comicstripstyle', 3622), ('assigns', 1338), ('parrot', 12762), ('bengal', 1921), ('crocodile', 4216), ('foolishness', 6869), ('inconsiderate', 8845), ('courtiers', 4075), ('krisha', 9851), ('thanksgiving', 17516), ('grudges', 7732), ('addictions', 517), ('confused', 3799), ('indecisiveness', 8860), ('balarams', 1632), ('vrindavan', 18867), ('opting', 12406), ('coed', 3507), ('justine', 9577), ('handful', 7903), ('delay', 4655), ('hut', 8600), ('exstripper', 6268), ('alcoholics', 750), ('per', 12933), ('grocer', 7704), ('heroism', 8185), ('frogs', 7085), ('scorpions', 15346), ('spiders', 16440), ('amphibians', 933), ('darel', 4452), ('kulipari', 9864), ('formally', 6924), ('clad', 3354), ('axe', 1546), ('magoo', 10601), ('mutants', 11662), ('preparations', 13497), ('feast', 6498), ('mismatched', 11318), ('archaeologists', 1163), ('tibetan', 17654), ('youngsters', 19533), ('antique', 1060), ('suburbs', 16919), ('tetsuya', 17494), ('kuroko', 9872), ('seirin', 15466), ('samurai', 15162), ('nirvanas', 11983), ('cobains', 3486), ('drugaddled', 5386), ('costars', 4031), ('standin', 16591), ('kygo', 9882), ('venue', 18669), ('renders', 14472), ('incapable', 8825), ('aishwarya', 711), ('rai', 13996), ('vivek', 18826), ('oberoi', 12157), ('diya', 5147), ('coorg', 3969), ('interfering', 9093), ('léa', 10537), ('camille', 2762), ('notion', 12079), ('timely', 17690), ('ritchie', 14814), ('valens', 18582), ('depicted', 4731), ('hostages', 8475), ('manipulates', 10702), ('duration', 5448), ('altagracia', 860), ('elegant', 5633), ('1821', 67), ('marriageaverse', 10788), ('spouse', 16510), ('mago', 10600), ('awes', 1538), ('bystanders', 2685), ('reminiscing', 14458), ('taiwans', 17248), ('guo', 7800), ('xuehu', 19456), ('línea', 10540), ('guntoting', 7798), ('feared', 6491), ('desperado', 4788), ('guerrilla', 7757), ('reintegrates', 14381), ('estevan', 6006), ('oriol', 12454), ('mister', 11337), ('impacting', 8761), ('hop', 8428), ('yolanda', 19515), ('reimagined', 14372), ('besets', 1952), ('18th', 86), ('aristocracy', 1205), ('teresa', 17452), ('mendoza', 11047), ('perceived', 12935), ('conquering', 3827), ('inevitably', 8914), ('griselda', 7695), ('blanco', 2128), ('governs', 7568), ('rajesh', 14022), ('shankars', 15694), ('bloodtheft', 2174), ('rajeshs', 14023), ('explode', 6225), ('ratu', 14114), ('deepika', 4603), ('kumari', 9866), ('rose', 14969), ('no1', 11993), ('archer', 1168), ('indiabased', 8870), ('prashasti', 13460), ('singh', 15965), ('kaneez', 9613), ('surka', 17066), ('supriya', 17051), ('niveditha', 11988), ('prakasam', 13450), ('noholdsbarred', 12007), ('potentially', 13414), ('dirt', 4970), ('expect', 6196), ('bamford', 1658), ('nymph', 12143), ('complexs', 3704), ('marquis', 10784), ('kort', 9838), ('allie', 810), ('tabares', 17208), ('plucked', 13233), ('laerte', 9910), ('coutinho', 4083), ('brazils', 2415), ('cartoonists', 2913), ('1890s', 79), ('harshly', 7990), ('taxed', 17336), ('champaner', 3066), ('mooching', 11468), ('guiltridden', 7771), ('carries', 2898), ('dropping', 5374), ('reenlists', 14303), ('selfrighteous', 15517), ('industrial', 8901), ('apathy', 1090), ('hoxley', 8519), ('seducing', 15436), ('enterprise', 5876), ('gambit', 7225), ('gitrdone', 7419), ('swampy', 17116), ('walmart', 18922), ('worms', 19371), ('grate', 7627), ('tropical', 18059), ('larva', 9977), ('fantásticas', 6410), ('diver', 5127), ('floor', 6802), ('ncaa', 11800), ('footballs', 6876), ('fertile', 6567), ('recruiting', 14270), ('flags', 6728), ('offseason', 12264), ('midflight', 11162), ('planes', 13180), ('mankind', 10711), ('lau', 10001), ('ecological', 5533), ('wellbeing', 19070), ('edicts', 5551), ('tempting', 17421), ('acquaintances', 466), ('injuries', 8988), ('yankees', 19471), ('pitcher', 13149), ('chienming', 3219), ('majors', 10627), ('squirrel', 16552), ('runnerup', 15046), ('lavell', 10024), ('louiss', 10439), ('orpheum', 12466), ('raking', 14027), ('vagaries', 18577), ('truetolife', 18080), ('bootlegging', 2298), ('bondurant', 2265), ('prohibition', 13672), ('speeddating', 16419), ('ditch', 5118), ('wrapping', 19391), ('repeated', 14505), ('islam', 9246), ('blackmailing', 2109), ('karim', 9634), ('benzema', 1932), ('retraces', 14653), ('demo', 4693), ('scientology', 15327), ('accounts', 445), ('leah', 10066), ('remini', 14454), ('anna', 1020), ('chooses', 3273), ('february', 6508), ('29', 239), ('innkeeper', 9001), ('evaluate', 6035), ('félicie', 7175), ('1880s', 75), ('earlylearning', 5495), ('quigley', 13929), ('tad', 17226), ('jumbles', 9555), ('transport', 17947), ('axel', 1547), ('leapfrog', 10072), ('counting', 4054), ('numberland', 12117), ('alligator', 813), ('sounding', 16334), ('vowels', 18858), ('geared', 7288), ('contacts', 3876), ('enlisting', 5845), ('30000', 244), ('feet', 6523), ('bloodline', 2167), ('mikaelson', 11185), ('innate', 8998), ('ronnie', 14948), ('kray', 9848), ('elude', 5676), ('transfixing', 17927), ('soren', 16316), ('barn', 1716), ('accomplices', 438), ('relic', 14419), ('humankind', 8548), ('winged', 19237), ('humanoids', 8552), ('leo', 10134), ('teodora', 17449), ('alebrije', 754), ('lei', 10118), ('ying', 19506), ('tieh', 17667), ('hon', 8396), ('ti', 17650), ('tan', 17285), ('yunnan', 19551), ('redefined', 14280), ('messiah', 11099), ('natures', 11778), ('superman', 17005), ('disappearing', 4983), ('caper', 2808), ('amulet', 942), ('elvendale', 5682), ('heartlake', 8089), ('petacular', 13003), ('missteps', 11331), ('billund', 2052), ('130000squarefoot', 31), ('lego', 10113), ('bricks', 2451), ('awe', 1536), ('jurassic', 9571), ('velociraptor', 18647), ('dinosaursized', 4955), ('cando', 2785), ('rugged', 15016), ('behaviorist', 1865), ('ultron', 18231), ('avengers', 1502), ('killmonger', 9734), ('klaue', 9783), ('panther', 12695), ('wakandas', 18896), ('vibranium', 18700), ('ravagers', 14120), ('ninjago', 11978), ('quests', 13919), ('zane', 19566), ('elemental', 5634), ('spinjitzu', 16452), ('yangs', 19469), ('boomtown', 2291), ('awesomeness', 1540), ('loki', 10340), ('amassing', 893), ('spiderman', 16439), ('segregates', 15460), ('skirts', 16046), ('yorks', 19523), ('lenox', 10132), ('dedication', 4591), ('addicted', 515), ('webcams', 19027), ('voyeurism', 18864), ('leopard', 10141), ('tig', 17670), ('eschewing', 5981), ('lions', 10254), ('vegetarian', 18638), ('shun', 15870), ('les', 10144), ('bleus', 2141), ('mirrored', 11288), ('hugos', 8536), ('bigscreen', 2030), ('seduce', 15433), ('apnea', 1095), ('joyfully', 9518), ('priests', 13568), ('dunblane', 5430), ('newtown', 11923), ('connecticut', 3815), ('occurred', 12205), ('snowstorm', 16203), ('affecting', 618), ('scars', 15273), ('shall', 15682), ('residing', 14577), ('onepersonhousehold', 12344), ('levius', 10164), ('mecnun', 10955), ('newborns', 11902), ('mecnuns', 10956), ('manuscript', 10731), ('closet', 3449), ('unannounced', 18239), ('elects', 5632), ('rumor', 15035), ('disobeys', 5064), ('elders', 5616), ('riggers', 14772), ('adventureloving', 587), ('beau', 1821), ('patientcentered', 12830), ('hospitals', 8471), ('newlyappointed', 11911), ('log', 10331), ('dramatically', 5318), ('consumed', 3872), ('overjoyed', 12558), ('upandcomers', 18487), ('callcenter', 2735), ('neediest', 11823), ('intermingling', 9097), ('bias', 2001), ('bail', 1615), ('casteism', 2938), ('bbcs', 1789), ('sequences', 15577), ('hundreds', 8571), ('refugee', 14327), ('withdraw', 19280), ('uncertainties', 18260), ('comalike', 3588), ('resignation', 14578), ('cured', 4329), ('abbott', 357), ('habitats', 7831), ('shapeshifter', 15702), ('speeds', 16422), ('mortality', 11508), ('johnnie', 9460), ('tos', 17815), ('charactercentered', 3099), ('firefighting', 6678), ('dilemmas', 4937), ('shatters', 15726), ('enjoys', 5840), ('blessings', 2140), ('advertising', 597), ('caribbean', 2868), ('tita', 17715), ('peep', 12902), ('genrebending', 7329), ('attracted', 1427), ('initiate', 8982), ('kicking', 9710), ('testifying', 17487), ('exgangster', 6150), ('tagliano', 17233), ('societys', 16225), ('limmy', 10238), ('limond', 10239), ('headlines', 8057), ('costumed', 4035), ('falconhoof', 6366), ('spielberg', 16442), ('towering', 17853), ('abraham', 389), ('lincoln', 10240), ('stewardship', 16704), ('erased', 5944), ('triads', 18006), ('antiques', 1061), ('appraiser', 1124), ('tamer', 17279), ('adaeze', 502), ('liss', 10264), ('pereira', 12942), ('uncomfortable', 18267), ('triggering', 18031), ('senses', 15553), ('steering', 16669), ('quincy', 13932), ('bestknown', 1958), ('compilation', 3694), ('peppy', 12932), ('bumps', 2600), ('twinkle', 18165), ('jacus', 9297), ('rhyme', 14725), ('horrorcomedy', 8455), ('adopting', 553), ('snack', 16160), ('mrs', 11582), ('gonshas', 7522), ('primary', 13571), ('jakes', 9312), ('tonys', 17773), ('shops', 15823), ('traditionally', 17885), ('sumo', 16975), ('hiyori', 8334), ('revolutionize', 14708), ('nicky', 11941), ('oust', 12495), ('rohit', 14907), ('shettys', 15759), ('singham', 15966), ('kaal', 9587), ('vilest', 18752), ('singhams', 15967), ('chikki', 3221), ('bandarpur', 1665), ('kohinoor', 9812), ('badder', 1598), ('abductions', 364), ('mirchi', 11281), ('nagar', 11701), ('mirchigadh', 11282), ('goth', 7556), ('iraq', 9214), ('cohabiting', 3520), ('akko', 724), ('nova', 12089), ('attitude', 1422), ('pawtucket', 12863), ('liv', 10281), ('wisconsin', 19260), ('busiest', 2649), ('keepers', 9671), ('orderly', 12431), ('emilio', 5723), ('martínez', 10808), ('pushed', 13858), ('cardiac', 2842), ('400year', 269), ('divide', 5133), ('mentored', 11057), ('rollercoast', 14919), ('burned', 2633), ('spa', 16356), ('replaced', 14511), ('madefortv', 10564), ('lizzie', 10296), ('borden', 2305), ('1892', 80), ('axing', 1548), ('llama', 10298), ('sorrows', 16319), ('unanswered', 18240), ('asunta', 1374), ('basterra', 1750), ('porto', 13358), ('aguazul', 672), ('montserrat', 11464), ('wily', 19217), ('millionaires', 11222), ('startup', 16628), ('butter', 2666), ('benefactor', 1915), ('bundle', 2604), ('shiftless', 15768), ('lads', 9907), ('ivan', 9278), ('lockes', 10321), ('keys', 9700), ('manipulated', 10701), ('embezzling', 5704), ('highrisk', 8241), ('caucasian', 2977), ('lowborn', 10458), ('criminality', 4188), ('hiking', 8267), ('wall', 18914), ('23rd', 223), ('domed', 5202), ('exist', 6165), ('pleasures', 13220), ('drugfree', 5388), ('stefan', 16671), ('grab', 7571), ('kais', 9597), ('motive', 11540), ('reclusivebanker', 14228), ('hedonist', 8111), ('catalan', 2952), ('wyoming', 19439), ('rebuilding', 14195), ('musicloving', 11654), ('johny', 9464), ('dancefilled', 4425), ('preschooler', 13506), ('croupier', 4239), ('70', 316), ('lorena', 10409), ('ramírez', 14051), ('rarámuri', 14096), ('pastoral', 12812), ('straps', 16787), ('sandals', 15169), ('ultramarathon', 18229), ('capusotto', 2834), ('recurring', 14273), ('spurred', 16532), ('boredom', 2310), ('intersecting', 9121), ('chapultepec', 3097), ('testimonies', 17488), ('norteño', 12048), ('tigres', 17678), ('norte', 12047), ('folsom', 6858), ('cashs', 2926), ('coxless', 4101), ('rowed', 14997), ('charities', 3110), ('singerssongwriters', 15964), ('profession', 13645), ('containing', 3880), ('succubus', 16928), ('sustains', 17108), ('feeding', 6518), ('okon', 12285), ('bona', 2260), ('selected', 15475), ('robinson', 14864), ('neunatia', 11883), ('grammywinning', 7594), ('loudon', 10434), ('wainwright', 18888), ('iii', 8691), ('ck', 3353), ('milwaukee', 11227), ('hilariousthoughtprovoking', 8270), ('rats', 14110), ('mickey', 11147), ('goodnatured', 7529), ('gus', 7806), ('agonies', 666), ('cocreated', 3499), ('radically', 13973), ('biotech', 2067), ('consultant', 3868), ('flirty', 6792), ('societal', 16223), ('reevaluate', 14307), ('alerts', 759), ('vicinity', 18706), ('jojo', 9471), ('adversities', 594), ('wako', 18902), ('yumeaki', 19548), ('starlet', 16614), ('overcrowded', 12550), ('ballpark', 1647), ('outgoing', 12508), ('poetry', 13259), ('taiwanese', 17247), ('shelby', 15742), ('vegan', 18635), ('heirs', 8128), ('45day', 280), ('ican', 8634), ('enacts', 5765), ('ban', 1659), ('indoors', 8893), ('hardcore', 7949), ('facilitating', 6325), ('cherie', 3188), ('saleswoman', 15137), ('christmastime', 3297), ('selective', 15478), ('perception', 12936), ('prescribed', 13509), ('psychotherapist', 13784), ('toprak', 17787), ('wet', 19106), ('yusufs', 19557), ('motherless', 11531), ('yusuf', 19556), ('adoring', 564), ('governor', 7567), ('assert', 1331), ('shutterbug', 15876), ('fearing', 6492), ('ömer', 19641), ('aysem', 1554), ('marriagephobic', 10789), ('seductress', 15439), ('faithful', 6359), ('eagertowed', 5484), ('inclined', 8837), ('diametrically', 4881), ('opposed', 12392), ('morbid', 11488), ('yang', 19468), ('yiru', 19507), ('stud', 16855), ('jimmys', 9423), ('rut', 15066), ('cheries', 3189), ('agenda', 655), ('charlatan', 3113), ('individually', 8884), ('sanjay', 15183), ('karina', 9636), ('scuttle', 15390), ('hottempered', 8492), ('offtotheunited', 12268), ('horticulturist', 8464), ('titchmarsh', 17718), ('uplifting', 18505), ('planting', 13189), ('deserving', 4773), ('yuta', 19558), ('weirdo', 19060), ('rikka', 14780), ('delusions', 4680), ('nsfw', 12104), ('presented', 13513), ('fincher', 6654), ('sue', 16936), ('guarantees', 7745), ('lasting', 9983), ('vlogger', 18830), ('separating', 15572), ('allmale', 816), ('mindy', 11241), ('beachside', 1799), ('stripper', 16834), ('singledad', 15972), ('1958', 122), ('mildred', 11198), ('feverish', 6582), ('depressing', 4741), ('lu', 10476), ('deion', 4647), ('luccas', 10480), ('gi', 7377), ('heading', 8055), ('gymkhana', 7818), ('lucha', 10481), ('luciana', 10482), ('aymar', 1551), ('luciano', 10483), ('mellera', 11019), ('emphasizes', 5743), ('lovesick', 10454), ('luckee', 10487), ('satisfying', 15215), ('hormones', 8444), ('lucknow', 10489), ('ren', 14468), ('moneycrazy', 11434), ('petersburg', 13007), ('aditya', 532), ('resurfaced', 14626), ('suitcase', 16955), ('riff', 14765), ('anywhere', 1081), ('captivated', 2823), ('cohabitate', 3518), ('chest', 3195), ('petunia', 13016), ('amazia', 896), ('scrapbook', 15364), ('obscene', 12172), ('march', 10746), ('sevenyearold', 15634), ('dreamlike', 5342), ('arsène', 1257), ('lupin', 10507), ('assane', 1318), ('diop', 4957), ('inflicted', 8947), ('jigen', 9415), ('goemon', 7498), ('cagliostros', 2711), ('detour', 4829), ('2013s', 189), ('talkies', 17270), ('gangland', 7244), ('khurana', 9707), ('lynne', 10533), ('koplitz', 9830), ('childlessness', 3227), ('layers', 10046), ('1927', 101), ('rainey', 14010), ('recording', 14249), ('session', 15608), ('viola', 18771), ('denzel', 4722), ('wolfe', 19301), ('parisbased', 12745), ('devin', 4852), ('overstreet', 12574), ('valedictorian', 18581), ('mac', 10542), ('10thyear', 14), ('relocating', 14434), ('killerforhire', 9730), ('machete', 10548), ('pretended', 13541), ('mode', 11387), ('exposure', 6251), ('womanchasing', 19305), ('maxs', 10887), ('retaliation', 14638), ('janitorial', 9331), ('conspires', 3856), ('pilfer', 13108), ('scheduled', 15288), ('cherrypicks', 3193), ('trailers', 17901), ('poster', 13393), ('47', 281), ('oldies', 12295), ('spattered', 16392), ('stockbroker', 16727), ('bipolar', 2070), ('cramped', 4122), ('bridge', 2457), ('strands', 16779), ('sadly', 15098), ('subsequent', 16908), ('supplier', 17034), ('aphrodisiac', 1093), ('stimulating', 16715), ('socialites', 16221), ('opulent', 12410), ('lagaan', 9911), ('millenniums', 11218), ('satyajit', 15220), ('bhatkal', 1994), ('resolute', 14586), ('nanny', 11722), ('intentions', 9080), ('originally', 12450), ('everlasting', 6058), ('magi', 10587), ('seas', 15404), ('started', 16624), ('dungeon', 5433), ('aladdin', 728), ('alibaba', 776), ('orchestrating', 12423), ('willman', 19209), ('cellphone', 3015), ('protector', 13730), ('itself', 9276), ('industrialists', 8903), ('intervention', 9132), ('warps', 18965), ('magnus', 10599), ('carlsen', 2878), ('reinterpretation', 14382), ('ranjit', 14070), ('establishing', 6001), ('nerd', 11862), ('aryan', 1284), ('impressing', 8800), ('worried', 19372), ('mahi', 10605), ('tame', 17278), ('mahjong', 10608), ('council', 4039), ('misaki', 11293), ('prasad', 13459), ('sharma', 15715), ('milaap', 11191), ('fruition', 7096), ('usher', 18552), ('raghavan', 13990), ('ordinarylooking', 12434), ('weds', 19040), ('mismatch', 11317), ('lying', 10528), ('orthopedic', 12469), ('samir', 15156), ('conjure', 3809), ('chances', 3074), ('exoneree', 6182), ('witcher', 19276), ('jaskiers', 9338), ('authentically', 1466), ('portray', 13361), ('hasidic', 8002), ('pertain', 12994), ('h2o', 7825), ('merman', 11086), ('mako', 10640), ('wailing', 18886), ('prayers', 13461), ('autopilot', 1484), ('discontent', 5012), ('thorns', 17595), ('crony', 4219), ('nativist', 11770), ('espouses', 5992), ('abortion', 383), ('ok', 12283), ('brothersister', 2525), ('very', 18688), ('lifeguard', 10199), ('malibu', 10661), ('flounder', 6812), ('beachmaster', 1798), ('selftrained', 15521), ('weaving', 19023), ('motherly', 11532), ('characteristics', 3100), ('childish', 3226), ('idiot', 8667), ('girlfriendless', 7414), ('mobeen', 11371), ('beijing', 1870), ('pandering', 12685), ('illtempered', 8709), ('grylls', 7739), ('leone', 10139), ('stayathome', 16653), ('flagrant', 6727), ('sanctimonious', 15165), ('madam', 10558), ('brothel', 2517), ('assistance', 1341), ('teller', 17403), ('dementia', 4689), ('mulsim', 11604), ('heroics', 8181), ('jewell', 9403), ('foiled', 6842), ('horoscope', 8446), ('bode', 2221), ('reevaluated', 14308), ('scathing', 15275), ('screenwriter', 15376), ('herman', 8175), ('mankiewicz', 10710), ('finish', 6666), ('talker', 17269), ('hinders', 8285), ('manolo', 10716), ('blahnik', 2120), ('speaks', 16397), ('chime', 3243), ('redlight', 14290), ('1800s', 64), ('circumstance', 3332), ('pleasant', 13218), ('indopakistani', 8894), ('saadat', 15080), ('manto', 10724), ('censors', 3021), ('sadaat', 15092), ('culminate', 4302), ('partitioning', 12776), ('subcontinent', 16894), ('abstract', 398), ('twistfilled', 18172), ('rightful', 14775), ('burial', 2628), ('revolving', 14711), ('savage', 15226), ('greenhouses', 7653), ('fuller', 7125), ('maradona', 10737), ('culiacán', 4298), ('sinaloa', 15951), ('dorados', 5244), ('thefts', 17529), ('owned', 12595), ('heists', 8130), ('marc', 10744), ('maron', 10782), ('swamp', 17115), ('vitamin', 18819), ('hustlers', 8597), ('evangelicals', 6038), ('endtimes', 5797), ('investigated', 9180), ('shogi', 15808), ('topranked', 17788), ('marching', 10747), ('memorize', 11036), ('tend', 17430), ('slay', 16075), ('marco', 10748), ('luque', 10508), ('polo', 13307), ('kublai', 9859), ('warriormonk', 18969), ('khans', 9703), ('chains', 3048), ('earns', 5500), ('30minute', 247), ('exassassin', 6101), ('alleys', 804), ('theaters', 17524), ('ohsoawkward', 12280), ('shotathome', 15837), ('twoperson', 18180), ('mariah', 10757), ('carey', 2866), ('plagues', 13176), ('mariusz', 10773), ('kałamaga', 9667), ('kopiec', 9828), ('wiolka', 19252), ('walaszczyk', 18903), ('warsaw', 18972), ('gatiss', 7279), ('mycroft', 11670), ('benedict', 1914), ('cumberbatch', 4314), ('freeman', 7031), ('friendliest', 7064), ('postsplit', 13405), ('rollicking', 14922), ('marlon', 10781), ('wayans', 19004), ('ageappropriate', 652), ('kardashians', 9629), ('saurabh', 15224), ('accidental', 428), ('awardnominated', 1532), ('noah', 11994), ('baumbach', 1781), ('compatibility', 3682), ('spacecraft', 16358), ('2033', 202), ('colonize', 3569), ('marseille', 10797), ('reins', 14379), ('zhi', 19600), ('actorcomedian', 492), ('lawrences', 10036), ('95', 336), ('theses', 17551), ('quebecois', 13907), ('matte', 10865), ('antidowry', 1057), ('victimized', 18709), ('abusers', 406), ('logan', 10332), ('xman', 19452), ('dissolution', 5100), ('xmen', 19453), ('reassembled', 14174), ('xavier', 19443), ('ymir', 19509), ('phil', 13028), ('coulson', 4038), ('marvels', 10810), ('blinded', 2145), ('matt', 10864), ('murdock', 11634), ('hells', 8142), ('rand', 14058), ('presumed', 13538), ('hulks', 8539), ('gamma', 7236), ('starks', 16613), ('reactor', 14139), ('tormentor', 17800), ('hoodiewearing', 8412), ('unbreakable', 18255), ('punish', 13822), ('endor', 5795), ('foremost', 6902), ('rice', 14738), ('objections', 12162), ('retail', 14631), ('portas', 13354), ('collaborates', 3536), ('complainedabout', 3695), ('stores', 16751), ('fedup', 6515), ('momdaughter', 11420), ('neena', 11827), ('masaba', 10815), ('gupta', 7802), ('shifts', 15769), ('arabia', 1146), ('20112019', 186), ('suits', 16958), ('mascot', 10817), ('masha', 10819), ('thunder', 17641), ('retells', 14641), ('tends', 17435), ('jumbled', 9554), ('irani', 9210), ('core', 3991), ('borne', 2314), ('needing', 11824), ('bargains', 1712), ('ledger', 10095), ('dev', 4833), ('elevate', 5640), ('abandon', 349), ('direct', 4962), ('collision', 3559), ('intriguing', 9150), ('30s', 248), ('staunch', 16649), ('expects', 6203), ('uphold', 18503), ('possessive', 13381), ('overindulged', 12557), ('mau', 10873), ('nieto', 11948), ('sober', 16212), ('maurício', 10879), ('meirelles', 11008), ('scathingly', 15276), ('prejudices', 13487), ('turtles', 18143), ('unfaithful', 18336), ('messaging', 11095), ('mute', 11664), ('excess', 6111), ('inability', 8821), ('distrust', 5112), ('onagain', 12317), ('offagain', 12238), ('angelou', 995), ('illustrating', 8718), ('appetite', 1113), ('maydays', 10894), ('summoned', 16972), ('detests', 4824), ('atlantas', 1389), ('maynard', 10897), ('africanamerican', 639), ('maz', 10902), ('jobrani', 9443), ('pump', 13814), ('keyboardist', 9698), ('anda', 965), ('bares', 1709), ('pariah', 12742), ('hoodlum', 8413), ('inveterate', 9192), ('rinella', 14785), ('scrounges', 15382), ('wildest', 19191), ('unscripted', 18440), ('ducks', 5411), ('deer', 4605), ('merited', 11079), ('awarding', 1531), ('maestro', 10578), ('spratt', 16513), ('cdc', 2995), ('cosimo', 4023), ('medici', 10972), ('15thcentury', 46), ('florence', 6805), ('steers', 16670), ('fated', 6458), ('convergence', 3939), ('ensures', 5866), ('annihilation', 1024), ('instill', 9048), ('pushback', 13857), ('goldrush', 7513), ('enterprises', 5877), ('largescale', 9972), ('ashita', 1292), ('mechanized', 10954), ('megalo', 10995), ('boxers', 2359), ('supremacy', 17047), ('ridealong', 14756), ('rig', 14770), ('haul', 8021), ('loads', 10301), ('bengali', 1922), ('cassette', 2931), ('performer', 12953), ('pastry', 12813), ('bake', 1621), ('melvin', 11025), ('conversation', 3940), ('disclose', 5008), ('blogs', 2164), ('augmentedreality', 1448), ('hostel', 8477), ('memorization', 11035), ('jiaen', 9411), ('recipient', 14217), ('extraterrestrials', 6288), ('reprise', 14531), ('unofficial', 18408), ('civilian', 3346), ('voyage', 18862), ('humantrafficking', 8554), ('heperi', 8163), ('mita', 11347), ('maori', 10734), ('merata', 11062), ('caledonia', 2726), ('soane', 16207), ('spaceflight', 16360), ('halfsiblings', 7871), ('surfaces', 17056), ('autorickshaw', 1486), ('hiralal', 8295), ('tiwari', 17724), ('gravely', 7630), ('treks', 17994), ('owning', 12599), ('pupils', 13833), ('familyoriented', 6385), ('merlin', 11083), ('arriving', 1247), ('camelot', 2757), ('10day', 9), ('vigilante', 18739), ('blackmailed', 2108), ('richest', 14743), ('abuja', 402), ('concealing', 3732), ('lowlifes', 10466), ('elites', 5656), ('metallica', 11106), ('roadie', 14839), ('errand', 5958), ('checking', 3166), ('stillthriving', 16713), ('shancai', 15688), ('highachievers', 8213), ('disgusted', 5041), ('goldchain', 7508), ('snatchers', 16177), ('chennai', 3186), ('stamina', 16586), ('angelino', 994), ('meat', 10945), ('shivaji', 15797), ('medieval', 10974), ('mi5', 11132), ('pearce', 12886), ('scapegoat', 15261), ('spycraft', 16536), ('sleeve', 16091), ('unicorns', 18363), ('panthea', 12694), ('menial', 11049), ('75000', 320), ('bolton', 2249), ('telethon', 17399), ('homophobia', 8394), ('benjie', 1927), ('nycum', 12141), ('mcintyre', 10921), ('scenestealing', 15285), ('buteau', 2663), ('dazzles', 4497), ('adore', 561), ('massages', 10829), ('childbirth', 3224), ('otters', 12490), ('billing', 2045), ('rafe', 13983), ('handbook', 7900), ('middleditch', 11157), ('schwartz', 15318), ('epically', 5919), ('listeners', 10267), ('syndicated', 17190), ('scarred', 15272), ('backstreets', 1588), ('shinjuku', 15780), ('theirs', 17530), ('patrons', 12840), ('particular', 12773), ('mallika', 10666), ('dua', 5405), ('shalishka', 15681), ('whips', 19136), ('meal', 10933), ('youngster', 19532), ('fanatics', 6392), ('express', 6254), ('welcomes', 19065), ('tracksville', 17874), ('boundless', 2345), ('decorating', 4583), ('devouring', 4864), ('spraying', 16515), ('holi', 8359), ('townspeople', 17857), ('makar', 10629), ('sankranti', 15186), ('zedd', 19581), ('repulsa', 14539), ('raju', 14026), ('toetotoe', 17740), ('capoeira', 2812), ('birbiglia', 2072), ('riotous', 14792), ('culled', 4300), ('epps', 5928), ('unapologetically', 18242), ('misconduct', 11298), ('ed', 5542), ('campaigner', 2766), ('milada', 11192), ('horáková', 8466), ('czechoslovakia', 4388), ('communist', 3667), ('asset', 1334), ('nowadult', 12097), ('mythology', 11686), ('40s', 271), ('steamy', 16665), ('sean', 15399), ('penn', 12916), ('milk', 11211), ('supervisor', 17031), ('1978', 142), ('adulting', 577), ('unemployment', 18327), ('listings', 10270), ('hamptons', 7895), ('nextgen', 11926), ('restaurateurs', 14613), ('eateries', 5518), ('discerning', 5001), ('investors', 9191), ('unsuccessful', 18453), ('shin', 15773), ('monthly', 11461), ('sum', 16965), ('foretell', 6910), ('paralegal', 12714), ('uneasily', 18322), ('alltooreal', 831), ('stepping', 16687), ('methane', 11114), ('miners', 11246), ('minecraft', 11243), ('wisely', 19266), ('miniwolf', 11265), ('defenseless', 4619), ('zenos', 19590), ('interviewed', 9134), ('virtues', 18795), ('olympian', 12308), ('apolo', 1100), ('anton', 1071), ('ohno', 12278), ('completing', 3699), ('60second', 310), ('disability', 4974), ('commanders', 3627), ('noir', 12008), ('citysaving', 3342), ('continuum', 3909), ('glitch', 7448), ('vera', 18671), ('displaces', 5082), ('fouryearold', 6969), ('kun', 9868), ('colleen', 3553), ('ballinger', 1643), ('magichinry', 10591), ('grimm', 7687), ('fairskinned', 6353), ('dwarves', 5463), ('ged', 7291), ('strategies', 16790), ('sleeping', 16085), ('passenger', 12796), ('drunk', 5399), ('posts', 13403), ('netherlands', 11877), ('singled', 15971), ('setup', 15623), ('tentative', 17447), ('aren', 1190), ('harnessing', 7978), ('ditching', 5120), ('valentina', 18583), ('oei', 12233), ('tetsuzo', 17495), ('hokusai', 8350), ('woodblock', 19329), ('prints', 13588), ('edo', 5563), ('quirk', 13937), ('sweetnatured', 17140), ('disapproval', 4986), ('sexism', 15646), ('tea', 17342), ('talkshow', 17273), ('dials', 4880), ('1890', 78), ('coaxes', 3484), ('valet', 18585), ('towel', 17851), ('patissier', 12833), ('gloomy', 7466), ('easygoing', 5515), ('mainstream', 10620), ('medias', 10966), ('disparaging', 5070), ('portrayals', 13363), ('contribute', 3919), ('underrepresentation', 18298), ('females', 6543), ('positions', 13373), ('resolving', 14589), ('siyi', 16014), ('interfere', 9092), ('rb', 14129), ('joness', 9486), ('pancreatic', 12681), ('intact', 9067), ('oceanographer', 12214), ('sylvia', 17181), ('earles', 5489), ('overfishing', 12553), ('apollos', 1099), ('command', 3625), ('squadron', 16542), ('cardsharp', 2846), ('mitt', 11353), ('romney', 14943), ('bites', 2088), ('arabamerican', 1145), ('mo', 11367), ('amer', 912), ('mohammed', 11407), ('dynamics', 5473), ('gathering', 7277), ('espers', 5989), ('banagher', 1660), ('burne', 2632), ('gundam', 7788), ('colony', 3571), ('terraformed', 17459), ('postdisaster', 13391), ('allergy', 800), ('invisible', 9195), ('firsts', 6693), ('moesha', 11401), ('occasional', 12197), ('investing', 9188), ('flexible', 6771), ('chauffeurs', 3150), ('1812', 66), ('pursued', 13849), ('thirsting', 17578), ('mohenjo', 11410), ('daro', 4464), ('mechanics', 10953), ('chick', 3211), ('pastelcolored', 12809), ('molly', 11418), ('bloom', 2178), ('lofty', 10330), ('stepdaughter', 16679), ('furious', 7155), ('perpetrators', 12970), ('walked', 18907), ('salon', 15142), ('mailholding', 10615), ('promote', 13685), ('1953', 121), ('wellesley', 19074), ('measured', 10942), ('quo', 13945), ('maría', 10814), ('tequila', 17451), ('upper', 18508), ('craftspeople', 4119), ('garbage', 7253), ('dump', 5426), ('hatchett', 8011), ('asım', 1376), ('noyan', 12103), ('jin', 9424), ('draka', 5313), ('zoologist', 19625), ('mcgavin', 10915), ('behaviors', 1866), ('primates', 13572), ('khon', 9706), ('lazy', 10052), ('dimwitted', 4947), ('festive', 6574), ('witchs', 19278), ('clawdeen', 3395), ('howleen', 8515), ('fangtastic', 6399), ('gala', 7202), ('comet', 3611), ('nefera', 11830), ('normies', 12043), ('alike', 782), ('moanicas', 11368), ('lagoona', 9912), ('stein', 16673), ('skulltimate', 16051), ('clawd', 3394), ('deuce', 4832), ('afoot', 634), ('administrators', 540), ('merger', 11078), ('draculaura', 5299), ('whisked', 19139), ('frightfully', 7074), ('flaws', 6756), ('frenemy', 7046), ('spectra', 16412), ('vondergeist', 18852), ('spookery', 16494), ('ultracool', 18225), ('ghoul', 7373), ('nile', 11968), ('roost', 14961), ('scaris', 15269), ('screams', 15371), ('draculauras', 5300), ('ghoulfriends', 7374), ('suspicions', 17104), ('unbeating', 18251), ('vacant', 18570), ('goo', 7524), ('thumbs', 17640), ('temp', 17407), ('platoon', 13197), ('tentacled', 17446), ('rapid', 14081), ('imitates', 8739), ('chiyo', 3260), ('dig', 4923), ('conceptions', 3738), ('horticultural', 8463), ('hideaways', 8208), ('luxurious', 10525), ('botanical', 2325), ('pythons', 13876), ('supremely', 17049), ('comedys', 3609), ('terry', 17479), ('gilliam', 7401), ('livetotape', 10292), ('hiatus', 8197), ('tickled', 17659), ('ribs', 14732), ('phonetic', 13049), ('accent', 418), ('timing', 17697), ('penchant', 12908), ('crossdressing', 4229), ('judea', 9530), ('antiroman', 1063), ('zealots', 19578), ('alltime', 828), ('monzón', 11467), ('alicia', 778), ('muñiz', 11669), ('sarang', 15197), ('astronaut', 1364), ('crimeinfested', 4182), ('brainaddled', 2378), ('railway', 14004), ('estrangement', 6008), ('mila', 11190), ('morphle', 11502), ('heidelberg', 8118), ('mortified', 11512), ('chaturthi', 3147), ('moshe', 11516), ('kasher', 9645), ('oakland', 12150), ('uproarious', 18518), ('bossa', 2319), ('transitioned', 17940), ('iraqi', 9215), ('mosul', 11525), ('shuhei', 15866), ('erratic', 5960), ('awaken', 1523), ('distorted', 5106), ('towards', 17850), ('returnee', 14666), ('bhopal', 1998), ('solely', 16256), ('associated', 1346), ('fraudulent', 7011), ('ashram', 1296), ('paintbrush', 12648), ('motu', 11554), ('patlu', 12834), ('breathtaking', 2430), ('imagery', 8726), ('narration', 11739), ('viewers', 18737), ('summits', 16970), ('choreographers', 3279), ('shaping', 15704), ('eyepopping', 6303), ('sketchcomedy', 16027), ('collage', 3539), ('kentucky', 9687), ('fried', 7059), ('louie', 10435), ('schwartzberg', 15319), ('flowers', 6819), ('melissa', 11017), ('chan', 3072), ('cabdriver', 2693), ('temporary', 17416), ('redefines', 14281), ('longfellow', 10368), ('bigwig', 2032), ('pounce', 13421), ('worldrenowned', 19361), ('underperforming', 18295), ('mater', 10847), ('bullwinkle', 2591), ('peabody', 12877), ('sherman', 15757), ('foreclosure', 6897), ('hog', 8346), ('riches', 14742), ('1871', 74), ('shinmiyangyo', 15781), ('noblewoman', 12000), ('feng', 6554), ('shui', 15868), ('warning', 18960), ('fallen', 6369), ('gym', 7817), ('graduates', 7586), ('asleep', 1308), ('unmarried', 18404), ('wellconnected', 19071), ('tenderhearted', 17433), ('mercado', 11063), ('poignantly', 13262), ('mahir', 10606), ('mud', 11591), ('prejudice', 13486), ('specialist', 16402), ('costume', 4034), ('temper', 17408), ('pleas', 13217), ('mukhsin', 11602), ('tomboy', 17757), ('orked', 12455), ('inklings', 8993), ('begrudgingly', 1859), ('virgin', 18787), ('32', 252), ('bombings', 2256), ('healer', 8068), ('jassi', 9343), ('mune', 11619), ('successor', 16927), ('muppets', 11623), ('godfearing', 7492), ('pandit', 12687), ('kant', 9618), ('breakdown', 2420), ('reconciliation', 14236), ('jingle', 9425), ('nandas', 11720), ('hitchhikes', 8324), ('rope', 14965), ('nanda', 11719), ('paired', 12656), ('sources', 16340), ('artfully', 1261), ('humboldt', 8559), ('hairdresser', 7848), ('plucks', 13234), ('main', 10616), ('cyntoia', 4384), ('physiology', 13067), ('spouses', 16511), ('expupil', 6259), ('gulf', 7781), ('fart', 6429), ('seamy', 15398), ('louder', 10432), ('omars', 12313), ('ninetofivers', 11976), ('nemeses', 11854), ('brando', 2395), ('nuanced', 12109), ('lt', 10475), ('fletcher', 6768), ('hms', 8337), ('mutiny', 11666), ('ships', 15789), ('bligh', 2143), ('triggers', 18032), ('2013', 188), ('communal', 3659), ('uttar', 18567), ('zombies', 19621), ('beasties', 1811), ('regularly', 14359), ('stroke', 16839), ('relearns', 14407), ('impulse', 8814), ('kaul', 9662), ('blurred', 2203), ('hivpositive', 8333), ('swimmer', 17146), ('goryeo', 7551), ('proclaim', 13626), ('pessimistic', 13000), ('page', 12635), ('astronomer', 1366), ('relocated', 14432), ('highschoolers', 8246), ('cali', 2730), ('gio', 7410), ('reenters', 14304), ('taeo', 17228), ('between', 1981), ('commissioned', 3638), ('goebbels', 7497), ('georgian', 7346), ('announces', 1029), ('humanlike', 8550), ('hologram', 8371), ('prickly', 13562), ('fumbles', 7132), ('assertive', 1332), ('straighten', 16770), ('sexiest', 15645), ('selfie', 15502), ('kumiko', 9867), ('9yearold', 339), ('stopmotion', 16745), ('rj', 14834), ('anmol', 1018), ('successes', 16924), ('6monthold', 313), ('yearbook', 19482), ('sunset', 16990), ('shimmer', 15772), ('this', 17585), ('rainbow', 14008), ('applejack', 1115), ('sporting', 16500), ('counterparts', 4051), ('pony', 13320), ('everfree', 6056), ('pinkie', 13124), ('pie', 13088), ('rarity', 14095), ('fluttershy', 6824), ('vanishing', 18610), ('names', 11717), ('kinship', 9763), ('curiosityfueled', 4333), ('excursions', 6129), ('billions', 2050), ('kelp', 9677), ('twelve', 18156), ('manhood', 10694), ('cortez', 4019), ('pitches', 13150), ('amal', 884), ('authoritarian', 1468), ('cruelty', 4253), ('neglect', 11833), ('egotistic', 5593), ('refined', 14311), ('transferred', 17925), ('fistfights', 6705), ('stonewalled', 16740), ('higherups', 8222), ('theroux', 17550), ('nutritionist', 12139), ('chaebol', 3043), ('slept', 16094), ('introvert', 9156), ('cheery', 3174), ('extrovert', 6296), ('sued', 16937), ('emancipation', 5691), ('hypnosis', 8620), ('ramez', 14039), ('fawns', 6484), ('ironworks', 9228), ('possibly', 13385), ('bossman', 2321), ('longsuffering', 10380), ('declaring', 4578), ('archie', 1172), ('videotapes', 18725), ('reactions', 14137), ('junkies', 9568), ('riley', 14783), ('infatuation', 8929), ('eid', 5600), ('ayvalık', 1557), ('astray', 1359), ('silvio', 15926), ('berlusconi', 1945), ('putin', 13864), ('marilyn', 10765), ('frivolity', 7080), ('leaning', 10069), ('castanhari', 2935), ('facts', 6336), ('joel', 9451), ('commentary', 3633), ('mst3k', 11584), ('jonah', 9481), ('survives', 17088), ('blitz', 2155), ('cheesy', 3176), ('bluecollar', 2189), ('parlor', 12755), ('resolves', 14588), ('mortician', 11511), ('listen', 10266), ('feigns', 6525), ('mythic', 11682), ('orphanages', 12462), ('disguising', 5040), ('nadiya', 11700), ('hussain', 8594), ('delicious', 4664), ('shortcuts', 15830), ('favorites', 6480), ('todays', 17732), ('timestrapped', 17692), ('naked', 11713), ('gurus', 7805), ('transcending', 17922), ('bakers', 1623), ('edible', 5550), ('masterpieces', 10839), ('dessert', 4795), ('5000', 290), ('euro', 6024), ('nailed', 11707), ('desserts', 4796), ('delightfully', 4667), ('fondant', 6860), ('duplicating', 5443), ('trophy', 18058), ('botswana', 2334), ('loyally', 10470), ('bellboy', 1888), ('dismay', 5058), ('londonborn', 10345), ('jasmeet', 9339), ('malhotra', 10659), ('western', 19101), ('arranges', 1237), ('jazzs', 9357), ('ballu', 1650), ('bassem', 1747), ('motivation', 11537), ('fractious', 6974), ('naomi', 11726), ('ely', 5684), ('setback', 15611), ('infamously', 8920), ('fuels', 7109), ('narcos', 11732), ('guadalajara', 7740), ('outwit', 12538), ('naruto', 11746), ('konohagakure', 9823), ('sasuke', 15206), ('raikage', 14001), ('hozuki', 8521), ('uzumaki', 18569), ('priestess', 13565), ('nin', 11972), ('ambushed', 909), ('temujin', 17424), ('exuberant', 6297), ('sakura', 15125), ('kakashi', 9600), ('crescent', 4170), ('natalia', 11754), ('oreiro', 12438), ('fuses', 7162), ('irreverence', 9234), ('reproductive', 14534), ('respecting', 14598), ('chiles', 3236), ('valdebenito', 18580), ('santiagos', 15192), ('teatro', 17361), ('caupolicán', 2979), ('onewoman', 12350), ('irony', 9229), ('soft', 16238), ('natalie', 11755), ('palamides', 12666), ('consent', 3838), ('viennese', 18730), ('basement', 1737), ('headlinemaking', 8056), ('ordering', 12430), ('microfilm', 11149), ('recipe', 14215), ('cookies', 3959), ('loosecannon', 10397), ('colt', 3582), ('bythebook', 2686), ('luger', 10494), ('redford', 14285), ('aweinspiring', 1537), ('stashed', 16631), ('shakespearean', 15677), ('ungrateful', 18355), ('fleeting', 6764), ('vitalyzdtv', 18818), ('roady', 14841), ('atwood', 1433), ('prankwood', 13457), ('custombuilt', 4354), ('attached', 1399), ('sneaky', 16182), ('orcas', 12416), ('owls', 12593), ('discovered', 5017), ('scans', 15260), ('patterns', 12843), ('significant', 15912), ('migrations', 11181), ('caribou', 2869), ('zebras', 19580), ('packham', 12622), ('geographical', 7339), ('reared', 14168), ('concentration', 3736), ('camps', 2772), ('buchenwald', 2553), ('ohrdruf', 12279), ('eisenhower', 5606), ('hardware', 7964), ('defenses', 4620), ('fortifications', 6935), ('uboats', 18208), ('missiles', 11323), ('ncis', 11801), ('naval', 11783), ('mandate', 10682), ('zha', 19596), ('imperil', 8772), ('soulbaring', 16326), ('chappelles', 3095), ('cocreator', 3500), ('neal', 11804), ('brennan', 2438), ('rapist', 14085), ('evades', 6033), ('unnerving', 18407), ('mechabutler', 10949), ('kaz', 9666), ('kaan', 9588), ('neo', 11856), ('yokios', 19513), ('ikari', 8693), ('leftist', 10100), ('neruda', 11865), ('wills', 19212), ('upandcoming', 18488), ('unlike', 18395), ('indianamerican', 8874), ('rebounding', 14191), ('gabi', 7181), ('hookup', 8422), ('creeps', 4167), ('experienced', 6209), ('displayed', 5084), ('affected', 617), ('cris', 4197), ('mai', 10610), ('250000', 232), ('unearthing', 18319), ('reggaeton', 14342), ('jams', 9321), ('scamming', 15254), ('viable', 18699), ('securing', 15429), ('juvenile', 9581), ('environmentalists', 5911), ('explosives', 6243), ('ecoterrorism', 5540), ('lifts', 10216), ('veil', 18645), ('bats', 1766), ('crews', 4173), ('climbed', 3426), ('dived', 5126), ('froze', 7094), ('documentarys', 5169), ('sunlit', 16986), ('trolling', 18052), ('telepath', 17396), ('yerim', 19496), ('nightmarish', 11961), ('increased', 8848), ('exasperated', 6098), ('flanner', 6738), ('nikki', 11966), ('glaser', 7432), ('spare', 16376), ('mature', 10871), ('gravitates', 7633), ('ozunu', 12607), ('raizo', 14017), ('mitsubas', 11352), ('turtle', 18142), ('venus', 18670), ('milo', 11226), ('counterpart', 4050), ('alberto', 740), ('nisman', 11987), ('israelite', 9262), ('association', 1348), ('elixir', 5657), ('bequeathed', 1934), ('veterinary', 18694), ('horseracing', 8460), ('sexist', 15647), ('dylans', 5471), ('sideways', 15896), ('sora', 16311), ('disboard', 4999), ('machina', 10549), ('skipping', 16044), ('lall', 9924), ('temptation', 17418), ('nieces', 11946), ('artemis', 1259), ('dynamo', 5474), ('straitjacketed', 16775), ('evie', 6071), ('endofdays', 5792), ('crackpot', 4112), ('venice', 18661), ('upperclassmen', 18512), ('recluse', 14226), ('nurturing', 12134), ('intends', 9075), ('offline', 12263), ('hogans', 8347), ('gawker', 7283), ('critics', 4212), ('angelus', 997), ('systems', 17198), ('exhusbands', 6160), ('destabilizes', 4797), ('susans', 17094), ('upending', 18497), ('toyland', 17861), ('noddy', 12004), ('wiser', 19267), ('stressed', 16816), ('8thcentury', 328), ('mill', 11212), ('parsons', 12765), ('hale', 7859), ('grappled', 7620), ('by', 2680), ('diaries', 4886), ('theologian', 17540), ('hull', 8540), ('impressionistic', 8803), ('slow', 16119), ('descent', 4764), ('blindness', 2146), ('pops', 13337), ('biographical', 2059), ('evangelical', 6037), ('edir', 5554), ('macedo', 10547), ('avian', 1510), ('aptitude', 1139), ('examples', 6095), ('puzzlesolving', 13869), ('parrots', 12763), ('astrophysicists', 1370), ('radiation', 13970), ('chariot', 3108), ('millennia', 11214), ('drilling', 5355), ('crater', 4132), ('asteroid', 1354), ('cassini', 2933), ('saturn', 15219), ('eclipse', 5532), ('storms', 16756), ('tusks', 18144), ('weaponry', 19015), ('expeditions', 6205), ('13000yearold', 32), ('skeleton', 16023), ('lithuania', 10276), ('dug', 5421), ('floods', 6801), ('predict', 13475), ('lengthy', 10129), ('correct', 4008), ('forecasting', 6896), ('flourishing', 6816), ('predictions', 13478), ('statistics', 16644), ('algorithms', 772), ('reliability', 14417), ('armorer', 1223), ('rediscovering', 14288), ('metalworking', 11107), ('relying', 14439), ('rovers', 14992), ('ontheground', 12359), ('responders', 14602), ('anguish', 1005), ('unfolded', 18345), ('nov', 12088), ('progress', 13669), ('treading', 17977), ('uneasy', 18324), ('waxing', 19002), ('passage', 12794), ('1970', 133), ('rockumentary', 14888), ('halloffame', 7879), ('jazzrock', 9356), ('charttopping', 3131), ('dauntless', 4483), ('socialist', 16219), ('uphill', 18502), ('diving', 5137), ('tattooed', 17330), ('auschwitz', 1457), ('rikuo', 14781), ('yokai', 19512), ('relies', 14422), ('meds', 10981), ('exhausting', 6155), ('selfdiagnosed', 15496), ('nymphomaniac', 12144), ('lars', 9976), ('triers', 18026), ('reignited', 14370), ('schoolmates', 15310), ('type', 18191), ('oasis', 12151), ('noel', 12005), ('gallagher', 7212), ('causeandeffect', 2981), ('interplay', 9110), ('intruders', 9157), ('initiates', 8983), ('silk', 15920), ('glove', 7472), ('restart', 14609), ('sinatra', 15953), ('downright', 5281), ('deloris', 4676), ('viv', 18824), ('geoff', 7338), ('explorers', 6237), ('octonauts', 12219), ('combs', 3599), ('caves', 2991), ('swarms', 17123), ('coraleating', 3986), ('starfish', 16608), ('oddsville', 12226), ('dressed', 5349), ('spookycostume', 16498), ('oddbods', 12223), ('bubbless', 2549), ('naughtyornice', 11781), ('zaps', 19569), ('jeopardizing', 9383), ('settop', 15622), ('domino', 5217), ('ease', 5508), ('freewheeling', 7037), ('insightful', 9029), ('uselessness', 18548), ('degrees', 4645), ('swayed', 17126), ('spaniards', 16370), ('advertised', 596), ('amaia', 882), ('baztan', 1786), ('worthiness', 19379), ('terrence', 17462), ('downe', 5274), ('scientifically', 15324), ('supercop', 16996), ('jan', 9322), ('hacks', 7837), ('obstetrician', 12191), ('thirties', 17581), ('wimpy', 19219), ('oggy', 12271), ('snooze', 16192), ('bothered', 2331), ('cockroaches', 3493), ('replacing', 14514), ('confidently', 3779), ('libidinous', 10185), ('haughty', 8020), ('ghostbusting', 7370), ('lurk', 10512), ('taew', 17230), ('mod', 11386), ('dum', 5425), ('cartoons', 2914), ('communicates', 3662), ('shopkeeper', 15815), ('kanji', 9615), ('bhai', 1991), ('lawsuit', 10039), ('policy', 13288), ('cover', 4086), ('grownups', 7728), ('concoction', 3748), ('yuck', 19542), ('mates', 10853), ('ickiest', 8643), ('geriatrics', 7353), ('andrei', 975), ('aloof', 844), ('schoolmate', 15309), ('ramona', 14041), ('anemona', 986), ('septuagenarian', 15574), ('snapped', 16171), ('upperclass', 18510), ('exflames', 6148), ('ethics', 6016), ('timothy', 17699), ('mcveighs', 10927), ('1900', 90), ('munich', 11620), ('brewer', 2443), ('curt', 4344), ('dominate', 5207), ('oktoberfest', 12286), ('cerrado', 3037), ('savanna', 15229), ('deforestation', 4630), ('backstabbing', 1585), ('blackmail', 2107), ('underreported', 18297), ('snail', 16165), ('salma', 15140), ('monitored', 11441), ('247', 226), ('surveillance', 17082), ('mystic', 11676), ('parental', 12736), ('dysfunction', 5477), ('innercity', 9000), ('drugrelated', 5391), ('offense', 12245), ('stefano', 16672), ('cucchi', 4291), ('transitions', 17942), ('regular', 14358), ('neill', 11848), ('10year', 16), ('retreats', 14656), ('ezra', 6309), ('standout', 16594), ('meighan', 11006), ('sergio', 15588), ('pizzorno', 13166), ('20plus', 206), ('moby', 11379), ('guitarist', 7778), ('rodgers', 14894), ('sessions', 15609), ('onerepublic', 12345), ('tlc', 17726), ('demolition', 4696), ('youssef', 19535), ('disciple', 5003), ('sect', 15426), ('tutelage', 18146), ('temperamental', 17409), ('sage', 15106), ('ushering', 18553), ('outlived', 12519), ('compassion', 3680), ('shoaib', 15800), ('pressing', 13532), ('spaghetti', 16366), ('flinty', 6786), ('gunslinger', 7796), ('railroad', 14002), ('transamerican', 17919), ('solicits', 16258), ('overlooked', 12561), ('latina', 9996), ('branch', 2390), ('spurlock', 16530), ('combination', 3595), ('ar', 1144), ('rahman', 13994), ('satnam', 15216), ('bhamara', 1992), ('indiaborn', 8871), ('boozefueled', 2303), ('vancouver', 18601), ('dentist', 4717), ('infertility', 8936), ('assisted', 1344), ('reproduction', 14533), ('disappointment', 4985), ('disharmony', 5043), ('ostracism', 12479), ('ultraorthodox', 18230), ('athleteturnedsportscaster', 1384), ('flex', 6769), ('breanna', 2428), ('luffy', 10493), ('straw', 16795), ('jeongin', 9380), ('jiho', 9417), ('6th', 314), ('senbatsu', 15539), ('ennui', 5848), ('izmir', 9283), ('crimeboss', 4178), ('flies', 6774), ('supervise', 17029), ('ware', 18947), ('domesticated', 5204), ('perennially', 12944), ('pestered', 13001), ('musics', 11656), ('onehit', 12337), ('crimeplagued', 4183), ('aide', 682), ('airborne', 701), ('pave', 12855), ('map', 10735), ('adventurers', 589), ('trekked', 17993), ('klondike', 9784), ('mekong', 11011), ('ending', 5788), ('arouses', 1234), ('operator', 12381), ('drs', 5381), ('xand', 19440), ('tulleken', 18107), ('educate', 5566), ('yiseuls', 19508), ('baekho', 1607), ('evacuate', 6031), ('yemen', 19493), ('sympathetic', 17187), ('kwangtung', 9880), ('tigers', 17672), ('chiaosan', 3203), ('opium', 12386), ('exonerated', 6181), ('weeds', 19042), ('civic', 3344), ('pickpockets', 13081), ('onemonthold', 12341), ('punkrock', 13830), ('biryani', 2083), ('plate', 13192), ('hazards', 8043), ('marauding', 10741), ('chickens', 3213), ('adversaries', 593), ('unveil', 18470), ('implant', 8782), ('beta', 1964), ('yields', 19502), ('induces', 8896), ('timecompressed', 17686), ('explanations', 6224), ('modus', 11399), ('operandi', 12373), ('of', 12234), ('kuttappayi', 9877), ('tommaso', 17761), ('buscetta', 2646), ('toplevel', 17784), ('testify', 17486), ('generate', 7310), ('wireless', 19258), ('dumps', 5428), ('lovechallenged', 10446), ('bookshop', 2283), ('scope', 15336), ('produce', 13635), ('heres', 8173), ('percussions', 12940), ('merits', 11080), ('canon', 2797), ('addie', 519), ('platonically', 13196), ('alleviate', 801), ('loneliness', 10351), ('blossom', 2180), ('haruhi', 7994), ('ouran', 12494), ('guerrillas', 7758), ('yield', 19501), ('tortured', 17810), ('brainwashed', 2384), ('australias', 1464), ('bigrig', 2029), ('wildfires', 19193), ('downpours', 5280), ('chassisdeep', 3137), ('haves', 8030), ('havenots', 8029), ('gabaldons', 7178), ('fantasyromance', 6409), ('timecrossed', 17687), ('exroyal', 6263), ('38yearold', 263), ('advocated', 605), ('android', 979), ('bastian', 1751), ('notsocheery', 12083), ('province', 13751), ('advisors', 603), ('pounds', 13424), ('carves', 2916), ('adviser', 600), ('ozarks', 12606), ('launder', 10014), ('500', 289), ('appease', 1112), ('grandma', 7605), ('orchestrated', 12421), ('duck', 5409), ('wombat', 19311), ('chumpkins', 3310), ('tumor', 18112), ('paan', 12609), ('tomar', 17753), ('brigand', 2464), ('planned', 13183), ('skydwelling', 16054), ('sinning', 15987), ('botch', 2328), ('wellintentioned', 19078), ('theyyam', 17558), ('conceals', 3733), ('abortions', 384), ('practitioner', 13445), ('crayons', 4136), ('drugtrafficking', 5394), ('druglord', 5390), ('eyewitness', 6306), ('pac', 12611), ('pacworld', 12629), ('betrayus', 1973), ('pacenstein', 12613), ('cyli', 4379), ('pacula', 12628), ('statue', 16645), ('andean', 966), ('shaman', 15684), ('covert', 4090), ('perus', 12996), ('coastline', 3480), ('humiliation', 8564), ('markets', 10778), ('hygienic', 8612), ('lowcost', 10460), ('sanitary', 15180), ('pad', 12631), ('poorest', 13328), ('ignoring', 8686), ('superstitions', 17024), ('underbelly', 18282), ('statwart', 16648), ('vijaydan', 18742), ('detha', 4825), ('nepal', 11860), ('profitseekers', 13662), ('fictionalized', 6594), ('plunge', 13237), ('hustling', 8598), ('despairing', 4787), ('blame', 2123), ('yus', 19555), ('peking', 12907), ('pajanimals', 12661), ('roberto', 14861), ('palazuelos', 12669), ('siena', 15900), ('forum', 6943), ('ofelia', 12236), ('faun', 6474), ('influenza', 8955), ('lowly', 10467), ('imminent', 8750), ('catandmouse', 2958), ('burglars', 2626), ('maratha', 10738), ('afghan', 629), ('lebanons', 10088), ('paradoxes', 12710), ('stemming', 16676), ('lied', 10192), ('stan', 16587), ('amazingly', 898), ('paprika', 12705), ('paquita', 12706), ('mehdi', 11004), ('moonlights', 11476), ('bumble', 2594), ('squabble', 16539), ('snort', 16193), ('neil', 11847), ('sow', 16354), ('seeds', 15441), ('daryl', 4467), ('playground', 13206), ('hematologist', 8154), ('plunged', 13238), ('inexplicable', 8916), ('unwillingly', 18476), ('gotoguy', 7560), ('investigations', 9184), ('micah', 11137), ('ouija', 12493), ('communicating', 3663), ('parasites', 12728), ('migi', 11175), ('docile', 5158), ('parasitic', 12729), ('parchís', 12733), ('companycreated', 3676), ('boygirl', 2366), ('balls', 1649), ('sustenance', 17109), ('whatifs', 19114), ('sassier', 15204), ('dirtier', 4971), ('insisting', 9031), ('fliegender', 6773), ('zirkus', 19612), ('probing', 13614), ('fingablast', 6665), ('slizzard', 16112), ('paskal', 12792), ('cutter', 4364), ('rane', 14062), ('delivered', 4671), ('trends', 17998), ('como', 3670), ('considerate', 3846), ('remove', 14466), ('microchips', 11148), ('highlighting', 8229), ('18541867', 70), ('foundational', 6953), ('flatlining', 6746), ('sunday', 16979), ('spoiling', 16484), ('screenplay', 15374), ('farcical', 6414), ('craziness', 4141), ('patton', 12846), ('oswalt', 12482), ('glut', 7476), ('dread', 5333), ('dennys', 4714), ('proms', 13692), ('clown', 3457), ('miserly', 11304), ('amount', 931), ('embarrassment', 5699), ('particularly', 12774), ('harrison', 7985), ('corey', 3992), ('appraise', 1123), ('expensive', 6207), ('parikshit', 12743), ('jayesh', 9354), ('parag', 12711), ('bhavesh', 1995), ('applicants', 1116), ('cremation', 4169), ('mortuary', 11513), ('1919', 97), ('birmingham', 2077), ('feudalistic', 6579), ('revolt', 14705), ('oppressed', 12397), ('adventurefilled', 586), ('starck', 16604), ('18000kilometer', 63), ('maks', 10642), ('nak', 11712), ('manganiello', 10690), ('peewee', 12905), ('masses', 10830), ('childlike', 3228), ('avalanche', 1494), ('skates', 16020), ('glides', 7445), ('carols', 2890), ('charo', 3125), ('indigent', 8880), ('subsidy', 16910), ('suspension', 17102), ('oncelegendary', 12325), ('exmovie', 6179), ('pusher', 13859), ('cochlear', 3490), ('implants', 8783), ('nationally', 11766), ('manipuri', 10706), ('background', 1580), ('qualifier', 13891), ('superfan', 16997), ('seclusion', 15416), ('penguin', 12912), ('skipper', 16043), ('kowalski', 9842), ('rico', 14752), ('suave', 16891), ('powermad', 13437), ('octavius', 12217), ('brine', 2474), ('dorian', 5246), ('woven', 19386), ('remakes', 14444), ('stretch', 16819), ('policewoman', 13285), ('longrunning', 10376), ('ro', 14836), ('scent', 15286), ('glands', 7431), ('excised', 6115), ('menstruation', 11052), ('pads', 12634), ('stride', 16825), ('reese', 14306), ('finch', 6653), ('critically', 4210), ('medium', 10980), ('shopper', 15819), ('pete', 13004), ('davidson', 4486), ('hilltop', 8276), ('vermont', 18679), ('backbreaking', 1573), ('grizzled', 7701), ('organic', 12441), ('dunning', 5438), ('rascally', 14098), ('veggies', 18641), ('mcgregors', 10918), ('pettersson', 13014), ('findus', 6659), ('highlands', 8226), ('1126', 20), ('madman', 10571), ('beckett', 1829), ('wrongful', 19424), ('termination', 17457), ('ajay', 715), ('ria', 14730), ('disfiguring', 5034), ('festering', 6572), ('4bia', 283), ('swapping', 17120), ('participant', 12768), ('menstruating', 11051), ('braves', 2405), ('stigmas', 16710), ('napkins', 11728), ('labrador', 9895), ('puppies', 13838), ('20month', 205), ('chasm', 3136), ('spellbinding', 16424), ('psychosexual', 13782), ('ann', 1019), ('opts', 12409), ('twoyearold', 18184), ('usaustralian', 18544), ('pine', 13119), ('fissures', 6703), ('stoned', 16737), ('server', 15600), ('unjustly', 18385), ('attacker', 1403), ('defended', 4614), ('pinkfong', 13123), ('pinky', 13126), ('malinky', 10663), ('wiener', 19181), ('guileless', 7768), ('preserved', 13518), ('1915', 96), ('1946', 114), ('restores', 14617), ('transcended', 17921), ('thakur', 17512), ('avadh', 1490), ('scrape', 15365), ('convictions', 3946), ('hardscrabble', 7959), ('pj', 13167), ('masks', 10824), ('aamir', 342), ('rajkumar', 14025), ('hirani', 8296), ('blossoms', 2182), ('waning', 18937), ('reminiscent', 14456), ('suburbia', 16918), ('treated', 17983), ('diversity', 5131), ('himalayan', 8279), ('everywhere', 6067), ('sakaar', 15123), ('musclebound', 11642), ('slavery', 16073), ('preworld', 13553), ('purport', 13846), ('sergeants', 15586), ('semiautobiographical', 15532), ('writerdirector', 19412), ('oliver', 12300), ('romania', 14930), ('coaching', 3474), ('soothe', 16305), ('chambers', 3063), ('ubisoft', 18207), ('offices', 12257), ('vandenberghes', 18605), ('pnl', 13244), ('hypnotic', 8621), ('visuals', 18815), ('dans', 4441), ('légende', 10538), ('bercy', 1935), ('pocoyo', 13251), ('richly', 14747), ('most', 11522), ('pocoyos', 13252), ('spooked', 16493), ('golf', 7514), ('goh', 7501), ('fellows', 6538), ('cerises', 3035), ('pokémon', 13273), ('pikachu', 13103), ('hooh', 8415), ('fula', 7116), ('alola', 839), ('ketchum', 9693), ('aim', 690), ('ashs', 1297), ('misty', 11343), ('brock', 2496), ('mewtwo', 11123), ('artificially', 1271), ('polaroid', 13276), ('afterward', 645), ('shrink', 15861), ('polly', 13306), ('petite', 13009), ('rehabilitate', 14361), ('trustworthy', 18088), ('fourpanel', 6962), ('popuko', 13338), ('pipimi', 13138), ('stomp', 16735), ('wim', 19218), ('wenders', 19090), ('pontiffs', 13318), ('humanist', 8544), ('wrecks', 19400), ('superstrong', 17027), ('sailor', 15115), ('popeye', 13332), ('washes', 18979), ('ashore', 1294), ('rooming', 14956), ('oyl', 12604), ('popple', 13335), ('pororo', 13348), ('loopy', 10395), ('beaver', 1825), ('poby', 13248), ('crong', 4217), ('brownstein', 2529), ('ore', 12436), ('artisanal', 1273), ('bulbs', 2584), ('bookstores', 2285), ('portuguese', 13366), ('resonating', 14590), ('1987', 152), ('fixture', 6723), ('blanca', 2127), ('spells', 16427), ('revelers', 14684), ('capsizes', 2818), ('scholastic', 15300), ('brusque', 2535), ('raconteur', 13967), ('faints', 6348), ('stunned', 16876), ('promoting', 13687), ('vasectomies', 18622), ('alreadydelicate', 856), ('bigfoot', 2020), ('jino', 9430), ('bluewill', 2195), ('butting', 2669), ('stuntman', 16880), ('figuresized', 6618), ('energems', 5805), ('sledge', 16080), ('returned', 14665), ('accomplished', 439), ('dino', 4952), ('gems', 7301), ('enabling', 5763), ('mesogog', 11091), ('turbo', 18125), ('tj', 17725), ('cassie', 2932), ('ashley', 1293), ('zordon', 19626), ('specter', 16411), ('rumble', 15032), ('graves', 7631), ('mariner', 10768), ('lightspeed', 10222), ('quasar', 13903), ('sabers', 15082), ('scorpius', 15347), ('unleashed', 18390), ('sorceress', 16314), ('udonna', 18209), ('empowers', 5754), ('galvanax', 7219), ('lothor', 10426), ('shane', 15689), ('waldo', 18904), ('dillon', 4940), ('troobian', 18054), ('bsquad', 2544), ('delta', 4677), ('morphs', 11503), ('squash', 16547), ('symbols', 17186), ('shiba', 15762), ('rpm', 15006), ('xandreds', 19442), ('mooger', 11471), ('creepiest', 4166), ('netherworld', 11878), ('megaforce', 10994), ('vekar', 18646), ('augments', 1449), ('vrak', 18866), ('mavro', 10884), ('armada', 1216), ('xandred', 19441), ('serrator', 15594), ('megazords', 11003), ('nighlok', 11954), ('illusion', 8713), ('ransik', 14075), ('divatox', 5123), ('divazords', 5124), ('org', 12439), ('morphin', 11501), ('acquired', 469), ('zeo', 19591), ('scariest', 15268), ('conjures', 3811), ('robo', 14865), ('donated', 5222), ('ramblings', 14036), ('lynchpin', 10532), ('frights', 7075), ('hiddencamera', 8204), ('fullblown', 7122), ('capras', 2814), ('authoritarianism', 1469), ('liberty', 10184), ('prior', 13589), ('coronation', 3998), ('stern', 16697), ('springboard', 16521), ('fda', 6489), ('wander', 18931), ('fran', 6983), ('lebowitz', 10090), ('scorsese', 15348), ('heartstrings', 8093), ('bloodspattered', 2171), ('studious', 16865), ('teddys', 17375), ('missed', 11321), ('snowed', 16198), ('emil', 5722), ('moose', 11479), ('printing', 13587), ('options', 12408), ('sliver', 16111), ('stepniece', 16686), ('data', 4473), ('oceanside', 12216), ('addison', 521), ('montgomery', 11459), ('holistic', 8362), ('disguise', 5037), ('courted', 4074), ('wellestablished', 19076), ('amendment', 911), ('prohibiting', 13671), ('repeal', 14504), ('mocked', 11382), ('rebuffed', 14193), ('erodes', 5955), ('mckeyla', 10924), ('supersmart', 17017), ('pauses', 12854), ('exsoldier', 6264), ('pill', 13112), ('autistic', 1475), ('badminton', 1605), ('skateboarder', 16018), ('archeryclub', 1170), ('ferencz', 6556), ('nuremberg', 12126), ('gem', 7299), ('masquerades', 10826), ('gullible', 7783), ('garus', 7265), ('pucca', 13796), ('madoka', 10573), ('kaname', 9608), ('fanbase', 6393), ('couture', 4084), ('handbag', 7899), ('puffin', 13801), ('puffling', 13803), ('oona', 12363), ('baba', 1562), ('code', 3501), ('61', 311), ('stylized', 16890), ('burgerloving', 2623), ('philosophical', 13041), ('misjudged', 11314), ('labeled', 9890), ('rebarkable', 14181), ('cutest', 4362), ('cuddliest', 4293), ('dognapped', 5187), ('musicfilled', 11651), ('yorkie', 19522), ('replaces', 14513), ('pooches', 13323), ('wrath', 19393), ('busted', 2659), ('tumbling', 18110), ('humpty', 8569), ('dumpty', 5429), ('softpaws', 16241), ('accounting', 444), ('onceidyllic', 12322), ('removed', 14467), ('commitmentphobe', 3646), ('questioning', 13917), ('into', 9143), ('quentin', 13913), ('35yearold', 258), ('quarterbacks', 13898), ('landowner', 9953), ('statesman', 16638), ('shang', 15690), ('enact', 5764), ('reforms', 14321), ('chandigarh', 3077), ('realms', 14160), ('audiovisual', 1443), ('hardstyle', 7962), ('qlimax', 13884), ('javier', 9349), ('implicates', 8786), ('trainee', 17905), ('parrish', 12761), ('hour', 8495), ('2006s', 179), ('royale', 15003), ('infiltrated', 8941), ('mi6', 11133), ('verdis', 18676), ('sours', 16341), ('33yearold', 255), ('bounds', 2346), ('gertrude', 7360), ('turnofthecentury', 18140), ('sono', 16297), ('ism', 9252), ('unturned', 18466), ('pitting', 13159), ('fab', 6310), ('advise', 599), ('grooming', 7710), ('neardrowning', 11809), ('imitate', 8738), ('stockholm', 16729), ('suburb', 16916), ('welladjusted', 19069), ('wedemeyer', 19038), ('gehrigs', 7296), ('sharpshooting', 15720), ('shrunk', 15863), ('wonderfilled', 19316), ('item', 9273), ('goods', 7530), ('nebbish', 11817), ('americaneducated', 916), ('scion', 15330), ('retire', 14645), ('swindled', 17149), ('luster', 10517), ('thickens', 17562), ('halfbrothers', 7863), ('ranvir', 14077), ('dadá', 4399), ('figueiredo', 6615), ('trendsetting', 17999), ('lends', 10127), ('unpopular', 18415), ('valve', 18597), ('radium', 13977), ('bessie', 1954), ('raees', 13980), ('gujarats', 7780), ('banaś', 1662), ('michał', 11140), ('leja', 10120), ('offcolor', 12242), ('rafinha', 13984), ('bastos', 1753), ('lamotta', 9935), ('undone', 18315), ('sensuous', 15558), ('rigged', 14771), ('raginis', 13992), ('sleazy', 16078), ('pollution', 13304), ('melting', 11024), ('glaciers', 7426), ('labyrinth', 9897), ('occupation', 12200), ('savant', 15230), ('raymond', 14125), ('mistreated', 11339), ('teddy', 17374), ('choco', 3264), ('developmentally', 4845), ('fonz', 6862), ('kinky', 9762), ('partnerincrime', 12778), ('gujarat', 7779), ('resentful', 14560), ('internetrookie', 9105), ('cleaver', 3407), ('exdruggie', 6133), ('loathed', 10305), ('grasp', 7624), ('videogame', 18721), ('ralph', 14031), ('vanellope', 18606), ('ralphie', 14032), ('waffles', 18880), ('maui', 10874), ('pioneering', 13134), ('dass', 4472), ('calcutta', 2724), ('ramen', 14038), ('masato', 10816), ('retrace', 14652), ('lonewolf', 10356), ('williamson', 19205), ('cheong', 3187), ('envoy', 5915), ('chameleon', 3064), ('rango', 14068), ('indoburma', 8886), ('qawwal', 13877), ('hiphops', 8292), ('1947', 115), ('ratched', 14103), ('exterior', 6275), ('ratones', 14109), ('paranoicos', 12724), ('featured', 6504), ('icky', 8644), ('snakebite', 16167), ('repay', 14503), ('sundown', 16982), ('quebec', 13906), ('romano', 14933), ('cellar', 3012), ('23', 221), ('sweep', 17133), ('20thcentury', 211), ('sultanate', 16962), ('eleven', 5644), ('restrained', 14619), ('atsushi', 1398), ('tamura', 17284), ('salman', 15141), ('perfume', 12957), ('cadre', 2703), ('2000', 172), ('supermarket', 17007), ('bombs', 2257), ('schneider', 15296), ('fighterturnedpromoter', 6612), ('oldgeneration', 12294), ('contender', 3888), ('postgrad', 13394), ('outandproud', 12498), ('imposing', 8792), ('firmly', 6687), ('plato', 13194), ('seminar', 15534), ('psychodrama', 13774), ('seduction', 15437), ('cybersuperheroes', 4371), ('mikey', 11188), ('unreliable', 18428), ('stepbrother', 16678), ('dale', 4410), ('mage', 10583), ('siluca', 15923), ('wanders', 18933), ('atlatan', 1390), ('errant', 5959), ('theo', 17538), ('farmingbased', 6424), ('paratroopers', 12731), ('systematically', 17196), ('rabindranath', 13952), ('tagore', 17234), ('notice', 12075), ('parallels', 12716), ('nazioccupied', 11795), ('assumed', 1351), ('grades', 7582), ('cairos', 2715), ('exists', 6169), ('innovator', 9009), ('grits', 7698), ('yates', 19476), ('unifying', 18366), ('principles', 13584), ('regiments', 14348), ('scots', 15352), ('magazines', 10582), ('capper', 2813), ('rechristens', 14214), ('reggae', 14341), ('cloaked', 3439), ('bluesman', 2193), ('jara', 9336), ('1973', 137), ('symbol', 17183), ('tonight', 17769), ('showband', 15841), ('cooke', 3957), ('drew', 5350), ('contributed', 3920), ('33', 254), ('nixons', 11989), ('rundmc', 15041), ('1976', 140), ('marley', 10780), ('zev', 19595), ('tylers', 18190), ('strained', 16773), ('unveiling', 18471), ('extracts', 6283), ('fixated', 6717), ('humiliate', 8561), ('rapists', 14086), ('shi', 15761), ('reviving', 14704), ('combustible', 3600), ('cellist', 3014), ('welsh', 19088), ('supersoldier', 17018), ('alice', 777), ('sanctuary', 15167), ('spur', 16529), ('residente', 14573), ('script', 15379), ('gentrified', 7335), ('wendy', 19091), ('whelan', 19122), ('likeminded', 10227), ('endangers', 5783), ('13thcentury', 34), ('sultans', 16963), ('andes', 969), ('artisans', 1274), ('disillusion', 5051), ('scammer', 15253), ('gangraped', 7246), ('supporters', 17040), ('lid', 10190), ('overturn', 12582), ('roe', 14899), ('shibuya', 15764), ('timewarps', 17694), ('2388', 222), ('daisuke', 4405), ('conscripted', 3836), ('ahrv', 677), ('revisions', 14696), ('roald', 14842), ('dahl', 4401), ('illustrator', 8719), ('blake', 2122), ('thirdgeneration', 17575), ('emptiness', 5756), ('albanian', 738), ('rezeta', 14721), ('daisy', 4406), ('snackable', 16161), ('snapworthy', 16174), ('rhys', 14727), ('nicholson', 11936), ('flexes', 6770), ('tranquilizers', 17915), ('harris', 7984), ('cardi', 2841), ('ricardo', 14736), ('ofarrill', 12235), ('observational', 12176), ('sarcasm', 15198), ('specific', 16407), ('sensibility', 15555), ('expressive', 6257), ('astute', 1373), ('sensibilities', 15554), ('tease', 17357), ('unscathed', 18439), ('droll', 5368), ('quevedo', 13921), ('teto', 17492), ('paula', 12848), ('pryors', 13766), ('richie', 14746), ('trillion', 18033), ('nonstop', 12026), ('slings', 16106), ('snark', 16175), ('blowout', 2185), ('weirdos', 19061), ('suggesting', 16947), ('kaoru', 9621), ('rilakkuma', 14782), ('endearingly', 5784), ('fuzzy', 7173), ('pandharpur', 12686), ('blessing', 2139), ('suffocating', 16943), ('andries', 978), ('riphagen', 14796), ('ripper', 14797), ('ottoman', 12492), ('sultan', 16961), ('mehmed', 11005), ('byzantine', 2688), ('constantinople', 3860), ('transformations', 17931), ('14th', 38), ('trails', 17902), ('matrimonial', 10861), ('endlessly', 5791), ('paralympic', 12717), ('fares', 6416), ('auctioned', 1437), ('bidders', 2012), ('atlético', 1391), ('plates', 13193), ('haruna', 7995), ('yamada', 19465), ('unreasonably', 18426), ('riverdale', 14827), ('krumping', 9856), ('originated', 12451), ('threatening', 17609), ('overpower', 12567), ('alfonso', 769), ('cuarón', 4283), ('roma', 14924), ('presses', 13531), ('repair', 14498), ('gandhi', 7238), ('victoria', 18712), ('izu', 9284), ('longrepressed', 10375), ('discord', 5013), ('bigtime', 2031), ('pong', 13315), ('pif', 13098), ('saviano', 15235), ('gomorrah', 7518), ('exposé', 6252), ('nottingham', 12086), ('hood', 8411), ('brooms', 2513), ('robocar', 14866), ('poli', 13279), ('robotruck', 14873), ('robotechnology', 14869), ('homemade', 8381), ('siffredi', 15902), ('showcased', 15844), ('defect', 4611), ('stallion', 16584), ('lifethreatening', 10209), ('fulfilling', 7119), ('rocko', 14885), ('otown', 12489), ('sylvester', 17180), ('stallone', 16585), ('balboa', 1633), ('creed', 4163), ('publicity', 13791), ('stunt', 16879), ('climax', 3424), ('reigning', 14368), ('pounding', 13423), ('humbled', 8558), ('exrival', 6262), ('regaining', 14333), ('pulverized', 13813), ('rockys', 14890), ('careerless', 2853), ('carrington', 2899), ('poking', 13272), ('gaining', 7199), ('guenveur', 7755), ('beating', 1817), ('sponsored', 16487), ('corporations', 4004), ('assembled', 1328), ('steubenville', 16700), ('paraplegic', 12727), ('cordell', 3989), ('denver', 4719), ('alchemic', 744), ('rolling', 14923), ('revue', 14712), ('ripe', 14795), ('reinvention', 14386), ('commodus', 3654), ('romes', 14942), ('naturally', 11776), ('sonoko', 16298), ('tetsuo', 17493), ('editorinchief', 5560), ('esra', 5994), ('quits', 13942), ('didem', 4902), ('cem', 3016), ('costar', 4030), ('leadup', 10060), ('camping', 2771), ('tater', 17326), ('salad', 15128), ('cynicism', 4381), ('colemans', 3534), ('here', 8171), ('ronny', 14949), ('chieng', 3218), ('asians', 1302), ('haeryung', 7843), ('historians', 8310), ('dominique', 5216), ('strausskahn', 16794), ('lotterysquandering', 10429), ('32yearold', 253), ('sublets', 16900), ('disarmingly', 4991), ('creepy', 4168), ('braid', 2376), ('broom', 2511), ('dogphobic', 5189), ('mielle', 11170), ('hydrocephalus', 8610), ('classical', 3380), ('rodeo', 14893), ('councilman', 4040), ('scovel', 15359), ('unfocused', 18343), ('mystify', 11678), ('thong', 17590), ('vengeanceobsessed', 18659), ('welloff', 19082), ('touristoccupied', 17840), ('foreigner', 6899), ('befoes', 1848), ('15k', 44), ('roxannes', 14999), ('roxanne', 14998), ('shante', 15695), ('lawson', 10038), ('freelance', 7028), ('crust', 4269), ('hector', 8107), ('maribels', 10760), ('payback', 12867), ('biotechnology', 2068), ('rugrats', 15018), ('pickles', 13079), ('euroreptarland', 6028), ('exmma', 6178), ('reduced', 14291), ('jhanvi', 9408), ('jhanvis', 9409), ('ganpat', 7250), ('veering', 18632), ('preset', 13520), ('pace', 12612), ('translator', 17943), ('columnist', 3586), ('bihari', 2034), ('elope', 5669), ('nomadic', 12014), ('swordsman', 17169), ('meijiera', 11007), ('40year', 273), ('rockers', 14882), ('formation', 6925), ('loquacious', 10402), ('ruminates', 15034), ('howard', 8513), ('plows', 13231), ('shortcomings', 15828), ('terrier', 17465), ('hunk', 8578), ('fourpart', 6963), ('furniture', 7158), ('reveling', 14685), ('ridiculously', 14761), ('stereotype', 16692), ('unsatirized', 18436), ('nadia', 11698), ('reliving', 14430), ('barrel', 1720), ('careerseeking', 2857), ('avery', 1509), ('shoaf', 15799), ('connor', 3824), ('mile', 11199), ('retro', 14660), ('hopefully', 8432), ('decorated', 4582), ('premeditated', 13490), ('folksy', 6848), ('hotair', 8485), ('ballooning', 1646), ('dalessandro', 4412), ('anticorruption', 1054), ('luk', 10497), ('pokeung', 13271), ('betting', 1979), ('drafting', 5303), ('blindsided', 2148), ('fidelity', 6596), ('spontaneously', 16490), ('hated', 8014), ('dislikes', 5056), ('megalopolis', 10997), ('nonmaterialistic', 12021), ('confounding', 3792), ('polio', 13290), ('manufacturer', 10729), ('terrorized', 17475), ('gianfranco', 7378), ('rosi', 14971), ('minivan', 11264), ('1966s', 129), ('cemetery', 3017), ('exboxer', 6104), ('sadie', 15095), ('mitchell', 11349), ('regression', 14354), ('savior', 15237), ('indiscretion', 8882), ('concerns', 3742), ('scorpion', 15345), ('hooker', 8418), ('afternoon', 644), ('remarry', 14448), ('greek', 7649), ('saint', 15118), ('downward', 5288), ('dakar', 4408), ('syria', 17193), ('retake', 14635), ('abdus', 369), ('salam', 15129), ('achievement', 458), ('samin', 15155), ('nosrat', 12061), ('audacity', 1439), ('onetime', 12349), ('shudders', 15865), ('hbo', 8049), ('kinison', 9760), ('rip', 14794), ('wiltern', 19216), ('segment', 15458), ('screaming', 15370), ('sin', 15950), ('sams', 15160), ('samantha', 15148), ('fringes', 7077), ('harebrained', 7967), ('rocks', 14887), ('disliked', 5055), ('stinginess', 16718), ('windfall', 19223), ('bordering', 2307), ('bongo', 2270), ('kool', 9827), ('herc', 8168), ('sampling', 15159), ('samson', 15161), ('swordandsandals', 17167), ('godgiven', 7493), ('brawn', 2410), ('scare', 15263), ('liri', 10261), ('valley', 18589), ('pietro', 13096), ('example', 6094), ('urmila', 18537), ('shrikant', 15858), ('choosey', 3274), ('sai', 15109), ('bedouin', 1837), ('chafes', 3045), ('checkered', 3165), ('dutt', 5458), ('vincenzo', 18765), ('muccioli', 11587), ('cared', 2849), ('charges', 3107), ('fiji', 6621), ('bureaucrat', 2618), ('realtors', 14162), ('sack', 15086), ('kittens', 9779), ('allergic', 798), ('reaction', 14136), ('happiest', 7936), ('betrayuss', 1974), ('slide', 16102), ('chimneys', 3244), ('lipsynching', 10258), ('posthealth', 13395), ('silverman', 15925), ('yeahshejustwentthere', 19480), ('arresting', 1241), ('archduke', 1166), ('franz', 7005), ('ferdinand', 6555), ('honorable', 8408), ('manisha', 10708), ('favors', 6481), ('manishas', 10709), ('mini', 11251), ('electoral', 5625), ('heated', 8098), ('ageold', 659), ('instrument', 9057), ('traditionalist', 17884), ('percussionist', 12939), ('artistactivist', 1276), ('worldviews', 19364), ('attitudes', 1423), ('busking', 2657), ('corners', 3995), ('contemplate', 3882), ('rebuilds', 14196), ('countrybumpkin', 4058), ('sarajevo', 15196), ('gogetter', 7500), ('priorities', 13590), ('floggings', 6797), ('executions', 6140), ('kanaka', 9607), ('shelters', 15749), ('satirist', 15213), ('saverio', 15233), ('raimondo', 14006), ('whiteknuckle', 19145), ('flights', 6778), ('seismic', 15467), ('walt', 18926), ('poppins', 13334), ('nut', 12135), ('clinging', 3427), ('megan', 10999), ('sayed', 15247), ('12th', 27), ('lehman', 10117), ('ghoulish', 7375), ('syfy', 17176), ('highquality', 8238), ('vote', 18856), ('repent', 14508), ('scream', 15369), ('matrix', 10863), ('swan', 17117), ('inception', 8831), ('widens', 19170), ('oskar', 12476), ('schindler', 15292), ('1100', 19), ('filthyrich', 6643), ('ramshackle', 14050), ('motel', 11526), ('historically', 8313), ('pledging', 13224), ('disadvantaged', 4976), ('schubert', 15314), ('dutifully', 5457), ('schulz', 15316), ('divisive', 5139), ('scissorwielding', 15332), ('hairdressing', 7849), ('quasiassassin', 13904), ('daphnes', 4446), ('moonscar', 11477), ('update', 18493), ('scoobydoo', 15334), ('shaggy', 15668), ('bedeviled', 1835), ('bedlam', 1836), ('nubian', 12111), ('allornothing', 819), ('vanquished', 18612), ('pilgrims', 13110), ('cyberbullying', 4368), ('lakewood', 9921), ('echoes', 5528), ('gale', 7207), ('bestseller', 1960), ('sidney', 15898), ('prescott', 13508), ('steroid', 16698), ('peddler', 12894), ('unlicensed', 18394), ('antiaging', 1049), ('manchildren', 10680), ('tactical', 17223), ('gallivant', 7215), ('debauchery', 4532), ('executes', 6137), ('osama', 12471), ('ladens', 9904), ('carjacked', 2871), ('implacable', 8781), ('competitions', 3690), ('albums', 743), ('wainraich', 18887), ('minibars', 11253), ('funerals', 7144), ('maniscalco', 10707), ('acerbically', 455), ('peacocks', 12882), ('annoyances', 1031), ('tirade', 17712), ('decorum', 4586), ('weve', 19109), ('beacon', 1800), ('nicknames', 11939), ('dodging', 5176), ('artistically', 1278), ('jennifer', 9377), ('outcasts', 12502), ('dianas', 4885), ('ninth', 11980), ('earl', 5488), ('althorp', 872), ('chatsworth', 3144), ('zenith', 19587), ('500yearold', 295), ('inextricably', 8918), ('viii', 18741), ('downton', 5286), ('highclere', 8217), ('yard', 19474), ('synonymous', 17192), ('selfridge', 15516), ('londoners', 10347), ('untouched', 18465), ('4400', 278), ('decipher', 4570), ('armory', 1224), ('amphitheater', 935), ('parliament', 12754), ('westminster', 19102), ('pageantry', 12637), ('ripples', 14799), ('prodigies', 13631), ('firebrand', 6674), ('allred', 825), ('ambulance', 907), ('organtrafficking', 12446), ('stacked', 16563), ('selena', 15480), ('washerwoman', 18978), ('consciousness', 3835), ('transplanted', 17945), ('bodys', 2228), ('brokers', 2503), ('oppenheim', 12387), ('luxe', 10523), ('buyers', 2674), ('ramps', 14047), ('8yearold', 329), ('klutzy', 9787), ('tekin', 17389), ('ayrton', 1553), ('senna', 15549), ('babylon', 1565), ('telepathically', 17397), ('davina', 4488), ('al', 726), ('revamp', 14676), ('postrevolution', 13402), ('summarily', 16966), ('guatemala', 7752), ('un', 18233), ('diplomat', 4959), ('vieira', 18728), ('mello', 11020), ('dweller', 5465), ('upward', 18528), ('mobility', 11373), ('craved', 4133), ('ruse', 15054), ('freeliving', 7029), ('singlehood', 15973), ('commitmentcraving', 3645), ('ukrainian', 18219), ('assistants', 1343), ('trick', 18018), ('cyprus', 4385), ('alumnus', 877), ('seth', 15613), ('meyers', 11129), ('rogen', 14901), ('combine', 3596), ('madhu', 10568), ('jayaganthan', 9353), ('engrossed', 5829), ('suitable', 16954), ('descendant', 4760), ('dwarfs', 5462), ('shuts', 15875), ('irs', 9236), ('jersey', 9389), ('sundays', 16980), ('reconnection', 14239), ('cantabria', 2800), ('malkin', 10664), ('allexpensespaid', 802), ('highend', 8219), ('otis', 12487), ('maeve', 10579), ('proposes', 13710), ('sextherapy', 15650), ('ins', 9013), ('outs', 12530), ('flare', 6739), ('noses', 12058), ('dadtobe', 4398), ('sextuplet', 15651), ('sort', 16320), ('rearview', 14170), ('urging', 18536), ('disconcertingly', 5011), ('blurry', 2204), ('shaka', 15673), ('zulu', 19633), ('mounting', 11560), ('beachhouse', 1797), ('infested', 8937), ('barnyard', 1718), ('sheepdog', 15737), ('bitzer', 2098), ('pidsley', 13087), ('shirley', 15792), ('oodles', 12362), ('llamas', 10299), ('unguarded', 18356), ('shawn', 15730), ('mendes', 11046), ('constable', 3858), ('sexualitys', 15655), ('legacies', 10103), ('adora', 557), ('shera', 15753), ('nola', 12011), ('averageguy', 1507), ('kirk', 9766), ('dropdeadgorgeous', 5371), ('morning', 11496), ('carroll', 2901), ('shelbys', 15743), ('ardent', 1185), ('unbalanced', 18249), ('doyles', 5289), ('prowls', 13761), ('chanchal', 3075), ('appu', 1137), ('jealousies', 9359), ('tonguetied', 17767), ('witherspoon', 19282), ('sandi', 15173), ('studentunion', 16860), ('sniper', 16185), ('policemen', 13283), ('sixhour', 16011), ('gunfight', 7789), ('shopkins', 15816), ('mart', 10800), ('shopville', 15824), ('peppamint', 12930), ('shoppie', 15820), ('scarletta', 15271), ('gateau', 7272), ('pawville', 12864), ('shoppies', 15821), ('vloggable', 18829), ('dredges', 5347), ('supervisors', 17032), ('eroding', 5956), ('oncesuccessful', 12331), ('stringers', 16831), ('scour', 15355), ('outlets', 12516), ('aptly', 1140), ('mick', 11146), ('songfilled', 16289), ('haredi', 7968), ('doldrums', 5192), ('horizon', 8442), ('fourteen', 6965), ('zaenab', 19564), ('doel', 5178), ('reuniting', 14674), ('outskirts', 12534), ('glass', 7434), ('misdiagnosed', 11301), ('mathematics', 10856), ('wrongnumber', 19427), ('policemans', 13282), ('reluctance', 14435), ('walkietalkie', 18910), ('transcends', 17923), ('similarities', 15930), ('decadeold', 4546), ('permeating', 12967), ('moonbot', 11473), ('storytellers', 16764), ('inventors', 9176), ('heather', 8099), ('compaq', 3678), ('founders', 6958), ('1982', 147), ('goliath', 7516), ('ibm', 8633), ('pc', 12876), ('dominance', 5205), ('postmarriage', 13399), ('oncewealthy', 12333), ('pat', 12815), ('unstable', 18451), ('simon', 15935), ('communication', 3664), ('introspective', 9155), ('amstell', 939), ('ayahuasca', 1550), ('manu', 10725), ('nna', 11991), ('telenovelas', 17395), ('mezcal', 11130), ('irate', 9217), ('crooner', 4223), ('sinatras', 15954), ('fond', 6859), ('bangladeshi', 1679), ('margins', 10755), ('tituss', 17723), ('burgess', 2624), ('notes', 12072), ('palina', 12672), ('rojinski', 14911), ('shyam', 15881), ('singaporeans', 15960), ('terrain', 17460), ('collectors', 3551), ('frames', 6982), ('bajirao', 1620), ('somewhat', 16280), ('pathetic', 12822), ('feedback', 6517), ('condominium', 3758), ('inhabited', 8972), ('preys', 13556), ('favela', 6475), ('maintaining', 10622), ('groomtobe', 7712), ('jaegers', 9301), ('sirius', 15991), ('werewolf', 19095), ('yuliy', 19547), ('startling', 16626), ('tia', 17651), ('landry', 9954), ('tamera', 17280), ('campbell', 2768), ('vendetta', 18650), ('roxy', 15000), ('edie', 5552), ('pari', 12741), ('nuances', 12110), ('arabian', 1147), ('complexions', 3701), ('naya', 11790), ('colorisms', 3576), ('sheila', 15741), ('nazarian', 11793), ('selves', 15530), ('rupaul', 15052), ('shunning', 15872), ('aleck', 756), ('pyrotechnic', 13874), ('cai', 2712), ('guoqiang', 7801), ('vietnamese', 18735), ('sơn', 17205), ('tùng', 18203), ('mtp', 11585), ('concerts', 3744), ('aerobatics', 611), ('fredric', 7020), ('aerobatic', 610), ('skylander', 16055), ('hurled', 8587), ('fathertobe', 6468), ('imagines', 8734), ('parent', 12735), ('rampaging', 14045), ('carnage', 2883), ('hooking', 8420), ('philanderers', 13031), ('reform', 14318), ('insomnia', 9033), ('motivational', 11538), ('speaker', 16395), ('sleepover', 16087), ('archrivals', 1182), ('murdering', 11631), ('highrise', 8240), ('slobby', 16114), ('robby', 14859), ('junkie', 9567), ('collectable', 3545), ('prostitution', 13723), ('sixyear', 16012), ('compelled', 3684), ('selfredemption', 15512), ('lawrence', 10035), ('wetherhold', 19107), ('biannual', 2000), ('collisions', 3560), ('definitely', 4627), ('encouraged', 5776), ('embezzled', 5703), ('flays', 6757), ('skins', 16041), ('spotting', 16508), ('clip', 3433), ('sneaker', 16180), ('wheelingdealing', 19120), ('congressman', 3808), ('taliban', 17266), ('wheeler', 19119), ('hal', 7858), ('dreaded', 5334), ('meteorologist', 11112), ('snowdens', 16197), ('remaining', 14441), ('circling', 3329), ('classdivided', 3377), ('viren', 18786), ('instagrams', 9043), ('narrative', 11740), ('indonesias', 8891), ('nationalist', 11763), ('niño', 11990), ('rivera', 14824), ('guadalajaras', 7741), ('degollado', 4642), ('averagegirl', 1506), ('canary', 2779), ('cliff', 3421), ('casanova', 2920), ('han', 7897), ('chewbacca', 3199), ('oncemurderous', 12327), ('holed', 8357), ('ownership', 12598), ('oneeyed', 12336), ('plussized', 13243), ('everybody', 6061), ('rosenthal', 14970), ('lisbon', 10263), ('blindsiding', 2149), ('braces', 2372), ('ballerino', 1641), ('uproar', 18517), ('fiancee', 6584), ('shoot', 15809), ('creep', 4165), ('sanborn', 15164), ('wines', 19232), ('dines', 4949), ('anxiously', 1076), ('receptionist', 14212), ('bickers', 2008), ('doctoral', 5160), ('luminous', 10501), ('funnywoman', 7152), ('sommore', 16283), ('wows', 19388), ('defender', 4615), ('songwriting', 16293), ('sonic', 16294), ('eggman', 5588), ('emeralds', 5713), ('understatement', 18304), ('badly', 1604), ('existed', 6166), ('tussle', 18145), ('sovereignty', 16352), ('sandeep', 15171), ('gunshot', 7795), ('aviation', 1511), ('kongpob', 9821), ('arthit', 1264), ('maka', 10628), ('meister', 11010), ('helpless', 8150), ('cordero', 3990), ('hawaiian', 8033), ('spellbook', 16425), ('volume', 18846), ('finewine', 6664), ('battlbox', 1768), ('explosions', 6241), ('nasa', 11747), ('overthehill', 12577), ('fourstar', 6964), ('militarys', 11208), ('liftoff', 10215), ('robyn', 14877), ('stardust', 16607), ('provincialism', 13753), ('supremes', 17050), ('sparring', 16384), ('thracian', 17605), ('outlast', 12512), ('executioners', 6139), ('reborn', 14189), ('palsy', 12676), ('branches', 2391), ('insular', 9061), ('jeweler', 9402), ('passports', 12806), ('liberdade', 10182), ('spenser', 16433), ('tasting', 17324), ('invincible', 9194), ('crop', 4224), ('bitten', 2092), ('radioactive', 13975), ('webslinging', 19030), ('alternatedimension', 866), ('skating', 16021), ('maricela', 10761), ('mare', 10751), ('herd', 8169), ('miradero', 11279), ('palomino', 12674), ('bluffs', 2196), ('boulder', 2340), ('excity', 6119), ('pru', 13762), ('abigail', 374), ('hiroyuki', 8302), ('ehara', 5597), ('consultations', 3869), ('lastsurviving', 9985), ('wally', 18921), ('spivak', 16470), ('splash', 16471), ('bubbles', 2547), ('dunk', 5436), ('ripple', 14798), ('spookley', 16495), ('pumpkin', 13815), ('editors', 5561), ('molestation', 11417), ('rite', 14815), ('bikinis', 2038), ('springsteen', 16523), ('jamaican', 9316), ('juni', 9563), ('secretagent', 15421), ('alexander', 764), ('minion', 11259), ('pintsize', 13130), ('gary', 7266), ('gerti', 7359), ('giggles', 7394), ('cecil', 2997), ('bore', 2308), ('bureau', 2616), ('phonetapping', 13048), ('unwed', 18473), ('acquaintance', 465), ('farmhouse', 6422), ('reflective', 14316), ('unflappable', 18341), ('civilizations', 3350), ('sisko', 15992), ('multispecies', 11614), ('federation', 6511), ('innovationexpanding', 9006), ('technologies', 17370), ('jeanluc', 9362), ('picard', 13075), ('voyagers', 18863), ('75year', 321), ('quadrant', 13885), ('remnants', 14462), ('kylo', 9884), ('rey', 14718), ('skywalker', 16058), ('zoey', 19617), ('starbeam', 16603), ('kidsized', 9723), ('fishbeard', 6696), ('everybodys', 6062), ('sleeves', 16092), ('tristan', 18043), ('thorn', 17593), ('stargate', 16609), ('roars', 14848), ('oneill', 12338), ('stargates', 16610), ('maneuvers', 10688), ('contradictions', 3916), ('starsky', 16621), ('hutch', 8601), ('huggy', 8531), ('joris', 9496), ('genevieve', 7323), ('gorder', 7541), ('lorimer', 10413), ('moneymaking', 11437), ('showstoppers', 15854), ('unshakeable', 18447), ('plunder', 13236), ('porter', 13355), ('diesel', 4911), ('engines', 5822), ('deliveries', 4672), ('erupting', 5968), ('brennans', 2439), ('dales', 4411), ('materialize', 10849), ('sorority', 16317), ('rhythmically', 14729), ('sisterhood', 15995), ('reminders', 14453), ('oncehappy', 12321), ('eriks', 5952), ('keying', 9699), ('foibles', 6840), ('fearlessness', 6495), ('quips', 13936), ('postpartition', 13400), ('pensioners', 12922), ('scrapes', 15366), ('glasgow', 7433), ('laughin', 10004), ('tomlin', 17759), ('tiffany', 17669), ('haddish', 7839), ('patrick', 12837), ('noting', 12078), ('odor', 12230), ('pajamas', 12660), ('chemical', 3180), ('groms', 7707), ('surfers', 17058), ('woody', 19337), ('moga', 11402), ('apprenticeship', 1127), ('mentors', 11059), ('dupes', 5442), ('outpace', 12523), ('treasureseeking', 17980), ('scavengers', 15280), ('contents', 3892), ('repossessed', 14524), ('storage', 16748), ('units', 18379), ('writings', 19419), ('nobel', 11995), ('early20thcentury', 5493), ('storybots', 16761), ('apps', 1136), ('brainiac', 2382), ('ocd', 12209), ('collegeage', 3555), ('erratically', 5961), ('numbered', 12116), ('unpleasant', 18414), ('disturb', 5113), ('strawberry', 16796), ('shortcake', 15827), ('bitty', 2097), ('rendezvous', 14473), ('noha', 12006), ('impressionable', 8802), ('flavorful', 6752), ('innovation', 9005), ('offerings', 12251), ('armstrong', 1227), ('charter', 3129), ('hoofer', 8414), ('hastings', 8006), ('graceless', 7578), ('quartercentury', 13899), ('madonna', 10574), ('1990', 155), ('indolent', 8887), ('impulsively', 8817), ('cajoles', 2716), ('gabrielle', 7185), ('reece', 14293), ('bongsoon', 2272), ('procures', 13629), ('yance', 19467), ('fords', 6893), ('naturalborn', 11774), ('aldo', 752), ('socioeconomic', 16227), ('disadvantages', 4977), ('scotlands', 15351), ('stony', 16741), ('sculptor', 15386), ('stanislav', 16599), ('szukalski', 17200), ('astounding', 1358), ('stuart', 16852), ('entrenched', 5899), ('lonesome', 10355), ('discotheque', 5014), ('glittery', 7451), ('conservatory', 3843), ('tuition', 18106), ('hellscape', 8143), ('styling', 16887), ('bolden', 2240), ('adair', 503), ('jsn', 9524), ('chicest', 3210), ('neardeath', 11808), ('comrade', 3726), ('endemic', 5787), ('ern', 5953), ('ped', 12893), ('recuperate', 14272), ('spiraling', 16459), ('suffragette', 16944), ('ingredient', 8968), ('besttasting', 1962), ('jolly', 9476), ('prisonerofwar', 13594), ('quartering', 13900), ('gambles', 7229), ('watering', 18993), ('adriatic', 569), ('moccias', 11380), ('911', 333), ('chiara', 3204), ('sunderland', 16981), ('201718', 195), ('relegation', 14412), ('correlation', 4011), ('projects', 13675), ('renewable', 14478), ('bunnies', 2610), ('wherever', 19127), ('3danimated', 265), ('vyom', 18874), ('wedge', 19039), ('lobo', 10310), ('glorb', 7467), ('vida', 18719), ('pitchfork', 13151), ('katya', 9660), ('drac', 5294), ('adorably', 560), ('deck', 4575), ('halls', 7881), ('afraid', 636), ('día', 5481), ('muertos', 11595), ('spooktacular', 16496), ('parade', 12708), ('lend', 10126), ('purple', 13845), ('howlers', 8516), ('unappreciated', 18243), ('drudgery', 5383), ('booze', 2302), ('youngblood', 19529), ('net', 11874), ('avert', 1508), ('kara', 9623), ('danvers', 4443), ('supermans', 17006), ('chitón', 3259), ('lois', 10339), ('lex', 10166), ('luthor', 10521), ('trivia', 18047), ('stuffing', 16869), ('carts', 2915), ('crisscross', 4203), ('aerodynamics', 612), ('processes', 13625), ('enabled', 5761), ('upcoming', 18492), ('statewide', 16639), ('overshadow', 12573), ('closeup', 3451), ('expectant', 6198), ('pras', 13458), ('arini', 1201), ('meirose', 11009), ('momentum', 11424), ('followup', 6857), ('critique', 4213), ('packaged', 12619), ('howto', 8518), ('largerthanlife', 9971), ('bayless', 1784), ('researches', 14556), ('cults', 4309), ('buddhist', 2564), ('americanized', 917), ('revered', 14691), ('tremblay', 17995), ('robb', 14852), ('wells', 19083), ('kickoff', 9711), ('webbased', 19025), ('swearnet', 17128), ('baker', 1622), ('pies', 13095), ('toast', 17728), ('maddie', 10561), ('serenity', 15583), ('triple', 18039), ('shipwrecked', 15790), ('rampant', 14046), ('ayumis', 1556), ('evaporates', 6041), ('envious', 5908), ('zenko', 19589), ('avatars', 1499), ('karen', 9631), ('gaming', 7235), ('pitohui', 13155), ('anonymously', 1035), ('tung', 18119), ('chienchen', 3217), ('wu', 19432), ('tang', 17287), ('nursed', 12128), ('knifethrowing', 9791), ('mitts', 11355), ('billion', 2046), ('encryption', 5779), ('hack', 7833), ('infernal', 8933), ('outgrows', 12509), ('benni', 1928), ('childservices', 3232), ('manav', 10678), ('mansi', 10720), ('mansis', 10722), ('daydreamer', 4494), ('ishaan', 9240), ('histories', 8314), ('confiscated', 3785), ('moneylender', 11436), ('tahaan', 17236), ('conflicttorn', 3791), ('kashmir', 9646), ('simulated', 15943), ('flagging', 6726), ('jumps', 9558), ('miao', 11136), ('fen', 6548), ('supervision', 17030), ('cashier', 2925), ('20082012', 181), ('pep', 12928), ('guardiola', 7750), ('hypercompetitive', 8616), ('adderall', 513), ('coders', 3504), ('beret', 1937), ('jeddah', 9363), ('interschool', 9119), ('conscious', 3834), ('ignorance', 8682), ('singleton', 15977), ('28', 237), ('barbary', 1698), ('cohorts', 3523), ('slouching', 16118), ('6foot1', 312), ('jodi', 9448), ('neglectful', 11835), ('dependency', 4729), ('ved', 18629), ('tango', 17292), ('londonbased', 10344), ('vastly', 18624), ('provoke', 13758), ('fare', 6415), ('ascend', 1285), ('doubting', 5263), ('godly', 7494), ('pilates', 13106), ('rot', 14978), ('decay', 4550), ('monumental', 11466), ('halfway', 7874), ('tomlinson', 17760), ('routes', 14989), ('tayo', 17339), ('duri', 5449), ('neverbefore', 11893), ('pont', 13317), ('schultz', 15315), ('kaylie', 9665), ('konrad', 9825), ('swaps', 17121), ('courtordered', 4077), ('teased', 17358), ('takagisan', 17249), ('middleschooler', 11160), ('nishikata', 11985), ('swears', 17129), ('golfer', 7515), ('ariya', 1209), ('jutanugarns', 9580), ('lpga', 10474), ('numberone', 12118), ('goon', 7535), ('teefa', 17376), ('longing', 10371), ('perci', 12938), ('trachtenberg', 17868), ('venkat', 18662), ('subramaniam', 16907), ('foundations', 6954), ('probability', 13610), ('chat', 3139), ('theory', 17544), ('dens', 4715), ('sterling', 16696), ('buttkicking', 2670), ('splinter', 16474), ('amok', 928), ('shredder', 15855), ('ooze', 12364), ('obtains', 12194), ('junk', 9566), ('glowing', 7474), ('sewers', 15639), ('flamboyant', 6730), ('gamble', 7226), ('swipe', 17157), ('speeding', 16420), ('trusts', 18087), ('marcus', 10750), ('teenaged', 17380), ('telluria', 17406), ('tourists', 17841), ('wilds', 19196), ('2025', 200), ('depicting', 4732), ('crackdowns', 4107), ('ironfisted', 9226), ('have', 8027), ('benefit', 1917), ('tx', 18185), ('t1000', 17206), ('dominating', 5210), ('militaristic', 11206), ('oahu', 12149), ('batch', 1756), ('snowboarder', 16196), ('karuizawa', 9642), ('dilapidated', 4934), ('slicing', 16100), ('slaughtering', 16071), ('enforcement', 5808), ('surprisingly', 17074), ('echolocation', 5529), ('farright', 6428), ('sena', 15537), ('bal', 1628), ('thackeray', 17505), ('longestranged', 10366), ('impostor', 8795), ('infidelities', 8938), ('indulging', 8900), ('hazy', 8047), ('enrich', 5853), ('deceiving', 4555), ('soo', 16300), ('remorse', 14464), ('ultimatum', 18224), ('habitable', 7829), ('exspy', 6267), ('octogenarian', 12218), ('saboteur', 15084), ('ford', 6892), ('motor', 11546), ('enzo', 5917), ('alia', 774), ('consults', 3870), ('says', 15249), ('ayotzinapa', 1552), ('iguala', 8688), ('reappear', 14165), ('none', 12018), ('aged', 653), ('administration', 538), ('sleepaway', 16083), ('suspenseful', 17101), ('complicity', 3709), ('elliott', 5664), ('toying', 17860), ('archaeological', 1161), ('connoisseur', 3822), ('dreamers', 5339), ('sharkboy', 15712), ('fireproducing', 6682), ('lavagirl', 10023), ('baddie', 1600), ('hyper', 8614), ('cohort', 3522), ('tails', 17242), ('prower', 13760), ('mobius', 11375), ('robotnik', 14872), ('georges', 7344), ('remis', 14459), ('tintin', 17705), ('faceless', 6320), ('vocalize', 18833), ('congolese', 3805), ('transplants', 17946), ('friendmanager', 7066), ('uptodate', 18526), ('tempts', 17423), ('hilton', 8277), ('ostrovsky', 12481), ('brittany', 2488), ('furlan', 7156), ('kirill', 9765), ('bichutsky', 2006), ('hustle', 8595), ('lobbyist', 10309), ('hairraising', 7853), ('ordeal', 12426), ('lutz', 10522), ('homespun', 8387), ('mayberry', 10893), ('ashraf', 1295), ('marwan', 10811), ('protesters', 13734), ('durie', 5450), ('baptismal', 1692), ('selfdestructive', 15495), ('smashing', 16138), ('arbitration', 1157), ('dismissal', 5060), ('gynecologist', 7822), ('sexologist', 15649), ('taboo', 17213), ('publish', 13793), ('crunch', 4259), ('calhoun', 2729), ('motorcyclist', 11550), ('mostly', 11523), ('ambassador', 901), ('oscars', 12474), ('blackandwhite', 2104), ('silentera', 15919), ('defining', 4626), ('gianni', 7379), ('versace', 18681), ('surgically', 17065), ('will', 19201), ('coroners', 4000), ('unidentified', 18364), ('motti', 11553), ('errol', 5962), ('morris', 11504), ('elsa', 5673), ('dorfman', 5245), ('luminaries', 10500), ('martins', 10807), ('homegrown', 8377), ('bedtime', 1839), ('satanic', 15208), ('contestant', 3894), ('fedotowsky', 6514), ('banished', 1680), ('wasteland', 18984), ('drugsoaked', 5393), ('cannibals', 2794), ('ineffective', 8910), ('cornwall', 3997), ('probably', 13611), ('mojave', 11411), ('adhere', 530), ('coen', 3508), ('settlers', 15619), ('assassinated', 1321), ('slowfooted', 16120), ('disparity', 5072), ('fence', 6549), ('tortuous', 17808), ('roleplay', 14914), ('mavericks', 10882), ('underdogs', 18285), ('bing', 2056), ('midway', 11166), ('guilty', 7773), ('triggered', 18029), ('drumming', 5397), ('tending', 17434), ('urbanization', 18531), ('neuroscience', 11885), ('rutkowski', 15070), ('olka', 12303), ('szczęśniak', 17199), ('francesca', 6987), ('stavrakopoulou', 16651), ('testament', 17483), ('angler', 1001), ('florists', 6811), ('sculptors', 15387), ('boldest', 2242), ('sculptures', 15389), ('wwe', 19434), ('fiancés', 6588), ('midwives', 11169), ('avant', 1496), ('rainmaker', 14011), ('exiled', 6163), ('resides', 14576), ('baddies', 1601), ('agricultural', 671), ('wepner', 19093), ('fastgrowing', 6448), ('innovate', 9004), ('51st', 302), ('allegory', 795), ('montage', 11456), ('kinetics', 9751), ('acid', 462), ('disposal', 5086), ('methodical', 11116), ('1897', 82), ('eli', 5647), ('barren', 1721), ('borgia', 2311), ('lucrezia', 10492), ('sprung', 16526), ('corp', 4001), ('textile', 17502), ('foreman', 6901), ('stirring', 16724), ('hostility', 8481), ('filthiest', 6641), ('supermonster', 17010), ('bailjumper', 1617), ('nicole', 11944), ('girlgeek', 7416), ('kamkwamba', 9606), ('turbine', 18124), ('malawian', 10648), ('1968', 131), ('reckoning', 14223), ('unspoken', 18449), ('crowley', 4245), ('albania', 737), ('mashup', 10820), ('erica', 5948), ('bain', 1618), ('muhammad', 11598), ('slope', 16115), ('disguises', 5039), ('nobodys', 12002), ('weekly', 19047), ('instudio', 9060), ('cohabitating', 3519), ('brookes', 2508), ('spats', 16391), ('condo', 3757), ('mel', 11012), ('habaek', 7826), ('yoruba', 19525), ('igbo', 8674), ('selfinterested', 15504), ('exterminators', 6279), ('fullest', 7126), ('wrought', 19430), ('substances', 16913), ('coal', 3475), ('poets', 13260), ('offcampus', 12241), ('bye', 2681), ('fracking', 6973), ('lakota', 9922), ('fastliving', 6449), ('selfcare', 15487), ('cleanse', 3402), ('foodcrazed', 6864), ('onceinalifetime', 12323), ('kidnapper', 9718), ('hinting', 8289), ('driverless', 5362), ('sedan', 15431), ('da', 4391), ('cyberpunks', 4370), ('eighttime', 5604), ('unyielding', 18483), ('christianity', 3289), ('verifiable', 18678), ('māori', 11694), ('kaiora', 9595), ('tipene', 17708), ('polynesian', 13310), ('awfully', 1542), ('nifty', 11950), ('about', 386), ('executives', 6143), ('chalet', 3054), ('alumni', 876), ('contests', 3896), ('eliminations', 5653), ('hookups', 8423), ('slaughterhouse', 16070), ('lofts', 10329), ('brooke', 2507), ('knowitall', 9803), ('1937', 107), ('belgian', 1876), ('assassinate', 1320), ('trotsky', 18061), ('zika', 19602), ('vaccine', 18574), ('pantanal', 12693), ('progressive', 13670), ('allnighter', 818), ('straighttalking', 16771), ('nowteenage', 12102), ('naughty', 11780), ('depressionera', 4743), ('cocksure', 3494), ('titular', 17722), ('cincinnati', 3322), ('lancey', 9942), ('flirt', 6788), ('catfish', 2970), ('r300000', 13946), ('ekes', 5609), ('infomercials', 8959), ('stereotypebusting', 16693), ('senegalesefrench', 15545), ('everest', 6055), ('orbiting', 12414), ('mdma', 10929), ('sautoy', 15225), ('mathematical', 10855), ('underlying', 18293), ('ussoviet', 18558), ('15minute', 45), ('downsizing', 5284), ('repel', 14507), ('wedded', 19035), ('partnersincrime', 12780), ('infamy', 8921), ('confessed', 3770), ('coerced', 3510), ('involuntary', 9201), ('handyman', 7912), ('toolbox', 17776), ('paralysis', 12718), ('wright', 19409), ('spinechiller', 16450), ('visas', 18799), ('objective', 12163), ('not', 12065), ('jaeyeong', 9302), ('neuroscientist', 11886), ('eagleman', 5486), ('taps', 17306), ('brainbending', 2379), ('risktaking', 14811), ('misstep', 11330), ('inhabiting', 8973), ('raping', 14084), ('obliterates', 12168), ('unworldly', 18479), ('draven', 5325), ('crow', 4240), ('iis', 8692), ('ira', 9209), ('fergus', 6557), ('jody', 9449), ('dil', 4931), ('puppeteers', 13836), ('thra', 17604), ('cuba', 4285), ('mcconnell', 10911), ('fills', 6632), ('inappropriate', 8823), ('scotia', 15349), ('classs', 3387), ('20year', 212), ('scored', 15340), ('marginally', 10754), ('alum', 875), ('louvre', 10442), ('cryptographer', 4277), ('vinci', 18766), ('spite', 16468), ('srintil', 16554), ('unconditional', 18269), ('gelfling', 7298), ('overlords', 12562), ('drain', 5312), ('caldwell', 2725), ('jorgeson', 9495), ('staggering', 16572), ('freeclimbing', 7022), ('yosemite', 19526), ('castillo', 2941), ('detached', 4809), ('begs', 1860), ('headmasters', 8059), ('tyranny', 18198), ('distance', 5101), ('marsha', 10798), ('cristi', 4205), ('puius', 13807), ('realtime', 14161), ('travails', 17963), ('waits', 18893), ('shuttles', 15879), ('stalin', 16578), ('fisticuffsfueled', 6706), ('bitterly', 2094), ('nektons', 11851), ('nearfatal', 11810), ('brass', 2399), ('standups', 16597), ('coarse', 3476), ('halfhour', 7868), ('corrections', 4009), ('postwar', 13407), ('friedkin', 7060), ('91yearold', 334), ('ente', 5872), ('satan', 15207), ('alciel', 746), ('deity', 4649), ('jog', 9454), ('millenniumlong', 11217), ('duponts', 5446), ('chemicals', 3181), ('teflon', 17387), ('disturbances', 5114), ('mötley', 11693), ('crües', 4280), ('superstardom', 17021), ('3yearold', 266), ('madeleine', 10565), ('mccann', 10908), ('sophomore', 16309), ('kusuo', 9876), ('saiki', 15112), ('swore', 17171), ('gaggle', 7195), ('backwater', 1590), ('regarded', 14338), ('belonged', 1897), ('elven', 5681), ('seymours', 15660), ('testimony', 17489), ('busan', 2645), ('headfirst', 8053), ('exports', 6246), ('varietyshow', 18617), ('blurs', 2205), ('katherines', 9655), ('pondering', 13313), ('1866', 72), ('despot', 4794), ('hazzard', 8048), ('charger', 3106), ('cycle', 4375), ('presidencies', 13523), ('nadines', 11699), ('detested', 4823), ('cynics', 4382), ('unbearable', 18250), ('massmurderer', 10833), ('eichmanns', 5598), ('relives', 14429), ('angles', 1002), ('pharaonic', 13018), ('actioncomedy', 480), ('seele', 15449), ('evas', 6042), ('gendo', 7305), ('trigger', 18028), ('instrumentality', 9058), ('lipsky', 10257), ('fiveday', 6712), ('videotape', 18724), ('footballers', 6875), ('fourthgrade', 6967), ('undieswearing', 18312), ('raimis', 14005), ('kaiser', 9598), ('wilhelm', 19199), ('garcia', 7255), ('teendom', 17383), ('robotics', 14871), ('fascination', 6436), ('blows', 2186), ('manzonis', 10733), ('normandy', 12041), ('difficulty', 4922), ('occasionally', 12198), ('brighton', 2468), ('selfeducated', 15500), ('petitions', 13010), ('executed', 6136), ('twisting', 18173), ('snag', 16163), ('orgasm', 12447), ('xie', 19450), ('zhen', 19599), ('defeats', 4610), ('halfbrother', 7862), ('oncetalented', 12332), ('bestowed', 1959), ('obannon', 12155), ('palates', 12667), ('starpacked', 16616), ('imperiled', 8773), ('athenian', 1381), ('attorneys', 1425), ('spearhead', 16398), ('museum', 11645), ('parthenon', 12767), ('porta', 13351), ('dos', 5253), ('fundos', 7141), ('twotiming', 18182), ('rotating', 14979), ('forensics', 6904), ('squares', 16546), ('flintstones', 6785), ('barney', 1717), ('yabbadabbadoo', 19460), ('wilma', 19214), ('posits', 13375), ('qingdynasty', 13883), ('wielders', 19178), ('jackie', 9294), ('cataclysmic', 2949), ('sullen', 16960), ('griefscarred', 7673), ('nothings', 12074), ('conman', 3812), ('noises', 12009), ('radha', 13969), ('multiethnic', 11607), ('brood', 2505), ('mcdonald', 10914), ('kroc', 9853), ('dismemberment', 5059), ('1827', 68), ('freestyle', 7035), ('skier', 16034), ('jossi', 9505), ('highlining', 8231), ('frenchies', 7043), ('atop', 1395), ('pyrenees', 13873), ('servaz', 15597), ('alaska', 734), ('trooper', 18055), ('17yearoldprostitute', 61), ('predators', 13470), ('inspirational', 9037), ('shutin', 15874), ('furchester', 7154), ('melanie', 11013), ('adjusts', 536), ('derwin', 4757), ('wilks', 19200), ('compare', 3679), ('plants', 13190), ('spoiler', 16482), ('skips', 16045), ('alienation', 780), ('lasagnaloving', 9979), ('fat', 6455), ('teasing', 17360), ('geeky', 7294), ('tormenting', 17799), ('odie', 12227), ('moonlight', 11474), ('motorsport', 11551), ('1977', 141), ('breakneck', 2422), ('boisterous', 2237), ('brawling', 2408), ('malacca', 10644), ('lan', 9939), ('ratting', 14111), ('1843', 69), ('crippled', 4195), ('anatolian', 959), ('internetobsessed', 9104), ('prying', 13764), ('lyricist', 10535), ('javed', 9347), ('195075', 118), ('sickness', 15885), ('clay', 3397), ('pathologically', 12824), ('fiveyearold', 6715), ('selfabsorbed', 15482), ('shellstrop', 15746), ('dealership', 4514), ('gwyneth', 7816), ('paltrow', 12677), ('goop', 7537), ('psychedelics', 13769), ('wordforword', 19340), ('aramaicspeaking', 1153), ('gospel', 7552), ('texts', 17504), ('reenacted', 14299), ('gospels', 7553), ('jesuss', 9396), ('disciples', 5004), ('lauded', 10002), ('accuracy', 449), ('apostle', 1101), ('matthew', 10869), ('highlighted', 8228), ('gong', 7521), ('seventhcentury', 15632), ('ansi', 1039), ('manchun', 10681), ('10week', 15), ('whipping', 19135), ('prue', 13763), ('leith', 10119), ('tent', 17445), ('dozen', 5290), ('amiably', 921), ('tasty', 17325), ('cambridge', 2753), ('analytica', 949), ('symbolize', 17184), ('reproduce', 14532), ('immortals', 8755), ('filipinos', 6627), ('1963', 128), ('squeezed', 16550), ('logging', 10334), ('soup', 16337), ('guernsey', 7756), ('bloodthirst', 2175), ('addicts', 518), ('chu', 3306), ('expartner', 6193), ('waylaid', 19005), ('blizzard', 2157), ('dicey', 4892), ('stagecoach', 16570), ('rogues', 14904), ('smear', 16139), ('vitriol', 18822), ('hathaway', 8017), ('au', 1435), ('gothic', 7558), ('fractured', 6975), ('extends', 6271), ('scruffy', 15383), ('dude', 5413), ('javanese', 9346), ('didi', 4903), ('kempot', 9679), ('stiller', 16712), ('describe', 4765), ('industrys', 8907), ('interviewing', 9135), ('housemaids', 8503), ('brooding', 2506), ('lark', 9974), ('boswell', 2324), ('steely', 16666), ('advent', 584), ('predicting', 13477), ('pointing', 13264), ('unwrap', 18481), ('portals', 13353), ('straightarrow', 16769), ('exlawman', 6171), ('leland', 10121), ('neglected', 11834), ('panelists', 12690), ('abnormal', 379), ('summit', 16969), ('natasha', 11756), ('leggero', 10110), ('dissect', 5095), ('hung', 8572), ('aval', 1493), ('mora', 11481), ('fannie', 6401), ('haughton', 8019), ('grenada', 7664), ('vinay', 18762), ('pathak', 12821), ('breadwinner', 2417), ('parsi', 12764), ('collectively', 3549), ('scoring', 15342), ('orchestral', 12419), ('soundtracks', 16336), ('bollywoods', 2246), ('caseworker', 2923), ('begun', 1861), ('authority', 1472), ('shortcut', 15829), ('outracing', 12526), ('showdowns', 15847), ('milehigh', 11201), ('600', 307), ('parnassus', 12756), ('renegotiate', 14477), ('generated', 7311), ('2004', 177), ('tsunami', 18097), ('meddled', 10960), ('hers', 8187), ('ribtickling', 14733), ('wretched', 19408), ('nomans', 12015), ('stairwell', 16574), ('mithco', 11350), ('gigantic', 7392), ('peach', 12881), ('sunnytowns', 16988), ('wooden', 19330), ('cupboard', 4321), ('iroquois', 9230), ('figurine', 6619), ('cabinet', 2696), ('pricefixing', 13558), ('whitacre', 19141), ('grishams', 7696), ('nonfiction', 12020), ('june', 9560), ('confusing', 3800), ('gunz', 7799), ('tic', 17655), ('disloyal', 5057), ('aspires', 1313), ('fueling', 7108), ('grabbed', 7572), ('aristocrat', 1206), ('quadriplegia', 13886), ('fibs', 6590), ('inconclusive', 8844), ('criminologist', 4191), ('williamsthomas', 19207), ('reexamines', 14310), ('fbitrained', 6487), ('navarre', 11784), ('nowdead', 12098), ('sheeran', 15739), ('bufalino', 2573), ('niro', 11982), ('pacino', 12616), ('pesci', 12998), ('thatcher', 17519), ('tatsuya', 17328), ('miyuki', 11363), ('miyukis', 11364), ('honors', 8410), ('colonel', 3566), ('intel', 9069), ('techilliterate', 17363), ('basementdwelling', 1738), ('dweebs', 5464), ('cloddish', 3442), ('fascist', 6437), ('intercept', 9084), ('jaime', 9308), ('maussan', 10880), ('resemble', 14558), ('austens', 1459), ('trending', 17997), ('mchales', 10920), ('22yearold', 220), ('eldon', 5619), ('frontline', 7091), ('somalian', 16273), ('gossip', 7554), ('derision', 4754), ('mowgli', 11580), ('bagheera', 1612), ('baloo', 1652), ('shere', 15754), ('literacy', 10272), ('dre', 5332), ('cesnik', 3039), ('badlands', 1603), ('cabeleira', 2694), ('gunman', 7791), ('curated', 4324), ('edges', 5548), ('logothetis', 10337), ('carouser', 2891), ('hostilities', 8480), ('portal', 13352), ('vi', 18697), ('stutter', 16883), ('lionel', 10253), ('logue', 10338), ('strangest', 16784), ('kirlian', 9769), ('elles', 5661), ('longdistance', 10363), ('sandy', 15177), ('kominsky', 9816), ('newlander', 11909), ('laughing', 10005), ('everchanging', 6053), ('lesbians', 10146), ('overturned', 12583), ('bigdreaming', 2018), ('nativity', 11771), ('abdel', 358), ('alsharqawi', 858), ('pills', 13113), ('anders', 967), ('scavenging', 15281), ('lapis', 9966), ('lazuli', 10051), ('yellow', 19491), ('aggression', 661), ('unexploded', 18335), ('ordnance', 12435), ('scrapyard', 15368), ('antiwar', 1068), ('hallenbeck', 7878), ('czar', 4387), ('nicholas', 11935), ('bulls', 2590), ('unaired', 18238), ('199798', 164), ('robber', 14853), ('mindaltering', 11233), ('beths', 1967), ('tepid', 17450), ('footloose', 6878), ('mere', 11073), ('supper', 17033), ('peruvian', 12997), ('shining', 15778), ('norse', 12046), ('uhtred', 18215), ('saxon', 15244), ('vikings', 18745), ('birthright', 2082), ('cernan', 3036), ('lunar', 10504), ('landings', 9946), ('2041', 203), ('sexes', 15643), ('primitive', 13577), ('retirees', 14648), ('excolonel', 6121), ('paramilitary', 12721), ('combatting', 3594), ('paraguayan', 12713), ('clinically', 3431), ('hardhitting', 7954), ('quit', 13940), ('winatallcosts', 19221), ('rekindles', 14395), ('eulogist', 6022), ('pituitary', 13160), ('raging', 13991), ('panama', 12680), ('superrich', 17014), ('physicist', 13065), ('thermodynamics', 17549), ('faulty', 6473), ('cycling', 4377), ('movistar', 11578), ('baztán', 1787), ('trend', 17996), ('decriminalization', 4587), ('bhagat', 1990), ('1920', 98), ('duffel', 5419), ('nutball', 12136), ('2monthold', 240), ('newparents', 11915), ('prophecies', 13704), ('fickle', 6591), ('kwazulunatal', 9881), ('recipients', 14218), ('hitmaking', 8327), ('seohui', 15565), ('taesik', 17229), ('daycare', 4493), ('restored', 14616), ('pod', 13253), ('unconventionally', 18272), ('opinionated', 12384), ('gardener', 7257), ('overscheduled', 12569), ('cantankerous', 2801), ('lobby', 10308), ('annexation', 1023), ('soraya', 16312), ('nabil', 11697), ('talal', 17258), ('eavesdrops', 5522), ('45', 279), ('tempted', 17420), ('angering', 999), ('jose', 9497), ('canseco', 2798), ('mcgwire', 10919), ('roped', 14966), ('hitches', 8323), ('crewe', 4172), ('gridiron', 7670), ('warner', 18959), ('eyebrows', 6301), ('aragorn', 1151), ('gandalf', 7237), ('fellowship', 6539), ('gondor', 7519), ('frodo', 7083), ('mordor', 11489), ('gimli', 7404), ('legolas', 10114), ('orccaptured', 12417), ('pippin', 13139), ('aunts', 1454), ('ranchs', 14057), ('masquerade', 10825), ('channeling', 3084), ('adrianne', 567), ('forgive', 6919), ('splitsville', 16478), ('unwilling', 18475), ('jongil', 9488), ('absolution', 396), ('mortals', 11509), ('ketogenic', 9694), ('ms', 11583), ('frizzle', 7081), ('anthill', 1045), ('frizzles', 7082), ('walkerville', 18909), ('sciencefueled', 15321), ('zones', 19623), ('tardigrade', 17308), ('splits', 16477), ('scattering', 15278), ('coldwater', 3532), ('specializing', 16403), ('intimidating', 9141), ('frigid', 7076), ('majesty', 10625), ('chillier', 3239), ('leveraging', 10163), ('withstand', 19285), ('highaction', 8215), ('meta', 11104), ('lewan', 10165), ('bilked', 2041), ('gravitydefying', 7635), ('matures', 10872), ('substancefueled', 16912), ('revelry', 14686), ('bloodstained', 2172), ('romcom', 14939), ('selfprofessed', 15510), ('nerds', 11863), ('zorro', 19627), ('torch', 17792), ('schooling', 15308), ('discipline', 5006), ('pranked', 13453), ('heavydrinking', 8105), ('semblance', 15531), ('lancaster', 9940), ('dodd', 5174), ('perceive', 12934), ('simulation', 15944), ('zion', 19607), ('pinpointed', 13129), ('unconscious', 18270), ('selma', 15529), ('bosnian', 2317), ('cleansing', 3403), ('prioritizes', 13591), ('healthcares', 8073), ('150', 42), ('incumbent', 8853), ('b17', 1561), ('execute', 6135), ('latches', 9987), ('unbelievable', 18253), ('lyn', 10531), ('starlets', 16615), ('defaults', 4607), ('traversing', 17972), ('trippy', 18041), ('simulator', 15946), ('caster', 2939), ('dairy', 4404), ('narrator', 11742), ('bourdain', 2348), ('artistry', 1279), ('happening', 7933), ('disorders', 5066), ('minimalism', 11256), ('millburn', 11213), ('nicodemus', 11942), ('sniffly', 16184), ('sweaty', 17130), ('publisher', 13794), ('eras', 5942), ('early80s', 5494), ('polices', 13284), ('fog', 6837), ('farther', 6430), ('brokendown', 2500), ('humiliating', 8563), ('gawky', 7284), ('guignol', 7767), ('stalled', 16583), ('receding', 14205), ('hairline', 7852), ('revitalize', 14700), ('atheist', 1378), ('madalyn', 10557), ('ohair', 12275), ('manipulating', 10703), ('penthouse', 12924), ('18month', 85), ('stabbing', 16560), ('bristol', 2479), ('autobiography', 1478), ('tenor', 17441), ('bocelli', 2220), ('toru', 17813), ('muranishi', 11624), ('revolutionized', 14709), ('drebin', 5346), ('intend', 9073), ('suppress', 17044), ('cellardwelling', 3013), ('urged', 18533), ('javiers', 9350), ('spade', 16365), ('titles', 17721), ('skits', 16047), ('liberates', 10180), ('scrolls', 15381), ('gonzo', 7523), ('journalism', 9509), ('miyagi', 11362), ('chilly', 3242), ('alpine', 852), ('sparing', 16378), ('usfocused', 18551), ('hanks', 7923), ('nsu', 12105), ('eluded', 5677), ('grouchy', 7716), ('kicked', 9709), ('maurys', 10878), ('clara', 3363), ('allowing', 823), ('stalking', 16581), ('deluded', 4678), ('dunder', 5431), ('mifflin', 11171), ('undying', 18316), ('protected', 13726), ('sentences', 15562), ('preferred', 13481), ('sophie', 16307), ('ina', 8820), ('pledges', 13223), ('cedric', 2998), ('bernie', 1947), ('mikaelsons', 11186), ('elopes', 5670), ('connives', 3820), ('obscurity', 12174), ('jockeys', 9447), ('weir', 19057), ('brotherhood', 2520), ('contemplates', 3883), ('layered', 10045), ('outnumbered', 12522), ('offensive', 12247), ('kamdesh', 9605), ('grandchild', 7597), ('editorial', 5559), ('ángel', 19639), ('undergraduate', 18289), ('monica', 11440), ('darby', 4448), ('justices', 9575), ('july', 9552), ('1998', 165), ('conglomerate', 3803), ('gins', 7409), ('enhance', 5833), ('shaky', 15680), ('finances', 6649), ('horrorthriller', 8457), ('1870', 73), ('pharmacist', 13020), ('extremes', 6293), ('catalán', 2957), ('negatives', 11832), ('atrocities', 1397), ('11thcentury', 23), ('persia', 12979), ('jew', 9400), ('admit', 544), ('christians', 3290), ('clouseau', 3456), ('spritely', 16525), ('tinker', 17703), ('zarina', 19570), ('pixie', 13164), ('dust', 5451), ('somalia', 16272), ('hijackers', 8260), ('pixar', 13162), ('motorcycleriding', 11549), ('sewn', 15640), ('wrocław', 19421), ('jailer', 9306), ('programming', 13667), ('factfinding', 6331), ('truthseeking', 18092), ('résumés', 15079), ('fumble', 7131), ('warmhearted', 18953), ('payton', 12873), ('polishborn', 13292), ('ponzi', 13321), ('heman', 8153), ('stretched', 16820), ('gripped', 7691), ('banlieue', 1689), ('konomi', 9824), ('frog', 7084), ('downtoearth', 5285), ('margarets', 10753), ('stacy', 16565), ('descended', 4761), ('copturnedconvict', 3979), ('lorded', 10405), ('nightly', 11958), ('oxford', 12601), ('dictionary', 4901), ('vocabulary', 18831), ('wwi', 19435), ('lifted', 10213), ('unpaid', 18412), ('internship', 9107), ('brokerage', 2502), ('snowmobile', 16201), ('korgan', 9837), ('spinal', 16449), ('cord', 3988), ('ancients', 963), ('drafts', 5304), ('gowns', 7569), ('conquistador', 3830), ('heredia', 8172), ('catalina', 2953), ('seventeen', 15630), ('dolezal', 5194), ('wipes', 19256), ('scandinavias', 15259), ('fits', 6709), ('lyricists', 10536), ('jermaine', 9387), ('dupris', 5447), ('rbs', 14130), ('finest', 6663), ('coexistence', 3512), ('rodents', 14892), ('byproducts', 2683), ('hooliganism', 8425), ('hooligans', 8426), ('rowdiest', 14995), ('fumio', 7134), ('demura', 4709), ('devotees', 4861), ('influencing', 8953), ('wheels', 19121), ('manuela', 10727), ('olmo', 12305), ('ethiopian', 6017), ('overall', 12543), ('toughness', 17834), ('reebok', 14292), ('visionaries', 18803), ('rewrote', 14716), ('narratives', 11741), ('runway', 15051), ('timeworn', 17695), ('heirlooms', 8127), ('embabah', 5693), ('january', 9332), ('slush', 16127), ('myungbak', 11688), ('slows', 16123), ('nearstrangers', 11815), ('safari', 15099), ('knife', 9790), ('stockburn', 16728), ('wreckage', 19398), ('serbia', 15578), ('possess', 13377), ('quality', 13893), ('rears', 14169), ('heedless', 8114), ('rafting', 13986), ('argument', 1197), ('macho', 10553), ('10city', 8), ('acclimating', 433), ('sara', 15194), ('purification', 13844), ('taoist', 17299), ('erics', 5950), ('nowhere', 12101), ('knocked', 9796), ('investor', 9190), ('info', 8957), ('depp', 4738), ('thompsons', 17588), ('runaways', 15040), ('paving', 12857), ('1881', 76), ('describes', 4766), ('romanovs', 14934), ('lenins', 10130), ('ulyanov', 18232), ('milans', 11195), ('ndrangheta', 11802), ('contracting', 3913), ('hemophiliac', 8156), ('templar', 17412), ('homesteader', 8388), ('avenges', 1503), ('gail', 7197), ('cynthia', 4383), ('wielding', 19179), ('lightup', 10223), ('unintended', 18368), ('readytoretire', 14147), ('safecracker', 15101), ('fuji', 7114), ('wanderer', 18932), ('muddy', 11594), ('were', 19094), ('astrobiologists', 1361), ('kanaya', 9610), ('snowball', 16195), ('gidget', 7383), ('vendettas', 18651), ('deposed', 4737), ('disbanded', 4997), ('dowd', 5270), ('policing', 13287), ('salvation', 15146), ('mauritius', 10877), ('courses', 4072), ('serendipitous', 15581), ('lambert', 9929), ('overwhelming', 12586), ('swoon', 17163), ('favorable', 6478), ('nicks', 11940), ('francos', 6995), ('researching', 14557), ('shades', 15661), ('alluding', 832), ('tolls', 17751), ('disturbingly', 5116), ('stabs', 16562), ('trapper', 17953), ('succumbing', 16929), ('posthumously', 13396), ('gargamel', 7261), ('smurfs', 16159), ('smurfalikes', 16158), ('naughties', 11779), ('documentarydrama', 5168), ('networking', 11882), ('alarm', 732), ('creations', 4149), ('finchers', 6655), ('facebook', 6318), ('zuckerberg', 19631), ('ham', 7887), ('lorenzos', 10411), ('isolate', 9257), ('ridiculous', 14760), ('subpar', 16906), ('webtoonist', 19033), ('cho', 3262), ('seok', 15566), ('blunders', 2200), ('interplanetary', 9109), ('aimee', 692), ('sutter', 17110), ('rubiks', 15009), ('cubesolving', 4288), ('feliks', 6529), ('zemdegs', 19585), ('cityraised', 3340), ('tumbledown', 18108), ('clerkturnedsecret', 3414), ('cohen', 3521), ('yearslong', 19489), ('downloads', 5277), ('file', 6623), ('ahron', 676), ('bregmans', 2436), ('streetlevel', 16807), ('peterson', 13008), ('confiscating', 3786), ('livestock', 10290), ('freshest', 7053), ('conducting', 3760), ('stanford', 16598), ('mock', 11381), ('welltodo', 19084), ('religions', 14425), ('milliondollar', 11223), ('invested', 9178), ('prolong', 13677), ('scully', 15385), ('pioneers', 13135), ('superintendent', 17003), ('disappearances', 4981), ('bros', 2514), ('arci', 1183), ('gangaffiliated', 7242), ('philosophers', 13040), ('mixup', 11360), ('pickpocket', 13080), ('dispatcher', 5074), ('garber', 7254), ('lush', 10515), ('vandalized', 18603), ('graveyard', 7632), ('chainsawwielding', 3049), ('esteem', 6004), ('hawkings', 8036), ('increasing', 8849), ('dependence', 4728), ('beggar', 1854), ('unwitting', 18477), ('organ', 12440), ('sami', 15154), ('wildcats', 19188), ('conservation', 3840), ('required', 14544), ('hg', 8196), ('doubters', 5262), ('involuntarily', 9200), ('zips', 19611), ('trader', 17879), ('potatoes', 13411), ('currency', 4336), ('nelufar', 11853), ('hedayat', 8109), ('executiveturnedviral', 6144), ('empowered', 5752), ('medina', 10975), ('stoop', 16743), ('medication', 10970), ('coogan', 3954), ('brydon', 2541), ('gorge', 7543), ('runofthemill', 15048), ('burgle', 2627), ('covets', 4094), ('javid', 9348), ('abdelmoneim', 359), ('splendor', 16472), ('tudor', 18103), ('monarch', 11426), ('hospitalized', 8470), ('spys', 16538), ('computerized', 3724), ('tuxedo', 18149), ('jurors', 9572), ('rod', 14891), ('serling', 15593), ('tinged', 17702), ('subservient', 16909), ('xvi', 19458), ('chauvinistic', 3153), ('morningshow', 11497), ('commentator', 3634), ('noodle', 12031), ('counters', 4052), ('dropped', 5373), ('commodity', 3653), ('astronomical', 1368), ('rumsfeld', 15037), ('reviews', 14694), ('gerald', 7350), ('bush', 2648), ('dru', 5382), ('kal', 9601), ('wondering', 19319), ('interclan', 9085), ('soulmates', 16329), ('armistead', 1220), ('maupin', 10875), ('oslo', 12477), ('damon', 4421), ('exorcists', 6187), ('bemoans', 1908), ('undermined', 18294), ('laziness', 10050), ('aspergers', 1311), ('10part', 10), ('18hour', 84), ('violinist', 18780), ('chidi', 3215), ('eugenia', 6020), ('loudmouthed', 10433), ('banding', 1666), ('eyesight', 6305), ('sevenpart', 15629), ('pattern', 12842), ('bonecrushing', 2267), ('playoffs', 13210), ('marred', 10786), ('superstition', 17023), ('josiah', 9504), ('bartlet', 1732), ('airstrikes', 708), ('pound', 13422), ('wiggles', 19185), ('choreography', 3280), ('perfectly', 12949), ('imperfect', 8770), ('alltoopublic', 830), ('homesteading', 8389), ('primeval', 13576), ('abusing', 408), ('geralt', 7351), ('rivia', 14830), ('mutated', 11663), ('monsterhunter', 11453), ('hissrich', 8308), ('powering', 13434), ('acoustics', 464), ('ears', 5502), ('libertine', 10183), ('hejie', 8131), ('xiaoqian', 19449), ('chengen', 3185), ('biggame', 2021), ('jacine', 9291), ('jadresko', 9300), ('rabbi', 13947), ('incite', 8836), ('shipyard', 15791), ('notices', 12076), ('equestrian', 5935), ('actressproperty', 496), ('caroline', 2889), ('conservationist', 3841), ('scaly', 15251), ('illegally', 8702), ('trafficked', 17889), ('belong', 1896), ('jill', 9418), ('murphys', 11638), ('eerily', 5576), ('texted', 17501), ('jiang', 9413), ('chenbo', 3184), ('catalyst', 2956), ('upturn', 18527), ('centurion', 3029), ('nazareth', 11792), ('through', 17628), ('bicycles', 2010), ('capsized', 2817), ('wineloving', 19231), ('superstitionshunning', 17025), ('massimo', 10831), ('bottura', 2338), ('needy', 11826), ('expo', 6244), ('mokia', 11413), ('thelonious', 17532), ('hypochondriac', 8623), ('pitt', 13157), ('chimpanzees', 3245), ('padnos', 12633), ('alqaida', 854), ('prospector', 13716), ('stoking', 16731), ('minority', 11267), ('preoccupied', 13494), ('yvan', 19560), ('antisemitism', 1064), ('powered', 13429), ('entertainers', 5882), ('welless', 19075), ('thiago', 17559), ('ventura', 18665), ('highwayman', 8255), ('lichte', 10189), ('downtrodden', 5287), ('flanders', 6736), ('halfdutch', 7867), ('pramoedya', 13451), ('ananta', 953), ('toers', 17737), ('hackers', 7835), ('exploit', 6227), ('sous', 16342), ('tomorrowland', 17763), ('centenarians', 3022), ('inheritancehungry', 8977), ('girlcrazy', 7412), ('greatgrandson', 7643), ('sodor', 16234), ('flurry', 6823), ('inventions', 9173), ('useful', 18547), ('are', 1187), ('weave', 19021), ('delays', 4656), ('debacles', 4527), ('muay', 11586), ('asgard', 1287), ('stumped', 16874), ('thorne', 17594), ('dragged', 5306), ('dedicates', 4590), ('awaiting', 1521), ('occurring', 12207), ('polygamist', 13308), ('rockland', 14884), ('mormons', 11495), ('utah', 18563), ('cristy', 4207), ('conceal', 3730), ('debuts', 4542), ('compton', 3719), ('ufc', 18210), ('ronda', 14947), ('rouseys', 14986), ('p47', 12608), ('thunderbolt', 17642), ('shown', 15850), ('raids', 14000), ('mcteers', 10926), ('orphelin', 12465), ('generationslong', 7315), ('sirens', 15990), ('tidying', 17664), ('marie', 10762), ('kondo', 9818), ('trainees', 17906), ('madrids', 10576), ('melilla', 11016), ('rif', 14763), ('handpicked', 7909), ('oozing', 12365), ('bombastic', 2252), ('studded', 16856), ('unpretentious', 18419), ('notaro', 12067), ('announced', 1027), ('studied', 16861), ('zoo', 19624), ('murderforhire', 11630), ('frente', 7048), ('tijuana', 17679), ('preventing', 13549), ('middlemen', 11158), ('cooperative', 3967), ('speculative', 16415), ('mirrorfiction', 11289), ('headlong', 8058), ('deepest', 4602), ('stuff', 16868), ('lawn', 10033), ('grunts', 7738), ('lawns', 10034), ('flanked', 6737), ('orchestra', 12418), ('minchin', 11231), ('albert', 739), ('wonderfully', 19318), ('canvas', 2803), ('delhis', 4660), ('archaeology', 1164), ('kalief', 9602), ('browder', 2527), ('spousal', 16509), ('computergenerated', 3723), ('graphics', 7618), ('retell', 14639), ('impish', 8780), ('lamb', 9928), ('fairness', 6352), ('fearsomelooking', 6497), ('neverbeast', 11892), ('fawn', 6483), ('journal', 9508), ('sixyearold', 16013), ('weisbarth', 19062), ('giffin', 7385), ('hypercustomized', 8617), ('replacement', 14512), ('meadow', 10931), ('titipo', 17719), ('reliably', 14418), ('pantsula', 12697), ('officially', 12259), ('seattlebased', 15412), ('article', 1267), ('nationalism', 11762), ('venezuelas', 18657), ('multibilliondollar', 11605), ('simone', 15936), ('senegalese', 15544), ('nervosa', 11869), ('midwestern', 11167), ('classically', 3381), ('horrid', 8449), ('tobots', 17729), ('flightdelayed', 6776), ('appointments', 1120), ('bonedry', 2268), ('wine', 19228), ('bounces', 2342), ('kit', 9774), ('denying', 4721), ('compliments', 3711), ('lauriente', 10021), ('animatedly', 1011), ('slices', 16099), ('quixotic', 13943), ('sanitation', 15181), ('predominantly', 13479), ('transactional', 17918), ('weighing', 19053), ('booth', 2296), ('reassigned', 14177), ('papa', 12698), ('staten', 16635), ('segura', 15462), ('uncomfortably', 18268), ('offhand', 12253), ('appraisals', 1122), ('digestive', 4924), ('blunt', 2201), ('bearded', 1807), ('piercings', 13093), ('tyson', 18201), ('tomasz', 17754), ('jachimek', 9290), ('jacek', 9289), ('stramik', 16777), ('megalomaniacal', 10996), ('patience', 12828), ('arguably', 1195), ('robbins', 14858), ('megaevent', 10993), ('mingle', 11249), ('twelveyearold', 18157), ('calvin', 2747), ('guadalcanal', 7742), ('brig', 2463), ('toon', 17778), ('biz', 2099), ('skyrockets', 16057), ('knocking', 9797), ('persistently', 12981), ('ufos', 18212), ('hayes', 8039), ('grier', 7675), ('tightrope', 17677), ('nomad', 12013), ('postmanturnedsoothsayer', 13398), ('unspool', 18450), ('poem', 13256), ('ryūji', 15078), ('taiga', 17238), ('tongue', 17765), ('exarmy', 6097), ('toros', 17805), ('toro', 17803), ('booming', 2289), ('interspersed', 9125), ('bongs', 2271), ('douglas', 5268), ('quaid', 13888), ('insurrection', 9066), ('perpetual', 12971), ('queenslands', 13910), ('semis', 15535), ('málaga', 11689), ('retrial', 14657), ('messenger', 11097), ('livelihood', 10285), ('julians', 9545), ('rickys', 14751), ('julian', 9544), ('legit', 10112), ('demolish', 4695), ('bravado', 2401), ('intoxicated', 9145), ('requirements', 14545), ('miscreants', 11299), ('lamest', 9934), ('sunnyvale', 16989), ('jroc', 9523), ('rapped', 14088), ('barb', 1695), ('lahey', 9914), ('lam', 9925), ('renton', 14492), ('infiltration', 8944), ('briefcase', 2462), ('singularity', 15981), ('computers', 3725), ('boating', 2213), ('woodworker', 19336), ('florian', 6806), ('powerlifter', 13435), ('kroczaleski', 9854), ('autobots', 1480), ('decepticons', 4556), ('megatron', 11002), ('bots', 2333), ('cybertron', 4372), ('optimus', 12405), ('allspark', 826), ('memoryscrambled', 11038), ('transformers', 17934), ('heatwave', 8100), ('blades', 2117), ('autobot', 1479), ('ravage', 14118), ('heap', 8076), ('loutish', 10441), ('onur', 12361), ('incurable', 8855), ('klutz', 9786), ('şeref', 19646), ('organizes', 12445), ('crafting', 4116), ('astroworld', 1372), ('travis', 17973), ('bulldozer', 2585), ('damien', 4419), ('hirsts', 8303), ('oceanic', 12213), ('virtue', 18794), ('politeness', 13295), ('trees', 17991), ('brotherandsister', 2519), ('toby', 17730), ('teri', 17453), ('seismologist', 15468), ('readings', 14144), ('equipment', 5936), ('handymen', 7913), ('30footlong', 246), ('suck', 16931), ('supersucking', 17028), ('worming', 19369), ('worm', 19367), ('burt', 2643), ('gummer', 7785), ('graboids', 7576), ('survivalist', 17084), ('wormlike', 19370), ('graboidhunter', 7575), ('weaponized', 19014), ('naming', 11718), ('tacos', 17222), ('snakes', 16169), ('immunity', 8757), ('jostling', 9506), ('systemic', 17197), ('emphasis', 5742), ('goan', 7486), ('nowderelict', 12099), ('recalling', 14200), ('interpersonal', 9108), ('shoplifters', 15817), ('distinct', 5103), ('adept', 529), ('tampa', 17283), ('buccaneers', 2552), ('muscle', 11641), ('trixie', 18049), ('mattel', 10866), ('poppy', 13336), ('bergens', 1938), ('celebrations', 3005), ('trotro', 18060), ('aphrodite', 1094), ('herdsman', 8170), ('sparta', 16386), ('homers', 8384), ('odysseuss', 12231), ('extension', 6272), ('lecherous', 10091), ('somethings', 16278), ('bartleby', 1730), ('mattie', 10870), ('crusty', 4270), ('rooster', 14962), ('cogburn', 3517), ('forcibly', 6890), ('venezuela', 18655), ('bleed', 2133), ('freshly', 7054), ('grippitygrab', 7693), ('grizelda', 7700), ('bracelet', 2371), ('grabbleapple', 7573), ('glummy', 7475), ('glooma', 7465), ('autumn', 1487), ('loneliest', 10350), ('contagious', 3878), ('cue', 4295), ('neverending', 11897), ('dillydally', 4941), ('spinner', 16453), ('pinocchio', 13127), ('yeti', 19499), ('howling', 8517), ('greenies', 7654), ('freezing', 7039), ('wishfest', 19270), ('dogooding', 5188), ('tippy', 17710), ('wuzzle', 19433), ('wegg', 19049), ('bartlebys', 1731), ('weggstealing', 19050), ('blacklisted', 2106), ('dalton', 4416), ('trumbo', 18082), ('canceled', 2781), ('noisy', 12010), ('toucan', 17822), ('tuca', 18101), ('selfdoubting', 15499), ('thrush', 17634), ('bertie', 1950), ('relax', 14404), ('saints', 15120), ('ramifications', 14040), ('morake', 11482), ('fisheries', 6697), ('cultivation', 4308), ('pleasureseeking', 13221), ('reticent', 14644), ('bakery', 1624), ('stranglehold', 16785), ('speedobsessed', 16421), ('imbues', 8737), ('amps', 936), ('1778', 57), ('abe', 370), ('woodhull', 19331), ('cabbage', 2691), ('obliged', 12166), ('spying', 16537), ('wiseguy', 19265), ('podcaster', 13255), ('seafarer', 15392), ('transformational', 17930), ('walrusmonster', 18923), ('reggies', 14344), ('reenacts', 14302), ('tsutomu', 18098), ('yamaguchi', 19466), ('vitoriagasteiz', 18821), ('mimicking', 11228), ('palmer', 12673), ('lips', 10255), ('bead', 1801), ('twirlywoos', 18168), ('boat', 2212), ('ganesha', 7240), ('lawmakers', 10030), ('catalonias', 2955), ('seunggi', 15625), ('jasper', 9342), ('honolulu', 8406), ('heavyweight', 8106), ('acquiesce', 467), ('rear', 14167), ('kabir', 9591), ('kuhu', 9863), ('halfnaked', 7870), ('whim', 19130), ('bs', 2543), ('grub', 7731), ('storyline', 16762), ('representing', 14527), ('sainz', 15121), ('ultraman', 18228), ('rescuerforhire', 14549), ('uncharted', 18262), ('fanatic', 6391), ('follower', 6853), ('composes', 3713), ('preyed', 13555), ('kaczynski', 9592), ('unabomber', 18236), ('greer', 7658), ('shipper', 15788), ('secondincommand', 15418), ('spate', 16390), ('anymore', 1077), ('kimmys', 9741), ('reverends', 14692), ('stave', 16650), ('lluís', 10300), ('carlana', 2873), ('carlanas', 2874), ('crystals', 4279), ('adrenalinerush', 566), ('yemeni', 19494), ('uae', 18204), ('sommelier', 16282), ('implicate', 8784), ('playoff', 13209), ('lawbreakers', 10028), ('warns', 18962), ('beaches', 1796), ('riccione', 14737), ('iraniraq', 9213), ('liquid', 10259), ('campground', 2770), ('weekends', 19045), ('iiera', 8690), ('archenemy', 1167), ('foosball', 6870), ('incarnated', 8828), ('batchmates', 1757), ('arthurs', 1266), ('choir', 3270), ('cybercrimes', 4369), ('somber', 16274), ('comicsloving', 3620), ('eradicating', 5941), ('selecting', 15476), ('editing', 5556), ('phd', 13024), ('fatigue', 6469), ('puzzling', 13870), ('laurie', 10020), ('pedophile', 12898), ('abrupt', 391), ('romanias', 14932), ('roam', 14843), ('ghastly', 7368), ('overnighting', 12565), ('bingham', 2057), ('firing', 6685), ('assets', 1335), ('indy', 8908), ('fray', 7013), ('callous', 2741), ('tricked', 18019), ('exploiters', 6230), ('urzila', 18539), ('carlson', 2879), ('roaring', 14847), ('recasting', 14204), ('boxed', 2357), ('supplies', 17036), ('fastspreading', 6452), ('bloodsucking', 2173), ('fiends', 6599), ('invading', 9166), ('dalgeon', 4413), ('haeri', 7842), ('elísabet', 5686), ('benavent', 1911), ('helicopter', 8135), ('unseemly', 18443), ('disciplinary', 5005), ('committee', 3651), ('gentrifying', 7336), ('antiterrorism', 1066), ('ashton', 1298), ('bandit', 1667), ('punches', 13818), ('calmer', 2744), ('pacifist', 12615), ('entrants', 5898), ('vitro', 18823), ('fertilization', 6569), ('veggie', 18640), ('horizons', 8443), ('faithbased', 6358), ('tomato', 17755), ('cucumber', 4292), ('seamstress', 15397), ('snap', 16170), ('velvet', 18648), ('holding', 8354), ('minding', 11237), ('gilded', 7399), ('polygamy', 13309), ('piety', 13097), ('congenial', 3802), ('fourway', 6968), ('edinburgh', 5553), ('fahri', 6340), ('aisha', 710), ('thiru', 17584), ('di', 4872), ('viceroy', 18704), ('mountbatten', 11559), ('oversee', 12571), ('bilbao', 2040), ('jihadi', 9416), ('vega', 18634), ('olaya', 12289), ('miner', 11244), ('emigrates', 5721), ('1934', 105), ('odin', 12228), ('parcak', 12732), ('explorations', 6233), ('pub', 13787), ('terse', 17480), ('violet', 18778), ('evergarden', 6057), ('emotionless', 5737), ('vir', 18784), ('das', 4468), ('globalism', 7455), ('cleverly', 3417), ('crosscut', 4228), ('vedas', 18630), ('vasco', 18621), ('gama', 7223), ('vacuous', 18575), ('plotlines', 13228), ('homebound', 8375), ('sahay', 15108), ('grandkids', 7604), ('gorillas', 7547), ('virunga', 18796), ('rulers', 15029), ('nascent', 11749), ('1974', 138), ('anatolia', 958), ('trepidation', 18001), ('tvobsessed', 18151), ('bemused', 1909), ('ezekiel', 6307), ('nontraditional', 12027), ('pharrell', 13021), ('megapowerful', 11000), ('voltron', 18845), ('yacine', 19462), ('belhousse', 1878), ('talese', 17265), ('spied', 16441), ('bombshell', 2258), ('halfcar', 7864), ('halfanimal', 7861), ('zippy', 19610), ('kamau', 9604), ('dustups', 5452), ('woke', 19297), ('grid', 7669), ('glossy', 7471), ('juxtaposes', 9584), ('winthrop', 19249), ('dishonorably', 5049), ('bbc', 1788), ('ask', 1304), ('passive', 12805), ('wadi', 18879), ('serene', 15582), ('educators', 5571), ('reformers', 14320), ('eighthour', 5603), ('shenaniganz', 15751), ('anesthesiologist', 987), ('brat', 2400), ('meaningless', 10938), ('significantly', 15913), ('attic', 1421), ('yugo', 19544), ('eliatrope', 5648), ('wakfu', 18900), ('qilby', 13880), ('ogrests', 12272), ('crying', 4273), ('amalias', 885), ('dofus', 5181), ('zen', 19586), ('thich', 17560), ('nhat', 11930), ('hanh', 7921), ('mindfulness', 11236), ('monastic', 11430), ('occurs', 12208), ('paperman', 12700), ('wanda', 18930), ('sykes', 17177), ('nekfeu', 11850), ('polaropposite', 13277), ('taut', 17334), ('actionthriller', 484), ('indiapakistan', 8876), ('englishman', 5827), ('cavalry', 2989), ('headon', 8060), ('hubris', 8525), ('intimidated', 9140), ('happenings', 7934), ('soontoberetiring', 16303), ('lino', 10250), ('halobearer', 7885), ('demonhunting', 4699), ('striking', 16829), ('dated', 4475), ('joon', 9491), ('rushing', 15057), ('barons', 1719), ('waterschool', 18996), ('warren', 18966), ('bedandbreakfast', 1834), ('amputee', 937), ('grandmaster', 7606), ('careeroriented', 2855), ('solidarité', 16259), ('nationalistic', 11764), ('fervor', 6571), ('rostock', 14977), ('xenophobic', 19445), ('vandana', 18604), ('unchecked', 18263), ('visceral', 18800), ('hackman', 7836), ('corps', 4005), ('lalaloopsy', 9923), ('collaboration', 3537), ('thesis', 17552), ('retailers', 14632), ('glock', 7463), ('pistol', 13145), ('implications', 8787), ('kirkuk', 9768), ('coffins', 3515), ('foreshadows', 6905), ('mathiass', 10857), ('mediafriendly', 10965), ('buoyed', 2613), ('farce', 6413), ('respectable', 14596), ('dim', 4942), ('draculas', 5298), ('illiterate', 8706), ('correspondence', 4012), ('hostiles', 8479), ('paranoia', 12723), ('campers', 2769), ('droughtridden', 5378), ('briberylaced', 2449), ('bone', 2266), ('marrow', 10793), ('donation', 5223), ('leukemia', 10159), ('bea', 1794), ('insult', 9062), ('mecca', 10947), ('wellheeled', 19077), ('infantry', 8926), ('lacking', 9899), ('firepower', 6681), ('peninsula', 12914), ('simmons', 15933), ('westside', 19104), ('barbell', 1700), ('powerlifting', 13436), ('firewood', 6684), ('hankypanky', 7924), ('hooky', 8424), ('nayla', 11791), ('interrogates', 9115), ('onechild', 12335), ('septuplets', 15575), ('detection', 4814), ('wakeup', 18899), ('neverbeforeheard', 11894), ('nowgrown', 12100), ('jokingly', 9475), ('longterm', 10381), ('monogamous', 11447), ('reassure', 14178), ('psychopathy', 13781), ('nonviolent', 12029), ('peimei', 12906), ('fortuitously', 6938), ('postapocalypse', 13387), ('crabby', 4104), ('healthcare', 8072), ('industries', 8904), ('glam', 7428), ('fertility', 6568), ('sardinian', 15200), ('loren', 10408), ('gilbert', 7398), ('edition', 5557), ('modernity', 11394), ('yogesh', 19511), ('astrological', 1363), ('uppercrust', 18513), ('theyd', 17554), ('coordinating', 3968), ('unluckyinlove', 18403), ('dongbaek', 5226), ('persuade', 12993), ('prodigious', 13632), ('allwhite', 835), ('hipster', 8294), ('initially', 8981), ('whindersson', 19133), ('nunes', 12123), ('attachments', 1400), ('glimmers', 7446), ('verse', 18683), ('captor', 2828), ('commanding', 3628), ('wolfdogs', 19300), ('distinctly', 5105), ('romping', 14945), ('essex', 5998), ('ibiza', 8632), ('narrow', 11743), ('kari', 9633), ('byron', 2684), ('tory', 17814), ('belleci', 1891), ('imahara', 8735), ('mythbusters', 11681), ('whitney', 19148), ('cummings', 4317), ('4yearold', 287), ('frustratingly', 7100), ('alago', 729), ('signed', 15911), ('desirable', 4780), ('geneticist', 7321), ('dispels', 5077), ('monogamy', 11448), ('russoamerican', 15064), ('varied', 18615), ('continental', 3900), ('abundance', 403), ('surrendering', 17076), ('exguerrilla', 6153), ('avoids', 1519), ('utopian', 18566), ('ingenious', 8965), ('arsenal', 1251), ('topnotch', 17785), ('liberated', 10179), ('verdies', 18675), ('grimps', 7688), ('tickets', 17657), ('holders', 8353), ('confectionary', 3764), ('firearms', 6673), ('constructs', 3867), ('product', 13640), ('winesoaked', 19233), ('napa', 11727), ('messier', 11100), ('faison', 6356), ('numericalbased', 12120), ('tidbits', 17661), ('smallest', 16130), ('93', 335), ('ukraine', 18218), ('exlieutenant', 6172), ('moribund', 11493), ('aidan', 681), ('tack', 17215), ('sameaged', 15151), ('harmony', 7976), ('suzannah', 17111), ('lipscomb', 10256), ('17th', 58), ('defrauding', 4632), ('arshile', 1254), ('gorky', 7548), ('arcadia', 1160), ('timebending', 17685), ('specialoperations', 16404), ('crossed', 4230), ('strips', 16835), ('wonho', 19325), ('chung', 3312), ('ratchets', 14104), ('floats', 6794), ('potent', 13412), ('decays', 4551), ('reminisce', 14455), ('pecks', 12890), ('bailey', 1616), ('franny', 7002), ('kip', 9764), ('lulu', 10499), ('tilly', 17682), ('maternity', 10852), ('renxin', 14494), ('wow', 19387), ('winx', 19251), ('worldly', 19360), ('rescuers', 14550), ('definition', 4628), ('workings', 19351), ('metropolises', 11121), ('avoided', 1517), ('profiling', 13658), ('bubbleshaped', 2548), ('bottles', 2336), ('fantastically', 6407), ('residences', 14571), ('mkultra', 11365), ('winnertakesall', 19242), ('boori', 2293), ('pryor', 13765), ('controlling', 3926), ('bootlegger', 2297), ('huston', 8599), ('aleutian', 761), ('wyatt', 19437), ('cenac', 3018), ('borough', 2315), ('sitcoms', 16000), ('cheesemongers', 3175), ('earp', 5501), ('corral', 4007), ('holliday', 8364), ('revenants', 14688), ('obesityrelated', 12159), ('hasbeen', 8001), ('allure', 833), ('touched', 17824), ('rushseeker', 15058), ('deemed', 4597), ('untouchable', 18463), ('cooperating', 3966), ('xxx', 19459), ('augustus', 1451), ('gibbons', 7382), ('tenoch', 17440), ('julio', 9549), ('luisa', 10496), ('fervent', 6570), ('frías', 7103), ('parras', 12760), ('im', 8722), ('industrious', 8905), ('dharam', 4870), ('swati', 17124), ('virtually', 18793), ('qing', 13882), ('leprosy', 10143), ('clamors', 3361), ('harshu', 7991), ('balances', 1630), ('tags', 17235), ('tomboyish', 17758), ('distractions', 5107), ('heartaches', 8084), ('attractions', 1430), ('refresh', 14322), ('devoutly', 4866), ('suppressing', 17045), ('seungri', 15626), ('bigbangs', 2016), ('ygs', 19500), ('frees', 7033), ('nates', 11758), ('allimportant', 814), ('oto', 12488), ('viks', 18748), ('playgrounds', 13207), ('vik', 18743), ('being', 1871), ('whichever', 19129), ('yoo', 19516), ('byungjae', 2687), ('touchy', 17827), ('writerturnedcomedian', 19416), ('bare', 1707), ('yoohoo', 19517), ('insert', 9023), ('footing', 6877), ('brandnew', 2394), ('moneyminded', 11438), ('christmasloving', 3295), ('hairstylist', 7855), ('dallying', 4415), ('manchild', 10679), ('georgina', 7349), ('announcing', 1030), ('incriminating', 8852), ('incendiary', 8829), ('hate', 8013), ('fasttracking', 6454), ('wallander', 18916), ('prodigys', 13634), ('jiahan', 9412), ('birdy', 2075), ('kanan', 9609), ('gill', 7400), ('tumult', 18113), ('morsis', 11506), ('ouster', 12496), ('demonstrators', 4707), ('calamities', 2721), ('replaying', 14515), ('yugi', 19543), ('moto', 11543), ('téa', 18202), ('pendulum', 12910), ('technique', 17367), ('yuyas', 19559), ('dueltainer', 5417), ('creatively', 4151), ('fatherly', 6465), ('mongol', 11439), ('invasions', 9169), ('yunus', 19552), ('emre', 5758), ('temptations', 17419), ('dervish', 4756), ('zé', 19636), ('pianoplaying', 13073), ('miri', 11285), ('zak', 19565), ('bermuda', 1946), ('unqualified', 18420), ('disapproves', 4988), ('dogtraining', 5191), ('obey', 12160), ('cureall', 4328), ('clearance', 3405), ('partys', 12790), ('vertically', 18687), ('laundering', 10015), ('zig', 19601), ('islandbound', 9249), ('hyena', 8611), ('sharko', 15713), ('kashaf', 9644), ('zaroon', 19571), ('tripbachelor', 18038), ('sadist', 15096), ('clark', 3368), ('zip', 19608), ('zap', 19568), ('zoé', 19630), ('franciscos', 6993), ('zoids', 19618), ('untapped', 18458), ('dorky', 5247), ('roughneck', 14983), ('deprives', 4745), ('zozo', 19629), ('introducing', 9154), ('adriano', 568), ('zumbo', 19634), ('amateurs', 895), ('mystique', 11679), ('bluesrock', 2194)])"
            ]
          },
          "metadata": {},
          "execution_count": 72
        }
      ]
    },
    {
      "cell_type": "code",
      "source": [
        "list_words = list(word_count)"
      ],
      "metadata": {
        "id": "7XEdgkmSzTQj"
      },
      "execution_count": 73,
      "outputs": []
    },
    {
      "cell_type": "code",
      "source": [
        "list_words"
      ],
      "metadata": {
        "colab": {
          "base_uri": "https://localhost:8080/"
        },
        "id": "-CtPdX2dzZSZ",
        "outputId": "a94310c6-af1d-4500-f09c-d6e20293e7e6"
      },
      "execution_count": 74,
      "outputs": [
        {
          "output_type": "execute_result",
          "data": {
            "text/plain": [
              "[('future', 7167),\n",
              " ('elite', 5655),\n",
              " ('inhabit', 8970),\n",
              " ('island', 9248),\n",
              " ('paradise', 12709),\n",
              " ('far', 6411),\n",
              " ('crowded', 4242),\n",
              " ('slums', 16126),\n",
              " ('get', 7363),\n",
              " ('one', 12334),\n",
              " ('chance', 3073),\n",
              " ('join', 9466),\n",
              " ('saved', 15232),\n",
              " ('squalor', 16543),\n",
              " ('devastating', 4837),\n",
              " ('earthquake', 5504),\n",
              " ('hits', 8329),\n",
              " ('mexico', 11126),\n",
              " ('city', 3339),\n",
              " ('trapped', 17952),\n",
              " ('survivors', 17091),\n",
              " ('walks', 18912),\n",
              " ('life', 10195),\n",
              " ('wait', 18889),\n",
              " ('rescued', 14548),\n",
              " ('trying', 18094),\n",
              " ('desperately', 4790),\n",
              " ('stay', 16652),\n",
              " ('alive', 785),\n",
              " ('army', 1228),\n",
              " ('recruit', 14268),\n",
              " ('found', 6951),\n",
              " ('dead', 4504),\n",
              " ('fellow', 6537),\n",
              " ('soldiers', 16252),\n",
              " ('forced', 6887),\n",
              " ('confront', 3793),\n",
              " ('terrifying', 17467),\n",
              " ('secret', 15420),\n",
              " ('thats', 17520),\n",
              " ('haunting', 8024),\n",
              " ('jungle', 9561),\n",
              " ('training', 17909),\n",
              " ('camp', 2764),\n",
              " ('postapocalyptic', 13388),\n",
              " ('world', 19355),\n",
              " ('ragdoll', 13987),\n",
              " ('robots', 14874),\n",
              " ('hide', 8205),\n",
              " ('fear', 6490),\n",
              " ('dangerous', 4431),\n",
              " ('machines', 10552),\n",
              " ('exterminate', 6276),\n",
              " ('them', 17533),\n",
              " ('brave', 2402),\n",
              " ('newcomer', 11903),\n",
              " ('joins', 9469),\n",
              " ('group', 7721),\n",
              " ('brilliant', 2471),\n",
              " ('students', 16858),\n",
              " ('become', 1830),\n",
              " ('cardcounting', 2840),\n",
              " ('experts', 6217),\n",
              " ('intent', 9079),\n",
              " ('swindling', 17152),\n",
              " ('millions', 11224),\n",
              " ('las', 9978),\n",
              " ('vegas', 18637),\n",
              " ('casinos', 2930),\n",
              " ('playing', 13208),\n",
              " ('blackjack', 2105),\n",
              " ('genetics', 7322),\n",
              " ('professor', 13651),\n",
              " ('experiments', 6214),\n",
              " ('treatment', 17985),\n",
              " ('comatose', 3589),\n",
              " ('sister', 15993),\n",
              " ('blends', 2137),\n",
              " ('medical', 10968),\n",
              " ('shamanic', 15685),\n",
              " ('cures', 4330),\n",
              " ('unlocks', 18401),\n",
              " ('shocking', 15803),\n",
              " ('side', 15889),\n",
              " ('effect', 5577),\n",
              " ('awful', 1541),\n",
              " ('accident', 427),\n",
              " ('couple', 4064),\n",
              " ('admitted', 545),\n",
              " ('grisly', 7697),\n",
              " ('hospital', 8469),\n",
              " ('separated', 15570),\n",
              " ('must', 11660),\n",
              " ('find', 6656),\n",
              " ('escape', 5977),\n",
              " ('death', 4521),\n",
              " ('finds', 6658),\n",
              " ('high', 8212),\n",
              " ('school', 15301),\n",
              " ('attacks', 1405),\n",
              " ('him', 8278),\n",
              " ('dedicated', 4589),\n",
              " ('teacher', 17344),\n",
              " ('trevor', 18004),\n",
              " ('garfield', 7259),\n",
              " ('grows', 7729),\n",
              " ('weary', 19019),\n",
              " ('gang', 7241),\n",
              " ('warfare', 18949),\n",
              " ('new', 11899),\n",
              " ('york', 19518),\n",
              " ('system', 17195),\n",
              " ('moves', 11573),\n",
              " ('california', 2731),\n",
              " ('teach', 17343),\n",
              " ('there', 17547),\n",
              " ('thinking', 17571),\n",
              " ('less', 10148),\n",
              " ('hostile', 8478),\n",
              " ('environment', 5909),\n",
              " ('doctor', 5159),\n",
              " ('goes', 7499),\n",
              " ('missing', 11324),\n",
              " ('psychiatrist', 13772),\n",
              " ('wife', 19182),\n",
              " ('treats', 17987),\n",
              " ('bizarre', 2100),\n",
              " ('condition', 3755),\n",
              " ('psychic', 13773),\n",
              " ('patient', 12829),\n",
              " ('knows', 9806),\n",
              " ('much', 11588),\n",
              " ('hes', 8190),\n",
              " ('leading', 10058),\n",
              " ('on', 12316),\n",
              " ('architect', 1174),\n",
              " ('move', 11569),\n",
              " ('castle', 2943),\n",
              " ('slated', 16067),\n",
              " ('luxury', 10526),\n",
              " ('hotel', 8487),\n",
              " ('something', 16277),\n",
              " ('inside', 9024),\n",
              " ('determined', 4821),\n",
              " ('stop', 16744),\n",
              " ('renovation', 14485),\n",
              " ('farmer', 6420),\n",
              " ('pens', 12921),\n",
              " ('confession', 3773),\n",
              " ('admitting', 546),\n",
              " ('wifes', 19183),\n",
              " ('murder', 11625),\n",
              " ('beginning', 1856),\n",
              " ('macabre', 10543),\n",
              " ('tale', 17259),\n",
              " ('based', 1735),\n",
              " ('stephen', 16682),\n",
              " ('kings', 9758),\n",
              " ('novella', 12093),\n",
              " ('dark', 4456),\n",
              " ('althistory', 871),\n",
              " ('thriller', 17618),\n",
              " ('naïve', 11798),\n",
              " ('law', 10026),\n",
              " ('student', 16857),\n",
              " ('worldweary', 19365),\n",
              " ('detective', 4815),\n",
              " ('uncover', 18275),\n",
              " ('conspiracy', 3852),\n",
              " ('tyrannized', 18197),\n",
              " ('poland', 13274),\n",
              " ('decades', 4547),\n",
              " ('archival', 1177),\n",
              " ('video', 18720),\n",
              " ('interviews', 9136),\n",
              " ('examine', 6090),\n",
              " ('mexican', 11124),\n",
              " ('politics', 13301),\n",
              " ('1994', 160),\n",
              " ('year', 19481),\n",
              " ('marked', 10775),\n",
              " ('rise', 14802),\n",
              " ('ezln', 6308),\n",
              " ('assassination', 1322),\n",
              " ('luis', 10495),\n",
              " ('donaldo', 5221),\n",
              " ('colosio', 3579),\n",
              " ('intimate', 9139),\n",
              " ('documentary', 5167),\n",
              " ('follows', 6856),\n",
              " ('rock', 14879),\n",
              " ('star', 16602),\n",
              " ('artiwara', 1281),\n",
              " ('kongmalai', 9820),\n",
              " ('historic', 8311),\n",
              " ('2215kilometer', 219),\n",
              " ('charity', 3111),\n",
              " ('run', 15038),\n",
              " ('across', 476),\n",
              " ('thailand', 17509),\n",
              " ('2017', 194),\n",
              " ('stranded', 16778),\n",
              " ('earth', 5503),\n",
              " ('suddenly', 16935),\n",
              " ('destroyed', 4804),\n",
              " ('mysterious', 11673),\n",
              " ('cataclysm', 2948),\n",
              " ('astronauts', 1365),\n",
              " ('aboard', 380),\n",
              " ('marooned', 10783),\n",
              " ('space', 16357),\n",
              " ('station', 16640),\n",
              " ('slowly', 16122),\n",
              " ('lose', 10415),\n",
              " ('minds', 11239),\n",
              " ('backdrop', 1575),\n",
              " ('nigerias', 11953),\n",
              " ('looming', 10390),\n",
              " ('independence', 8864),\n",
              " ('britain', 2481),\n",
              " ('danladi', 4439),\n",
              " ('waziri', 19009),\n",
              " ('races', 13958),\n",
              " ('capture', 2830),\n",
              " ('killer', 9729),\n",
              " ('terrorizing', 17477),\n",
              " ('local', 10312),\n",
              " ('women', 19312),\n",
              " ('psychology', 13778),\n",
              " ('faces', 6322),\n",
              " ('alzheimers', 881),\n",
              " ('daughter', 4479),\n",
              " ('three', 17612),\n",
              " ('close', 3444),\n",
              " ('female', 6542),\n",
              " ('friends', 7067),\n",
              " ('experience', 6208),\n",
              " ('romance', 14926),\n",
              " ('marriage', 10787),\n",
              " ('heartbreak', 8085),\n",
              " ('tragedy', 17894),\n",
              " ('terror', 17470),\n",
              " ('norway', 12054),\n",
              " ('young', 19528),\n",
              " ('survivor', 17090),\n",
              " ('grieving', 7678),\n",
              " ('families', 6382),\n",
              " ('country', 4057),\n",
              " ('rally', 14030),\n",
              " ('justice', 9574),\n",
              " ('healing', 8070),\n",
              " ('true', 18077),\n",
              " ('story', 16758),\n",
              " ('indias', 8877),\n",
              " ('day', 4492),\n",
              " ('zany', 19567),\n",
              " ('mishap', 11312),\n",
              " ('mumbai', 11616),\n",
              " ('chawl', 3156),\n",
              " ('disrupts', 5093),\n",
              " ('love', 10444),\n",
              " ('compelling', 3685),\n",
              " ('residents', 14575),\n",
              " ('unite', 18376),\n",
              " ('aid', 680),\n",
              " ('little', 10278),\n",
              " ('boy', 2362),\n",
              " ('mixing', 11359),\n",
              " ('old', 12290),\n",
              " ('footage', 6872),\n",
              " ('arsenals', 1252),\n",
              " ('improbable', 8808),\n",
              " ('win', 19220),\n",
              " ('versus', 18686),\n",
              " ('liverpool', 10288),\n",
              " ('final', 6645),\n",
              " ('moments', 11423),\n",
              " ('1989', 154),\n",
              " ('championship', 3069),\n",
              " ('game', 7231),\n",
              " ('accidentally', 429),\n",
              " ('connecting', 3816),\n",
              " ('internet', 9103),\n",
              " ('two', 18177),\n",
              " ('strangers', 16783),\n",
              " ('form', 6923),\n",
              " ('tight', 17673),\n",
              " ('friendship', 7068),\n",
              " ('knowing', 9802),\n",
              " ('already', 855),\n",
              " ('share', 15706),\n",
              " ('bond', 2261),\n",
              " ('taxi', 17337),\n",
              " ('driver', 5361),\n",
              " ('gangster', 7248),\n",
              " ('athlete', 1382),\n",
              " ('struggle', 16849),\n",
              " ('better', 1978),\n",
              " ('lives', 10289),\n",
              " ('despite', 4792),\n",
              " ('obstacles', 12190),\n",
              " ('like', 10225),\n",
              " ('crooked', 4221),\n",
              " ('politicians', 13300),\n",
              " ('evil', 6072),\n",
              " ('dons', 5233),\n",
              " ('caste', 2936),\n",
              " ('barriers', 1722),\n",
              " ('successful', 16925),\n",
              " ('writer', 19411),\n",
              " ('returns', 14668),\n",
              " ('town', 17855),\n",
              " ('launched', 10011),\n",
              " ('career', 2852),\n",
              " ('encountering', 5773),\n",
              " ('people', 12926),\n",
              " ('spark', 16379),\n",
              " ('nostalgic', 12063),\n",
              " ('often', 12270),\n",
              " ('painfully', 12643),\n",
              " ('illuminating', 8712),\n",
              " ('flashbacks', 6741),\n",
              " ('middleaged', 11155),\n",
              " ('divorcee', 5142),\n",
              " ('kolkata', 9815),\n",
              " ('visit', 18806),\n",
              " ('ailing', 688),\n",
              " ('father', 6461),\n",
              " ('longburied', 10361),\n",
              " ('memories', 11034),\n",
              " ('resurface', 14625),\n",
              " ('bringing', 2476),\n",
              " ('discoveries', 5018),\n",
              " ('seiya', 15469),\n",
              " ('knights', 9793),\n",
              " ('zodiac', 19615),\n",
              " ('protect', 13725),\n",
              " ('reincarnation', 14376),\n",
              " ('goddess', 7491),\n",
              " ('athena', 1380),\n",
              " ('prophecy', 13705),\n",
              " ('hangs', 7919),\n",
              " ('all', 786),\n",
              " ('reallife', 14157),\n",
              " ('look', 10385),\n",
              " ('fbi', 6486),\n",
              " ('counterterrorism', 4053),\n",
              " ('operations', 12378),\n",
              " ('features', 6506),\n",
              " ('access', 426),\n",
              " ('sides', 15894),\n",
              " ('sting', 16717),\n",
              " ('government', 7564),\n",
              " ('informant', 8961),\n",
              " ('radicalized', 13972),\n",
              " ('target', 17310),\n",
              " ('docuseries', 5173),\n",
              " ('takes', 17255),\n",
              " ('deep', 4598),\n",
              " ('dive', 5125),\n",
              " ('lucrative', 10491),\n",
              " ('wellness', 19081),\n",
              " ('industry', 8906),\n",
              " ('touts', 17846),\n",
              " ('health', 8071),\n",
              " ('products', 13642),\n",
              " ('live', 10282),\n",
              " ('promises', 13683),\n",
              " ('virus', 18797),\n",
              " ('rampages', 14044),\n",
              " ('lone', 10349),\n",
              " ('man', 10672),\n",
              " ('stays', 16655),\n",
              " ('locked', 10320),\n",
              " ('apartment', 1088),\n",
              " ('digitally', 4928),\n",
              " ('cut', 4359),\n",
              " ('seeking', 15447),\n",
              " ('help', 8144),\n",
              " ('desperate', 4789),\n",
              " ('way', 19003),\n",
              " ('out', 12497),\n",
              " ('diary', 4887),\n",
              " ('anne', 1022),\n",
              " ('franks', 7001),\n",
              " ('retold', 14651),\n",
              " ('alongside', 842),\n",
              " ('five', 6711),\n",
              " ('holocaust', 8370),\n",
              " ('poignant', 13261),\n",
              " ('oscar', 12472),\n",
              " ('winner', 19240),\n",
              " ('helen', 8133),\n",
              " ('mirren', 11286),\n",
              " ('kenya', 9689),\n",
              " ('barris', 1723),\n",
              " ('family', 6383),\n",
              " ('navigate', 11786),\n",
              " ('relationships', 14401),\n",
              " ('race', 13954),\n",
              " ('culture', 4312),\n",
              " ('grappling', 7623),\n",
              " ('newfound', 11906),\n",
              " ('success', 16923),\n",
              " ('comedy', 3607),\n",
              " ('series', 15590),\n",
              " ('pawesome', 12859),\n",
              " ('explores', 6238),\n",
              " ('feline', 6530),\n",
              " ('became', 1828),\n",
              " ('online', 12352),\n",
              " ('icons', 8648),\n",
              " ('earliest', 5491),\n",
              " ('text', 17500),\n",
              " ('memes', 11030),\n",
              " ('celebrity', 3007),\n",
              " ('cat', 2947),\n",
              " ('influencers', 8951),\n",
              " ('pining', 13121),\n",
              " ('crush', 4264),\n",
              " ('years', 19488),\n",
              " ('puts', 13865),\n",
              " ('best', 1955),\n",
              " ('efforts', 5583),\n",
              " ('friend', 7063),\n",
              " ('zone', 19622),\n",
              " ('reveals', 14681),\n",
              " ('getting', 7367),\n",
              " ('married', 10791),\n",
              " ('ayu', 1555),\n",
              " ('ditto', 5121),\n",
              " ('finally', 6647),\n",
              " ('transition', 17939),\n",
              " ('newlyweds', 11913),\n",
              " ('quick', 13922),\n",
              " ('pregnancy', 13483),\n",
              " ('creates', 4146),\n",
              " ('uncertainty', 18261),\n",
              " ('nerdy', 11864),\n",
              " ('schooler', 15304),\n",
              " ('dani', 4434),\n",
              " ('attracts', 1432),\n",
              " ('interest', 9087),\n",
              " ('longtime', 10382),\n",
              " ('lands', 9955),\n",
              " ('cross', 4225),\n",
              " ('hairs', 7854),\n",
              " ('ex', 6083),\n",
              " ('social', 16218),\n",
              " ('media', 10964),\n",
              " ('teenage', 17379),\n",
              " ('hacker', 7834),\n",
              " ('huge', 8529),\n",
              " ('nose', 12056),\n",
              " ('helps', 8151),\n",
              " ('cool', 3962),\n",
              " ('kid', 9714),\n",
              " ('woo', 19327),\n",
              " ('girl', 7411),\n",
              " ('he', 8050),\n",
              " ('secretly', 15424),\n",
              " ('with', 19279),\n",
              " ('celebrates', 3002),\n",
              " ('50th', 298),\n",
              " ('anniversary', 1025),\n",
              " ('harlem', 7971),\n",
              " ('sports', 16501),\n",
              " ('program', 13665),\n",
              " ('inspired', 9039),\n",
              " ('countless', 4055),\n",
              " ('kids', 9722),\n",
              " ('pro', 13609),\n",
              " ('basketball', 1743),\n",
              " ('players', 13203),\n",
              " ('days', 4496),\n",
              " ('exams', 6096),\n",
              " ('teen', 17378),\n",
              " ('girls', 7418),\n",
              " ('make', 10631),\n",
              " ('seaside', 15405),\n",
              " ('getaway', 7364),\n",
              " ('end', 5780),\n",
              " ('adolescence', 547),\n",
              " ('bang', 1674),\n",
              " ('painful', 12642),\n",
              " ('breakup', 2427),\n",
              " ('trio', 18036),\n",
              " ('partyloving', 12789),\n",
              " ('makes', 10636),\n",
              " ('bet', 1963),\n",
              " ('brothers', 2523),\n",
              " ('fall', 6368),\n",
              " ('sisters', 15997),\n",
              " ('quickly', 13923),\n",
              " ('realize', 14153),\n",
              " ('age', 651),\n",
              " ('differences', 4916),\n",
              " ('big', 2015),\n",
              " ('ignore', 8683),\n",
              " ('estranged', 6007),\n",
              " ('mother', 11527),\n",
              " ('dies', 4910),\n",
              " ('woman', 19304),\n",
              " ('follow', 6851),\n",
              " ('quirky', 13939),\n",
              " ('instructions', 9054),\n",
              " ('laid', 9915),\n",
              " ('order', 12428),\n",
              " ('collect', 3544),\n",
              " ('important', 8790),\n",
              " ('inheritance', 8976),\n",
              " ('slacker', 16059),\n",
              " ('owner', 12596),\n",
              " ('public', 13789),\n",
              " ('bath', 1760),\n",
              " ('house', 8498),\n",
              " ('rallies', 14029),\n",
              " ('community', 3669),\n",
              " ('save', 15231),\n",
              " ('developer', 4841),\n",
              " ('comes', 3610),\n",
              " ('open', 12367),\n",
              " ('mall', 10665),\n",
              " ('urbanites', 18530),\n",
              " ('renovating', 14484),\n",
              " ('rundown', 15042),\n",
              " ('sons', 16299),\n",
              " ('disappearance', 4980),\n",
              " ('connected', 3814),\n",
              " ('supernatural', 17011),\n",
              " ('decadesold', 4549),\n",
              " ('vignettes', 18740),\n",
              " ('summer', 16967),\n",
              " ('holidays', 8361),\n",
              " ('vacationers', 18572),\n",
              " ('battle', 1769),\n",
              " ('mosquitoes', 11519),\n",
              " ('suffer', 16939),\n",
              " ('ruined', 15020),\n",
              " ('plans', 13186),\n",
              " ('otherwise', 12485),\n",
              " ('hit', 8319),\n",
              " ('snags', 16164),\n",
              " ('precious', 13466),\n",
              " ('time', 17684),\n",
              " ('off', 12237),\n",
              " ('lagos', 9913),\n",
              " ('journalist', 9510),\n",
              " ('undercover', 18283),\n",
              " ('prostitute', 13721),\n",
              " ('expose', 6247),\n",
              " ('human', 8541),\n",
              " ('trafficking', 17892),\n",
              " ('exploited', 6229),\n",
              " ('ruthless', 15068),\n",
              " ('violence', 18775),\n",
              " ('aiming', 693),\n",
              " ('hasten', 8004),\n",
              " ('uprising', 18516),\n",
              " ('leader', 10055),\n",
              " ('underground', 18291),\n",
              " ('rebellion', 14184),\n",
              " ('dispatches', 5075),\n",
              " ('acrobatic', 475),\n",
              " ('assassin', 1319),\n",
              " ('aeon', 609),\n",
              " ('flux', 6825),\n",
              " ('eliminate', 5650),\n",
              " ('governments', 7566),\n",
              " ('top', 17780),\n",
              " ('orphan', 12460),\n",
              " ('subjected', 16898),\n",
              " ('tests', 17491),\n",
              " ('gave', 7281),\n",
              " ('superpowers', 17013),\n",
              " ('raised', 14014),\n",
              " ('istanbuls', 9267),\n",
              " ('streets', 16808),\n",
              " ('falls', 6373),\n",
              " ('reporter', 14520),\n",
              " ('linked', 10247),\n",
              " ('past', 12807),\n",
              " ('aspiring', 1314),\n",
              " ('dancer', 4426),\n",
              " ('uprooted', 18519),\n",
              " ('senior', 15547),\n",
              " ('torn', 17802),\n",
              " ('boys', 2370),\n",
              " ('shot', 15836),\n",
              " ('dream', 5336),\n",
              " ('escaping', 5980),\n",
              " ('bus', 2644),\n",
              " ('killed', 9728),\n",
              " ('girlfriend', 7413),\n",
              " ('channels', 3085),\n",
              " ('grief', 7672),\n",
              " ('running', 15047),\n",
              " ('coach', 3471),\n",
              " ('wins', 19246),\n",
              " ('miss', 11320),\n",
              " ('nigeria', 11951),\n",
              " ('pageant', 12636),\n",
              " ('unexpected', 18332),\n",
              " ('competition', 3689),\n",
              " ('campaign', 2765),\n",
              " ('south', 16343),\n",
              " ('africa', 637),\n",
              " ('carefree', 2858),\n",
              " ('bachelor', 1569),\n",
              " ('unexpectedly', 18333),\n",
              " ('left', 10099),\n",
              " ('charge', 3104),\n",
              " ('embark', 5694),\n",
              " ('road', 14837),\n",
              " ('trip', 18037),\n",
              " ('change', 3079),\n",
              " ('fierce', 6600),\n",
              " ('mammoth', 10671),\n",
              " ('hunter', 8582),\n",
              " ('dleh', 5153),\n",
              " ('sets', 15614),\n",
              " ('impossible', 8793),\n",
              " ('journey', 9512),\n",
              " ('rescue', 14547),\n",
              " ('loves', 10453),\n",
              " ('vicious', 18707),\n",
              " ('warlord', 18950),\n",
              " ('village', 18754),\n",
              " ('upon', 18507),\n",
              " ('losing', 10419),\n",
              " ('memory', 11037),\n",
              " ('crown', 4246),\n",
              " ('prince', 13578),\n",
              " ('encounters', 5774),\n",
              " ('commoner', 3656),\n",
              " ('experiences', 6210),\n",
              " ('unforgettable', 18349),\n",
              " ('husband', 8592),\n",
              " ('joseon', 9498),\n",
              " ('oldest', 12292),\n",
              " ('bachelorette', 1570),\n",
              " ('spanish', 16371),\n",
              " ('photographer', 13053),\n",
              " ('josé', 9507),\n",
              " ('díaz', 5482),\n",
              " ('spends', 16432),\n",
              " ('100', 3),\n",
              " ('living', 10293),\n",
              " ('alone', 840),\n",
              " ('remote', 14465),\n",
              " ('mountain', 11557),\n",
              " ('nature', 11777),\n",
              " ('documenting', 5171),\n",
              " ('beauty', 1824),\n",
              " ('surroundings', 17080),\n",
              " ('hundred', 8570),\n",
              " ('hardy', 7966),\n",
              " ('souls', 16330),\n",
              " ('diverse', 5130),\n",
              " ('backgrounds', 1581),\n",
              " ('participate', 12770),\n",
              " ('playful', 13204),\n",
              " ('exploring', 6239),\n",
              " ('sex', 15641),\n",
              " ('happiness', 7938),\n",
              " ('aspects', 1310),\n",
              " ('diagnosed', 4876),\n",
              " ('multiple', 11613),\n",
              " ('sclerosis', 15333),\n",
              " ('responds', 14603),\n",
              " ('ironman', 9227),\n",
              " ('triathlon', 18012),\n",
              " ('cranky', 4126),\n",
              " ('fatherinlaws', 6464),\n",
              " ('led', 10094),\n",
              " ('seventhgrader', 15633),\n",
              " ('cj', 3352),\n",
              " ('warned', 18958),\n",
              " ('dangers', 4433),\n",
              " ('decide', 4561),\n",
              " ('middleschool', 11159),\n",
              " ('chronicles', 3303),\n",
              " ('elouise', 5671),\n",
              " ('cobells', 3487),\n",
              " ('long', 10357),\n",
              " ('fight', 6609),\n",
              " ('us', 18540),\n",
              " ('gross', 7715),\n",
              " ('mismanagement', 11316),\n",
              " ('mineralrich', 11245),\n",
              " ('native', 11769),\n",
              " ('american', 914),\n",
              " ('land', 9943),\n",
              " ('marries', 10792),\n",
              " ('fathers', 6466),\n",
              " ('choice', 3267),\n",
              " ('soon', 16301),\n",
              " ('possibility', 13383),\n",
              " ('religion', 14424),\n",
              " ('considers', 3848),\n",
              " ('union', 18372),\n",
              " ('invalid', 9167),\n",
              " ('stylist', 16889),\n",
              " ('hair', 7847),\n",
              " ('designer', 4777),\n",
              " ('makeup', 10638),\n",
              " ('artist', 1275),\n",
              " ('team', 17349),\n",
              " ('give', 7420),\n",
              " ('britains', 2482),\n",
              " ('biggest', 2023),\n",
              " ('fashion', 6439),\n",
              " ('disasters', 4995),\n",
              " ('muchneeded', 11590),\n",
              " ('makeunders', 10637),\n",
              " ('randomly', 14060),\n",
              " ('receiving', 14209),\n",
              " ('handsome', 7911),\n",
              " ('political', 13296),\n",
              " ('bribe', 2448),\n",
              " ('sweet', 17136),\n",
              " ('poor', 13327),\n",
              " ('elderly', 5615),\n",
              " ('decides', 4564),\n",
              " ('treat', 17982),\n",
              " ('shopping', 15822),\n",
              " ('spree', 16519),\n",
              " ('go', 7480),\n",
              " ('smoothly', 16151),\n",
              " ('dealing', 4515),\n",
              " ('personal', 12985),\n",
              " ('demons', 4702),\n",
              " ('son', 16284),\n",
              " ('prizefighter', 13606),\n",
              " ('attempts', 1410),\n",
              " ('return', 14664),\n",
              " ('ring', 14786),\n",
              " ('challenging', 3060),\n",
              " ('rival', 14819),\n",
              " ('12round', 26),\n",
              " ('rematch', 14449),\n",
              " ('pregnant', 13484),\n",
              " ('leave', 10083),\n",
              " ('boyfriend', 2364),\n",
              " ('assume', 1350),\n",
              " ('identity', 8665),\n",
              " ('america', 913),\n",
              " ('12', 25),\n",
              " ('later', 9991),\n",
              " ('reunites', 14673),\n",
              " ('korea', 9831),\n",
              " ('parentstobe', 12740),\n",
              " ('claire', 3359),\n",
              " ('ryan', 15075),\n",
              " ('suburban', 16917),\n",
              " ('rental', 14489),\n",
              " ('home', 8374),\n",
              " ('unaware', 18248),\n",
              " ('someone', 16276),\n",
              " ('watching', 18990),\n",
              " ('every', 6060),\n",
              " ('via', 18698),\n",
              " ('hidden', 8203),\n",
              " ('cameras', 2760),\n",
              " ('perplexing', 12973),\n",
              " ('suicide', 16951),\n",
              " ('classmate', 3384),\n",
              " ('receives', 14208),\n",
              " ('tapes', 17304),\n",
              " ('unravel', 18421),\n",
              " ('mystery', 11675),\n",
              " ('tragic', 17895),\n",
              " ('cast', 2934),\n",
              " ('members', 11027),\n",
              " ('writers', 19414),\n",
              " ('producers', 13638),\n",
              " ('mental', 11053),\n",
              " ('professionals', 13649),\n",
              " ('discuss', 5023),\n",
              " ('difficult', 4920),\n",
              " ('issues', 9265),\n",
              " ('themes', 17535),\n",
              " ('explored', 6235),\n",
              " ('13', 30),\n",
              " ('reasons', 14172),\n",
              " ('why', 19162),\n",
              " ('agrees', 670),\n",
              " ('appear', 1106),\n",
              " ('show', 15840),\n",
              " ('million', 11220),\n",
              " ('prize', 13604),\n",
              " ('challenges', 3059),\n",
              " ('extreme', 6291),\n",
              " ('realizes', 14155),\n",
              " ('made', 10563),\n",
              " ('grave', 7629),\n",
              " ('mistake', 11332),\n",
              " ('thoughtprovoking', 17600),\n",
              " ('scholars', 15298),\n",
              " ('activists', 488),\n",
              " ('analyze', 951),\n",
              " ('criminalization', 4189),\n",
              " ('african', 638),\n",
              " ('americans', 918),\n",
              " ('prison', 13592),\n",
              " ('boom', 2287),\n",
              " ('oprah', 12400),\n",
              " ('winfrey', 19235),\n",
              " ('sits', 16003),\n",
              " ('director', 4967),\n",
              " ('ava', 1489),\n",
              " ('duvernay', 5460),\n",
              " ('oscarnominated', 12473),\n",
              " ('film', 6633),\n",
              " ('historical', 8312),\n",
              " ('cycles', 4376),\n",
              " ('oppression', 12398),\n",
              " ('broken', 2499),\n",
              " ('ming', 11248),\n",
              " ('dynasty', 5475),\n",
              " ('quinglong', 13933),\n",
              " ('jinyiwei', 9432),\n",
              " ('squad', 16541),\n",
              " ('highly', 8232),\n",
              " ('trained', 17904),\n",
              " ('former', 6927),\n",
              " ('street', 16805),\n",
              " ('urchins', 18532),\n",
              " ('eunuch', 6023),\n",
              " ('jia', 9410),\n",
              " ('unseats', 18442),\n",
              " ('emperor', 5740),\n",
              " ('called', 2736),\n",
              " ('action', 479),\n",
              " ('betrayed', 1971),\n",
              " ('upping', 18514),\n",
              " ('ante', 1043),\n",
              " ('sequel', 15576),\n",
              " ('renting', 14491),\n",
              " ('vacation', 18571),\n",
              " ('that', 17518),\n",
              " ('customized', 4357),\n",
              " ('violate', 18772),\n",
              " ('privacy', 13598),\n",
              " ('google', 7534),\n",
              " ('executive', 6141),\n",
              " ('boldly', 2243),\n",
              " ('deathdefying', 4523),\n",
              " ('mission', 11325),\n",
              " ('travel', 17964),\n",
              " ('freefall', 7026),\n",
              " ('back', 1572),\n",
              " ('without', 19284),\n",
              " ('rocket', 14883),\n",
              " ('tasked', 17318),\n",
              " ('escorting', 5985),\n",
              " ('prosecution', 13713),\n",
              " ('witness', 19286),\n",
              " ('court', 4073),\n",
              " ('aging', 664),\n",
              " ('cop', 3970),\n",
              " ('gears', 7290),\n",
              " ('16block', 52),\n",
              " ('trek', 17992),\n",
              " ('theyll', 17555),\n",
              " ('lucky', 10490),\n",
              " ('nearing', 11812),\n",
              " ('midlife', 11163),\n",
              " ('crisis', 4200),\n",
              " ('thirtysomething', 17583),\n",
              " ('mike', 11187),\n",
              " ('wishes', 19269),\n",
              " ('doover', 5240),\n",
              " ('exactly', 6085),\n",
              " ('gets', 7366),\n",
              " ('wakes', 18898),\n",
              " ('17', 56),\n",
              " ('again', 646),\n",
              " ('terminal', 17455),\n",
              " ('cancer', 2782),\n",
              " ('leaves', 10084),\n",
              " ('behind', 1867),\n",
              " ('18', 62),\n",
              " ('sentimental', 15564),\n",
              " ('gifts', 7389),\n",
              " ('unborn', 18254),\n",
              " ('receive', 14206),\n",
              " ('birthday', 2079),\n",
              " ('reaches', 14133),\n",
              " ('womanhood', 19306),\n",
              " ('spain', 16367),\n",
              " ('relinquishes', 14427),\n",
              " ('last', 9981),\n",
              " ('colonies', 3568),\n",
              " ('battlefatigued', 1771),\n",
              " ('outpost', 12524),\n",
              " ('engages', 5814),\n",
              " ('brutal', 2536),\n",
              " ('sometimes', 16279),\n",
              " ('clash', 3370),\n",
              " ('filipino', 6626),\n",
              " ('insurgents', 9065),\n",
              " ('los', 10414),\n",
              " ('angeles', 992),\n",
              " ('settles', 15620),\n",
              " ('cozy', 4103),\n",
              " ('complex', 3700),\n",
              " ('disturbing', 5115),\n",
              " ('sense', 15552),\n",
              " ('filmmakers', 6637),\n",
              " ('occult', 12199),\n",
              " ('rituals', 14817),\n",
              " ('tied', 17666),\n",
              " ('abandoned', 350),\n",
              " ('warehouse', 18948),\n",
              " ('gradually', 7584),\n",
              " ('horror', 8454),\n",
              " ('closer', 3447),\n",
              " ('think', 17569),\n",
              " ('bumbling', 2597),\n",
              " ('paris', 12744),\n",
              " ('policeman', 13281),\n",
              " ('doggedly', 5186),\n",
              " ('master', 10834),\n",
              " ('thief', 17563),\n",
              " ('repeatedly', 14506),\n",
              " ('eludes', 5678),\n",
              " ('even', 6044),\n",
              " ('theyre', 17556),\n",
              " ('men', 11040),\n",
              " ('graduate', 7585),\n",
              " ('krish', 9850),\n",
              " ('ananya', 954),\n",
              " ('hope', 8429),\n",
              " ('parents', 12739),\n",
              " ('approval', 1133),\n",
              " ('marry', 10794),\n",
              " ('cultural', 4310),\n",
              " ('2014', 190),\n",
              " ('academy', 415),\n",
              " ('award', 1529),\n",
              " ('feature', 6503),\n",
              " ('backup', 1589),\n",
              " ('vocalists', 18832),\n",
              " ('legends', 10109),\n",
              " ('support', 17038),\n",
              " ('convicted', 3944),\n",
              " ('horrified', 8451),\n",
              " ('prove', 13743),\n",
              " ('innocence', 9002),\n",
              " ('dogged', 5185),\n",
              " ('investigator', 9186),\n",
              " ('truth', 18090),\n",
              " ('worlds', 19362),\n",
              " ('kpop', 9844),\n",
              " ('festival', 6573),\n",
              " ('21st', 216),\n",
              " ('2015', 191),\n",
              " ('groups', 7722),\n",
              " ('exo', 6180),\n",
              " ('4minute', 285),\n",
              " ('shinee', 15776),\n",
              " ('electrifying', 5628),\n",
              " ('seoul', 15568),\n",
              " ('cup', 4320),\n",
              " ('stadium', 16567),\n",
              " ('working', 19349),\n",
              " ('artificial', 1270),\n",
              " ('intelligence', 9071),\n",
              " ('investigate', 9179),\n",
              " ('failure', 6345),\n",
              " ('deadly', 4508),\n",
              " ('mars', 10796),\n",
              " ('landing', 9945),\n",
              " ('controller', 3924),\n",
              " ('astonishing', 1357),\n",
              " ('discovery', 5021),\n",
              " ('1979', 143),\n",
              " ('single', 15970),\n",
              " ('bohemian', 2235),\n",
              " ('mom', 11419),\n",
              " ('dorothea', 5252),\n",
              " ('hoping', 8435),\n",
              " ('place', 13170),\n",
              " ('asks', 1307),\n",
              " ('jeffs', 9368),\n",
              " ('straightandnarrow', 16768),\n",
              " ('changes', 3081),\n",
              " ('abruptly', 392),\n",
              " ('buddies', 2565),\n",
              " ('take', 17250),\n",
              " ('bash', 1739),\n",
              " ('night', 11955),\n",
              " ('crucial', 4249),\n",
              " ('med', 10957),\n",
              " ('interview', 9133),\n",
              " ('experiment', 6212),\n",
              " ('daughters', 4481),\n",
              " ('sends', 15542),\n",
              " ('mothers', 11533),\n",
              " ...]"
            ]
          },
          "metadata": {},
          "execution_count": 74
        }
      ]
    },
    {
      "cell_type": "markdown",
      "source": [
        ""
      ],
      "metadata": {
        "id": "VZjesM1s05EE"
      }
    },
    {
      "cell_type": "markdown",
      "source": [
        "We will now arrange the words with their occurences"
      ],
      "metadata": {
        "id": "7JjCgXPu0uvP"
      }
    },
    {
      "cell_type": "code",
      "source": [
        "words = []\n",
        "counts = []\n",
        "for key, value in word_count:\n",
        "  words.append(key)\n",
        "  counts.append(value)\n"
      ],
      "metadata": {
        "id": "kRA_SJG60s33"
      },
      "execution_count": 77,
      "outputs": []
    },
    {
      "cell_type": "code",
      "source": [
        "vocabulary = pd.DataFrame({\"words\":words,\"count\":counts})\n",
        "vocabulary = vocabulary.sort_values(\"count\",ascending=False)\n",
        "vocabulary"
      ],
      "metadata": {
        "colab": {
          "base_uri": "https://localhost:8080/",
          "height": 424
        },
        "id": "H9MaKuZA3_NT",
        "outputId": "2ecd994f-906a-4583-d873-4b9f323e4759"
      },
      "execution_count": 79,
      "outputs": [
        {
          "output_type": "execute_result",
          "data": {
            "text/html": [
              "\n",
              "  <div id=\"df-3b0234ee-d30e-487b-aea9-3b0a23017dc7\">\n",
              "    <div class=\"colab-df-container\">\n",
              "      <div>\n",
              "<style scoped>\n",
              "    .dataframe tbody tr th:only-of-type {\n",
              "        vertical-align: middle;\n",
              "    }\n",
              "\n",
              "    .dataframe tbody tr th {\n",
              "        vertical-align: top;\n",
              "    }\n",
              "\n",
              "    .dataframe thead th {\n",
              "        text-align: right;\n",
              "    }\n",
              "</style>\n",
              "<table border=\"1\" class=\"dataframe\">\n",
              "  <thead>\n",
              "    <tr style=\"text-align: right;\">\n",
              "      <th></th>\n",
              "      <th>words</th>\n",
              "      <th>count</th>\n",
              "    </tr>\n",
              "  </thead>\n",
              "  <tbody>\n",
              "    <tr>\n",
              "      <th>18910</th>\n",
              "      <td>şeref</td>\n",
              "      <td>19646</td>\n",
              "    </tr>\n",
              "    <tr>\n",
              "      <th>10424</th>\n",
              "      <td>ōarai</td>\n",
              "      <td>19645</td>\n",
              "    </tr>\n",
              "    <tr>\n",
              "      <th>12415</th>\n",
              "      <td>łukasz</td>\n",
              "      <td>19644</td>\n",
              "    </tr>\n",
              "    <tr>\n",
              "      <th>11138</th>\n",
              "      <td>überelite</td>\n",
              "      <td>19643</td>\n",
              "    </tr>\n",
              "    <tr>\n",
              "      <th>11711</th>\n",
              "      <td>über</td>\n",
              "      <td>19642</td>\n",
              "    </tr>\n",
              "    <tr>\n",
              "      <th>...</th>\n",
              "      <td>...</td>\n",
              "      <td>...</td>\n",
              "    </tr>\n",
              "    <tr>\n",
              "      <th>8351</th>\n",
              "      <td>1000</td>\n",
              "      <td>4</td>\n",
              "    </tr>\n",
              "    <tr>\n",
              "      <th>646</th>\n",
              "      <td>100</td>\n",
              "      <td>3</td>\n",
              "    </tr>\n",
              "    <tr>\n",
              "      <th>7646</th>\n",
              "      <td>10</td>\n",
              "      <td>2</td>\n",
              "    </tr>\n",
              "    <tr>\n",
              "      <th>7993</th>\n",
              "      <td>009</td>\n",
              "      <td>1</td>\n",
              "    </tr>\n",
              "    <tr>\n",
              "      <th>6897</th>\n",
              "      <td>007</td>\n",
              "      <td>0</td>\n",
              "    </tr>\n",
              "  </tbody>\n",
              "</table>\n",
              "<p>19647 rows × 2 columns</p>\n",
              "</div>\n",
              "      <button class=\"colab-df-convert\" onclick=\"convertToInteractive('df-3b0234ee-d30e-487b-aea9-3b0a23017dc7')\"\n",
              "              title=\"Convert this dataframe to an interactive table.\"\n",
              "              style=\"display:none;\">\n",
              "        \n",
              "  <svg xmlns=\"http://www.w3.org/2000/svg\" height=\"24px\"viewBox=\"0 0 24 24\"\n",
              "       width=\"24px\">\n",
              "    <path d=\"M0 0h24v24H0V0z\" fill=\"none\"/>\n",
              "    <path d=\"M18.56 5.44l.94 2.06.94-2.06 2.06-.94-2.06-.94-.94-2.06-.94 2.06-2.06.94zm-11 1L8.5 8.5l.94-2.06 2.06-.94-2.06-.94L8.5 2.5l-.94 2.06-2.06.94zm10 10l.94 2.06.94-2.06 2.06-.94-2.06-.94-.94-2.06-.94 2.06-2.06.94z\"/><path d=\"M17.41 7.96l-1.37-1.37c-.4-.4-.92-.59-1.43-.59-.52 0-1.04.2-1.43.59L10.3 9.45l-7.72 7.72c-.78.78-.78 2.05 0 2.83L4 21.41c.39.39.9.59 1.41.59.51 0 1.02-.2 1.41-.59l7.78-7.78 2.81-2.81c.8-.78.8-2.07 0-2.86zM5.41 20L4 18.59l7.72-7.72 1.47 1.35L5.41 20z\"/>\n",
              "  </svg>\n",
              "      </button>\n",
              "      \n",
              "  <style>\n",
              "    .colab-df-container {\n",
              "      display:flex;\n",
              "      flex-wrap:wrap;\n",
              "      gap: 12px;\n",
              "    }\n",
              "\n",
              "    .colab-df-convert {\n",
              "      background-color: #E8F0FE;\n",
              "      border: none;\n",
              "      border-radius: 50%;\n",
              "      cursor: pointer;\n",
              "      display: none;\n",
              "      fill: #1967D2;\n",
              "      height: 32px;\n",
              "      padding: 0 0 0 0;\n",
              "      width: 32px;\n",
              "    }\n",
              "\n",
              "    .colab-df-convert:hover {\n",
              "      background-color: #E2EBFA;\n",
              "      box-shadow: 0px 1px 2px rgba(60, 64, 67, 0.3), 0px 1px 3px 1px rgba(60, 64, 67, 0.15);\n",
              "      fill: #174EA6;\n",
              "    }\n",
              "\n",
              "    [theme=dark] .colab-df-convert {\n",
              "      background-color: #3B4455;\n",
              "      fill: #D2E3FC;\n",
              "    }\n",
              "\n",
              "    [theme=dark] .colab-df-convert:hover {\n",
              "      background-color: #434B5C;\n",
              "      box-shadow: 0px 1px 3px 1px rgba(0, 0, 0, 0.15);\n",
              "      filter: drop-shadow(0px 1px 2px rgba(0, 0, 0, 0.3));\n",
              "      fill: #FFFFFF;\n",
              "    }\n",
              "  </style>\n",
              "\n",
              "      <script>\n",
              "        const buttonEl =\n",
              "          document.querySelector('#df-3b0234ee-d30e-487b-aea9-3b0a23017dc7 button.colab-df-convert');\n",
              "        buttonEl.style.display =\n",
              "          google.colab.kernel.accessAllowed ? 'block' : 'none';\n",
              "\n",
              "        async function convertToInteractive(key) {\n",
              "          const element = document.querySelector('#df-3b0234ee-d30e-487b-aea9-3b0a23017dc7');\n",
              "          const dataTable =\n",
              "            await google.colab.kernel.invokeFunction('convertToInteractive',\n",
              "                                                     [key], {});\n",
              "          if (!dataTable) return;\n",
              "\n",
              "          const docLinkHtml = 'Like what you see? Visit the ' +\n",
              "            '<a target=\"_blank\" href=https://colab.research.google.com/notebooks/data_table.ipynb>data table notebook</a>'\n",
              "            + ' to learn more about interactive tables.';\n",
              "          element.innerHTML = '';\n",
              "          dataTable['output_type'] = 'display_data';\n",
              "          await google.colab.output.renderOutput(dataTable, element);\n",
              "          const docLink = document.createElement('div');\n",
              "          docLink.innerHTML = docLinkHtml;\n",
              "          element.appendChild(docLink);\n",
              "        }\n",
              "      </script>\n",
              "    </div>\n",
              "  </div>\n",
              "  "
            ],
            "text/plain": [
              "           words  count\n",
              "18910      şeref  19646\n",
              "10424      ōarai  19645\n",
              "12415     łukasz  19644\n",
              "11138  überelite  19643\n",
              "11711       über  19642\n",
              "...          ...    ...\n",
              "8351        1000      4\n",
              "646          100      3\n",
              "7646          10      2\n",
              "7993         009      1\n",
              "6897         007      0\n",
              "\n",
              "[19647 rows x 2 columns]"
            ]
          },
          "metadata": {},
          "execution_count": 79
        }
      ]
    },
    {
      "cell_type": "code",
      "source": [
        "vocabulary.head(5)"
      ],
      "metadata": {
        "colab": {
          "base_uri": "https://localhost:8080/",
          "height": 206
        },
        "id": "OdxOg3SJ492J",
        "outputId": "b8eae523-aa47-413e-9910-020a2d212abc"
      },
      "execution_count": 81,
      "outputs": [
        {
          "output_type": "execute_result",
          "data": {
            "text/html": [
              "\n",
              "  <div id=\"df-c659f6fb-d638-4881-a8c7-8d6552f0f997\">\n",
              "    <div class=\"colab-df-container\">\n",
              "      <div>\n",
              "<style scoped>\n",
              "    .dataframe tbody tr th:only-of-type {\n",
              "        vertical-align: middle;\n",
              "    }\n",
              "\n",
              "    .dataframe tbody tr th {\n",
              "        vertical-align: top;\n",
              "    }\n",
              "\n",
              "    .dataframe thead th {\n",
              "        text-align: right;\n",
              "    }\n",
              "</style>\n",
              "<table border=\"1\" class=\"dataframe\">\n",
              "  <thead>\n",
              "    <tr style=\"text-align: right;\">\n",
              "      <th></th>\n",
              "      <th>words</th>\n",
              "      <th>count</th>\n",
              "    </tr>\n",
              "  </thead>\n",
              "  <tbody>\n",
              "    <tr>\n",
              "      <th>18910</th>\n",
              "      <td>şeref</td>\n",
              "      <td>19646</td>\n",
              "    </tr>\n",
              "    <tr>\n",
              "      <th>10424</th>\n",
              "      <td>ōarai</td>\n",
              "      <td>19645</td>\n",
              "    </tr>\n",
              "    <tr>\n",
              "      <th>12415</th>\n",
              "      <td>łukasz</td>\n",
              "      <td>19644</td>\n",
              "    </tr>\n",
              "    <tr>\n",
              "      <th>11138</th>\n",
              "      <td>überelite</td>\n",
              "      <td>19643</td>\n",
              "    </tr>\n",
              "    <tr>\n",
              "      <th>11711</th>\n",
              "      <td>über</td>\n",
              "      <td>19642</td>\n",
              "    </tr>\n",
              "  </tbody>\n",
              "</table>\n",
              "</div>\n",
              "      <button class=\"colab-df-convert\" onclick=\"convertToInteractive('df-c659f6fb-d638-4881-a8c7-8d6552f0f997')\"\n",
              "              title=\"Convert this dataframe to an interactive table.\"\n",
              "              style=\"display:none;\">\n",
              "        \n",
              "  <svg xmlns=\"http://www.w3.org/2000/svg\" height=\"24px\"viewBox=\"0 0 24 24\"\n",
              "       width=\"24px\">\n",
              "    <path d=\"M0 0h24v24H0V0z\" fill=\"none\"/>\n",
              "    <path d=\"M18.56 5.44l.94 2.06.94-2.06 2.06-.94-2.06-.94-.94-2.06-.94 2.06-2.06.94zm-11 1L8.5 8.5l.94-2.06 2.06-.94-2.06-.94L8.5 2.5l-.94 2.06-2.06.94zm10 10l.94 2.06.94-2.06 2.06-.94-2.06-.94-.94-2.06-.94 2.06-2.06.94z\"/><path d=\"M17.41 7.96l-1.37-1.37c-.4-.4-.92-.59-1.43-.59-.52 0-1.04.2-1.43.59L10.3 9.45l-7.72 7.72c-.78.78-.78 2.05 0 2.83L4 21.41c.39.39.9.59 1.41.59.51 0 1.02-.2 1.41-.59l7.78-7.78 2.81-2.81c.8-.78.8-2.07 0-2.86zM5.41 20L4 18.59l7.72-7.72 1.47 1.35L5.41 20z\"/>\n",
              "  </svg>\n",
              "      </button>\n",
              "      \n",
              "  <style>\n",
              "    .colab-df-container {\n",
              "      display:flex;\n",
              "      flex-wrap:wrap;\n",
              "      gap: 12px;\n",
              "    }\n",
              "\n",
              "    .colab-df-convert {\n",
              "      background-color: #E8F0FE;\n",
              "      border: none;\n",
              "      border-radius: 50%;\n",
              "      cursor: pointer;\n",
              "      display: none;\n",
              "      fill: #1967D2;\n",
              "      height: 32px;\n",
              "      padding: 0 0 0 0;\n",
              "      width: 32px;\n",
              "    }\n",
              "\n",
              "    .colab-df-convert:hover {\n",
              "      background-color: #E2EBFA;\n",
              "      box-shadow: 0px 1px 2px rgba(60, 64, 67, 0.3), 0px 1px 3px 1px rgba(60, 64, 67, 0.15);\n",
              "      fill: #174EA6;\n",
              "    }\n",
              "\n",
              "    [theme=dark] .colab-df-convert {\n",
              "      background-color: #3B4455;\n",
              "      fill: #D2E3FC;\n",
              "    }\n",
              "\n",
              "    [theme=dark] .colab-df-convert:hover {\n",
              "      background-color: #434B5C;\n",
              "      box-shadow: 0px 1px 3px 1px rgba(0, 0, 0, 0.15);\n",
              "      filter: drop-shadow(0px 1px 2px rgba(0, 0, 0, 0.3));\n",
              "      fill: #FFFFFF;\n",
              "    }\n",
              "  </style>\n",
              "\n",
              "      <script>\n",
              "        const buttonEl =\n",
              "          document.querySelector('#df-c659f6fb-d638-4881-a8c7-8d6552f0f997 button.colab-df-convert');\n",
              "        buttonEl.style.display =\n",
              "          google.colab.kernel.accessAllowed ? 'block' : 'none';\n",
              "\n",
              "        async function convertToInteractive(key) {\n",
              "          const element = document.querySelector('#df-c659f6fb-d638-4881-a8c7-8d6552f0f997');\n",
              "          const dataTable =\n",
              "            await google.colab.kernel.invokeFunction('convertToInteractive',\n",
              "                                                     [key], {});\n",
              "          if (!dataTable) return;\n",
              "\n",
              "          const docLinkHtml = 'Like what you see? Visit the ' +\n",
              "            '<a target=\"_blank\" href=https://colab.research.google.com/notebooks/data_table.ipynb>data table notebook</a>'\n",
              "            + ' to learn more about interactive tables.';\n",
              "          element.innerHTML = '';\n",
              "          dataTable['output_type'] = 'display_data';\n",
              "          await google.colab.output.renderOutput(dataTable, element);\n",
              "          const docLink = document.createElement('div');\n",
              "          docLink.innerHTML = docLinkHtml;\n",
              "          element.appendChild(docLink);\n",
              "        }\n",
              "      </script>\n",
              "    </div>\n",
              "  </div>\n",
              "  "
            ],
            "text/plain": [
              "           words  count\n",
              "18910      şeref  19646\n",
              "10424      ōarai  19645\n",
              "12415     łukasz  19644\n",
              "11138  überelite  19643\n",
              "11711       über  19642"
            ]
          },
          "metadata": {},
          "execution_count": 81
        }
      ]
    },
    {
      "cell_type": "code",
      "source": [
        "vocabulary.tail()"
      ],
      "metadata": {
        "colab": {
          "base_uri": "https://localhost:8080/",
          "height": 206
        },
        "id": "gETXuvS15EHs",
        "outputId": "a6eae2a4-bccc-4bd6-f50a-bd245c046506"
      },
      "execution_count": 82,
      "outputs": [
        {
          "output_type": "execute_result",
          "data": {
            "text/html": [
              "\n",
              "  <div id=\"df-fd4d8f9f-0f5c-45d0-8d05-ca289563bbfc\">\n",
              "    <div class=\"colab-df-container\">\n",
              "      <div>\n",
              "<style scoped>\n",
              "    .dataframe tbody tr th:only-of-type {\n",
              "        vertical-align: middle;\n",
              "    }\n",
              "\n",
              "    .dataframe tbody tr th {\n",
              "        vertical-align: top;\n",
              "    }\n",
              "\n",
              "    .dataframe thead th {\n",
              "        text-align: right;\n",
              "    }\n",
              "</style>\n",
              "<table border=\"1\" class=\"dataframe\">\n",
              "  <thead>\n",
              "    <tr style=\"text-align: right;\">\n",
              "      <th></th>\n",
              "      <th>words</th>\n",
              "      <th>count</th>\n",
              "    </tr>\n",
              "  </thead>\n",
              "  <tbody>\n",
              "    <tr>\n",
              "      <th>8351</th>\n",
              "      <td>1000</td>\n",
              "      <td>4</td>\n",
              "    </tr>\n",
              "    <tr>\n",
              "      <th>646</th>\n",
              "      <td>100</td>\n",
              "      <td>3</td>\n",
              "    </tr>\n",
              "    <tr>\n",
              "      <th>7646</th>\n",
              "      <td>10</td>\n",
              "      <td>2</td>\n",
              "    </tr>\n",
              "    <tr>\n",
              "      <th>7993</th>\n",
              "      <td>009</td>\n",
              "      <td>1</td>\n",
              "    </tr>\n",
              "    <tr>\n",
              "      <th>6897</th>\n",
              "      <td>007</td>\n",
              "      <td>0</td>\n",
              "    </tr>\n",
              "  </tbody>\n",
              "</table>\n",
              "</div>\n",
              "      <button class=\"colab-df-convert\" onclick=\"convertToInteractive('df-fd4d8f9f-0f5c-45d0-8d05-ca289563bbfc')\"\n",
              "              title=\"Convert this dataframe to an interactive table.\"\n",
              "              style=\"display:none;\">\n",
              "        \n",
              "  <svg xmlns=\"http://www.w3.org/2000/svg\" height=\"24px\"viewBox=\"0 0 24 24\"\n",
              "       width=\"24px\">\n",
              "    <path d=\"M0 0h24v24H0V0z\" fill=\"none\"/>\n",
              "    <path d=\"M18.56 5.44l.94 2.06.94-2.06 2.06-.94-2.06-.94-.94-2.06-.94 2.06-2.06.94zm-11 1L8.5 8.5l.94-2.06 2.06-.94-2.06-.94L8.5 2.5l-.94 2.06-2.06.94zm10 10l.94 2.06.94-2.06 2.06-.94-2.06-.94-.94-2.06-.94 2.06-2.06.94z\"/><path d=\"M17.41 7.96l-1.37-1.37c-.4-.4-.92-.59-1.43-.59-.52 0-1.04.2-1.43.59L10.3 9.45l-7.72 7.72c-.78.78-.78 2.05 0 2.83L4 21.41c.39.39.9.59 1.41.59.51 0 1.02-.2 1.41-.59l7.78-7.78 2.81-2.81c.8-.78.8-2.07 0-2.86zM5.41 20L4 18.59l7.72-7.72 1.47 1.35L5.41 20z\"/>\n",
              "  </svg>\n",
              "      </button>\n",
              "      \n",
              "  <style>\n",
              "    .colab-df-container {\n",
              "      display:flex;\n",
              "      flex-wrap:wrap;\n",
              "      gap: 12px;\n",
              "    }\n",
              "\n",
              "    .colab-df-convert {\n",
              "      background-color: #E8F0FE;\n",
              "      border: none;\n",
              "      border-radius: 50%;\n",
              "      cursor: pointer;\n",
              "      display: none;\n",
              "      fill: #1967D2;\n",
              "      height: 32px;\n",
              "      padding: 0 0 0 0;\n",
              "      width: 32px;\n",
              "    }\n",
              "\n",
              "    .colab-df-convert:hover {\n",
              "      background-color: #E2EBFA;\n",
              "      box-shadow: 0px 1px 2px rgba(60, 64, 67, 0.3), 0px 1px 3px 1px rgba(60, 64, 67, 0.15);\n",
              "      fill: #174EA6;\n",
              "    }\n",
              "\n",
              "    [theme=dark] .colab-df-convert {\n",
              "      background-color: #3B4455;\n",
              "      fill: #D2E3FC;\n",
              "    }\n",
              "\n",
              "    [theme=dark] .colab-df-convert:hover {\n",
              "      background-color: #434B5C;\n",
              "      box-shadow: 0px 1px 3px 1px rgba(0, 0, 0, 0.15);\n",
              "      filter: drop-shadow(0px 1px 2px rgba(0, 0, 0, 0.3));\n",
              "      fill: #FFFFFF;\n",
              "    }\n",
              "  </style>\n",
              "\n",
              "      <script>\n",
              "        const buttonEl =\n",
              "          document.querySelector('#df-fd4d8f9f-0f5c-45d0-8d05-ca289563bbfc button.colab-df-convert');\n",
              "        buttonEl.style.display =\n",
              "          google.colab.kernel.accessAllowed ? 'block' : 'none';\n",
              "\n",
              "        async function convertToInteractive(key) {\n",
              "          const element = document.querySelector('#df-fd4d8f9f-0f5c-45d0-8d05-ca289563bbfc');\n",
              "          const dataTable =\n",
              "            await google.colab.kernel.invokeFunction('convertToInteractive',\n",
              "                                                     [key], {});\n",
              "          if (!dataTable) return;\n",
              "\n",
              "          const docLinkHtml = 'Like what you see? Visit the ' +\n",
              "            '<a target=\"_blank\" href=https://colab.research.google.com/notebooks/data_table.ipynb>data table notebook</a>'\n",
              "            + ' to learn more about interactive tables.';\n",
              "          element.innerHTML = '';\n",
              "          dataTable['output_type'] = 'display_data';\n",
              "          await google.colab.output.renderOutput(dataTable, element);\n",
              "          const docLink = document.createElement('div');\n",
              "          docLink.innerHTML = docLinkHtml;\n",
              "          element.appendChild(docLink);\n",
              "        }\n",
              "      </script>\n",
              "    </div>\n",
              "  </div>\n",
              "  "
            ],
            "text/plain": [
              "     words  count\n",
              "8351  1000      4\n",
              "646    100      3\n",
              "7646    10      2\n",
              "7993   009      1\n",
              "6897   007      0"
            ]
          },
          "metadata": {},
          "execution_count": 82
        }
      ]
    },
    {
      "cell_type": "code",
      "source": [
        "vocabulary.reset_index(inplace=True)\n",
        "vocabulary.drop(columns={\"index\"},inplace=True)"
      ],
      "metadata": {
        "id": "sClfaXQ658bP"
      },
      "execution_count": 86,
      "outputs": []
    },
    {
      "cell_type": "code",
      "source": [
        "vocabulary[10]"
      ],
      "metadata": {
        "id": "JaLeFeYJ6WjD"
      },
      "execution_count": null,
      "outputs": []
    },
    {
      "cell_type": "code",
      "source": [
        "# Applying both the functions defined for removing punctuatuins and stopwords\n",
        "df_1['genres']=df_1['genres'].apply(remove_punctuations)\n",
        "df_1['genres']=df_1['genres'].apply(delete_stopwords)\n",
        "df_1['genres'][:6]"
      ],
      "metadata": {
        "colab": {
          "base_uri": "https://localhost:8080/"
        },
        "id": "wlupSjSiow5r",
        "outputId": "0c52af9d-0abb-4e2f-9c69-b5dba676577a"
      },
      "execution_count": 75,
      "outputs": [
        {
          "output_type": "execute_result",
          "data": {
            "text/plain": [
              "0    international tv shows tv dramas tv scifi fantasy\n",
              "1                          dramas international movies\n",
              "2                   horror movies international movies\n",
              "3    action adventure independent movies scifi fantasy\n",
              "4                                               dramas\n",
              "5        international tv shows tv dramas tv mysteries\n",
              "Name: genres, dtype: object"
            ]
          },
          "metadata": {},
          "execution_count": 75
        }
      ]
    }
  ]
}